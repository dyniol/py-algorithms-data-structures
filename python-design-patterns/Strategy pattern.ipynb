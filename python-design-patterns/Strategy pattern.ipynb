{
 "cells": [
  {
   "cell_type": "code",
   "execution_count": 1,
   "id": "66a78eab",
   "metadata": {},
   "outputs": [],
   "source": [
    "def add(a, b):\n",
    "    return a +b\n",
    "\n",
    "def subtract(a, b):\n",
    "    return a - b\n",
    "\n",
    "def multiply(a, b):\n",
    "    return a * b\n",
    "\n",
    "def divide(a, b):\n",
    "    return a / b"
   ]
  },
  {
   "cell_type": "code",
   "execution_count": 2,
   "id": "64a203c9",
   "metadata": {},
   "outputs": [],
   "source": [
    "def calculate(a, b, strategy_fn):\n",
    "    \n",
    "    return strategy_fn(a, b)"
   ]
  },
  {
   "cell_type": "code",
   "execution_count": 3,
   "id": "2e09c828",
   "metadata": {},
   "outputs": [
    {
     "data": {
      "text/plain": [
       "30"
      ]
     },
     "execution_count": 3,
     "metadata": {},
     "output_type": "execute_result"
    }
   ],
   "source": [
    "calculate(10, 20, add)"
   ]
  },
  {
   "cell_type": "code",
   "execution_count": 4,
   "id": "59ec2741",
   "metadata": {},
   "outputs": [
    {
     "data": {
      "text/plain": [
       "200"
      ]
     },
     "execution_count": 4,
     "metadata": {},
     "output_type": "execute_result"
    }
   ],
   "source": [
    "calculate(10, 20, multiply)"
   ]
  },
  {
   "cell_type": "code",
   "execution_count": 5,
   "id": "16f11d62",
   "metadata": {},
   "outputs": [],
   "source": [
    "import math\n",
    "\n",
    "def power_of(a, b):\n",
    "    \n",
    "    return math.pow(a, b)"
   ]
  },
  {
   "cell_type": "code",
   "execution_count": 6,
   "id": "5a95e039",
   "metadata": {},
   "outputs": [
    {
     "data": {
      "text/plain": [
       "100.0"
      ]
     },
     "execution_count": 6,
     "metadata": {},
     "output_type": "execute_result"
    }
   ],
   "source": [
    "calculate(10, 2, power_of)"
   ]
  },
  {
   "cell_type": "code",
   "execution_count": 7,
   "id": "7681ee3e",
   "metadata": {},
   "outputs": [],
   "source": [
    "students_list = ['Bob', 'Alice', 'Zubin', 'Samuel', 'Nina']"
   ]
  },
  {
   "cell_type": "code",
   "execution_count": 8,
   "id": "b54d0c99",
   "metadata": {},
   "outputs": [
    {
     "data": {
      "text/plain": [
       "['Alice', 'Bob', 'Nina', 'Samuel', 'Zubin']"
      ]
     },
     "execution_count": 8,
     "metadata": {},
     "output_type": "execute_result"
    }
   ],
   "source": [
    "sorted(students_list)"
   ]
  },
  {
   "cell_type": "code",
   "execution_count": 9,
   "id": "fa04602f",
   "metadata": {},
   "outputs": [
    {
     "data": {
      "text/plain": [
       "['Bob', 'Nina', 'Alice', 'Zubin', 'Samuel']"
      ]
     },
     "execution_count": 9,
     "metadata": {},
     "output_type": "execute_result"
    }
   ],
   "source": [
    "sorted(students_list, key=len)"
   ]
  },
  {
   "cell_type": "code",
   "execution_count": 11,
   "id": "f7cbaca8",
   "metadata": {},
   "outputs": [],
   "source": [
    "students_dict = [\n",
    "    \n",
    "    {'name': 'Bob', 'score': 10},\n",
    "    {'name': 'Nina', 'score': 40},\n",
    "    {'name': 'Zubin', 'score': 90},\n",
    "    {'name': 'Samuel', 'score': 70},\n",
    "    {'name': 'Alice', 'score': 80},\n",
    "]"
   ]
  },
  {
   "cell_type": "code",
   "execution_count": 12,
   "id": "96fe2cdf",
   "metadata": {},
   "outputs": [
    {
     "ename": "TypeError",
     "evalue": "'<' not supported between instances of 'dict' and 'dict'",
     "output_type": "error",
     "traceback": [
      "\u001b[0;31m---------------------------------------------------------------------------\u001b[0m",
      "\u001b[0;31mTypeError\u001b[0m                                 Traceback (most recent call last)",
      "\u001b[0;32m<ipython-input-12-7d45ea5b381d>\u001b[0m in \u001b[0;36m<module>\u001b[0;34m\u001b[0m\n\u001b[0;32m----> 1\u001b[0;31m \u001b[0msorted\u001b[0m\u001b[0;34m(\u001b[0m\u001b[0mstudents_dict\u001b[0m\u001b[0;34m)\u001b[0m\u001b[0;34m\u001b[0m\u001b[0;34m\u001b[0m\u001b[0m\n\u001b[0m",
      "\u001b[0;31mTypeError\u001b[0m: '<' not supported between instances of 'dict' and 'dict'"
     ]
    }
   ],
   "source": [
    "sorted(students_dict)"
   ]
  },
  {
   "cell_type": "code",
   "execution_count": 13,
   "id": "aa4b3c10",
   "metadata": {},
   "outputs": [],
   "source": [
    "def get_name(student):\n",
    "    \n",
    "    return student['name']"
   ]
  },
  {
   "cell_type": "code",
   "execution_count": 14,
   "id": "d79e0ee5",
   "metadata": {},
   "outputs": [
    {
     "data": {
      "text/plain": [
       "[{'name': 'Alice', 'score': 80},\n",
       " {'name': 'Bob', 'score': 10},\n",
       " {'name': 'Nina', 'score': 40},\n",
       " {'name': 'Samuel', 'score': 70},\n",
       " {'name': 'Zubin', 'score': 90}]"
      ]
     },
     "execution_count": 14,
     "metadata": {},
     "output_type": "execute_result"
    }
   ],
   "source": [
    "sorted(students_dict, key=get_name) #sortuje alfabetycznie po 'name'"
   ]
  },
  {
   "cell_type": "code",
   "execution_count": 15,
   "id": "f51c3e0c",
   "metadata": {},
   "outputs": [],
   "source": [
    "def get_score(student):\n",
    "    \n",
    "    return student['score']"
   ]
  },
  {
   "cell_type": "code",
   "execution_count": 17,
   "id": "99528fc0",
   "metadata": {},
   "outputs": [
    {
     "data": {
      "text/plain": [
       "[{'name': 'Bob', 'score': 10},\n",
       " {'name': 'Nina', 'score': 40},\n",
       " {'name': 'Samuel', 'score': 70},\n",
       " {'name': 'Alice', 'score': 80},\n",
       " {'name': 'Zubin', 'score': 90}]"
      ]
     },
     "execution_count": 17,
     "metadata": {},
     "output_type": "execute_result"
    }
   ],
   "source": [
    "sorted(students_dict, key=get_score) #sortuje rosnaco po 'score'"
   ]
  },
  {
   "cell_type": "code",
   "execution_count": null,
   "id": "71ae531f",
   "metadata": {},
   "outputs": [],
   "source": []
  }
 ],
 "metadata": {
  "kernelspec": {
   "display_name": "Python 3",
   "language": "python",
   "name": "python3"
  },
  "language_info": {
   "codemirror_mode": {
    "name": "ipython",
    "version": 3
   },
   "file_extension": ".py",
   "mimetype": "text/x-python",
   "name": "python",
   "nbconvert_exporter": "python",
   "pygments_lexer": "ipython3",
   "version": "3.6.9"
  }
 },
 "nbformat": 4,
 "nbformat_minor": 5
}
