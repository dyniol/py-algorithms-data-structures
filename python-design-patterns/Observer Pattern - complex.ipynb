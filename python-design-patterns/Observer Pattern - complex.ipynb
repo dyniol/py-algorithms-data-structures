{
 "cells": [
  {
   "cell_type": "code",
   "execution_count": 8,
   "id": "ecfb43c0",
   "metadata": {},
   "outputs": [],
   "source": [
    "class Product:\n",
    "    \n",
    "    PRICE = 'price'\n",
    "    STOCK = 'stock'\n",
    "    \n",
    "    def __init__(self, name, price):\n",
    "        self.__name = name\n",
    "        self.__price = price\n",
    "        self.__price_observers = set()\n",
    "        self.__stock_observers = set()\n",
    "        \n",
    "    def add_observer(self, observer_type, observer):\n",
    "        if observer_type == self.PRICE:\n",
    "            self.__price_observers.add(observer)\n",
    "        elif observer_type == self.STOCK:\n",
    "            self.__stock_observers.add(observer)\n",
    "            \n",
    "    def remove_observer(self, observer_type, observer):\n",
    "        if observer_type == self.PRICE:\n",
    "            self.__price_observers.discard(observer)\n",
    "        elif observer_type == self.STOCK:\n",
    "            self.__stock_observers.discard(observer)\n",
    "            \n",
    "    def update_price(self, price):\n",
    "        self.__price = price\n",
    "        self.__notify(self.PRICE)\n",
    "        \n",
    "    def update_stock(self, stock):\n",
    "        self.__stock = stock\n",
    "        self.__notify(self.STOCK)\n",
    "        \n",
    "    def __notify(self, observer_type):\n",
    "        observers = []\n",
    "        \n",
    "        message = None\n",
    "        \n",
    "        if observer_type == self.PRICE:\n",
    "            observers = self.__price_observers\n",
    "            message = self.__name + ' price update to: ' + str(self.__price)\n",
    "        elif observer_type ==self.STOCK:\n",
    "            observers = self.__stock_observers\n",
    "            message = self.__name + ' now back in stock!'\n",
    "            \n",
    "        for observer in observers:\n",
    "            observer.notify(message)"
   ]
  },
  {
   "cell_type": "code",
   "execution_count": 3,
   "id": "2e0900e5",
   "metadata": {},
   "outputs": [],
   "source": [
    "class Customer:\n",
    "    \n",
    "    def __init__(self, name):\n",
    "        self.__name = name\n",
    "        \n",
    "    def notify(self, message):\n",
    "        print(self.__name, '-', message)"
   ]
  },
  {
   "cell_type": "code",
   "execution_count": 10,
   "id": "47de403c",
   "metadata": {},
   "outputs": [],
   "source": [
    "apple_iphone = Product('iPhone', 600)\n",
    "\n",
    "samsung_s10 = Product('Samsung', 300)"
   ]
  },
  {
   "cell_type": "code",
   "execution_count": 5,
   "id": "8970b032",
   "metadata": {},
   "outputs": [],
   "source": [
    "alice = Customer('Alice')\n",
    "\n",
    "betty = Customer('Betty')\n",
    "\n",
    "charles = Customer('Charles')"
   ]
  },
  {
   "cell_type": "code",
   "execution_count": 13,
   "id": "9475d449",
   "metadata": {},
   "outputs": [],
   "source": [
    "apple_iphone.add_observer(Product.PRICE, alice)\n",
    "\n",
    "apple_iphone.add_observer(Product.STOCK, alice)"
   ]
  },
  {
   "cell_type": "code",
   "execution_count": 14,
   "id": "44eb191f",
   "metadata": {},
   "outputs": [],
   "source": [
    "samsung_s10.add_observer(Product.PRICE, betty)\n",
    "\n",
    "samsung_s10.add_observer(Product.STOCK, betty)"
   ]
  },
  {
   "cell_type": "code",
   "execution_count": 15,
   "id": "40dc454e",
   "metadata": {},
   "outputs": [],
   "source": [
    "apple_iphone.add_observer(Product.PRICE, charles)\n",
    "\n",
    "samsung_s10.add_observer(Product.STOCK, charles)"
   ]
  },
  {
   "cell_type": "code",
   "execution_count": 16,
   "id": "18b8db8c",
   "metadata": {},
   "outputs": [
    {
     "name": "stdout",
     "output_type": "stream",
     "text": [
      "Charles - iPhone price update to: 566\n",
      "Alice - iPhone price update to: 566\n"
     ]
    }
   ],
   "source": [
    "apple_iphone.update_price(566)"
   ]
  },
  {
   "cell_type": "code",
   "execution_count": 17,
   "id": "14c30284",
   "metadata": {},
   "outputs": [
    {
     "name": "stdout",
     "output_type": "stream",
     "text": [
      "Alice - iPhone now back in stock!\n"
     ]
    }
   ],
   "source": [
    "apple_iphone.update_stock(10)"
   ]
  },
  {
   "cell_type": "code",
   "execution_count": 18,
   "id": "31bb893c",
   "metadata": {},
   "outputs": [
    {
     "name": "stdout",
     "output_type": "stream",
     "text": [
      "Betty - Samsung price update to: 333\n"
     ]
    }
   ],
   "source": [
    "samsung_s10.update_price(333)"
   ]
  },
  {
   "cell_type": "code",
   "execution_count": 19,
   "id": "159a0bf2",
   "metadata": {},
   "outputs": [
    {
     "name": "stdout",
     "output_type": "stream",
     "text": [
      "Charles - Samsung now back in stock!\n",
      "Betty - Samsung now back in stock!\n"
     ]
    }
   ],
   "source": [
    "samsung_s10.update_stock(10)"
   ]
  },
  {
   "cell_type": "code",
   "execution_count": null,
   "id": "dd59c0c7",
   "metadata": {},
   "outputs": [],
   "source": []
  }
 ],
 "metadata": {
  "kernelspec": {
   "display_name": "Python 3",
   "language": "python",
   "name": "python3"
  },
  "language_info": {
   "codemirror_mode": {
    "name": "ipython",
    "version": 3
   },
   "file_extension": ".py",
   "mimetype": "text/x-python",
   "name": "python",
   "nbconvert_exporter": "python",
   "pygments_lexer": "ipython3",
   "version": "3.6.9"
  }
 },
 "nbformat": 4,
 "nbformat_minor": 5
}
