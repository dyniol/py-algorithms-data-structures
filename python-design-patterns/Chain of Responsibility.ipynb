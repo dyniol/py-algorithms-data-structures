{
 "cells": [
  {
   "cell_type": "code",
   "execution_count": 2,
   "id": "0b1b4e33",
   "metadata": {},
   "outputs": [],
   "source": [
    "from abc import abstractmethod\n",
    "\n",
    "class Operation:\n",
    "    def __init__(self, successor=None):\n",
    "        self._successor = successor\n",
    "        \n",
    "    @abstractmethod\n",
    "    def calculate(self, operation):\n",
    "        pass"
   ]
  },
  {
   "cell_type": "code",
   "execution_count": 12,
   "id": "862557e4",
   "metadata": {},
   "outputs": [],
   "source": [
    "class Exponent(Operation):\n",
    "    \n",
    "    def calculate(self, operation):\n",
    "        chars = operation.split()\n",
    "        \n",
    "        if chars[1] == '**':\n",
    "            print('Exponent!')\n",
    "            \n",
    "            return int(chars[0]) ** int(chars[2])\n",
    "        \n",
    "        elif self._successor is not None:\n",
    "            print('Exponent unable to handle operation, passing on to successor')\n",
    "            \n",
    "            return self._successor.calculate(operation)\n",
    "        \n",
    "        else:\n",
    "            print('Operation not supported')\n",
    "            \n",
    "            return None"
   ]
  },
  {
   "cell_type": "code",
   "execution_count": 13,
   "id": "cd35c702",
   "metadata": {},
   "outputs": [],
   "source": [
    "class Modulus(Operation):\n",
    "    \n",
    "    def calculate(self, operation):\n",
    "        chars = operation.split()\n",
    "        \n",
    "        if chars[1] == '%':\n",
    "            print('Modulus!')\n",
    "            \n",
    "            return int(chars[0]) % int(chars[2])\n",
    "        \n",
    "        elif self._successor is not None:\n",
    "            print('Modulus unable to handle operation, passing on to successor')\n",
    "            \n",
    "            return self._successor.calculate(operation)\n",
    "        \n",
    "        else:\n",
    "            print('Operation not supported')\n",
    "            \n",
    "            return None"
   ]
  },
  {
   "cell_type": "code",
   "execution_count": 14,
   "id": "59bf9373",
   "metadata": {},
   "outputs": [],
   "source": [
    "class FloorDivision(Operation):\n",
    "    \n",
    "    def calculate(self, operation):\n",
    "        chars = operation.split()\n",
    "        \n",
    "        if chars[1] == '//':\n",
    "            print('FloorDivision!')\n",
    "            \n",
    "            return int(chars[0]) // int(chars[2])\n",
    "        \n",
    "        elif self._successor is not None:\n",
    "            print('FloorDivision unable to handle operation, passing on to successor')\n",
    "            \n",
    "            return self._successor.calculate(operation)\n",
    "        \n",
    "        else:\n",
    "            print('Operation not supported')\n",
    "            \n",
    "            return None"
   ]
  },
  {
   "cell_type": "code",
   "execution_count": 15,
   "id": "79d7c45a",
   "metadata": {},
   "outputs": [],
   "source": [
    "operation3 = FloorDivision()\n",
    "\n",
    "operation2 = Modulus(operation3)\n",
    "\n",
    "operation1 = Exponent(operation2)"
   ]
  },
  {
   "cell_type": "code",
   "execution_count": 16,
   "id": "380dc524",
   "metadata": {},
   "outputs": [],
   "source": [
    "del operation2, operation3"
   ]
  },
  {
   "cell_type": "code",
   "execution_count": 17,
   "id": "606bed48",
   "metadata": {},
   "outputs": [
    {
     "name": "stdout",
     "output_type": "stream",
     "text": [
      "Exponent!\n",
      "512\n"
     ]
    }
   ],
   "source": [
    "print(operation1.calculate(\"8 ** 3\"))"
   ]
  },
  {
   "cell_type": "code",
   "execution_count": 18,
   "id": "00d022bf",
   "metadata": {},
   "outputs": [
    {
     "name": "stdout",
     "output_type": "stream",
     "text": [
      "Exponent unable to handle operation, passing on to successor\n",
      "Modulus!\n",
      "2\n"
     ]
    }
   ],
   "source": [
    "print(operation1.calculate(\"8 % 3\"))"
   ]
  },
  {
   "cell_type": "code",
   "execution_count": 19,
   "id": "3a1a067e",
   "metadata": {},
   "outputs": [
    {
     "name": "stdout",
     "output_type": "stream",
     "text": [
      "Exponent unable to handle operation, passing on to successor\n",
      "Modulus unable to handle operation, passing on to successor\n",
      "FloorDivision!\n",
      "2\n"
     ]
    }
   ],
   "source": [
    "print(operation1.calculate(\"8 // 3\"))"
   ]
  },
  {
   "cell_type": "code",
   "execution_count": 20,
   "id": "e25c0308",
   "metadata": {},
   "outputs": [
    {
     "name": "stdout",
     "output_type": "stream",
     "text": [
      "Exponent unable to handle operation, passing on to successor\n",
      "Modulus unable to handle operation, passing on to successor\n",
      "Operation not supported\n",
      "None\n"
     ]
    }
   ],
   "source": [
    "print(operation1.calculate(\"8 / 3\"))"
   ]
  },
  {
   "cell_type": "code",
   "execution_count": null,
   "id": "589b1e0a",
   "metadata": {},
   "outputs": [],
   "source": []
  }
 ],
 "metadata": {
  "kernelspec": {
   "display_name": "Python 3",
   "language": "python",
   "name": "python3"
  },
  "language_info": {
   "codemirror_mode": {
    "name": "ipython",
    "version": 3
   },
   "file_extension": ".py",
   "mimetype": "text/x-python",
   "name": "python",
   "nbconvert_exporter": "python",
   "pygments_lexer": "ipython3",
   "version": "3.6.9"
  }
 },
 "nbformat": 4,
 "nbformat_minor": 5
}
