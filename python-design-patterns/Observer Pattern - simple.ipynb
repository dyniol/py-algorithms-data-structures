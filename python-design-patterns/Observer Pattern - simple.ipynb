{
 "cells": [
  {
   "cell_type": "code",
   "execution_count": 1,
   "id": "f5c31d79",
   "metadata": {},
   "outputs": [],
   "source": [
    "class Publisher:\n",
    "    \n",
    "    def __init__(self, name):\n",
    "        self.__name = name\n",
    "        self.__subscribers = set()\n",
    "        \n",
    "    def register(self, subscriber):\n",
    "        self.__subscribers.add(subscriber)\n",
    "        \n",
    "    def unregister(self, subscriber):\n",
    "        self.__subscribers.discard(subscriber)\n",
    "        \n",
    "    def publish(self, message):\n",
    "        for subscriber in self.__subscribers:\n",
    "            subscriber.notify(message)"
   ]
  },
  {
   "cell_type": "code",
   "execution_count": 2,
   "id": "cb71ce9a",
   "metadata": {},
   "outputs": [],
   "source": [
    "class Subscriber():\n",
    "    \n",
    "    def __init__(self, name):\n",
    "        self.__name = name\n",
    "        \n",
    "    def notify(self, message):\n",
    "        print(self.__name + ' recived message: ' + message)"
   ]
  },
  {
   "cell_type": "code",
   "execution_count": 3,
   "id": "f24975b7",
   "metadata": {},
   "outputs": [],
   "source": [
    "publisher = Publisher('News')"
   ]
  },
  {
   "cell_type": "code",
   "execution_count": 4,
   "id": "ea757ea8",
   "metadata": {},
   "outputs": [],
   "source": [
    "alice = Subscriber('Alice')\n",
    "\n",
    "betty = Subscriber('Betty')"
   ]
  },
  {
   "cell_type": "code",
   "execution_count": 5,
   "id": "fd408bad",
   "metadata": {},
   "outputs": [],
   "source": [
    "publisher.register(alice)\n",
    "publisher.register(betty)"
   ]
  },
  {
   "cell_type": "code",
   "execution_count": 6,
   "id": "b6e19946",
   "metadata": {},
   "outputs": [
    {
     "name": "stdout",
     "output_type": "stream",
     "text": [
      "Alice recived message: Today was a calm and peaceful day, nothing much happened\n",
      "Betty recived message: Today was a calm and peaceful day, nothing much happened\n"
     ]
    }
   ],
   "source": [
    "publisher.publish('Today was a calm and peaceful day, nothing much happened')"
   ]
  },
  {
   "cell_type": "code",
   "execution_count": 7,
   "id": "86b1b7db",
   "metadata": {},
   "outputs": [],
   "source": [
    "charles = Subscriber('Charles')"
   ]
  },
  {
   "cell_type": "code",
   "execution_count": 8,
   "id": "3d8693e9",
   "metadata": {},
   "outputs": [],
   "source": [
    "publisher.register(charles)"
   ]
  },
  {
   "cell_type": "code",
   "execution_count": 9,
   "id": "5c716c88",
   "metadata": {},
   "outputs": [
    {
     "name": "stdout",
     "output_type": "stream",
     "text": [
      "Charles recived message: Hurricane Dorain is going to make landfall today\n",
      "Alice recived message: Hurricane Dorain is going to make landfall today\n",
      "Betty recived message: Hurricane Dorain is going to make landfall today\n"
     ]
    }
   ],
   "source": [
    "publisher.publish('Hurricane Dorain is going to make landfall today')"
   ]
  },
  {
   "cell_type": "code",
   "execution_count": 10,
   "id": "a426b20a",
   "metadata": {},
   "outputs": [],
   "source": [
    "publisher.unregister(betty)"
   ]
  },
  {
   "cell_type": "code",
   "execution_count": 11,
   "id": "021a0a25",
   "metadata": {},
   "outputs": [
    {
     "name": "stdout",
     "output_type": "stream",
     "text": [
      "Charles recived message: Numbers show that employment growth has been strong\n",
      "Alice recived message: Numbers show that employment growth has been strong\n"
     ]
    }
   ],
   "source": [
    "publisher.publish('Numbers show that employment growth has been strong')"
   ]
  },
  {
   "cell_type": "code",
   "execution_count": null,
   "id": "fc649d4d",
   "metadata": {},
   "outputs": [],
   "source": []
  }
 ],
 "metadata": {
  "kernelspec": {
   "display_name": "Python 3",
   "language": "python",
   "name": "python3"
  },
  "language_info": {
   "codemirror_mode": {
    "name": "ipython",
    "version": 3
   },
   "file_extension": ".py",
   "mimetype": "text/x-python",
   "name": "python",
   "nbconvert_exporter": "python",
   "pygments_lexer": "ipython3",
   "version": "3.6.9"
  }
 },
 "nbformat": 4,
 "nbformat_minor": 5
}
