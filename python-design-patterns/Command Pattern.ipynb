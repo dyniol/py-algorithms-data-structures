{
 "cells": [
  {
   "cell_type": "code",
   "execution_count": 1,
   "id": "3958ac6f",
   "metadata": {},
   "outputs": [],
   "source": [
    "from abc import ABC, abstractmethod\n",
    "\n",
    "class Command(ABC):\n",
    "    \n",
    "    @abstractmethod\n",
    "    def execute(self):\n",
    "        pass\n",
    "    \n",
    "    @abstractmethod\n",
    "    def undo(self):\n",
    "        pass"
   ]
  },
  {
   "cell_type": "code",
   "execution_count": 2,
   "id": "c4abd18f",
   "metadata": {},
   "outputs": [],
   "source": [
    "class Bold(Command):\n",
    "    \n",
    "    def execute(self):\n",
    "        print('Bold')\n",
    "        \n",
    "    def undo(self):\n",
    "        print('Undo Bold')"
   ]
  },
  {
   "cell_type": "code",
   "execution_count": 3,
   "id": "7c5bfbc1",
   "metadata": {},
   "outputs": [],
   "source": [
    "class Italic(Command):\n",
    "    \n",
    "    def execute(self):\n",
    "        print('Italic')\n",
    "    \n",
    "    def undo(self):\n",
    "        print('Undo Italic')"
   ]
  },
  {
   "cell_type": "code",
   "execution_count": 4,
   "id": "bdc3ebc2",
   "metadata": {},
   "outputs": [],
   "source": [
    "class Underline(Command):\n",
    "    \n",
    "    def execute(self):\n",
    "        print('Underline')\n",
    "    \n",
    "    def undo(self):\n",
    "        print('Undo Underline')"
   ]
  },
  {
   "cell_type": "code",
   "execution_count": 5,
   "id": "75c57361",
   "metadata": {},
   "outputs": [],
   "source": [
    "class Strikethrough(Command):\n",
    "    \n",
    "    def execute(self):\n",
    "        print('Strikethrough')\n",
    "    \n",
    "    def undo(self):\n",
    "        print('Undo Strikethrough')"
   ]
  },
  {
   "cell_type": "code",
   "execution_count": 6,
   "id": "d6210217",
   "metadata": {},
   "outputs": [],
   "source": [
    "commands_executed = []"
   ]
  },
  {
   "cell_type": "code",
   "execution_count": 7,
   "id": "dbbe9cc3",
   "metadata": {},
   "outputs": [],
   "source": [
    "def execute(command):\n",
    "    command.execute()\n",
    "    \n",
    "    commands_executed.append(command)"
   ]
  },
  {
   "cell_type": "code",
   "execution_count": 8,
   "id": "e9fe9256",
   "metadata": {},
   "outputs": [],
   "source": [
    "def undo():\n",
    "    \n",
    "    if len(commands_executed) == 0:\n",
    "        print('Nothing to undo!')\n",
    "        return\n",
    "    \n",
    "    command = commands_executed.pop()\n",
    "    \n",
    "    command.undo()"
   ]
  },
  {
   "cell_type": "code",
   "execution_count": 9,
   "id": "ad4d50ae",
   "metadata": {},
   "outputs": [
    {
     "name": "stdout",
     "output_type": "stream",
     "text": [
      "Bold\n"
     ]
    }
   ],
   "source": [
    "execute(Bold())"
   ]
  },
  {
   "cell_type": "code",
   "execution_count": 10,
   "id": "b6482a40",
   "metadata": {},
   "outputs": [
    {
     "name": "stdout",
     "output_type": "stream",
     "text": [
      "Underline\n"
     ]
    }
   ],
   "source": [
    "execute(Underline())"
   ]
  },
  {
   "cell_type": "code",
   "execution_count": 11,
   "id": "54bf688a",
   "metadata": {},
   "outputs": [
    {
     "name": "stdout",
     "output_type": "stream",
     "text": [
      "Strikethrough\n"
     ]
    }
   ],
   "source": [
    "execute(Strikethrough())"
   ]
  },
  {
   "cell_type": "code",
   "execution_count": 12,
   "id": "bd03027a",
   "metadata": {},
   "outputs": [
    {
     "name": "stdout",
     "output_type": "stream",
     "text": [
      "Italic\n"
     ]
    }
   ],
   "source": [
    "execute(Italic())"
   ]
  },
  {
   "cell_type": "code",
   "execution_count": 13,
   "id": "6eaaa117",
   "metadata": {},
   "outputs": [
    {
     "name": "stdout",
     "output_type": "stream",
     "text": [
      "Bold\n"
     ]
    }
   ],
   "source": [
    "execute(Bold())"
   ]
  },
  {
   "cell_type": "code",
   "execution_count": 14,
   "id": "465b478e",
   "metadata": {},
   "outputs": [
    {
     "name": "stdout",
     "output_type": "stream",
     "text": [
      "Undo Bold\n"
     ]
    }
   ],
   "source": [
    "undo() #undo last command"
   ]
  },
  {
   "cell_type": "code",
   "execution_count": 15,
   "id": "197a073c",
   "metadata": {},
   "outputs": [
    {
     "name": "stdout",
     "output_type": "stream",
     "text": [
      "Undo Italic\n"
     ]
    }
   ],
   "source": [
    "undo()"
   ]
  },
  {
   "cell_type": "code",
   "execution_count": 16,
   "id": "549564d3",
   "metadata": {},
   "outputs": [
    {
     "name": "stdout",
     "output_type": "stream",
     "text": [
      "Undo Strikethrough\n"
     ]
    }
   ],
   "source": [
    "undo()"
   ]
  },
  {
   "cell_type": "code",
   "execution_count": 17,
   "id": "5ec4686e",
   "metadata": {},
   "outputs": [
    {
     "name": "stdout",
     "output_type": "stream",
     "text": [
      "Undo Underline\n"
     ]
    }
   ],
   "source": [
    "undo()"
   ]
  },
  {
   "cell_type": "code",
   "execution_count": null,
   "id": "7414d1b3",
   "metadata": {},
   "outputs": [],
   "source": []
  }
 ],
 "metadata": {
  "kernelspec": {
   "display_name": "Python 3",
   "language": "python",
   "name": "python3"
  },
  "language_info": {
   "codemirror_mode": {
    "name": "ipython",
    "version": 3
   },
   "file_extension": ".py",
   "mimetype": "text/x-python",
   "name": "python",
   "nbconvert_exporter": "python",
   "pygments_lexer": "ipython3",
   "version": "3.6.9"
  }
 },
 "nbformat": 4,
 "nbformat_minor": 5
}
