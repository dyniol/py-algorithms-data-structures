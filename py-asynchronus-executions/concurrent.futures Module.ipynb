{
 "cells": [
  {
   "cell_type": "code",
   "execution_count": 1,
   "id": "bc9bc554",
   "metadata": {},
   "outputs": [],
   "source": [
    "from concurrent.futures import ThreadPoolExecutor\n",
    "import time"
   ]
  },
  {
   "cell_type": "code",
   "execution_count": 2,
   "id": "02d4be1e",
   "metadata": {},
   "outputs": [],
   "source": [
    "def return_after_n_secs(n, message):\n",
    "    time.sleep(n)\n",
    "    return message"
   ]
  },
  {
   "cell_type": "code",
   "execution_count": 3,
   "id": "b01bbd4b",
   "metadata": {},
   "outputs": [],
   "source": [
    "pool = ThreadPoolExecutor(3)"
   ]
  },
  {
   "cell_type": "code",
   "execution_count": 4,
   "id": "0e180727",
   "metadata": {},
   "outputs": [],
   "source": [
    "submitted_job = pool.submit(return_after_n_secs, 60, \"hello\")"
   ]
  },
  {
   "cell_type": "code",
   "execution_count": 5,
   "id": "e328947c",
   "metadata": {},
   "outputs": [
    {
     "data": {
      "text/plain": [
       "False"
      ]
     },
     "execution_count": 5,
     "metadata": {},
     "output_type": "execute_result"
    }
   ],
   "source": [
    "submitted_job.done()"
   ]
  },
  {
   "cell_type": "code",
   "execution_count": 6,
   "id": "072f9d52",
   "metadata": {},
   "outputs": [
    {
     "name": "stdout",
     "output_type": "stream",
     "text": [
      "hello\n"
     ]
    }
   ],
   "source": [
    "print(submitted_job.result())"
   ]
  },
  {
   "cell_type": "code",
   "execution_count": 7,
   "id": "0a20825c",
   "metadata": {},
   "outputs": [
    {
     "data": {
      "text/plain": [
       "True"
      ]
     },
     "execution_count": 7,
     "metadata": {},
     "output_type": "execute_result"
    }
   ],
   "source": [
    "submitted_job.done()"
   ]
  },
  {
   "cell_type": "code",
   "execution_count": 8,
   "id": "8874b332",
   "metadata": {},
   "outputs": [],
   "source": [
    "num_list = [2, 3, 4, 5, 6]\n",
    "\n",
    "def cal_square(x):\n",
    "    return x * x"
   ]
  },
  {
   "cell_type": "code",
   "execution_count": null,
   "id": "6740cc12",
   "metadata": {},
   "outputs": [],
   "source": []
  }
 ],
 "metadata": {
  "kernelspec": {
   "display_name": "Python 3",
   "language": "python",
   "name": "python3"
  },
  "language_info": {
   "codemirror_mode": {
    "name": "ipython",
    "version": 3
   },
   "file_extension": ".py",
   "mimetype": "text/x-python",
   "name": "python",
   "nbconvert_exporter": "python",
   "pygments_lexer": "ipython3",
   "version": "3.6.9"
  }
 },
 "nbformat": 4,
 "nbformat_minor": 5
}
