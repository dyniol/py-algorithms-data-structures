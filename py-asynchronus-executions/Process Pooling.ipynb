{
 "cells": [
  {
   "cell_type": "code",
   "execution_count": 1,
   "id": "17dcd7d7",
   "metadata": {},
   "outputs": [],
   "source": [
    "def cal_square(n):\n",
    "    return n * n"
   ]
  },
  {
   "cell_type": "code",
   "execution_count": 2,
   "id": "5c8d6cea",
   "metadata": {},
   "outputs": [],
   "source": [
    "num_list = [1, 2, 3, 4, 5]\n",
    "result = []\n",
    "\n",
    "for num in num_list:\n",
    "    result.append(cal_square(num))"
   ]
  },
  {
   "cell_type": "code",
   "execution_count": 3,
   "id": "606dfa73",
   "metadata": {},
   "outputs": [
    {
     "data": {
      "text/plain": [
       "[1, 4, 9, 16, 25]"
      ]
     },
     "execution_count": 3,
     "metadata": {},
     "output_type": "execute_result"
    }
   ],
   "source": [
    "result"
   ]
  },
  {
   "cell_type": "code",
   "execution_count": 4,
   "id": "b9f570bd",
   "metadata": {},
   "outputs": [],
   "source": [
    "import os"
   ]
  },
  {
   "cell_type": "code",
   "execution_count": 5,
   "id": "44c26141",
   "metadata": {},
   "outputs": [
    {
     "data": {
      "text/plain": [
       "4"
      ]
     },
     "execution_count": 5,
     "metadata": {},
     "output_type": "execute_result"
    }
   ],
   "source": [
    "os.cpu_count()"
   ]
  },
  {
   "cell_type": "code",
   "execution_count": 6,
   "id": "6c8128c0",
   "metadata": {},
   "outputs": [],
   "source": [
    "def cal_square(n):\n",
    "    print(n, os.getpid())\n",
    "    return n * n\n",
    "\n",
    "result = []"
   ]
  },
  {
   "cell_type": "code",
   "execution_count": 7,
   "id": "f632e0e3",
   "metadata": {},
   "outputs": [
    {
     "name": "stdout",
     "output_type": "stream",
     "text": [
      "1 17773\n",
      "2 17773\n",
      "3 17773\n",
      "4 17773\n",
      "5 17773\n"
     ]
    },
    {
     "data": {
      "text/plain": [
       "[1, 4, 9, 16, 25]"
      ]
     },
     "execution_count": 7,
     "metadata": {},
     "output_type": "execute_result"
    }
   ],
   "source": [
    "for num in num_list:\n",
    "    result.append(cal_square(num))\n",
    "    \n",
    "result"
   ]
  },
  {
   "cell_type": "code",
   "execution_count": 8,
   "id": "7c009529",
   "metadata": {},
   "outputs": [],
   "source": [
    "from multiprocessing import Pool"
   ]
  },
  {
   "cell_type": "code",
   "execution_count": 9,
   "id": "b7dc2682",
   "metadata": {},
   "outputs": [],
   "source": [
    "result = []"
   ]
  },
  {
   "cell_type": "code",
   "execution_count": 10,
   "id": "98759d8e",
   "metadata": {},
   "outputs": [
    {
     "name": "stdout",
     "output_type": "stream",
     "text": [
      "32 122102\n",
      "4 522102 \n",
      "22101  22103\n",
      "22100\n",
      "\n"
     ]
    }
   ],
   "source": [
    "p = Pool()\n",
    "\n",
    "result = p.map(cal_square, num_list)\n",
    "\n",
    "p.close()\n",
    "# kurewa ten output sie chujowo robi, cos nie styka wersja pythona\n",
    "# 1 22100\n",
    "# 2 22103\n",
    "# 3 22101\n",
    "# 4 22102\n",
    "# 5 22102"
   ]
  },
  {
   "cell_type": "code",
   "execution_count": 11,
   "id": "1d361aa0",
   "metadata": {},
   "outputs": [
    {
     "data": {
      "text/plain": [
       "[1, 4, 9, 16, 25]"
      ]
     },
     "execution_count": 11,
     "metadata": {},
     "output_type": "execute_result"
    }
   ],
   "source": [
    "result"
   ]
  },
  {
   "cell_type": "code",
   "execution_count": 12,
   "id": "753c2fcb",
   "metadata": {},
   "outputs": [],
   "source": [
    "result = []"
   ]
  },
  {
   "cell_type": "code",
   "execution_count": 13,
   "id": "b387f45b",
   "metadata": {},
   "outputs": [
    {
     "name": "stdout",
     "output_type": "stream",
     "text": [
      "1 2 2386023861\n",
      "\n",
      "4 323861 23860\n",
      "5\n",
      " 23861\n"
     ]
    }
   ],
   "source": [
    "p = Pool(processes = 2)\n",
    "\n",
    "result = p.map(cal_square, num_list)\n",
    "\n",
    "p.close()\n",
    "\n",
    "# i znowu kurewa\n",
    "# 1 23860\n",
    "# 2 23861\n",
    "# 3 23860\n",
    "# 4 23861\n",
    "# 5 23861        tu moze byc przypisany inny numer proces pod wynik"
   ]
  },
  {
   "cell_type": "code",
   "execution_count": 14,
   "id": "9a5cf0c7",
   "metadata": {},
   "outputs": [
    {
     "data": {
      "text/plain": [
       "[1, 4, 9, 16, 25]"
      ]
     },
     "execution_count": 14,
     "metadata": {},
     "output_type": "execute_result"
    }
   ],
   "source": [
    "result"
   ]
  },
  {
   "cell_type": "code",
   "execution_count": 15,
   "id": "baaadc12",
   "metadata": {},
   "outputs": [],
   "source": [
    "import time"
   ]
  },
  {
   "cell_type": "code",
   "execution_count": 16,
   "id": "79fbc617",
   "metadata": {},
   "outputs": [],
   "source": [
    "def sum_square(number):\n",
    "    s = 0\n",
    "    for i in range(number):\n",
    "        s += i * i\n",
    "    return s"
   ]
  },
  {
   "cell_type": "code",
   "execution_count": 17,
   "id": "947a9fd9",
   "metadata": {},
   "outputs": [],
   "source": [
    "def sum_square_with_mp(numbers):\n",
    "    \n",
    "    start_time = time.time()\n",
    "    p = Pool()\n",
    "    result = p.map(sum_square, numbers)\n",
    "    \n",
    "    p.close()\n",
    "    p.join()\n",
    "    \n",
    "    total_time = time.time() - start_time\n",
    "    \n",
    "    print(\"processing %d numbers took %.2f second using multiprocessing\" % (len(numbers), total_time))"
   ]
  },
  {
   "cell_type": "code",
   "execution_count": 20,
   "id": "fb00d1c5",
   "metadata": {},
   "outputs": [],
   "source": [
    "def sum_square_without_mp(numbers):\n",
    "    \n",
    "    start_time = time.time()\n",
    "    result = []\n",
    "    \n",
    "    for i in numbers:\n",
    "        result.append(sum_square(i))\n",
    "    \n",
    "    total_time = time.time() - start_time\n",
    "    \n",
    "    print(\"processing %d numbers took %.2f seconds with serial processing\" % (len(numbers), total_time))"
   ]
  },
  {
   "cell_type": "code",
   "execution_count": 21,
   "id": "daa15dbe",
   "metadata": {},
   "outputs": [
    {
     "name": "stdout",
     "output_type": "stream",
     "text": [
      "processing 1000 numbers took 0.09 seconds with serial processing\n",
      "processing 1000 numbers took 0.08 seconds with serial processing\n"
     ]
    }
   ],
   "source": [
    "numbers = range(1000)\n",
    "\n",
    "sum_square_with_mp(numbers)\n",
    "sum_square_without_mp(numbers)"
   ]
  },
  {
   "cell_type": "code",
   "execution_count": 22,
   "id": "33f1a95c",
   "metadata": {},
   "outputs": [
    {
     "name": "stdout",
     "output_type": "stream",
     "text": [
      "processing 10000 numbers took 8.90 seconds with serial processing\n",
      "processing 10000 numbers took 8.97 seconds with serial processing\n"
     ]
    }
   ],
   "source": [
    "numbers = range(10000)\n",
    "\n",
    "sum_square_with_mp(numbers)\n",
    "sum_square_without_mp(numbers)"
   ]
  },
  {
   "cell_type": "code",
   "execution_count": null,
   "id": "f337511b",
   "metadata": {},
   "outputs": [],
   "source": []
  }
 ],
 "metadata": {
  "kernelspec": {
   "display_name": "Python 3",
   "language": "python",
   "name": "python3"
  },
  "language_info": {
   "codemirror_mode": {
    "name": "ipython",
    "version": 3
   },
   "file_extension": ".py",
   "mimetype": "text/x-python",
   "name": "python",
   "nbconvert_exporter": "python",
   "pygments_lexer": "ipython3",
   "version": "3.6.9"
  }
 },
 "nbformat": 4,
 "nbformat_minor": 5
}
