{
 "cells": [
  {
   "cell_type": "code",
   "execution_count": 1,
   "id": "4bc1178c",
   "metadata": {},
   "outputs": [],
   "source": [
    "class Node:\n",
    "    \"\"\"\n",
    "    A node in a singly-linked list.\n",
    "    \"\"\"\n",
    "    def __init__(self, dataval=None, nextval=None):\n",
    "        self.dataval = dataval\n",
    "        self.nextval = nextval\n",
    "        \n",
    "    def __repr__(self):\n",
    "        return repr(self.dataval)"
   ]
  },
  {
   "cell_type": "code",
   "execution_count": 5,
   "id": "e6d2bc6f",
   "metadata": {},
   "outputs": [],
   "source": [
    "class LinkedList:\n",
    "    def __init__(self):\n",
    "        \"\"\"Creating a new singly-linked list.\"\"\"\n",
    "        \n",
    "        self.head = None\n",
    "        \n",
    "    def __repr__(self):\n",
    "        \n",
    "        \"\"\"Creating a string representation of the data in a list\"\"\"\n",
    "        \n",
    "        nodes = []\n",
    "        curr = self.head\n",
    "        \n",
    "        while curr:\n",
    "            nodes.append(repr(curr))\n",
    "            curr = curr.nextval\n",
    "            \n",
    "        return '[' + '->'.join(nodes) + ']'\n",
    "        \n",
    "    def prepend(self, dataval):\n",
    "        \n",
    "        \"\"\"Insert a new element at the beginning of the list.\"\"\"\n",
    "        \n",
    "        self.head = Node(dataval=dataval, nextval=self.head)\n",
    "        \n",
    "    def append(self, dataval):\n",
    "        \n",
    "        \"\"\"Insert a new element at the end of the list.\"\"\"\n",
    "        \n",
    "        if not self.head:\n",
    "            self.head = Node(dataval=dataval)\n",
    "            return\n",
    "        \n",
    "        curr = self.head\n",
    "        \n",
    "        while curr.nextval:\n",
    "            curr = curr.nextval\n",
    "            \n",
    "        curr.nextval = Node(dataval=dataval)\n",
    "        \n",
    "    def add_after(self, middle_dataval, dataval):\n",
    "        \n",
    "        \"\"\"Insert a new element after the node with middle_dataval.\"\"\"\n",
    "        \n",
    "        if middle_dataval is None:\n",
    "            print(\"Data to insert after not specified\")\n",
    "            return\n",
    "        \n",
    "        curr = self.head\n",
    "        \n",
    "        while curr and curr.dataval != middle_dataval:\n",
    "            curr = curr.nextval\n",
    "            \n",
    "        new_node = Node(dataval = dataval)\n",
    "        \n",
    "        new_node.nextval = curr.nextval\n",
    "        curr.nextval = new_node\n",
    "        \n",
    "    def find(self, data):\n",
    "        \n",
    "        \"\"\"Search for the first element with `dataval` matching\n",
    "        `data`. Return the element or `None` if not found.\"\"\"\n",
    "        \n",
    "        curr = self.head\n",
    "        while curr and curr.dataval != data:\n",
    "            curr = curr.nextval\n",
    "            \n",
    "        return curr\n",
    "    \n",
    "    def remove(self, data):\n",
    "        \n",
    "        \"\"\"Remove the first occurrence of `data` in the list.\"\"\"\n",
    "        \n",
    "        curr = self.head\n",
    "        prev = None\n",
    "        \n",
    "        while curr and curr.dataval != data:\n",
    "            prev = curr\n",
    "            curr = curr.nextval\n",
    "            \n",
    "        if prev is None:\n",
    "            self.head = curr.nextval\n",
    "        elif curr:\n",
    "            prev.nextval = curr.nextval\n",
    "            curr.nextval = None\n",
    "            \n",
    "    def reverse(self):\n",
    "        \n",
    "        \"\"\"Reverse the list in-place.\"\"\"\n",
    "        \n",
    "        curr = self.head\n",
    "        \n",
    "        prev_node = None\n",
    "        next_node = None\n",
    "        \n",
    "        while curr:\n",
    "            nextval = curr.nextval\n",
    "            curr.nextval = prev_node\n",
    "            \n",
    "            prev_node = curr\n",
    "            \n",
    "            curr = nextval\n",
    "            \n",
    "        self.head = prev_node\n",
    "        \n",
    "    def reverse_recursive(self):\n",
    "        \"\"\"Reverse the list in place using recursion.\"\"\"\n",
    "        \n",
    "        def recursion(curr, prev):\n",
    "            if not curr:\n",
    "                return prev\n",
    "            \n",
    "            nextval = curr.nextval\n",
    "            curr.nextval = prev\n",
    "            \n",
    "            prev = curr\n",
    "            curr = nextval\n",
    "            \n",
    "            return recursion(curr, prev)\n",
    "        \n",
    "        self.head = recursion(curr=self.head, prev=None)\n",
    "        \n",
    "    def count_nodes(self):\n",
    "        \n",
    "        \"\"\"Count the number of nodes in the linked list.\"\"\"\n",
    "        \n",
    "        if (self.head == None):\n",
    "            return 0\n",
    "        else:\n",
    "            curr = self.head\n",
    "            count = 0\n",
    "            while (curr != None):\n",
    "                curr = curr.nextval\n",
    "                count += 1\n",
    "                \n",
    "        return count"
   ]
  },
  {
   "cell_type": "code",
   "execution_count": 6,
   "id": "20db94da",
   "metadata": {},
   "outputs": [],
   "source": [
    "numbers = LinkedList()"
   ]
  },
  {
   "cell_type": "code",
   "execution_count": 7,
   "id": "d6213902",
   "metadata": {},
   "outputs": [
    {
     "data": {
      "text/plain": [
       "[]"
      ]
     },
     "execution_count": 7,
     "metadata": {},
     "output_type": "execute_result"
    }
   ],
   "source": [
    "numbers"
   ]
  },
  {
   "cell_type": "code",
   "execution_count": 8,
   "id": "76e67631",
   "metadata": {},
   "outputs": [
    {
     "data": {
      "text/plain": [
       "['two'->'three']"
      ]
     },
     "execution_count": 8,
     "metadata": {},
     "output_type": "execute_result"
    }
   ],
   "source": [
    "numbers.append(\"two\")\n",
    "numbers.append(\"three\")\n",
    "\n",
    "numbers"
   ]
  },
  {
   "cell_type": "code",
   "execution_count": 9,
   "id": "f576fcb7",
   "metadata": {},
   "outputs": [
    {
     "data": {
      "text/plain": [
       "['one'->'two'->'three']"
      ]
     },
     "execution_count": 9,
     "metadata": {},
     "output_type": "execute_result"
    }
   ],
   "source": [
    "numbers.prepend(\"one\")\n",
    "\n",
    "numbers"
   ]
  },
  {
   "cell_type": "code",
   "execution_count": 10,
   "id": "66ec4d4f",
   "metadata": {},
   "outputs": [],
   "source": [
    "numbers.append(\"four\")\n",
    "numbers.append(\"five\")\n",
    "numbers.append(\"seven\")\n",
    "\n",
    "numbers"
   ]
  },
  {
   "cell_type": "code",
   "execution_count": 12,
   "id": "a4ecb46a",
   "metadata": {},
   "outputs": [
    {
     "data": {
      "text/plain": [
       "['one'->'two'->'three'->'four'->'five'->'six'->'seven']"
      ]
     },
     "execution_count": 12,
     "metadata": {},
     "output_type": "execute_result"
    }
   ],
   "source": [
    "numbers.add_after(\"five\", \"six\")\n",
    "\n",
    "numbers"
   ]
  },
  {
   "cell_type": "code",
   "execution_count": 13,
   "id": "fcdc4434",
   "metadata": {},
   "outputs": [
    {
     "data": {
      "text/plain": [
       "['seven'->'six'->'five'->'four'->'three'->'two'->'one']"
      ]
     },
     "execution_count": 13,
     "metadata": {},
     "output_type": "execute_result"
    }
   ],
   "source": [
    "numbers.reverse()\n",
    "\n",
    "numbers"
   ]
  },
  {
   "cell_type": "code",
   "execution_count": 15,
   "id": "193b8a3e",
   "metadata": {},
   "outputs": [
    {
     "data": {
      "text/plain": [
       "['one'->'two'->'three'->'four'->'five'->'six'->'seven']"
      ]
     },
     "execution_count": 15,
     "metadata": {},
     "output_type": "execute_result"
    }
   ],
   "source": [
    "numbers.reverse_recursive()\n",
    "\n",
    "numbers"
   ]
  },
  {
   "cell_type": "code",
   "execution_count": 16,
   "id": "79287f71",
   "metadata": {},
   "outputs": [
    {
     "data": {
      "text/plain": [
       "['two'->'three'->'four'->'five'->'six'->'seven']"
      ]
     },
     "execution_count": 16,
     "metadata": {},
     "output_type": "execute_result"
    }
   ],
   "source": [
    "numbers.remove(\"one\")\n",
    "\n",
    "numbers"
   ]
  },
  {
   "cell_type": "code",
   "execution_count": 17,
   "id": "62d2f315",
   "metadata": {},
   "outputs": [
    {
     "data": {
      "text/plain": [
       "['two'->'three'->'four'->'five'->'seven']"
      ]
     },
     "execution_count": 17,
     "metadata": {},
     "output_type": "execute_result"
    }
   ],
   "source": [
    "numbers.remove('six')\n",
    "\n",
    "numbers"
   ]
  },
  {
   "cell_type": "code",
   "execution_count": 18,
   "id": "e5af500c",
   "metadata": {},
   "outputs": [
    {
     "data": {
      "text/plain": [
       "5"
      ]
     },
     "execution_count": 18,
     "metadata": {},
     "output_type": "execute_result"
    }
   ],
   "source": [
    "numbers.count_nodes()"
   ]
  },
  {
   "cell_type": "code",
   "execution_count": null,
   "id": "8479f7f1",
   "metadata": {},
   "outputs": [],
   "source": []
  }
 ],
 "metadata": {
  "kernelspec": {
   "display_name": "Python 3",
   "language": "python",
   "name": "python3"
  },
  "language_info": {
   "codemirror_mode": {
    "name": "ipython",
    "version": 3
   },
   "file_extension": ".py",
   "mimetype": "text/x-python",
   "name": "python",
   "nbconvert_exporter": "python",
   "pygments_lexer": "ipython3",
   "version": "3.6.9"
  }
 },
 "nbformat": 4,
 "nbformat_minor": 5
}
