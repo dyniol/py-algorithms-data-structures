{
 "cells": [
  {
   "cell_type": "code",
   "execution_count": 5,
   "id": "d2e834ba",
   "metadata": {},
   "outputs": [],
   "source": [
    "class Student:\n",
    "    \n",
    "    def __init__(self, name, gpa):\n",
    "        self.__name = name\n",
    "        self.__gpa = gpa\n",
    "        self.__clubs = set()\n",
    "        self.__active = True\n",
    "        \n",
    "    def set_name(self, name):\n",
    "        self.__name = name\n",
    "        \n",
    "    def set_gpa(self, gpa):\n",
    "        self.__gpa = gpa\n",
    "        \n",
    "    def add_club(self, club):\n",
    "        self.__clubs.add(club)\n",
    "        \n",
    "    def remove_club(self, club):\n",
    "        self.__clubs.remove(club)\n",
    "        \n",
    "    def set_active(self, active):\n",
    "        self.__active = True\n",
    "        \n",
    "    def print_details(self):\n",
    "        print('Student: ', self.__name)\n",
    "        print(self.__gpa, self.__clubs, self.__active)"
   ]
  },
  {
   "cell_type": "code",
   "execution_count": 6,
   "id": "d394d22a",
   "metadata": {},
   "outputs": [],
   "source": [
    "s = Student('James', 3.8)"
   ]
  },
  {
   "cell_type": "code",
   "execution_count": 7,
   "id": "3e06e237",
   "metadata": {},
   "outputs": [],
   "source": [
    "s.add_club('Yoga')"
   ]
  },
  {
   "cell_type": "code",
   "execution_count": 8,
   "id": "b916be9d",
   "metadata": {},
   "outputs": [
    {
     "name": "stdout",
     "output_type": "stream",
     "text": [
      "Student:  James\n",
      "3.8 {'Yoga'} True\n"
     ]
    }
   ],
   "source": [
    "s.print_details()"
   ]
  },
  {
   "cell_type": "code",
   "execution_count": 9,
   "id": "47e7564a",
   "metadata": {},
   "outputs": [],
   "source": [
    "s.add_club('yoga')"
   ]
  },
  {
   "cell_type": "code",
   "execution_count": 10,
   "id": "098f57c4",
   "metadata": {},
   "outputs": [
    {
     "name": "stdout",
     "output_type": "stream",
     "text": [
      "Student:  James\n",
      "3.8 {'Yoga', 'yoga'} True\n"
     ]
    }
   ],
   "source": [
    "s.print_details()"
   ]
  },
  {
   "cell_type": "code",
   "execution_count": 11,
   "id": "36c815b1",
   "metadata": {},
   "outputs": [],
   "source": [
    "s.add_club('yoga')"
   ]
  },
  {
   "cell_type": "code",
   "execution_count": 12,
   "id": "5fd24cb9",
   "metadata": {},
   "outputs": [
    {
     "name": "stdout",
     "output_type": "stream",
     "text": [
      "Student:  James\n",
      "3.8 {'Yoga', 'yoga'} True\n"
     ]
    }
   ],
   "source": [
    "s.print_details()"
   ]
  },
  {
   "cell_type": "code",
   "execution_count": 13,
   "id": "bdc2464f",
   "metadata": {},
   "outputs": [
    {
     "name": "stdout",
     "output_type": "stream",
     "text": [
      "Student:  James\n",
      "3.9 {'Yoga', 'yoga'} True\n"
     ]
    }
   ],
   "source": [
    "s.set_gpa(3.9)\n",
    "\n",
    "s.print_details()"
   ]
  },
  {
   "cell_type": "code",
   "execution_count": null,
   "id": "7bfa16df",
   "metadata": {},
   "outputs": [],
   "source": [
    "# Parse student list to the class with function"
   ]
  },
  {
   "cell_type": "code",
   "execution_count": 14,
   "id": "49046aac",
   "metadata": {},
   "outputs": [],
   "source": [
    "student_details_list = [\n",
    "    {'name': 'Nina', 'gpa': 3.6, 'clubs': ['tennis', 'chess']},\n",
    "    {'name': 'Emily', 'gpa': 3.9, 'clubs': ['tennis'], 'active': False},\n",
    "    {'name': 'Michael', 'gpa': 3.2, 'clubs': ['footbal', 'chees']},\n",
    "    {'name': 'Joe', 'gpa': 3.9, 'is_honors_student': True},\n",
    "]"
   ]
  },
  {
   "cell_type": "code",
   "execution_count": 17,
   "id": "9fba2618",
   "metadata": {},
   "outputs": [],
   "source": [
    "def get_students(student_details_list): # list as an argument\n",
    "    students_list = []\n",
    "    \n",
    "    for student_details in student_details_list:                            # new variable 'student_details'\n",
    "        if 'name' not in student_details or 'gpa' not in student_details:   # 'name' and 'gpa' are required by class\n",
    "            continue\n",
    "        \n",
    "        s = Student(student_details['name'], student_details['gpa'])  # tworzymy studenta ktory wyciaga z student_details_list\n",
    "                                                                      # values ktore sa pod 'name' i 'gpa'\n",
    "        \n",
    "        if 'clubs' in student_details:                                # if clubs are present in student_details\n",
    "            for club in student_details['clubs']:                     # we iterate through the list and add \n",
    "                s.add_club(club)                                      # it with class method\n",
    "        \n",
    "        if 'active' in student_details:                               # same here but with 'active'\n",
    "            s.set_active(student_details['active'])\n",
    "            \n",
    "        students_list.append(s)                                       # add the result to the student_list\n",
    "        \n",
    "    return students_list                                              # return the whole list"
   ]
  },
  {
   "cell_type": "code",
   "execution_count": 18,
   "id": "56a6a1ea",
   "metadata": {},
   "outputs": [],
   "source": [
    "students = get_students(student_details_list)"
   ]
  },
  {
   "cell_type": "code",
   "execution_count": null,
   "id": "71328274",
   "metadata": {},
   "outputs": [],
   "source": []
  }
 ],
 "metadata": {
  "kernelspec": {
   "display_name": "Python 3",
   "language": "python",
   "name": "python3"
  },
  "language_info": {
   "codemirror_mode": {
    "name": "ipython",
    "version": 3
   },
   "file_extension": ".py",
   "mimetype": "text/x-python",
   "name": "python",
   "nbconvert_exporter": "python",
   "pygments_lexer": "ipython3",
   "version": "3.6.9"
  }
 },
 "nbformat": 4,
 "nbformat_minor": 5
}
