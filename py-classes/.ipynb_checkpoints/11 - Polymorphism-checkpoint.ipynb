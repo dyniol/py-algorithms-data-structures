{
 "cells": [
  {
   "cell_type": "markdown",
   "id": "f639115f",
   "metadata": {},
   "source": [
    "Polymorphism - The ability of an object to take on many forms"
   ]
  },
  {
   "cell_type": "code",
   "execution_count": 1,
   "id": "4257db8c",
   "metadata": {},
   "outputs": [],
   "source": [
    "class Hominidae():\n",
    "    \n",
    "    def communication(self):\n",
    "        print('They use auditory calls and visual cues.')\n",
    "        \n",
    "    def walk(self):\n",
    "        print('THey are knuckle-walkers, used to hang and swing from one tree to another')"
   ]
  },
  {
   "cell_type": "code",
   "execution_count": 5,
   "id": "4278843a",
   "metadata": {},
   "outputs": [],
   "source": [
    "class Human(Hominidae):\n",
    "    \n",
    "    def communication(self):\n",
    "        print('They use language to communicate')\n",
    "        \n",
    "    def walk(self):\n",
    "        print('They are bipeds.')"
   ]
  },
  {
   "cell_type": "code",
   "execution_count": 4,
   "id": "5212a258",
   "metadata": {},
   "outputs": [],
   "source": [
    "# different code definitions in the base class and in the derived class"
   ]
  },
  {
   "cell_type": "code",
   "execution_count": null,
   "id": "4371159f",
   "metadata": {},
   "outputs": [],
   "source": []
  },
  {
   "cell_type": "code",
   "execution_count": null,
   "id": "92406060",
   "metadata": {},
   "outputs": [],
   "source": []
  }
 ],
 "metadata": {
  "kernelspec": {
   "display_name": "Python 3",
   "language": "python",
   "name": "python3"
  },
  "language_info": {
   "codemirror_mode": {
    "name": "ipython",
    "version": 3
   },
   "file_extension": ".py",
   "mimetype": "text/x-python",
   "name": "python",
   "nbconvert_exporter": "python",
   "pygments_lexer": "ipython3",
   "version": "3.6.9"
  }
 },
 "nbformat": 4,
 "nbformat_minor": 5
}
