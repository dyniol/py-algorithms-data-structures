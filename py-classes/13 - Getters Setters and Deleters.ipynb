{
 "cells": [
  {
   "cell_type": "code",
   "execution_count": 1,
   "id": "aeb7b010",
   "metadata": {},
   "outputs": [],
   "source": [
    "class Wrestler:\n",
    "    \n",
    "    def __init__(self):\n",
    "        self.__name = ''\n",
    "        \n",
    "    def set_name(self, name):\n",
    "        self.__name = name\n",
    "        \n",
    "    def get_name(self):\n",
    "        return self.__name"
   ]
  },
  {
   "cell_type": "code",
   "execution_count": 2,
   "id": "380b473a",
   "metadata": {},
   "outputs": [],
   "source": [
    "w1 = Wrestler()"
   ]
  },
  {
   "cell_type": "code",
   "execution_count": 4,
   "id": "242ca270",
   "metadata": {},
   "outputs": [],
   "source": [
    "w1.set_name('Steve')"
   ]
  },
  {
   "cell_type": "code",
   "execution_count": 5,
   "id": "cf4d8402",
   "metadata": {},
   "outputs": [
    {
     "data": {
      "text/plain": [
       "'Steve'"
      ]
     },
     "execution_count": 5,
     "metadata": {},
     "output_type": "execute_result"
    }
   ],
   "source": [
    "w1.get_name()"
   ]
  },
  {
   "cell_type": "code",
   "execution_count": 6,
   "id": "8df5d80e",
   "metadata": {},
   "outputs": [
    {
     "ename": "AttributeError",
     "evalue": "'Wrestler' object has no attribute 'name'",
     "output_type": "error",
     "traceback": [
      "\u001b[0;31m---------------------------------------------------------------------------\u001b[0m",
      "\u001b[0;31mAttributeError\u001b[0m                            Traceback (most recent call last)",
      "\u001b[0;32m<ipython-input-6-de26a2e25956>\u001b[0m in \u001b[0;36m<module>\u001b[0;34m\u001b[0m\n\u001b[0;32m----> 1\u001b[0;31m \u001b[0mw1\u001b[0m\u001b[0;34m.\u001b[0m\u001b[0mname\u001b[0m\u001b[0;34m\u001b[0m\u001b[0;34m\u001b[0m\u001b[0m\n\u001b[0m",
      "\u001b[0;31mAttributeError\u001b[0m: 'Wrestler' object has no attribute 'name'"
     ]
    }
   ],
   "source": [
    "w1.name"
   ]
  },
  {
   "cell_type": "code",
   "execution_count": 7,
   "id": "abaa1677",
   "metadata": {},
   "outputs": [
    {
     "data": {
      "text/plain": [
       "{'_Wrestler__name': 'Steve'}"
      ]
     },
     "execution_count": 7,
     "metadata": {},
     "output_type": "execute_result"
    }
   ],
   "source": [
    "w1.__dict__"
   ]
  },
  {
   "cell_type": "code",
   "execution_count": 8,
   "id": "73210775",
   "metadata": {},
   "outputs": [
    {
     "data": {
      "text/plain": [
       "'Steve'"
      ]
     },
     "execution_count": 8,
     "metadata": {},
     "output_type": "execute_result"
    }
   ],
   "source": [
    "w1._Wrestler__name"
   ]
  },
  {
   "cell_type": "code",
   "execution_count": 13,
   "id": "032380bc",
   "metadata": {},
   "outputs": [],
   "source": [
    "class Wrestler:\n",
    "    \n",
    "    def __init__(self):\n",
    "        self.__name = ''\n",
    "        \n",
    "    def set_name(self, name):\n",
    "        print('setter method called')\n",
    "        self.__name = name\n",
    "        \n",
    "    def get_name(self):\n",
    "        print('getter method called')\n",
    "        return self.__name\n",
    "    \n",
    "    name = property(get_name, set_name)"
   ]
  },
  {
   "cell_type": "code",
   "execution_count": 14,
   "id": "8cdf91af",
   "metadata": {},
   "outputs": [],
   "source": [
    "w = Wrestler()"
   ]
  },
  {
   "cell_type": "code",
   "execution_count": 15,
   "id": "486c2424",
   "metadata": {},
   "outputs": [
    {
     "name": "stdout",
     "output_type": "stream",
     "text": [
      "setter method called\n"
     ]
    }
   ],
   "source": [
    "w.name = 'Kart'"
   ]
  },
  {
   "cell_type": "code",
   "execution_count": 16,
   "id": "b8abcda2",
   "metadata": {},
   "outputs": [
    {
     "name": "stdout",
     "output_type": "stream",
     "text": [
      "getter method called\n"
     ]
    },
    {
     "data": {
      "text/plain": [
       "'Kart'"
      ]
     },
     "execution_count": 16,
     "metadata": {},
     "output_type": "execute_result"
    }
   ],
   "source": [
    "w.name"
   ]
  },
  {
   "cell_type": "code",
   "execution_count": 18,
   "id": "fa225b1d",
   "metadata": {},
   "outputs": [],
   "source": [
    "class Wrestler:\n",
    "    \n",
    "    def __init__(self):\n",
    "        self.__name = ''\n",
    "        \n",
    "    def set_name(self, name):\n",
    "        print('setter method called')\n",
    "        self.__name = name\n",
    "        \n",
    "    def get_name(self):\n",
    "        print('getter method called')\n",
    "        return self.__name\n",
    "    \n",
    "    def del_name(self):\n",
    "        print('deleter method called')\n",
    "        \n",
    "        del self.__name\n",
    "    \n",
    "    name = property(get_name, set_name, del_name)"
   ]
  },
  {
   "cell_type": "code",
   "execution_count": 19,
   "id": "cd767f14",
   "metadata": {},
   "outputs": [],
   "source": [
    "w = Wrestler()"
   ]
  },
  {
   "cell_type": "code",
   "execution_count": 20,
   "id": "3bd77224",
   "metadata": {},
   "outputs": [
    {
     "name": "stdout",
     "output_type": "stream",
     "text": [
      "setter method called\n"
     ]
    }
   ],
   "source": [
    "w.name = 'Kane'"
   ]
  },
  {
   "cell_type": "code",
   "execution_count": 23,
   "id": "2e06b0e3",
   "metadata": {},
   "outputs": [
    {
     "name": "stdout",
     "output_type": "stream",
     "text": [
      "getter method called\n"
     ]
    },
    {
     "data": {
      "text/plain": [
       "'Kane'"
      ]
     },
     "execution_count": 23,
     "metadata": {},
     "output_type": "execute_result"
    }
   ],
   "source": [
    "w.name"
   ]
  },
  {
   "cell_type": "code",
   "execution_count": 24,
   "id": "4ef29657",
   "metadata": {},
   "outputs": [
    {
     "name": "stdout",
     "output_type": "stream",
     "text": [
      "deleter method called\n"
     ]
    }
   ],
   "source": [
    "del w.name"
   ]
  },
  {
   "cell_type": "code",
   "execution_count": 25,
   "id": "7fd7490a",
   "metadata": {},
   "outputs": [
    {
     "name": "stdout",
     "output_type": "stream",
     "text": [
      "getter method called\n"
     ]
    },
    {
     "ename": "AttributeError",
     "evalue": "'Wrestler' object has no attribute '_Wrestler__name'",
     "output_type": "error",
     "traceback": [
      "\u001b[0;31m---------------------------------------------------------------------------\u001b[0m",
      "\u001b[0;31mAttributeError\u001b[0m                            Traceback (most recent call last)",
      "\u001b[0;32m<ipython-input-25-df0c13a86467>\u001b[0m in \u001b[0;36m<module>\u001b[0;34m\u001b[0m\n\u001b[0;32m----> 1\u001b[0;31m \u001b[0mw\u001b[0m\u001b[0;34m.\u001b[0m\u001b[0mname\u001b[0m\u001b[0;34m\u001b[0m\u001b[0;34m\u001b[0m\u001b[0m\n\u001b[0m",
      "\u001b[0;32m<ipython-input-18-5b91d4f059a7>\u001b[0m in \u001b[0;36mget_name\u001b[0;34m(self)\u001b[0m\n\u001b[1;32m     10\u001b[0m     \u001b[0;32mdef\u001b[0m \u001b[0mget_name\u001b[0m\u001b[0;34m(\u001b[0m\u001b[0mself\u001b[0m\u001b[0;34m)\u001b[0m\u001b[0;34m:\u001b[0m\u001b[0;34m\u001b[0m\u001b[0;34m\u001b[0m\u001b[0m\n\u001b[1;32m     11\u001b[0m         \u001b[0mprint\u001b[0m\u001b[0;34m(\u001b[0m\u001b[0;34m'getter method called'\u001b[0m\u001b[0;34m)\u001b[0m\u001b[0;34m\u001b[0m\u001b[0;34m\u001b[0m\u001b[0m\n\u001b[0;32m---> 12\u001b[0;31m         \u001b[0;32mreturn\u001b[0m \u001b[0mself\u001b[0m\u001b[0;34m.\u001b[0m\u001b[0m__name\u001b[0m\u001b[0;34m\u001b[0m\u001b[0;34m\u001b[0m\u001b[0m\n\u001b[0m\u001b[1;32m     13\u001b[0m \u001b[0;34m\u001b[0m\u001b[0m\n\u001b[1;32m     14\u001b[0m     \u001b[0;32mdef\u001b[0m \u001b[0mdel_name\u001b[0m\u001b[0;34m(\u001b[0m\u001b[0mself\u001b[0m\u001b[0;34m)\u001b[0m\u001b[0;34m:\u001b[0m\u001b[0;34m\u001b[0m\u001b[0;34m\u001b[0m\u001b[0m\n",
      "\u001b[0;31mAttributeError\u001b[0m: 'Wrestler' object has no attribute '_Wrestler__name'"
     ]
    }
   ],
   "source": [
    "w.name"
   ]
  },
  {
   "cell_type": "code",
   "execution_count": 5,
   "id": "44282dce",
   "metadata": {},
   "outputs": [],
   "source": [
    "class Wrestler:\n",
    "    \n",
    "    def __init__(self, name):\n",
    "        self.__name = name\n",
    "    \n",
    "    @property    \n",
    "    def name(self):\n",
    "        print('getter method called')\n",
    "        return self.__name\n",
    "    \n",
    "    @name.setter\n",
    "    def name(self, value):\n",
    "        print('setter method called')\n",
    "        self.__name = value\n",
    "    \n",
    "    @name.deleter\n",
    "    def name(self):\n",
    "        print('deleter method called')\n",
    "        del self.__name"
   ]
  },
  {
   "cell_type": "code",
   "execution_count": 6,
   "id": "583d7ffa",
   "metadata": {},
   "outputs": [],
   "source": [
    "w = Wrestler('Adam')"
   ]
  },
  {
   "cell_type": "code",
   "execution_count": 7,
   "id": "49aaabe1",
   "metadata": {},
   "outputs": [
    {
     "name": "stdout",
     "output_type": "stream",
     "text": [
      "getter method called\n"
     ]
    },
    {
     "data": {
      "text/plain": [
       "'Adam'"
      ]
     },
     "execution_count": 7,
     "metadata": {},
     "output_type": "execute_result"
    }
   ],
   "source": [
    "w.name"
   ]
  },
  {
   "cell_type": "code",
   "execution_count": 8,
   "id": "f0d8892c",
   "metadata": {},
   "outputs": [
    {
     "name": "stdout",
     "output_type": "stream",
     "text": [
      "setter method called\n"
     ]
    }
   ],
   "source": [
    "w.name = 'John'"
   ]
  },
  {
   "cell_type": "code",
   "execution_count": 9,
   "id": "6fdcea2c",
   "metadata": {},
   "outputs": [
    {
     "name": "stdout",
     "output_type": "stream",
     "text": [
      "getter method called\n"
     ]
    },
    {
     "data": {
      "text/plain": [
       "'John'"
      ]
     },
     "execution_count": 9,
     "metadata": {},
     "output_type": "execute_result"
    }
   ],
   "source": [
    "w.name"
   ]
  },
  {
   "cell_type": "code",
   "execution_count": 10,
   "id": "3a9e9af8",
   "metadata": {},
   "outputs": [
    {
     "name": "stdout",
     "output_type": "stream",
     "text": [
      "deleter method called\n"
     ]
    }
   ],
   "source": [
    "del w.name"
   ]
  },
  {
   "cell_type": "code",
   "execution_count": 11,
   "id": "ed46efbf",
   "metadata": {},
   "outputs": [
    {
     "name": "stdout",
     "output_type": "stream",
     "text": [
      "getter method called\n"
     ]
    },
    {
     "ename": "AttributeError",
     "evalue": "'Wrestler' object has no attribute '_Wrestler__name'",
     "output_type": "error",
     "traceback": [
      "\u001b[0;31m---------------------------------------------------------------------------\u001b[0m",
      "\u001b[0;31mAttributeError\u001b[0m                            Traceback (most recent call last)",
      "\u001b[0;32m<ipython-input-11-df0c13a86467>\u001b[0m in \u001b[0;36m<module>\u001b[0;34m\u001b[0m\n\u001b[0;32m----> 1\u001b[0;31m \u001b[0mw\u001b[0m\u001b[0;34m.\u001b[0m\u001b[0mname\u001b[0m\u001b[0;34m\u001b[0m\u001b[0;34m\u001b[0m\u001b[0m\n\u001b[0m",
      "\u001b[0;32m<ipython-input-5-563628650908>\u001b[0m in \u001b[0;36mname\u001b[0;34m(self)\u001b[0m\n\u001b[1;32m      7\u001b[0m     \u001b[0;32mdef\u001b[0m \u001b[0mname\u001b[0m\u001b[0;34m(\u001b[0m\u001b[0mself\u001b[0m\u001b[0;34m)\u001b[0m\u001b[0;34m:\u001b[0m\u001b[0;34m\u001b[0m\u001b[0;34m\u001b[0m\u001b[0m\n\u001b[1;32m      8\u001b[0m         \u001b[0mprint\u001b[0m\u001b[0;34m(\u001b[0m\u001b[0;34m'getter method called'\u001b[0m\u001b[0;34m)\u001b[0m\u001b[0;34m\u001b[0m\u001b[0;34m\u001b[0m\u001b[0m\n\u001b[0;32m----> 9\u001b[0;31m         \u001b[0;32mreturn\u001b[0m \u001b[0mself\u001b[0m\u001b[0;34m.\u001b[0m\u001b[0m__name\u001b[0m\u001b[0;34m\u001b[0m\u001b[0;34m\u001b[0m\u001b[0m\n\u001b[0m\u001b[1;32m     10\u001b[0m \u001b[0;34m\u001b[0m\u001b[0m\n\u001b[1;32m     11\u001b[0m     \u001b[0;34m@\u001b[0m\u001b[0mname\u001b[0m\u001b[0;34m.\u001b[0m\u001b[0msetter\u001b[0m\u001b[0;34m\u001b[0m\u001b[0;34m\u001b[0m\u001b[0m\n",
      "\u001b[0;31mAttributeError\u001b[0m: 'Wrestler' object has no attribute '_Wrestler__name'"
     ]
    }
   ],
   "source": [
    "w.name"
   ]
  },
  {
   "cell_type": "code",
   "execution_count": 24,
   "id": "408bb749",
   "metadata": {},
   "outputs": [],
   "source": [
    "class Wrestler:\n",
    "    \n",
    "    def __init__(self, name, age):\n",
    "        self.__name = name\n",
    "        self.__age = age\n",
    "        \n",
    "    @property\n",
    "    def name(self):\n",
    "        print('name getter method called')\n",
    "        return self.__name\n",
    "    \n",
    "    @name.setter\n",
    "    def name(self, value):\n",
    "        print('name setter method called')\n",
    "        self.__name = value\n",
    "    \n",
    "    @name.deleter\n",
    "    def name(self):\n",
    "        print('name deleter method called')\n",
    "        del self.__name\n",
    "        \n",
    "    @property\n",
    "    def age(self):\n",
    "        print('age getter method called')\n",
    "        return self.__age    \n",
    " \n",
    "    @age.setter\n",
    "    def age(self, value):\n",
    "        print('age setter method called')\n",
    "        self.__age = value\n",
    "    \n",
    "    @age.deleter\n",
    "    def age(self):\n",
    "        print('age deleter method called')\n",
    "        del self.__age"
   ]
  },
  {
   "cell_type": "code",
   "execution_count": 25,
   "id": "632a4a2a",
   "metadata": {},
   "outputs": [],
   "source": [
    "w = Wrestler('Mark', 25)"
   ]
  },
  {
   "cell_type": "code",
   "execution_count": 26,
   "id": "a5fdc964",
   "metadata": {},
   "outputs": [
    {
     "name": "stdout",
     "output_type": "stream",
     "text": [
      "name getter method called\n"
     ]
    },
    {
     "data": {
      "text/plain": [
       "'Mark'"
      ]
     },
     "execution_count": 26,
     "metadata": {},
     "output_type": "execute_result"
    }
   ],
   "source": [
    "w.name"
   ]
  },
  {
   "cell_type": "code",
   "execution_count": 27,
   "id": "a7045973",
   "metadata": {},
   "outputs": [
    {
     "name": "stdout",
     "output_type": "stream",
     "text": [
      "name setter method called\n"
     ]
    }
   ],
   "source": [
    "w.name = 'Joe'"
   ]
  },
  {
   "cell_type": "code",
   "execution_count": 28,
   "id": "aa149fa3",
   "metadata": {},
   "outputs": [
    {
     "name": "stdout",
     "output_type": "stream",
     "text": [
      "name deleter method called\n"
     ]
    }
   ],
   "source": [
    "del w.name"
   ]
  },
  {
   "cell_type": "code",
   "execution_count": 23,
   "id": "1cc34680",
   "metadata": {},
   "outputs": [
    {
     "name": "stdout",
     "output_type": "stream",
     "text": [
      "age getter method called\n"
     ]
    },
    {
     "data": {
      "text/plain": [
       "25"
      ]
     },
     "execution_count": 23,
     "metadata": {},
     "output_type": "execute_result"
    }
   ],
   "source": [
    "w.age"
   ]
  },
  {
   "cell_type": "code",
   "execution_count": 29,
   "id": "726539e2",
   "metadata": {},
   "outputs": [
    {
     "name": "stdout",
     "output_type": "stream",
     "text": [
      "age setter method called\n"
     ]
    }
   ],
   "source": [
    "w.age = 26"
   ]
  },
  {
   "cell_type": "code",
   "execution_count": 30,
   "id": "9c90fab7",
   "metadata": {},
   "outputs": [
    {
     "name": "stdout",
     "output_type": "stream",
     "text": [
      "age deleter method called\n"
     ]
    }
   ],
   "source": [
    "del w.age"
   ]
  },
  {
   "cell_type": "code",
   "execution_count": null,
   "id": "fe0229da",
   "metadata": {},
   "outputs": [],
   "source": []
  }
 ],
 "metadata": {
  "kernelspec": {
   "display_name": "Python 3",
   "language": "python",
   "name": "python3"
  },
  "language_info": {
   "codemirror_mode": {
    "name": "ipython",
    "version": 3
   },
   "file_extension": ".py",
   "mimetype": "text/x-python",
   "name": "python",
   "nbconvert_exporter": "python",
   "pygments_lexer": "ipython3",
   "version": "3.6.9"
  }
 },
 "nbformat": 4,
 "nbformat_minor": 5
}
