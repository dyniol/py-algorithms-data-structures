{
 "cells": [
  {
   "cell_type": "code",
   "execution_count": 1,
   "id": "623ad827",
   "metadata": {},
   "outputs": [],
   "source": [
    "class Competition:\n",
    "    \n",
    "    __raise_amount = 1.10\n",
    "    \n",
    "    def __init__(self, name, prize):\n",
    "        self.__name = name\n",
    "        self.__prize = prize\n",
    "        \n",
    "    def get_name(self):\n",
    "        return self.__name\n",
    "    \n",
    "    def get_prize(self):\n",
    "        return self.__prize\n",
    "    \n",
    "    def raise_prize(self):\n",
    "        self.__prize = self.__prize * self.__raise_amount"
   ]
  },
  {
   "cell_type": "code",
   "execution_count": 2,
   "id": "679ba808",
   "metadata": {},
   "outputs": [
    {
     "data": {
      "text/plain": [
       "__main__.Competition"
      ]
     },
     "execution_count": 2,
     "metadata": {},
     "output_type": "execute_result"
    }
   ],
   "source": [
    "race = Competition('Race', 100)\n",
    "\n",
    "type(race)"
   ]
  },
  {
   "cell_type": "code",
   "execution_count": 3,
   "id": "c3116938",
   "metadata": {},
   "outputs": [
    {
     "name": "stdout",
     "output_type": "stream",
     "text": [
      "Help on class Competition in module __main__:\n",
      "\n",
      "class Competition(builtins.object)\n",
      " |  Methods defined here:\n",
      " |  \n",
      " |  __init__(self, name, prize)\n",
      " |      Initialize self.  See help(type(self)) for accurate signature.\n",
      " |  \n",
      " |  get_name(self)\n",
      " |  \n",
      " |  get_prize(self)\n",
      " |  \n",
      " |  raise_prize(self)\n",
      " |  \n",
      " |  ----------------------------------------------------------------------\n",
      " |  Data descriptors defined here:\n",
      " |  \n",
      " |  __dict__\n",
      " |      dictionary for instance variables (if defined)\n",
      " |  \n",
      " |  __weakref__\n",
      " |      list of weak references to the object (if defined)\n",
      "\n"
     ]
    }
   ],
   "source": [
    "help(Competition)"
   ]
  },
  {
   "cell_type": "code",
   "execution_count": 4,
   "id": "caf0acfa",
   "metadata": {},
   "outputs": [
    {
     "data": {
      "text/plain": [
       "mappingproxy({'__module__': '__main__',\n",
       "              '_Competition__raise_amount': 1.1,\n",
       "              '__init__': <function __main__.Competition.__init__(self, name, prize)>,\n",
       "              'get_name': <function __main__.Competition.get_name(self)>,\n",
       "              'get_prize': <function __main__.Competition.get_prize(self)>,\n",
       "              'raise_prize': <function __main__.Competition.raise_prize(self)>,\n",
       "              '__dict__': <attribute '__dict__' of 'Competition' objects>,\n",
       "              '__weakref__': <attribute '__weakref__' of 'Competition' objects>,\n",
       "              '__doc__': None})"
      ]
     },
     "execution_count": 4,
     "metadata": {},
     "output_type": "execute_result"
    }
   ],
   "source": [
    "Competition.__dict__"
   ]
  },
  {
   "cell_type": "code",
   "execution_count": 5,
   "id": "82d4e00c",
   "metadata": {},
   "outputs": [],
   "source": [
    "class Sprint(Competition):\n",
    "    pass"
   ]
  },
  {
   "cell_type": "code",
   "execution_count": 6,
   "id": "7a2854d6",
   "metadata": {},
   "outputs": [
    {
     "name": "stdout",
     "output_type": "stream",
     "text": [
      "Help on class Sprint in module __main__:\n",
      "\n",
      "class Sprint(Competition)\n",
      " |  Method resolution order:\n",
      " |      Sprint\n",
      " |      Competition\n",
      " |      builtins.object\n",
      " |  \n",
      " |  Methods inherited from Competition:\n",
      " |  \n",
      " |  __init__(self, name, prize)\n",
      " |      Initialize self.  See help(type(self)) for accurate signature.\n",
      " |  \n",
      " |  get_name(self)\n",
      " |  \n",
      " |  get_prize(self)\n",
      " |  \n",
      " |  raise_prize(self)\n",
      " |  \n",
      " |  ----------------------------------------------------------------------\n",
      " |  Data descriptors inherited from Competition:\n",
      " |  \n",
      " |  __dict__\n",
      " |      dictionary for instance variables (if defined)\n",
      " |  \n",
      " |  __weakref__\n",
      " |      list of weak references to the object (if defined)\n",
      "\n"
     ]
    }
   ],
   "source": [
    "help(Sprint)"
   ]
  },
  {
   "cell_type": "code",
   "execution_count": 7,
   "id": "2214aac8",
   "metadata": {},
   "outputs": [
    {
     "data": {
      "text/plain": [
       "mappingproxy({'__module__': '__main__',\n",
       "              '_Competition__raise_amount': 1.1,\n",
       "              '__init__': <function __main__.Competition.__init__(self, name, prize)>,\n",
       "              'get_name': <function __main__.Competition.get_name(self)>,\n",
       "              'get_prize': <function __main__.Competition.get_prize(self)>,\n",
       "              'raise_prize': <function __main__.Competition.raise_prize(self)>,\n",
       "              '__dict__': <attribute '__dict__' of 'Competition' objects>,\n",
       "              '__weakref__': <attribute '__weakref__' of 'Competition' objects>,\n",
       "              '__doc__': None})"
      ]
     },
     "execution_count": 7,
     "metadata": {},
     "output_type": "execute_result"
    }
   ],
   "source": [
    "Competition.__dict__"
   ]
  },
  {
   "cell_type": "code",
   "execution_count": 8,
   "id": "cee6c2bc",
   "metadata": {},
   "outputs": [
    {
     "data": {
      "text/plain": [
       "mappingproxy({'__module__': '__main__', '__doc__': None})"
      ]
     },
     "execution_count": 8,
     "metadata": {},
     "output_type": "execute_result"
    }
   ],
   "source": [
    "Sprint.__dict__"
   ]
  },
  {
   "cell_type": "code",
   "execution_count": 9,
   "id": "14044ee6",
   "metadata": {},
   "outputs": [
    {
     "data": {
      "text/plain": [
       "__main__.Sprint"
      ]
     },
     "execution_count": 9,
     "metadata": {},
     "output_type": "execute_result"
    }
   ],
   "source": [
    "sprint = Sprint('100m', 700)\n",
    "\n",
    "type(sprint)"
   ]
  },
  {
   "cell_type": "code",
   "execution_count": 10,
   "id": "dc883259",
   "metadata": {},
   "outputs": [
    {
     "data": {
      "text/plain": [
       "{'_Competition__name': '100m', '_Competition__prize': 700}"
      ]
     },
     "execution_count": 10,
     "metadata": {},
     "output_type": "execute_result"
    }
   ],
   "source": [
    "sprint.__dict__"
   ]
  },
  {
   "cell_type": "code",
   "execution_count": 11,
   "id": "15980f02",
   "metadata": {},
   "outputs": [
    {
     "data": {
      "text/plain": [
       "('100m', 700)"
      ]
     },
     "execution_count": 11,
     "metadata": {},
     "output_type": "execute_result"
    }
   ],
   "source": [
    "sprint.get_name(), sprint.get_prize()"
   ]
  },
  {
   "cell_type": "code",
   "execution_count": 12,
   "id": "4e311c7a",
   "metadata": {},
   "outputs": [
    {
     "data": {
      "text/plain": [
       "770.0000000000001"
      ]
     },
     "execution_count": 12,
     "metadata": {},
     "output_type": "execute_result"
    }
   ],
   "source": [
    "sprint.raise_prize()\n",
    "\n",
    "sprint.get_prize()"
   ]
  },
  {
   "cell_type": "code",
   "execution_count": 13,
   "id": "f7b69e33",
   "metadata": {},
   "outputs": [],
   "source": [
    "chess = Competition('Chess', 1000)"
   ]
  },
  {
   "cell_type": "code",
   "execution_count": 14,
   "id": "fec66b28",
   "metadata": {},
   "outputs": [
    {
     "data": {
      "text/plain": [
       "1000"
      ]
     },
     "execution_count": 14,
     "metadata": {},
     "output_type": "execute_result"
    }
   ],
   "source": [
    "chess.get_prize()"
   ]
  },
  {
   "cell_type": "code",
   "execution_count": 15,
   "id": "e3cfe70e",
   "metadata": {},
   "outputs": [
    {
     "data": {
      "text/plain": [
       "1100.0"
      ]
     },
     "execution_count": 15,
     "metadata": {},
     "output_type": "execute_result"
    }
   ],
   "source": [
    "chess.raise_prize()\n",
    "\n",
    "chess.get_prize()"
   ]
  },
  {
   "cell_type": "code",
   "execution_count": 16,
   "id": "f43a3afc",
   "metadata": {},
   "outputs": [],
   "source": [
    "class Cycling(Competition):\n",
    "    \n",
    "    def __init__(self, name, prize, country):\n",
    "        super().__init__(name, prize)\n",
    "        \n",
    "        self.__country = country\n",
    "        \n",
    "    def get_country(self):\n",
    "        \n",
    "        return self.__country"
   ]
  },
  {
   "cell_type": "code",
   "execution_count": 17,
   "id": "00e70545",
   "metadata": {},
   "outputs": [],
   "source": [
    "cycling = Cycling('10km', 7500, 'USA')"
   ]
  },
  {
   "cell_type": "code",
   "execution_count": 19,
   "id": "919732a2",
   "metadata": {},
   "outputs": [
    {
     "data": {
      "text/plain": [
       "'USA'"
      ]
     },
     "execution_count": 19,
     "metadata": {},
     "output_type": "execute_result"
    }
   ],
   "source": [
    "cycling.get_country()"
   ]
  },
  {
   "cell_type": "code",
   "execution_count": 20,
   "id": "289e46e8",
   "metadata": {},
   "outputs": [
    {
     "data": {
      "text/plain": [
       "('10km', 7500)"
      ]
     },
     "execution_count": 20,
     "metadata": {},
     "output_type": "execute_result"
    }
   ],
   "source": [
    "cycling.get_name(), cycling.get_prize()"
   ]
  },
  {
   "cell_type": "code",
   "execution_count": null,
   "id": "5fe95c71",
   "metadata": {},
   "outputs": [],
   "source": []
  }
 ],
 "metadata": {
  "kernelspec": {
   "display_name": "Python 3",
   "language": "python",
   "name": "python3"
  },
  "language_info": {
   "codemirror_mode": {
    "name": "ipython",
    "version": 3
   },
   "file_extension": ".py",
   "mimetype": "text/x-python",
   "name": "python",
   "nbconvert_exporter": "python",
   "pygments_lexer": "ipython3",
   "version": "3.6.9"
  }
 },
 "nbformat": 4,
 "nbformat_minor": 5
}
