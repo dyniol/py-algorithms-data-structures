{
 "cells": [
  {
   "cell_type": "code",
   "execution_count": 1,
   "id": "7168f481",
   "metadata": {},
   "outputs": [],
   "source": [
    "class Competition:\n",
    "    \n",
    "    def __init__(self, name, prize):\n",
    "        \n",
    "        self.name = name\n",
    "        self.prize = prize\n",
    "        self.participants = [] # this is an instance variable"
   ]
  },
  {
   "cell_type": "code",
   "execution_count": 2,
   "id": "c950f9a7",
   "metadata": {},
   "outputs": [
    {
     "data": {
      "text/plain": [
       "[]"
      ]
     },
     "execution_count": 2,
     "metadata": {},
     "output_type": "execute_result"
    }
   ],
   "source": [
    "debate = Competition('Debate', 500)\n",
    "\n",
    "debate.participants"
   ]
  },
  {
   "cell_type": "code",
   "execution_count": 3,
   "id": "1abe3b44",
   "metadata": {},
   "outputs": [
    {
     "ename": "AttributeError",
     "evalue": "type object 'Competition' has no attribute 'participants'",
     "output_type": "error",
     "traceback": [
      "\u001b[0;31m---------------------------------------------------------------------------\u001b[0m",
      "\u001b[0;31mAttributeError\u001b[0m                            Traceback (most recent call last)",
      "\u001b[0;32m<ipython-input-3-ea531b615844>\u001b[0m in \u001b[0;36m<module>\u001b[0;34m\u001b[0m\n\u001b[0;32m----> 1\u001b[0;31m \u001b[0mCompetition\u001b[0m\u001b[0;34m.\u001b[0m\u001b[0mparticipants\u001b[0m\u001b[0;34m\u001b[0m\u001b[0;34m\u001b[0m\u001b[0m\n\u001b[0m",
      "\u001b[0;31mAttributeError\u001b[0m: type object 'Competition' has no attribute 'participants'"
     ]
    }
   ],
   "source": [
    "Competition.participants"
   ]
  },
  {
   "cell_type": "code",
   "execution_count": 4,
   "id": "a32431ce",
   "metadata": {},
   "outputs": [
    {
     "data": {
      "text/plain": [
       "['Alice']"
      ]
     },
     "execution_count": 4,
     "metadata": {},
     "output_type": "execute_result"
    }
   ],
   "source": [
    "debate.participants.append('Alice')\n",
    "\n",
    "debate.participants"
   ]
  },
  {
   "cell_type": "code",
   "execution_count": 5,
   "id": "040dd21f",
   "metadata": {},
   "outputs": [
    {
     "data": {
      "text/plain": [
       "[]"
      ]
     },
     "execution_count": 5,
     "metadata": {},
     "output_type": "execute_result"
    }
   ],
   "source": [
    "essay = Competition('Essay', 456)\n",
    "\n",
    "essay.participants"
   ]
  },
  {
   "cell_type": "code",
   "execution_count": 6,
   "id": "4e2a58e3",
   "metadata": {},
   "outputs": [
    {
     "data": {
      "text/plain": [
       "['Michael']"
      ]
     },
     "execution_count": 6,
     "metadata": {},
     "output_type": "execute_result"
    }
   ],
   "source": [
    "essay.participants.append('Michael')\n",
    "\n",
    "essay.participants"
   ]
  },
  {
   "cell_type": "code",
   "execution_count": 7,
   "id": "5ce9176e",
   "metadata": {},
   "outputs": [
    {
     "data": {
      "text/plain": [
       "['Alice']"
      ]
     },
     "execution_count": 7,
     "metadata": {},
     "output_type": "execute_result"
    }
   ],
   "source": [
    "debate.participants"
   ]
  },
  {
   "cell_type": "code",
   "execution_count": 8,
   "id": "2c0a97b6",
   "metadata": {},
   "outputs": [
    {
     "data": {
      "text/plain": [
       "['Alice', 'Lily']"
      ]
     },
     "execution_count": 8,
     "metadata": {},
     "output_type": "execute_result"
    }
   ],
   "source": [
    "debate.participants.append('Lily')\n",
    "\n",
    "debate.participants"
   ]
  },
  {
   "cell_type": "code",
   "execution_count": 9,
   "id": "4b20d762",
   "metadata": {},
   "outputs": [
    {
     "data": {
      "text/plain": [
       "['Michael']"
      ]
     },
     "execution_count": 9,
     "metadata": {},
     "output_type": "execute_result"
    }
   ],
   "source": [
    "essay.participants"
   ]
  },
  {
   "cell_type": "code",
   "execution_count": 10,
   "id": "6d7b8afb",
   "metadata": {},
   "outputs": [
    {
     "data": {
      "text/plain": [
       "mappingproxy({'__module__': '__main__',\n",
       "              '__init__': <function __main__.Competition.__init__(self, name, prize)>,\n",
       "              '__dict__': <attribute '__dict__' of 'Competition' objects>,\n",
       "              '__weakref__': <attribute '__weakref__' of 'Competition' objects>,\n",
       "              '__doc__': None})"
      ]
     },
     "execution_count": 10,
     "metadata": {},
     "output_type": "execute_result"
    }
   ],
   "source": [
    "Competition.__dict__ # we dont see self.participants here"
   ]
  },
  {
   "cell_type": "code",
   "execution_count": 11,
   "id": "e7dc4783",
   "metadata": {},
   "outputs": [
    {
     "data": {
      "text/plain": [
       "{'name': 'Debate', 'prize': 500, 'participants': ['Alice', 'Lily']}"
      ]
     },
     "execution_count": 11,
     "metadata": {},
     "output_type": "execute_result"
    }
   ],
   "source": [
    "debate.__dict__"
   ]
  },
  {
   "cell_type": "code",
   "execution_count": 12,
   "id": "ba3ece13",
   "metadata": {},
   "outputs": [
    {
     "data": {
      "text/plain": [
       "{'name': 'Essay', 'prize': 456, 'participants': ['Michael']}"
      ]
     },
     "execution_count": 12,
     "metadata": {},
     "output_type": "execute_result"
    }
   ],
   "source": [
    "essay.__dict__"
   ]
  },
  {
   "cell_type": "code",
   "execution_count": null,
   "id": "ff1e594c",
   "metadata": {},
   "outputs": [],
   "source": []
  }
 ],
 "metadata": {
  "kernelspec": {
   "display_name": "Python 3",
   "language": "python",
   "name": "python3"
  },
  "language_info": {
   "codemirror_mode": {
    "name": "ipython",
    "version": 3
   },
   "file_extension": ".py",
   "mimetype": "text/x-python",
   "name": "python",
   "nbconvert_exporter": "python",
   "pygments_lexer": "ipython3",
   "version": "3.6.9"
  }
 },
 "nbformat": 4,
 "nbformat_minor": 5
}
