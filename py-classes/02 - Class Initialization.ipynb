{
 "cells": [
  {
   "cell_type": "code",
   "execution_count": 1,
   "id": "c120ab3e",
   "metadata": {},
   "outputs": [],
   "source": [
    "class Student:\n",
    "    \n",
    "    def __init__(self):\n",
    "        \n",
    "        print('Initialize called!')"
   ]
  },
  {
   "cell_type": "code",
   "execution_count": 3,
   "id": "11eabb3c",
   "metadata": {},
   "outputs": [
    {
     "name": "stdout",
     "output_type": "stream",
     "text": [
      "Initialize called!\n"
     ]
    }
   ],
   "source": [
    "s1 = Student()"
   ]
  },
  {
   "cell_type": "code",
   "execution_count": 4,
   "id": "b6dc26e3",
   "metadata": {},
   "outputs": [
    {
     "name": "stdout",
     "output_type": "stream",
     "text": [
      "Initialize called!\n",
      "Initialize called!\n"
     ]
    }
   ],
   "source": [
    "s2 = Student()\n",
    "\n",
    "s3 = Student()"
   ]
  },
  {
   "cell_type": "code",
   "execution_count": 5,
   "id": "e1470e2e",
   "metadata": {},
   "outputs": [],
   "source": [
    "class Student:\n",
    "    \n",
    "    def __init__(): #class need to has 1 positional argument, casue python calls it on \"self\"\n",
    "        \n",
    "        print('Initialize called!')"
   ]
  },
  {
   "cell_type": "code",
   "execution_count": 6,
   "id": "4c082be1",
   "metadata": {},
   "outputs": [
    {
     "ename": "TypeError",
     "evalue": "__init__() takes 0 positional arguments but 1 was given",
     "output_type": "error",
     "traceback": [
      "\u001b[0;31m---------------------------------------------------------------------------\u001b[0m",
      "\u001b[0;31mTypeError\u001b[0m                                 Traceback (most recent call last)",
      "\u001b[0;32m<ipython-input-6-906bfe3cbabc>\u001b[0m in \u001b[0;36m<module>\u001b[0;34m\u001b[0m\n\u001b[0;32m----> 1\u001b[0;31m \u001b[0ms1\u001b[0m \u001b[0;34m=\u001b[0m \u001b[0mStudent\u001b[0m\u001b[0;34m(\u001b[0m\u001b[0;34m)\u001b[0m\u001b[0;34m\u001b[0m\u001b[0;34m\u001b[0m\u001b[0m\n\u001b[0m",
      "\u001b[0;31mTypeError\u001b[0m: __init__() takes 0 positional arguments but 1 was given"
     ]
    }
   ],
   "source": [
    "s1 = Student()"
   ]
  },
  {
   "cell_type": "code",
   "execution_count": 7,
   "id": "2ef68364",
   "metadata": {},
   "outputs": [],
   "source": [
    "class Student:\n",
    "    \n",
    "    def __init__(boo): # it doesn't matter what is a name of a argument, in this example it can be \"boo\"\n",
    "                       # but standard practie is to call it \"self\"\n",
    "        print('Initialize called!')"
   ]
  },
  {
   "cell_type": "code",
   "execution_count": 8,
   "id": "4521b047",
   "metadata": {},
   "outputs": [
    {
     "name": "stdout",
     "output_type": "stream",
     "text": [
      "Initialize called!\n"
     ]
    }
   ],
   "source": [
    "s1 = Student()"
   ]
  },
  {
   "cell_type": "code",
   "execution_count": null,
   "id": "d82c7505",
   "metadata": {},
   "outputs": [],
   "source": []
  },
  {
   "cell_type": "code",
   "execution_count": 9,
   "id": "8e39bc5e",
   "metadata": {},
   "outputs": [],
   "source": [
    "class Student:\n",
    "    \n",
    "    def __init__(self, name):\n",
    "        \n",
    "        self.name = name\n",
    "        \n",
    "        self.mail = name + '.' + '@xyz.com'"
   ]
  },
  {
   "cell_type": "code",
   "execution_count": 10,
   "id": "8a54d0e0",
   "metadata": {},
   "outputs": [
    {
     "ename": "TypeError",
     "evalue": "__init__() missing 1 required positional argument: 'name'",
     "output_type": "error",
     "traceback": [
      "\u001b[0;31m---------------------------------------------------------------------------\u001b[0m",
      "\u001b[0;31mTypeError\u001b[0m                                 Traceback (most recent call last)",
      "\u001b[0;32m<ipython-input-10-906bfe3cbabc>\u001b[0m in \u001b[0;36m<module>\u001b[0;34m\u001b[0m\n\u001b[0;32m----> 1\u001b[0;31m \u001b[0ms1\u001b[0m \u001b[0;34m=\u001b[0m \u001b[0mStudent\u001b[0m\u001b[0;34m(\u001b[0m\u001b[0;34m)\u001b[0m\u001b[0;34m\u001b[0m\u001b[0;34m\u001b[0m\u001b[0m\n\u001b[0m",
      "\u001b[0;31mTypeError\u001b[0m: __init__() missing 1 required positional argument: 'name'"
     ]
    }
   ],
   "source": [
    "s1 = Student()"
   ]
  },
  {
   "cell_type": "code",
   "execution_count": 11,
   "id": "7adee9d6",
   "metadata": {},
   "outputs": [],
   "source": [
    "s1 = Student('Michel')"
   ]
  },
  {
   "cell_type": "code",
   "execution_count": 12,
   "id": "3575dc4f",
   "metadata": {},
   "outputs": [
    {
     "ename": "TypeError",
     "evalue": "__init__() takes 2 positional arguments but 3 were given",
     "output_type": "error",
     "traceback": [
      "\u001b[0;31m---------------------------------------------------------------------------\u001b[0m",
      "\u001b[0;31mTypeError\u001b[0m                                 Traceback (most recent call last)",
      "\u001b[0;32m<ipython-input-12-2d44b10c8c7e>\u001b[0m in \u001b[0;36m<module>\u001b[0;34m\u001b[0m\n\u001b[0;32m----> 1\u001b[0;31m \u001b[0ms1\u001b[0m \u001b[0;34m=\u001b[0m \u001b[0mStudent\u001b[0m\u001b[0;34m(\u001b[0m\u001b[0;34m'Michel'\u001b[0m\u001b[0;34m,\u001b[0m \u001b[0;34m'Michel@xyz.com'\u001b[0m\u001b[0;34m)\u001b[0m\u001b[0;34m\u001b[0m\u001b[0;34m\u001b[0m\u001b[0m\n\u001b[0m",
      "\u001b[0;31mTypeError\u001b[0m: __init__() takes 2 positional arguments but 3 were given"
     ]
    }
   ],
   "source": [
    "s1 = Student('Michel', 'Michel@xyz.com')"
   ]
  },
  {
   "cell_type": "code",
   "execution_count": 13,
   "id": "a66e4bec",
   "metadata": {},
   "outputs": [
    {
     "name": "stdout",
     "output_type": "stream",
     "text": [
      "<__main__.Student object at 0x7f6f6fe52c88>\n"
     ]
    }
   ],
   "source": [
    "print(s1)"
   ]
  },
  {
   "cell_type": "code",
   "execution_count": 14,
   "id": "8277de92",
   "metadata": {},
   "outputs": [
    {
     "data": {
      "text/plain": [
       "'Michel'"
      ]
     },
     "execution_count": 14,
     "metadata": {},
     "output_type": "execute_result"
    }
   ],
   "source": [
    "s1.name"
   ]
  },
  {
   "cell_type": "code",
   "execution_count": 16,
   "id": "3c0b207a",
   "metadata": {},
   "outputs": [
    {
     "data": {
      "text/plain": [
       "'Michel.@xyz.com'"
      ]
     },
     "execution_count": 16,
     "metadata": {},
     "output_type": "execute_result"
    }
   ],
   "source": [
    "s1.mail"
   ]
  },
  {
   "cell_type": "code",
   "execution_count": 17,
   "id": "46cf0ff3",
   "metadata": {},
   "outputs": [],
   "source": [
    "s2 = Student('Chad')"
   ]
  },
  {
   "cell_type": "code",
   "execution_count": 18,
   "id": "96788842",
   "metadata": {},
   "outputs": [
    {
     "data": {
      "text/plain": [
       "('Chad', 'Chad.@xyz.com')"
      ]
     },
     "execution_count": 18,
     "metadata": {},
     "output_type": "execute_result"
    }
   ],
   "source": [
    "s2.name, s2.mail"
   ]
  },
  {
   "cell_type": "code",
   "execution_count": 19,
   "id": "2306c5d7",
   "metadata": {},
   "outputs": [
    {
     "data": {
      "text/plain": [
       "('Michael', 'Michel.@xyz.com')"
      ]
     },
     "execution_count": 19,
     "metadata": {},
     "output_type": "execute_result"
    }
   ],
   "source": [
    "s1.name = \"Michael\"\n",
    "\n",
    "s1.name, s1.mail"
   ]
  },
  {
   "cell_type": "code",
   "execution_count": null,
   "id": "3f1b9414",
   "metadata": {},
   "outputs": [],
   "source": []
  },
  {
   "cell_type": "code",
   "execution_count": 20,
   "id": "151fa6bb",
   "metadata": {},
   "outputs": [],
   "source": [
    "class Student:\n",
    "    \n",
    "    def __init__(self, first, last):\n",
    "        \n",
    "        self.first = first\n",
    "        \n",
    "        self.last = last\n",
    "        \n",
    "        self.mail = first + '.' + last + '@xyz.com'\n",
    "        \n",
    "    def fullname(self):\n",
    "        \n",
    "        return '{} {}'.format(self.first, self.last)"
   ]
  },
  {
   "cell_type": "code",
   "execution_count": 21,
   "id": "cd7a8e6e",
   "metadata": {},
   "outputs": [],
   "source": [
    "s1 = Student('Rodrigo', 'Joseph')"
   ]
  },
  {
   "cell_type": "code",
   "execution_count": 22,
   "id": "8eaff4aa",
   "metadata": {},
   "outputs": [
    {
     "name": "stdout",
     "output_type": "stream",
     "text": [
      "Rodrigo Joseph\n"
     ]
    }
   ],
   "source": [
    "print(s1.fullname())"
   ]
  },
  {
   "cell_type": "code",
   "execution_count": 23,
   "id": "67aa280d",
   "metadata": {},
   "outputs": [
    {
     "data": {
      "text/plain": [
       "<bound method Student.fullname of <__main__.Student object at 0x7f6f6f8f89e8>>"
      ]
     },
     "execution_count": 23,
     "metadata": {},
     "output_type": "execute_result"
    }
   ],
   "source": [
    "s1.fullname"
   ]
  },
  {
   "cell_type": "code",
   "execution_count": 24,
   "id": "e72699ae",
   "metadata": {},
   "outputs": [],
   "source": [
    "s2 = Student('Anthony', 'Hopkins')"
   ]
  },
  {
   "cell_type": "code",
   "execution_count": 25,
   "id": "4e490334",
   "metadata": {},
   "outputs": [
    {
     "name": "stdout",
     "output_type": "stream",
     "text": [
      "Anthony Hopkins\n"
     ]
    }
   ],
   "source": [
    "print(s2.fullname())"
   ]
  },
  {
   "cell_type": "code",
   "execution_count": 26,
   "id": "8e8aa88b",
   "metadata": {},
   "outputs": [
    {
     "data": {
      "text/plain": [
       "'Anthony Hopkins'"
      ]
     },
     "execution_count": 26,
     "metadata": {},
     "output_type": "execute_result"
    }
   ],
   "source": [
    "Student.fullname(s2)"
   ]
  },
  {
   "cell_type": "code",
   "execution_count": 27,
   "id": "dfe46463",
   "metadata": {},
   "outputs": [
    {
     "data": {
      "text/plain": [
       "'Rodrigo Joseph'"
      ]
     },
     "execution_count": 27,
     "metadata": {},
     "output_type": "execute_result"
    }
   ],
   "source": [
    "Student.fullname(s1)"
   ]
  },
  {
   "cell_type": "code",
   "execution_count": 28,
   "id": "a4bd5d14",
   "metadata": {},
   "outputs": [],
   "source": [
    "s3 = Student('James', 'Miller')"
   ]
  },
  {
   "cell_type": "code",
   "execution_count": 29,
   "id": "7a14cbc3",
   "metadata": {},
   "outputs": [
    {
     "data": {
      "text/plain": [
       "'James'"
      ]
     },
     "execution_count": 29,
     "metadata": {},
     "output_type": "execute_result"
    }
   ],
   "source": [
    "s3.first"
   ]
  },
  {
   "cell_type": "code",
   "execution_count": 30,
   "id": "b890045a",
   "metadata": {},
   "outputs": [],
   "source": [
    "del s3.first"
   ]
  },
  {
   "cell_type": "code",
   "execution_count": 31,
   "id": "40a5314f",
   "metadata": {},
   "outputs": [
    {
     "ename": "AttributeError",
     "evalue": "'Student' object has no attribute 'first'",
     "output_type": "error",
     "traceback": [
      "\u001b[0;31m---------------------------------------------------------------------------\u001b[0m",
      "\u001b[0;31mAttributeError\u001b[0m                            Traceback (most recent call last)",
      "\u001b[0;32m<ipython-input-31-4f98b3eb131d>\u001b[0m in \u001b[0;36m<module>\u001b[0;34m\u001b[0m\n\u001b[0;32m----> 1\u001b[0;31m \u001b[0mprint\u001b[0m\u001b[0;34m(\u001b[0m\u001b[0ms3\u001b[0m\u001b[0;34m.\u001b[0m\u001b[0mfirst\u001b[0m\u001b[0;34m)\u001b[0m\u001b[0;34m\u001b[0m\u001b[0;34m\u001b[0m\u001b[0m\n\u001b[0m",
      "\u001b[0;31mAttributeError\u001b[0m: 'Student' object has no attribute 'first'"
     ]
    }
   ],
   "source": [
    "print(s3.first)"
   ]
  },
  {
   "cell_type": "code",
   "execution_count": 32,
   "id": "5028c364",
   "metadata": {},
   "outputs": [
    {
     "name": "stdout",
     "output_type": "stream",
     "text": [
      "Miller\n"
     ]
    }
   ],
   "source": [
    "print(s3.last)"
   ]
  },
  {
   "cell_type": "code",
   "execution_count": 33,
   "id": "26a0b33d",
   "metadata": {},
   "outputs": [
    {
     "ename": "AttributeError",
     "evalue": "'Student' object has no attribute 'first'",
     "output_type": "error",
     "traceback": [
      "\u001b[0;31m---------------------------------------------------------------------------\u001b[0m",
      "\u001b[0;31mAttributeError\u001b[0m                            Traceback (most recent call last)",
      "\u001b[0;32m<ipython-input-33-49e08ad8114f>\u001b[0m in \u001b[0;36m<module>\u001b[0;34m\u001b[0m\n\u001b[0;32m----> 1\u001b[0;31m \u001b[0mprint\u001b[0m\u001b[0;34m(\u001b[0m\u001b[0ms3\u001b[0m\u001b[0;34m.\u001b[0m\u001b[0mfullname\u001b[0m\u001b[0;34m(\u001b[0m\u001b[0;34m)\u001b[0m\u001b[0;34m)\u001b[0m\u001b[0;34m\u001b[0m\u001b[0;34m\u001b[0m\u001b[0m\n\u001b[0m",
      "\u001b[0;32m<ipython-input-20-3692cf1be3b0>\u001b[0m in \u001b[0;36mfullname\u001b[0;34m(self)\u001b[0m\n\u001b[1;32m     11\u001b[0m     \u001b[0;32mdef\u001b[0m \u001b[0mfullname\u001b[0m\u001b[0;34m(\u001b[0m\u001b[0mself\u001b[0m\u001b[0;34m)\u001b[0m\u001b[0;34m:\u001b[0m\u001b[0;34m\u001b[0m\u001b[0;34m\u001b[0m\u001b[0m\n\u001b[1;32m     12\u001b[0m \u001b[0;34m\u001b[0m\u001b[0m\n\u001b[0;32m---> 13\u001b[0;31m         \u001b[0;32mreturn\u001b[0m \u001b[0;34m'{} {}'\u001b[0m\u001b[0;34m.\u001b[0m\u001b[0mformat\u001b[0m\u001b[0;34m(\u001b[0m\u001b[0mself\u001b[0m\u001b[0;34m.\u001b[0m\u001b[0mfirst\u001b[0m\u001b[0;34m,\u001b[0m \u001b[0mself\u001b[0m\u001b[0;34m.\u001b[0m\u001b[0mlast\u001b[0m\u001b[0;34m)\u001b[0m\u001b[0;34m\u001b[0m\u001b[0;34m\u001b[0m\u001b[0m\n\u001b[0m",
      "\u001b[0;31mAttributeError\u001b[0m: 'Student' object has no attribute 'first'"
     ]
    }
   ],
   "source": [
    "print(s3.fullname())"
   ]
  },
  {
   "cell_type": "code",
   "execution_count": 34,
   "id": "860b9309",
   "metadata": {},
   "outputs": [
    {
     "data": {
      "text/plain": [
       "'Anthony Hopkins'"
      ]
     },
     "execution_count": 34,
     "metadata": {},
     "output_type": "execute_result"
    }
   ],
   "source": [
    "s2.fullname()"
   ]
  },
  {
   "cell_type": "code",
   "execution_count": 35,
   "id": "fbb0484f",
   "metadata": {},
   "outputs": [],
   "source": [
    "del s3"
   ]
  },
  {
   "cell_type": "code",
   "execution_count": 36,
   "id": "f6072f8f",
   "metadata": {},
   "outputs": [
    {
     "ename": "NameError",
     "evalue": "name 's3' is not defined",
     "output_type": "error",
     "traceback": [
      "\u001b[0;31m---------------------------------------------------------------------------\u001b[0m",
      "\u001b[0;31mNameError\u001b[0m                                 Traceback (most recent call last)",
      "\u001b[0;32m<ipython-input-36-ffeb7ec7d415>\u001b[0m in \u001b[0;36m<module>\u001b[0;34m\u001b[0m\n\u001b[0;32m----> 1\u001b[0;31m \u001b[0ms3\u001b[0m\u001b[0;34m.\u001b[0m\u001b[0mlast\u001b[0m\u001b[0;34m\u001b[0m\u001b[0;34m\u001b[0m\u001b[0m\n\u001b[0m",
      "\u001b[0;31mNameError\u001b[0m: name 's3' is not defined"
     ]
    }
   ],
   "source": [
    "s3.last"
   ]
  },
  {
   "cell_type": "code",
   "execution_count": 37,
   "id": "f4acdb69",
   "metadata": {},
   "outputs": [],
   "source": [
    "class Student:\n",
    "    \n",
    "    def __init__(self, first, last):\n",
    "        \n",
    "        self.first = first\n",
    "        \n",
    "        self.last = last\n",
    "        \n",
    "        self.mail = first + '.' + last + '@xyz.com'\n",
    "        \n",
    "    def fullname(self):\n",
    "        \n",
    "        return '{} {}'.format(self.first, self.last)\n",
    "    \n",
    "    def uppercase(self):\n",
    "        \n",
    "        self.first = self.first.upper()\n",
    "        \n",
    "        self.last = self.last.upper()"
   ]
  },
  {
   "cell_type": "code",
   "execution_count": null,
   "id": "ed7d8638",
   "metadata": {},
   "outputs": [],
   "source": [
    "s1 = Student('Anthony', 'Hopkins')\n",
    "\n",
    "s2 = Student('John', 'Smith')"
   ]
  }
 ],
 "metadata": {
  "kernelspec": {
   "display_name": "Python 3",
   "language": "python",
   "name": "python3"
  },
  "language_info": {
   "codemirror_mode": {
    "name": "ipython",
    "version": 3
   },
   "file_extension": ".py",
   "mimetype": "text/x-python",
   "name": "python",
   "nbconvert_exporter": "python",
   "pygments_lexer": "ipython3",
   "version": "3.6.9"
  }
 },
 "nbformat": 4,
 "nbformat_minor": 5
}
