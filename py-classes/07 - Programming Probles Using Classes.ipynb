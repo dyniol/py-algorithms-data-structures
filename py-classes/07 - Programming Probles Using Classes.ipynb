{
 "cells": [
  {
   "cell_type": "code",
   "execution_count": 2,
   "id": "d2e834ba",
   "metadata": {},
   "outputs": [],
   "source": [
    "class Student:\n",
    "    \n",
    "    def __init__(self, name, gpa):\n",
    "        self.__name = name\n",
    "        self.__gpa = gpa\n",
    "        self.__clubs = set()\n",
    "        self.__isactive = True\n",
    "        \n",
    "    def set_name(self, name):\n",
    "        self.__name = name\n",
    "        \n",
    "    def set_gpa(self, gpa):\n",
    "        self.__gpa = gpa\n",
    "        \n",
    "    def add_club(self, club):\n",
    "        self.__clubs.add(club)\n",
    "        \n",
    "    def remove_club(self, club):\n",
    "        self.__clubs.remove(club)\n",
    "        \n",
    "    def set_active(self, active):\n",
    "        self.__active = True\n",
    "        \n",
    "    def print_details(self):\n",
    "        print('Student: ', self.__name)\n",
    "        print(self.__gpa, self.__clubs, self.__active)"
   ]
  },
  {
   "cell_type": "code",
   "execution_count": null,
   "id": "d394d22a",
   "metadata": {},
   "outputs": [],
   "source": []
  }
 ],
 "metadata": {
  "kernelspec": {
   "display_name": "Python 3",
   "language": "python",
   "name": "python3"
  },
  "language_info": {
   "codemirror_mode": {
    "name": "ipython",
    "version": 3
   },
   "file_extension": ".py",
   "mimetype": "text/x-python",
   "name": "python",
   "nbconvert_exporter": "python",
   "pygments_lexer": "ipython3",
   "version": "3.6.9"
  }
 },
 "nbformat": 4,
 "nbformat_minor": 5
}
