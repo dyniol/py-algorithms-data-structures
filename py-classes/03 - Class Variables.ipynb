{
 "cells": [
  {
   "cell_type": "code",
   "execution_count": 1,
   "id": "071b4404",
   "metadata": {},
   "outputs": [],
   "source": [
    "class Competition:\n",
    "    \n",
    "    raise_amount = 1.04 # class variable associated with the class itself \n",
    "                        # and not with a particular instance of a class\n",
    "    \n",
    "    def __init__(self, name, prize):\n",
    "        \n",
    "        self.name = name    # Instance variable - associated with an instance or object of a class \n",
    "        self.prize = prize  # and not the class itself\n",
    "        \n",
    "    def raise_prize(self):\n",
    "        self.prize = self.prize * raise_amount"
   ]
  },
  {
   "cell_type": "code",
   "execution_count": 2,
   "id": "678f1b1e",
   "metadata": {},
   "outputs": [
    {
     "name": "stdout",
     "output_type": "stream",
     "text": [
      "1.04\n"
     ]
    }
   ],
   "source": [
    "debate = Competition('Debate', 500)\n",
    "\n",
    "print(debate.raise_amount)"
   ]
  },
  {
   "cell_type": "code",
   "execution_count": 3,
   "id": "29ad1e78",
   "metadata": {},
   "outputs": [
    {
     "data": {
      "text/plain": [
       "1.04"
      ]
     },
     "execution_count": 3,
     "metadata": {},
     "output_type": "execute_result"
    }
   ],
   "source": [
    "Competition.raise_amount"
   ]
  },
  {
   "cell_type": "code",
   "execution_count": 4,
   "id": "6cad03a8",
   "metadata": {},
   "outputs": [
    {
     "ename": "NameError",
     "evalue": "name 'raise_amount' is not defined",
     "output_type": "error",
     "traceback": [
      "\u001b[0;31m---------------------------------------------------------------------------\u001b[0m",
      "\u001b[0;31mNameError\u001b[0m                                 Traceback (most recent call last)",
      "\u001b[0;32m<ipython-input-4-78b078c49b52>\u001b[0m in \u001b[0;36m<module>\u001b[0;34m\u001b[0m\n\u001b[0;32m----> 1\u001b[0;31m \u001b[0mdebate\u001b[0m\u001b[0;34m.\u001b[0m\u001b[0mraise_prize\u001b[0m\u001b[0;34m(\u001b[0m\u001b[0;34m)\u001b[0m\u001b[0;34m\u001b[0m\u001b[0;34m\u001b[0m\u001b[0m\n\u001b[0m",
      "\u001b[0;32m<ipython-input-1-4230ca977c15>\u001b[0m in \u001b[0;36mraise_prize\u001b[0;34m(self)\u001b[0m\n\u001b[1;32m      9\u001b[0m \u001b[0;34m\u001b[0m\u001b[0m\n\u001b[1;32m     10\u001b[0m     \u001b[0;32mdef\u001b[0m \u001b[0mraise_prize\u001b[0m\u001b[0;34m(\u001b[0m\u001b[0mself\u001b[0m\u001b[0;34m)\u001b[0m\u001b[0;34m:\u001b[0m\u001b[0;34m\u001b[0m\u001b[0;34m\u001b[0m\u001b[0m\n\u001b[0;32m---> 11\u001b[0;31m         \u001b[0mself\u001b[0m\u001b[0;34m.\u001b[0m\u001b[0mprize\u001b[0m \u001b[0;34m=\u001b[0m \u001b[0mself\u001b[0m\u001b[0;34m.\u001b[0m\u001b[0mprize\u001b[0m \u001b[0;34m*\u001b[0m \u001b[0mraise_amount\u001b[0m\u001b[0;34m\u001b[0m\u001b[0;34m\u001b[0m\u001b[0m\n\u001b[0m",
      "\u001b[0;31mNameError\u001b[0m: name 'raise_amount' is not defined"
     ]
    }
   ],
   "source": [
    "debate.raise_prize()"
   ]
  },
  {
   "cell_type": "code",
   "execution_count": 5,
   "id": "a199f688",
   "metadata": {},
   "outputs": [],
   "source": [
    "class Competition:\n",
    "    \n",
    "    raise_amount = 1.04                          \n",
    "    \n",
    "    def __init__(self, name, prize):\n",
    "        \n",
    "        self.name = name     \n",
    "        self.prize = prize  \n",
    "        \n",
    "    def raise_prize(self):\n",
    "        \n",
    "        self.prize = self.prize * Competition.raise_amount \n",
    "        # Use the class name to access class variables"
   ]
  },
  {
   "cell_type": "code",
   "execution_count": 6,
   "id": "aafab0eb",
   "metadata": {},
   "outputs": [],
   "source": [
    "essay = Competition('Essay', 500)"
   ]
  },
  {
   "cell_type": "code",
   "execution_count": 7,
   "id": "d825e1a9",
   "metadata": {},
   "outputs": [
    {
     "data": {
      "text/plain": [
       "500"
      ]
     },
     "execution_count": 7,
     "metadata": {},
     "output_type": "execute_result"
    }
   ],
   "source": [
    "essay.prize"
   ]
  },
  {
   "cell_type": "code",
   "execution_count": 8,
   "id": "10f9e50b",
   "metadata": {},
   "outputs": [
    {
     "data": {
      "text/plain": [
       "520.0"
      ]
     },
     "execution_count": 8,
     "metadata": {},
     "output_type": "execute_result"
    }
   ],
   "source": [
    "essay.raise_prize()\n",
    "\n",
    "essay.prize"
   ]
  },
  {
   "cell_type": "code",
   "execution_count": 9,
   "id": "9a23b475",
   "metadata": {},
   "outputs": [],
   "source": [
    "class Competition:\n",
    "    \n",
    "    raise_amount = 1.04                          \n",
    "    \n",
    "    def __init__(self, name, prize):\n",
    "        \n",
    "        self.name = name     \n",
    "        self.prize = prize  \n",
    "        \n",
    "    def raise_prize(self):\n",
    "        \n",
    "        self.prize = int( self.prize) * self.raise_amount "
   ]
  },
  {
   "cell_type": "code",
   "execution_count": 10,
   "id": "708948ce",
   "metadata": {},
   "outputs": [],
   "source": [
    "simulation = Competition('Simulation', 100)"
   ]
  },
  {
   "cell_type": "code",
   "execution_count": 11,
   "id": "feab23f5",
   "metadata": {},
   "outputs": [
    {
     "data": {
      "text/plain": [
       "100"
      ]
     },
     "execution_count": 11,
     "metadata": {},
     "output_type": "execute_result"
    }
   ],
   "source": [
    "simulation.prize"
   ]
  },
  {
   "cell_type": "code",
   "execution_count": 12,
   "id": "29c67d38",
   "metadata": {},
   "outputs": [
    {
     "data": {
      "text/plain": [
       "104.0"
      ]
     },
     "execution_count": 12,
     "metadata": {},
     "output_type": "execute_result"
    }
   ],
   "source": [
    "simulation.raise_prize()\n",
    "\n",
    "simulation.prize"
   ]
  },
  {
   "cell_type": "code",
   "execution_count": 13,
   "id": "3b37f8f0",
   "metadata": {},
   "outputs": [
    {
     "data": {
      "text/plain": [
       "1.04"
      ]
     },
     "execution_count": 13,
     "metadata": {},
     "output_type": "execute_result"
    }
   ],
   "source": [
    "Competition.raise_amount"
   ]
  },
  {
   "cell_type": "code",
   "execution_count": 14,
   "id": "9510d8de",
   "metadata": {},
   "outputs": [
    {
     "data": {
      "text/plain": [
       "1.04"
      ]
     },
     "execution_count": 14,
     "metadata": {},
     "output_type": "execute_result"
    }
   ],
   "source": [
    "simulation.raise_amount"
   ]
  },
  {
   "cell_type": "code",
   "execution_count": 15,
   "id": "92d6bb99",
   "metadata": {},
   "outputs": [
    {
     "data": {
      "text/plain": [
       "{'name': 'Simulation', 'prize': 104.0}"
      ]
     },
     "execution_count": 15,
     "metadata": {},
     "output_type": "execute_result"
    }
   ],
   "source": [
    "simulation.__dict__"
   ]
  },
  {
   "cell_type": "code",
   "execution_count": 16,
   "id": "86f7a8d9",
   "metadata": {},
   "outputs": [
    {
     "data": {
      "text/plain": [
       "mappingproxy({'__module__': '__main__',\n",
       "              'raise_amount': 1.04,\n",
       "              '__init__': <function __main__.Competition.__init__(self, name, prize)>,\n",
       "              'raise_prize': <function __main__.Competition.raise_prize(self)>,\n",
       "              '__dict__': <attribute '__dict__' of 'Competition' objects>,\n",
       "              '__weakref__': <attribute '__weakref__' of 'Competition' objects>,\n",
       "              '__doc__': None})"
      ]
     },
     "execution_count": 16,
     "metadata": {},
     "output_type": "execute_result"
    }
   ],
   "source": [
    "Competition.__dict__"
   ]
  },
  {
   "cell_type": "code",
   "execution_count": 17,
   "id": "c5e02a93",
   "metadata": {},
   "outputs": [
    {
     "data": {
      "text/plain": [
       "1.04"
      ]
     },
     "execution_count": 17,
     "metadata": {},
     "output_type": "execute_result"
    }
   ],
   "source": [
    "racing = Competition('Racing', 1000)\n",
    "\n",
    "racing.raise_amount"
   ]
  },
  {
   "cell_type": "code",
   "execution_count": 18,
   "id": "e4c47c94",
   "metadata": {},
   "outputs": [],
   "source": [
    "Competition.raise_amount = 1.05"
   ]
  },
  {
   "cell_type": "code",
   "execution_count": 19,
   "id": "2e544541",
   "metadata": {},
   "outputs": [
    {
     "data": {
      "text/plain": [
       "1.05"
      ]
     },
     "execution_count": 19,
     "metadata": {},
     "output_type": "execute_result"
    }
   ],
   "source": [
    "\n",
    "Competition.raise_amount   # Change made to the class variable are reflected in all instances\n"
   ]
  },
  {
   "cell_type": "code",
   "execution_count": 20,
   "id": "6058518b",
   "metadata": {},
   "outputs": [
    {
     "data": {
      "text/plain": [
       "1.05"
      ]
     },
     "execution_count": 20,
     "metadata": {},
     "output_type": "execute_result"
    }
   ],
   "source": [
    "simulation.raise_amount"
   ]
  },
  {
   "cell_type": "code",
   "execution_count": 21,
   "id": "99685fe2",
   "metadata": {},
   "outputs": [
    {
     "data": {
      "text/plain": [
       "1.05"
      ]
     },
     "execution_count": 21,
     "metadata": {},
     "output_type": "execute_result"
    }
   ],
   "source": [
    "racing.raise_amount"
   ]
  },
  {
   "cell_type": "code",
   "execution_count": 22,
   "id": "8f54bccc",
   "metadata": {},
   "outputs": [
    {
     "data": {
      "text/plain": [
       "(1.05, 10, 1.05)"
      ]
     },
     "execution_count": 22,
     "metadata": {},
     "output_type": "execute_result"
    }
   ],
   "source": [
    "simulation.raise_amount = 10\n",
    "\n",
    "Competition.raise_amount, simulation.raise_amount, racing.raise_amount"
   ]
  },
  {
   "cell_type": "code",
   "execution_count": 23,
   "id": "92ea809e",
   "metadata": {},
   "outputs": [
    {
     "data": {
      "text/plain": [
       "(1.05, 10, 20)"
      ]
     },
     "execution_count": 23,
     "metadata": {},
     "output_type": "execute_result"
    }
   ],
   "source": [
    "racing.raise_amount = 20\n",
    "\n",
    "Competition.raise_amount, simulation.raise_amount, racing.raise_amount"
   ]
  },
  {
   "cell_type": "code",
   "execution_count": 24,
   "id": "ebac79fc",
   "metadata": {},
   "outputs": [
    {
     "data": {
      "text/plain": [
       "mappingproxy({'__module__': '__main__',\n",
       "              'raise_amount': 1.05,\n",
       "              '__init__': <function __main__.Competition.__init__(self, name, prize)>,\n",
       "              'raise_prize': <function __main__.Competition.raise_prize(self)>,\n",
       "              '__dict__': <attribute '__dict__' of 'Competition' objects>,\n",
       "              '__weakref__': <attribute '__weakref__' of 'Competition' objects>,\n",
       "              '__doc__': None})"
      ]
     },
     "execution_count": 24,
     "metadata": {},
     "output_type": "execute_result"
    }
   ],
   "source": [
    "Competition.__dict__"
   ]
  },
  {
   "cell_type": "code",
   "execution_count": null,
   "id": "9b51c693",
   "metadata": {},
   "outputs": [],
   "source": []
  }
 ],
 "metadata": {
  "kernelspec": {
   "display_name": "Python 3",
   "language": "python",
   "name": "python3"
  },
  "language_info": {
   "codemirror_mode": {
    "name": "ipython",
    "version": 3
   },
   "file_extension": ".py",
   "mimetype": "text/x-python",
   "name": "python",
   "nbconvert_exporter": "python",
   "pygments_lexer": "ipython3",
   "version": "3.6.9"
  }
 },
 "nbformat": 4,
 "nbformat_minor": 5
}
