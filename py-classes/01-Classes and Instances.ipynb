{
 "cells": [
  {
   "cell_type": "code",
   "execution_count": 2,
   "id": "e2267b2f",
   "metadata": {},
   "outputs": [],
   "source": [
    "class Student:\n",
    "    pass"
   ]
  },
  {
   "cell_type": "code",
   "execution_count": 6,
   "id": "104b6f36",
   "metadata": {},
   "outputs": [
    {
     "data": {
      "text/plain": [
       "__main__.Student"
      ]
     },
     "execution_count": 6,
     "metadata": {},
     "output_type": "execute_result"
    }
   ],
   "source": [
    "type(Student)\n",
    "type(object_1)"
   ]
  },
  {
   "cell_type": "code",
   "execution_count": 5,
   "id": "0fce4626",
   "metadata": {},
   "outputs": [],
   "source": [
    "object_1 = Student()"
   ]
  },
  {
   "cell_type": "code",
   "execution_count": 7,
   "id": "b6c4edac",
   "metadata": {},
   "outputs": [],
   "source": [
    "object_2 = Student()"
   ]
  },
  {
   "cell_type": "code",
   "execution_count": 8,
   "id": "ef76ecf8",
   "metadata": {},
   "outputs": [
    {
     "data": {
      "text/plain": [
       "<__main__.Student at 0x7f879d6751d0>"
      ]
     },
     "execution_count": 8,
     "metadata": {},
     "output_type": "execute_result"
    }
   ],
   "source": [
    "object_1 # after at is memory location"
   ]
  },
  {
   "cell_type": "code",
   "execution_count": 9,
   "id": "5df87a0d",
   "metadata": {},
   "outputs": [
    {
     "data": {
      "text/plain": [
       "<__main__.Student at 0x7f879d6754a8>"
      ]
     },
     "execution_count": 9,
     "metadata": {},
     "output_type": "execute_result"
    }
   ],
   "source": [
    "object_2 # memory location is different for object_2"
   ]
  },
  {
   "cell_type": "code",
   "execution_count": 11,
   "id": "82acd8bf",
   "metadata": {},
   "outputs": [
    {
     "data": {
      "text/plain": [
       "True"
      ]
     },
     "execution_count": 11,
     "metadata": {},
     "output_type": "execute_result"
    }
   ],
   "source": [
    "isinstance(object_1, Student)"
   ]
  },
  {
   "cell_type": "code",
   "execution_count": 12,
   "id": "db7eb6da",
   "metadata": {},
   "outputs": [
    {
     "data": {
      "text/plain": [
       "True"
      ]
     },
     "execution_count": 12,
     "metadata": {},
     "output_type": "execute_result"
    }
   ],
   "source": [
    "isinstance(object_2, Student)"
   ]
  },
  {
   "cell_type": "code",
   "execution_count": 13,
   "id": "debc1b01",
   "metadata": {},
   "outputs": [
    {
     "ename": "NameError",
     "evalue": "name 'object_3' is not defined",
     "output_type": "error",
     "traceback": [
      "\u001b[0;31m---------------------------------------------------------------------------\u001b[0m",
      "\u001b[0;31mNameError\u001b[0m                                 Traceback (most recent call last)",
      "\u001b[0;32m<ipython-input-13-2e4472fd9ace>\u001b[0m in \u001b[0;36m<module>\u001b[0;34m\u001b[0m\n\u001b[0;32m----> 1\u001b[0;31m \u001b[0misinstance\u001b[0m\u001b[0;34m(\u001b[0m\u001b[0mobject_3\u001b[0m\u001b[0;34m,\u001b[0m \u001b[0mStudent\u001b[0m\u001b[0;34m)\u001b[0m\u001b[0;34m\u001b[0m\u001b[0;34m\u001b[0m\u001b[0m\n\u001b[0m",
      "\u001b[0;31mNameError\u001b[0m: name 'object_3' is not defined"
     ]
    }
   ],
   "source": [
    "isinstance(object_3, Student)"
   ]
  },
  {
   "cell_type": "code",
   "execution_count": 14,
   "id": "c29d14d8",
   "metadata": {},
   "outputs": [
    {
     "data": {
      "text/plain": [
       "False"
      ]
     },
     "execution_count": 14,
     "metadata": {},
     "output_type": "execute_result"
    }
   ],
   "source": [
    "object_3 = {}\n",
    "\n",
    "isinstance(object_3, Student)"
   ]
  },
  {
   "cell_type": "code",
   "execution_count": 15,
   "id": "3086c856",
   "metadata": {},
   "outputs": [],
   "source": [
    "object_1.name = 'Michel'\n",
    "\n",
    "object_1.email = \"Michel@xyz.com\""
   ]
  },
  {
   "cell_type": "code",
   "execution_count": 16,
   "id": "385ecd1c",
   "metadata": {},
   "outputs": [
    {
     "data": {
      "text/plain": [
       "'Michel'"
      ]
     },
     "execution_count": 16,
     "metadata": {},
     "output_type": "execute_result"
    }
   ],
   "source": [
    "object_1.name"
   ]
  },
  {
   "cell_type": "code",
   "execution_count": 17,
   "id": "96160523",
   "metadata": {},
   "outputs": [
    {
     "data": {
      "text/plain": [
       "'Michel@xyz.com'"
      ]
     },
     "execution_count": 17,
     "metadata": {},
     "output_type": "execute_result"
    }
   ],
   "source": [
    "object_1.email"
   ]
  },
  {
   "cell_type": "code",
   "execution_count": 18,
   "id": "237191ac",
   "metadata": {},
   "outputs": [
    {
     "ename": "AttributeError",
     "evalue": "'Student' object has no attribute 'school'",
     "output_type": "error",
     "traceback": [
      "\u001b[0;31m---------------------------------------------------------------------------\u001b[0m",
      "\u001b[0;31mAttributeError\u001b[0m                            Traceback (most recent call last)",
      "\u001b[0;32m<ipython-input-18-68b03d9bbaba>\u001b[0m in \u001b[0;36m<module>\u001b[0;34m\u001b[0m\n\u001b[0;32m----> 1\u001b[0;31m \u001b[0mobject_1\u001b[0m\u001b[0;34m.\u001b[0m\u001b[0mschool\u001b[0m\u001b[0;34m\u001b[0m\u001b[0;34m\u001b[0m\u001b[0m\n\u001b[0m",
      "\u001b[0;31mAttributeError\u001b[0m: 'Student' object has no attribute 'school'"
     ]
    }
   ],
   "source": [
    "object_1.school"
   ]
  },
  {
   "cell_type": "code",
   "execution_count": 19,
   "id": "f0634eb4",
   "metadata": {},
   "outputs": [],
   "source": [
    "object_2.name = 'Chad'\n",
    "\n",
    "object_2.email = 'Chad@xyz.com'"
   ]
  },
  {
   "cell_type": "code",
   "execution_count": 20,
   "id": "28448245",
   "metadata": {},
   "outputs": [
    {
     "data": {
      "text/plain": [
       "'Chad'"
      ]
     },
     "execution_count": 20,
     "metadata": {},
     "output_type": "execute_result"
    }
   ],
   "source": [
    "object_2.name"
   ]
  },
  {
   "cell_type": "code",
   "execution_count": 21,
   "id": "041e7a53",
   "metadata": {},
   "outputs": [
    {
     "data": {
      "text/plain": [
       "'Chad@xyz.com'"
      ]
     },
     "execution_count": 21,
     "metadata": {},
     "output_type": "execute_result"
    }
   ],
   "source": [
    "object_2.email"
   ]
  },
  {
   "cell_type": "code",
   "execution_count": 22,
   "id": "f687604d",
   "metadata": {},
   "outputs": [
    {
     "ename": "AttributeError",
     "evalue": "'Student' object has no attribute 'school'",
     "output_type": "error",
     "traceback": [
      "\u001b[0;31m---------------------------------------------------------------------------\u001b[0m",
      "\u001b[0;31mAttributeError\u001b[0m                            Traceback (most recent call last)",
      "\u001b[0;32m<ipython-input-22-6beb4034d273>\u001b[0m in \u001b[0;36m<module>\u001b[0;34m\u001b[0m\n\u001b[0;32m----> 1\u001b[0;31m \u001b[0mobject_2\u001b[0m\u001b[0;34m.\u001b[0m\u001b[0mschool\u001b[0m\u001b[0;34m\u001b[0m\u001b[0;34m\u001b[0m\u001b[0m\n\u001b[0m",
      "\u001b[0;31mAttributeError\u001b[0m: 'Student' object has no attribute 'school'"
     ]
    }
   ],
   "source": [
    "object_2.school"
   ]
  },
  {
   "cell_type": "code",
   "execution_count": 23,
   "id": "608fe308",
   "metadata": {},
   "outputs": [
    {
     "ename": "AttributeError",
     "evalue": "'Student' object has no attribute 'name'",
     "output_type": "error",
     "traceback": [
      "\u001b[0;31m---------------------------------------------------------------------------\u001b[0m",
      "\u001b[0;31mAttributeError\u001b[0m                            Traceback (most recent call last)",
      "\u001b[0;32m<ipython-input-23-a4515f11cd70>\u001b[0m in \u001b[0;36m<module>\u001b[0;34m\u001b[0m\n\u001b[1;32m      1\u001b[0m \u001b[0mobject_3\u001b[0m \u001b[0;34m=\u001b[0m \u001b[0mStudent\u001b[0m\u001b[0;34m(\u001b[0m\u001b[0;34m)\u001b[0m\u001b[0;34m\u001b[0m\u001b[0;34m\u001b[0m\u001b[0m\n\u001b[1;32m      2\u001b[0m \u001b[0;34m\u001b[0m\u001b[0m\n\u001b[0;32m----> 3\u001b[0;31m \u001b[0mobject_3\u001b[0m\u001b[0;34m.\u001b[0m\u001b[0mname\u001b[0m\u001b[0;34m\u001b[0m\u001b[0;34m\u001b[0m\u001b[0m\n\u001b[0m",
      "\u001b[0;31mAttributeError\u001b[0m: 'Student' object has no attribute 'name'"
     ]
    }
   ],
   "source": [
    "object_3 = Student()\n",
    "\n",
    "object_3.name"
   ]
  },
  {
   "cell_type": "code",
   "execution_count": 24,
   "id": "ae8fe48b",
   "metadata": {},
   "outputs": [],
   "source": [
    "class Student:\n",
    "    \n",
    "    name = ''\n",
    "    score = 0\n",
    "    active = True"
   ]
  },
  {
   "cell_type": "code",
   "execution_count": 25,
   "id": "cbbdf477",
   "metadata": {},
   "outputs": [],
   "source": [
    "s1 = Student()"
   ]
  },
  {
   "cell_type": "code",
   "execution_count": 26,
   "id": "72c53813",
   "metadata": {},
   "outputs": [
    {
     "data": {
      "text/plain": [
       "('', 0, True)"
      ]
     },
     "execution_count": 26,
     "metadata": {},
     "output_type": "execute_result"
    }
   ],
   "source": [
    "s1.name, s1.score, s1.active"
   ]
  },
  {
   "cell_type": "code",
   "execution_count": 27,
   "id": "7984058a",
   "metadata": {},
   "outputs": [
    {
     "data": {
      "text/plain": [
       "('John', 50, True)"
      ]
     },
     "execution_count": 27,
     "metadata": {},
     "output_type": "execute_result"
    }
   ],
   "source": [
    "s1.name = 'John'\n",
    "\n",
    "s1.score = 50\n",
    "\n",
    "s1.name, s1.score, s1.active"
   ]
  },
  {
   "cell_type": "code",
   "execution_count": 29,
   "id": "23820200",
   "metadata": {},
   "outputs": [],
   "source": [
    "s2 = Student()"
   ]
  },
  {
   "cell_type": "code",
   "execution_count": 30,
   "id": "02dc2f82",
   "metadata": {},
   "outputs": [
    {
     "data": {
      "text/plain": [
       "('', 0, True)"
      ]
     },
     "execution_count": 30,
     "metadata": {},
     "output_type": "execute_result"
    }
   ],
   "source": [
    "s2.name, s2.score, s2.active"
   ]
  },
  {
   "cell_type": "code",
   "execution_count": null,
   "id": "f8cfe446",
   "metadata": {},
   "outputs": [],
   "source": []
  }
 ],
 "metadata": {
  "kernelspec": {
   "display_name": "Python 3",
   "language": "python",
   "name": "python3"
  },
  "language_info": {
   "codemirror_mode": {
    "name": "ipython",
    "version": 3
   },
   "file_extension": ".py",
   "mimetype": "text/x-python",
   "name": "python",
   "nbconvert_exporter": "python",
   "pygments_lexer": "ipython3",
   "version": "3.6.9"
  }
 },
 "nbformat": 4,
 "nbformat_minor": 5
}
