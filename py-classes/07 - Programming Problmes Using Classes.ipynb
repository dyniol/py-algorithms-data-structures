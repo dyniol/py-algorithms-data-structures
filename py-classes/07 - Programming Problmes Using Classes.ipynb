{
 "cells": [
  {
   "cell_type": "code",
   "execution_count": 5,
   "id": "d2e834ba",
   "metadata": {},
   "outputs": [],
   "source": [
    "class Student:\n",
    "    \n",
    "    def __init__(self, name, gpa):\n",
    "        self.__name = name\n",
    "        self.__gpa = gpa\n",
    "        self.__clubs = set()\n",
    "        self.__active = True\n",
    "        \n",
    "    def set_name(self, name):\n",
    "        self.__name = name\n",
    "        \n",
    "    def set_gpa(self, gpa):\n",
    "        self.__gpa = gpa\n",
    "        \n",
    "    def add_club(self, club):\n",
    "        self.__clubs.add(club)\n",
    "        \n",
    "    def remove_club(self, club):\n",
    "        self.__clubs.remove(club)\n",
    "        \n",
    "    def set_active(self, active):\n",
    "        self.__active = True\n",
    "        \n",
    "    def print_details(self):\n",
    "        print('Student: ', self.__name)\n",
    "        print(self.__gpa, self.__clubs, self.__active)"
   ]
  },
  {
   "cell_type": "code",
   "execution_count": 6,
   "id": "d394d22a",
   "metadata": {},
   "outputs": [],
   "source": [
    "s = Student('James', 3.8)"
   ]
  },
  {
   "cell_type": "code",
   "execution_count": 7,
   "id": "cb9490ba",
   "metadata": {},
   "outputs": [],
   "source": [
    "s.add_club('Yoga')"
   ]
  },
  {
   "cell_type": "code",
   "execution_count": 8,
   "id": "1eafa702",
   "metadata": {},
   "outputs": [
    {
     "name": "stdout",
     "output_type": "stream",
     "text": [
      "Student:  James\n",
      "3.8 {'Yoga'} True\n"
     ]
    }
   ],
   "source": [
    "s.print_details()"
   ]
  },
  {
   "cell_type": "code",
   "execution_count": 9,
   "id": "d69ee374",
   "metadata": {},
   "outputs": [],
   "source": [
    "s.add_club('yoga')"
   ]
  },
  {
   "cell_type": "code",
   "execution_count": 10,
   "id": "4f0c4bad",
   "metadata": {},
   "outputs": [
    {
     "name": "stdout",
     "output_type": "stream",
     "text": [
      "Student:  James\n",
      "3.8 {'Yoga', 'yoga'} True\n"
     ]
    }
   ],
   "source": [
    "s.print_details()"
   ]
  },
  {
   "cell_type": "code",
   "execution_count": 11,
   "id": "991fec3e",
   "metadata": {},
   "outputs": [],
   "source": [
    "s.add_club('yoga')"
   ]
  },
  {
   "cell_type": "code",
   "execution_count": 12,
   "id": "aab1d85c",
   "metadata": {},
   "outputs": [
    {
     "name": "stdout",
     "output_type": "stream",
     "text": [
      "Student:  James\n",
      "3.8 {'Yoga', 'yoga'} True\n"
     ]
    }
   ],
   "source": [
    "s.print_details()"
   ]
  },
  {
   "cell_type": "code",
   "execution_count": 13,
   "id": "e6d8540f",
   "metadata": {},
   "outputs": [
    {
     "name": "stdout",
     "output_type": "stream",
     "text": [
      "Student:  James\n",
      "3.9 {'Yoga', 'yoga'} True\n"
     ]
    }
   ],
   "source": [
    "s.set_gpa(3.9)\n",
    "\n",
    "s.print_details()"
   ]
  },
  {
   "cell_type": "code",
   "execution_count": null,
   "id": "3ef5d8e2",
   "metadata": {},
   "outputs": [],
   "source": [
    "# Parse student list to the class with function"
   ]
  },
  {
   "cell_type": "code",
   "execution_count": 14,
   "id": "38dd2214",
   "metadata": {},
   "outputs": [],
   "source": [
    "student_details_list = [\n",
    "    {'name': 'Nina', 'gpa': 3.6, 'clubs': ['tennis', 'chess']},\n",
    "    {'name': 'Emily', 'gpa': 3.9, 'clubs': ['tennis'], 'active': False},\n",
    "    {'name': 'Michael', 'gpa': 3.2, 'clubs': ['footbal', 'chees']},\n",
    "    {'name': 'Joe', 'gpa': 3.9, 'is_honors_student': True},\n",
    "]"
   ]
  },
  {
   "cell_type": "code",
   "execution_count": 17,
   "id": "0d54de1a",
   "metadata": {},
   "outputs": [],
   "source": [
    "def get_students(student_details_list): # list as an argument\n",
    "    students_list = []\n",
    "    \n",
    "    for student_details in student_details_list:                            # new variable 'student_details'\n",
    "        if 'name' not in student_details or 'gpa' not in student_details:   # 'name' and 'gpa' are required by class\n",
    "            continue\n",
    "        \n",
    "        s = Student(student_details['name'], student_details['gpa'])  # tworzymy studenta ktory wyciaga z student_details_list\n",
    "                                                                      # values ktore sa pod 'name' i 'gpa'\n",
    "        \n",
    "        if 'clubs' in student_details:                                # if clubs are present in student_details\n",
    "            for club in student_details['clubs']:                     # we iterate through the list and add \n",
    "                s.add_club(club)                                      # it with class method\n",
    "        \n",
    "        if 'active' in student_details:                               # same here but with 'active'\n",
    "            s.set_active(student_details['active'])\n",
    "            \n",
    "        students_list.append(s)                                       # add the result to the student_list\n",
    "        \n",
    "    return students_list                                              # return the whole list"
   ]
  },
  {
   "cell_type": "code",
   "execution_count": 18,
   "id": "b06d0b24",
   "metadata": {},
   "outputs": [],
   "source": [
    "students = get_students(student_details_list)"
   ]
  },
  {
   "cell_type": "code",
   "execution_count": 19,
   "id": "c8bcfaa8",
   "metadata": {},
   "outputs": [
    {
     "data": {
      "text/plain": [
       "[<__main__.Student at 0x7fbf1f9f3978>,\n",
       " <__main__.Student at 0x7fbf1f9f3828>,\n",
       " <__main__.Student at 0x7fbf1f9f39b0>,\n",
       " <__main__.Student at 0x7fbf1f9f3898>]"
      ]
     },
     "execution_count": 19,
     "metadata": {},
     "output_type": "execute_result"
    }
   ],
   "source": [
    "students"
   ]
  },
  {
   "cell_type": "code",
   "execution_count": 20,
   "id": "27898ef3",
   "metadata": {},
   "outputs": [
    {
     "name": "stdout",
     "output_type": "stream",
     "text": [
      "Student:  Nina\n",
      "3.6 {'tennis', 'chess'} True\n",
      "Student:  Emily\n",
      "3.9 {'tennis'} True\n",
      "Student:  Michael\n",
      "3.2 {'chees', 'footbal'} True\n",
      "Student:  Joe\n",
      "3.9 set() True\n"
     ]
    }
   ],
   "source": [
    "for student in students:\n",
    "    student.print_details()"
   ]
  },
  {
   "cell_type": "code",
   "execution_count": null,
   "id": "39a99925",
   "metadata": {},
   "outputs": [],
   "source": []
  },
  {
   "cell_type": "code",
   "execution_count": 21,
   "id": "6c59f1fb",
   "metadata": {},
   "outputs": [],
   "source": [
    "import math\n",
    "\n",
    "class Circle:\n",
    "    \n",
    "    def __init__(self, radius):\n",
    "        self.__radius = radius\n",
    "        \n",
    "    def get_area(self):\n",
    "        return math.pi * self.__radius * self.__radius\n",
    "    \n",
    "    def get_perimeter(self):\n",
    "        return 2 * math.pi * self.__radius"
   ]
  },
  {
   "cell_type": "code",
   "execution_count": null,
   "id": "fe8f4a9a",
   "metadata": {},
   "outputs": [],
   "source": []
  }
 ],
 "metadata": {
  "kernelspec": {
   "display_name": "Python 3",
   "language": "python",
   "name": "python3"
  },
  "language_info": {
   "codemirror_mode": {
    "name": "ipython",
    "version": 3
   },
   "file_extension": ".py",
   "mimetype": "text/x-python",
   "name": "python",
   "nbconvert_exporter": "python",
   "pygments_lexer": "ipython3",
   "version": "3.6.9"
  }
 },
 "nbformat": 4,
 "nbformat_minor": 5
}
