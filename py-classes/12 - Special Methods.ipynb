{
 "cells": [
  {
   "cell_type": "code",
   "execution_count": 2,
   "id": "001c8929",
   "metadata": {},
   "outputs": [],
   "source": [
    "class Competition:\n",
    "    \n",
    "    def __init__(self, name, prize):\n",
    "        self.__name = name\n",
    "        self.__prize = prize"
   ]
  },
  {
   "cell_type": "code",
   "execution_count": 3,
   "id": "63b49555",
   "metadata": {},
   "outputs": [],
   "source": [
    "rowing = Competition('Rowing',10000)"
   ]
  },
  {
   "cell_type": "code",
   "execution_count": 4,
   "id": "7b79a467",
   "metadata": {},
   "outputs": [
    {
     "name": "stdout",
     "output_type": "stream",
     "text": [
      "<__main__.Competition object at 0x7fafe80bb1d0>\n"
     ]
    }
   ],
   "source": [
    "print(rowing)"
   ]
  },
  {
   "cell_type": "code",
   "execution_count": 5,
   "id": "92fc3ded",
   "metadata": {},
   "outputs": [
    {
     "data": {
      "text/plain": [
       "<__main__.Competition at 0x7fafe80bb1d0>"
      ]
     },
     "execution_count": 5,
     "metadata": {},
     "output_type": "execute_result"
    }
   ],
   "source": [
    "rowing"
   ]
  },
  {
   "cell_type": "code",
   "execution_count": 7,
   "id": "5788cd39",
   "metadata": {},
   "outputs": [],
   "source": [
    "class Competition:\n",
    "    \n",
    "    def __init__(self, name, prize):\n",
    "        self.__name = name\n",
    "        self.__prize = prize\n",
    "    \n",
    "    def __repr__(self):\n",
    "        return \"('{}', {})\".format(self.__name, self.__prize)"
   ]
  },
  {
   "cell_type": "code",
   "execution_count": 8,
   "id": "780ed2e9",
   "metadata": {},
   "outputs": [],
   "source": [
    "archery = Competition('Archery', 8000)"
   ]
  },
  {
   "cell_type": "code",
   "execution_count": 9,
   "id": "86452bb8",
   "metadata": {},
   "outputs": [
    {
     "name": "stdout",
     "output_type": "stream",
     "text": [
      "('Archery', 8000)\n"
     ]
    }
   ],
   "source": [
    "print(archery)\n",
    "# under the hood invokes the str(archery) function"
   ]
  },
  {
   "cell_type": "code",
   "execution_count": 10,
   "id": "e78493bb",
   "metadata": {},
   "outputs": [
    {
     "data": {
      "text/plain": [
       "\"('Archery', 8000)\""
      ]
     },
     "execution_count": 10,
     "metadata": {},
     "output_type": "execute_result"
    }
   ],
   "source": [
    "repr(archery)"
   ]
  },
  {
   "cell_type": "code",
   "execution_count": 11,
   "id": "9aa4b39a",
   "metadata": {},
   "outputs": [
    {
     "data": {
      "text/plain": [
       "\"('Archery', 8000)\""
      ]
     },
     "execution_count": 11,
     "metadata": {},
     "output_type": "execute_result"
    }
   ],
   "source": [
    "str(archery)"
   ]
  },
  {
   "cell_type": "code",
   "execution_count": 12,
   "id": "91656b5e",
   "metadata": {},
   "outputs": [],
   "source": [
    "class Competition:\n",
    "    \n",
    "    def __init__(self, name, country, prize):\n",
    "        self.__name = name\n",
    "        self.__country = country\n",
    "        self.__prize = prize\n",
    "        \n",
    "    def get_name_country(self):\n",
    "        return '{} {}'.format(self.__name, self.__country)\n",
    "    \n",
    "    def __repr__(self):\n",
    "        return \"Competition: {} held in {}, prize: {}\" \\\n",
    "            .format(self.__name, self.__country, self.__prize)\n",
    "    \n",
    "    def __str__(self):\n",
    "        return '{} - {}'.format(self.get_name_country(), self.__prize)"
   ]
  },
  {
   "cell_type": "code",
   "execution_count": 13,
   "id": "aa3aba47",
   "metadata": {},
   "outputs": [],
   "source": [
    "archery = Competition('Archery', 'United Kingdom', 7500)"
   ]
  },
  {
   "cell_type": "code",
   "execution_count": 14,
   "id": "81ad3662",
   "metadata": {},
   "outputs": [
    {
     "data": {
      "text/plain": [
       "Competition: Archery held in United Kingdom, prize: 7500"
      ]
     },
     "execution_count": 14,
     "metadata": {},
     "output_type": "execute_result"
    }
   ],
   "source": [
    "archery"
   ]
  },
  {
   "cell_type": "code",
   "execution_count": 15,
   "id": "f765d146",
   "metadata": {},
   "outputs": [
    {
     "data": {
      "text/plain": [
       "'Archery United Kingdom - 7500'"
      ]
     },
     "execution_count": 15,
     "metadata": {},
     "output_type": "execute_result"
    }
   ],
   "source": [
    "str(archery)"
   ]
  },
  {
   "cell_type": "code",
   "execution_count": 16,
   "id": "fd1f4002",
   "metadata": {},
   "outputs": [
    {
     "name": "stdout",
     "output_type": "stream",
     "text": [
      "Competition: Archery held in United Kingdom, prize: 7500\n"
     ]
    }
   ],
   "source": [
    "print(repr(archery))"
   ]
  },
  {
   "cell_type": "code",
   "execution_count": 17,
   "id": "f3d6a2d9",
   "metadata": {},
   "outputs": [
    {
     "name": "stdout",
     "output_type": "stream",
     "text": [
      "Archery United Kingdom - 7500\n"
     ]
    }
   ],
   "source": [
    "print(str(archery))"
   ]
  },
  {
   "cell_type": "code",
   "execution_count": 18,
   "id": "c6d8ed20",
   "metadata": {},
   "outputs": [
    {
     "name": "stdout",
     "output_type": "stream",
     "text": [
      "Competition: Archery held in United Kingdom, prize: 7500\n"
     ]
    }
   ],
   "source": [
    "print(archery.__repr__())"
   ]
  },
  {
   "cell_type": "code",
   "execution_count": 19,
   "id": "d4fee48f",
   "metadata": {},
   "outputs": [
    {
     "name": "stdout",
     "output_type": "stream",
     "text": [
      "Archery United Kingdom - 7500\n"
     ]
    }
   ],
   "source": [
    "print(archery.__str__())"
   ]
  },
  {
   "cell_type": "code",
   "execution_count": null,
   "id": "26d6f63f",
   "metadata": {},
   "outputs": [],
   "source": []
  },
  {
   "cell_type": "code",
   "execution_count": 22,
   "id": "884bf9cc",
   "metadata": {},
   "outputs": [
    {
     "data": {
      "text/plain": [
       "3"
      ]
     },
     "execution_count": 22,
     "metadata": {},
     "output_type": "execute_result"
    }
   ],
   "source": [
    "1 + 2\n",
    "# under the hood is invoked the special method int.__add__()"
   ]
  },
  {
   "cell_type": "code",
   "execution_count": 21,
   "id": "3162edad",
   "metadata": {},
   "outputs": [
    {
     "data": {
      "text/plain": [
       "3"
      ]
     },
     "execution_count": 21,
     "metadata": {},
     "output_type": "execute_result"
    }
   ],
   "source": [
    "int.__add__(1, 2)"
   ]
  },
  {
   "cell_type": "code",
   "execution_count": 23,
   "id": "0c81cc7f",
   "metadata": {},
   "outputs": [
    {
     "data": {
      "text/plain": [
       "'ab'"
      ]
     },
     "execution_count": 23,
     "metadata": {},
     "output_type": "execute_result"
    }
   ],
   "source": [
    "'a' + 'b'\n",
    "# same as above, special method str.__add__()"
   ]
  },
  {
   "cell_type": "code",
   "execution_count": 24,
   "id": "1c831019",
   "metadata": {},
   "outputs": [
    {
     "data": {
      "text/plain": [
       "'ab'"
      ]
     },
     "execution_count": 24,
     "metadata": {},
     "output_type": "execute_result"
    }
   ],
   "source": [
    "str.__add__('a', 'b')"
   ]
  },
  {
   "cell_type": "code",
   "execution_count": 25,
   "id": "8de4a8c0",
   "metadata": {},
   "outputs": [],
   "source": [
    "class Savings:\n",
    "    \n",
    "    def __init__ (self, amount):\n",
    "        self.__amount = amount"
   ]
  },
  {
   "cell_type": "code",
   "execution_count": 31,
   "id": "9cebe191",
   "metadata": {},
   "outputs": [],
   "source": [
    "s1 = Savings(10000)\n",
    "s2 = Savings(2000)"
   ]
  },
  {
   "cell_type": "code",
   "execution_count": 28,
   "id": "24d3296c",
   "metadata": {},
   "outputs": [
    {
     "ename": "TypeError",
     "evalue": "unsupported operand type(s) for +: 'Savings' and 'Savings'",
     "output_type": "error",
     "traceback": [
      "\u001b[0;31m---------------------------------------------------------------------------\u001b[0m",
      "\u001b[0;31mTypeError\u001b[0m                                 Traceback (most recent call last)",
      "\u001b[0;32m<ipython-input-28-07ecabcb1b41>\u001b[0m in \u001b[0;36m<module>\u001b[0;34m\u001b[0m\n\u001b[0;32m----> 1\u001b[0;31m \u001b[0ms1\u001b[0m \u001b[0;34m+\u001b[0m \u001b[0ms2\u001b[0m\u001b[0;34m\u001b[0m\u001b[0;34m\u001b[0m\u001b[0m\n\u001b[0m",
      "\u001b[0;31mTypeError\u001b[0m: unsupported operand type(s) for +: 'Savings' and 'Savings'"
     ]
    }
   ],
   "source": [
    "s1 + s2\n",
    "# can't do that"
   ]
  },
  {
   "cell_type": "code",
   "execution_count": 29,
   "id": "3e3291e0",
   "metadata": {},
   "outputs": [],
   "source": [
    "class Savings:\n",
    "    \n",
    "    def __init__ (self, amount):\n",
    "        self.__amount = amount\n",
    "        \n",
    "    def __add__(self, other):\n",
    "        return self.__amount + other.__amount"
   ]
  },
  {
   "cell_type": "code",
   "execution_count": 32,
   "id": "dff0ea92",
   "metadata": {},
   "outputs": [],
   "source": [
    "s1 = Savings(10000)\n",
    "s2 = Savings(2000)"
   ]
  },
  {
   "cell_type": "code",
   "execution_count": 33,
   "id": "1ca1480a",
   "metadata": {},
   "outputs": [
    {
     "data": {
      "text/plain": [
       "12000"
      ]
     },
     "execution_count": 33,
     "metadata": {},
     "output_type": "execute_result"
    }
   ],
   "source": [
    "s1 + s2\n",
    "# after adding the __add__ special method, we are now able to add two instances of a class"
   ]
  },
  {
   "cell_type": "code",
   "execution_count": 34,
   "id": "03547de6",
   "metadata": {},
   "outputs": [],
   "source": [
    "class MethodSub:\n",
    "    \n",
    "    def __init__(self, number):\n",
    "        self.__number = number\n",
    "        \n",
    "    def __sub__(self, other):\n",
    "        return self.__number - other.__number"
   ]
  },
  {
   "cell_type": "code",
   "execution_count": 37,
   "id": "107d4007",
   "metadata": {},
   "outputs": [],
   "source": [
    "num_1 = MethodSub(10)\n",
    "\n",
    "num_2 = MethodSub(8)"
   ]
  },
  {
   "cell_type": "code",
   "execution_count": 38,
   "id": "e788662e",
   "metadata": {},
   "outputs": [
    {
     "data": {
      "text/plain": [
       "2"
      ]
     },
     "execution_count": 38,
     "metadata": {},
     "output_type": "execute_result"
    }
   ],
   "source": [
    "num_1 - num_2"
   ]
  },
  {
   "cell_type": "code",
   "execution_count": 40,
   "id": "f7552fb1",
   "metadata": {},
   "outputs": [],
   "source": [
    "class MethodSub:\n",
    "    \n",
    "    def __init__(self, number):\n",
    "        self.__number = number\n",
    "        \n",
    "    def __sub__(self, other):\n",
    "        return self.__number * other.__number"
   ]
  },
  {
   "cell_type": "code",
   "execution_count": 41,
   "id": "07f56b9e",
   "metadata": {},
   "outputs": [],
   "source": [
    "num_1 = MethodSub(10)\n",
    "\n",
    "num_2 = MethodSub(8)"
   ]
  },
  {
   "cell_type": "code",
   "execution_count": 42,
   "id": "467eb61d",
   "metadata": {},
   "outputs": [
    {
     "data": {
      "text/plain": [
       "80"
      ]
     },
     "execution_count": 42,
     "metadata": {},
     "output_type": "execute_result"
    }
   ],
   "source": [
    "num_1 - num_2\n",
    "# przypisalismy do specjalnej metody __sub__ operator ' * ' i teraz kiedy wywolujemy ' - ' zostanie zastosowane \n",
    "# mnozenie zamiast odejmowania"
   ]
  },
  {
   "cell_type": "code",
   "execution_count": 43,
   "id": "ceef6aca",
   "metadata": {},
   "outputs": [
    {
     "ename": "TypeError",
     "evalue": "unsupported operand type(s) for *: 'MethodSub' and 'MethodSub'",
     "output_type": "error",
     "traceback": [
      "\u001b[0;31m---------------------------------------------------------------------------\u001b[0m",
      "\u001b[0;31mTypeError\u001b[0m                                 Traceback (most recent call last)",
      "\u001b[0;32m<ipython-input-43-67f2aa8afe0c>\u001b[0m in \u001b[0;36m<module>\u001b[0;34m\u001b[0m\n\u001b[0;32m----> 1\u001b[0;31m \u001b[0mnum_1\u001b[0m \u001b[0;34m*\u001b[0m \u001b[0mnum_2\u001b[0m\u001b[0;34m\u001b[0m\u001b[0;34m\u001b[0m\u001b[0m\n\u001b[0m",
      "\u001b[0;31mTypeError\u001b[0m: unsupported operand type(s) for *: 'MethodSub' and 'MethodSub'"
     ]
    }
   ],
   "source": [
    "num_1 * num_2"
   ]
  },
  {
   "cell_type": "code",
   "execution_count": 44,
   "id": "b6158272",
   "metadata": {},
   "outputs": [
    {
     "data": {
      "text/plain": [
       "2.1"
      ]
     },
     "execution_count": 44,
     "metadata": {},
     "output_type": "execute_result"
    }
   ],
   "source": [
    "1.0 * 2.1"
   ]
  },
  {
   "cell_type": "code",
   "execution_count": 45,
   "id": "bfb2cd4a",
   "metadata": {},
   "outputs": [
    {
     "data": {
      "text/plain": [
       "2.1"
      ]
     },
     "execution_count": 45,
     "metadata": {},
     "output_type": "execute_result"
    }
   ],
   "source": [
    "float.__mul__(1.0, 2.1)"
   ]
  },
  {
   "cell_type": "code",
   "execution_count": 46,
   "id": "1be2f905",
   "metadata": {},
   "outputs": [
    {
     "ename": "TypeError",
     "evalue": "descriptor '__mul__' requires a 'float' object but received a 'int'",
     "output_type": "error",
     "traceback": [
      "\u001b[0;31m---------------------------------------------------------------------------\u001b[0m",
      "\u001b[0;31mTypeError\u001b[0m                                 Traceback (most recent call last)",
      "\u001b[0;32m<ipython-input-46-ee0b82aa5938>\u001b[0m in \u001b[0;36m<module>\u001b[0;34m\u001b[0m\n\u001b[0;32m----> 1\u001b[0;31m \u001b[0mfloat\u001b[0m\u001b[0;34m.\u001b[0m\u001b[0m__mul__\u001b[0m\u001b[0;34m(\u001b[0m\u001b[0;36m1\u001b[0m\u001b[0;34m,\u001b[0m \u001b[0;36m2.1\u001b[0m\u001b[0;34m)\u001b[0m\u001b[0;34m\u001b[0m\u001b[0;34m\u001b[0m\u001b[0m\n\u001b[0m",
      "\u001b[0;31mTypeError\u001b[0m: descriptor '__mul__' requires a 'float' object but received a 'int'"
     ]
    }
   ],
   "source": [
    "float.__mul__(1, 2.1)"
   ]
  },
  {
   "cell_type": "code",
   "execution_count": 48,
   "id": "0f98fbca",
   "metadata": {},
   "outputs": [],
   "source": [
    "class Savings:\n",
    "    \n",
    "    def __init__(self, amount):\n",
    "        self.__amount = amount\n",
    "        \n",
    "    def __add__(self, other):\n",
    "        return self.__amount + other.__amount\n",
    "    \n",
    "    def __mul__(self, other):\n",
    "        if type(other) == int or type(other) == float:\n",
    "            return self.__amount * other\n",
    "        else:\n",
    "            raise ValueError('Can only multiply by int or float')"
   ]
  },
  {
   "cell_type": "code",
   "execution_count": 49,
   "id": "099350e0",
   "metadata": {},
   "outputs": [],
   "source": [
    "s1 = Savings(1000)\n",
    "\n",
    "s2 = Savings(200)"
   ]
  },
  {
   "cell_type": "code",
   "execution_count": 50,
   "id": "55aa7931",
   "metadata": {},
   "outputs": [
    {
     "data": {
      "text/plain": [
       "1200"
      ]
     },
     "execution_count": 50,
     "metadata": {},
     "output_type": "execute_result"
    }
   ],
   "source": [
    "s1 + s2"
   ]
  },
  {
   "cell_type": "code",
   "execution_count": 51,
   "id": "54425781",
   "metadata": {},
   "outputs": [
    {
     "ename": "ValueError",
     "evalue": "Can only multiply by int or float",
     "output_type": "error",
     "traceback": [
      "\u001b[0;31m---------------------------------------------------------------------------\u001b[0m",
      "\u001b[0;31mValueError\u001b[0m                                Traceback (most recent call last)",
      "\u001b[0;32m<ipython-input-51-668b2814c781>\u001b[0m in \u001b[0;36m<module>\u001b[0;34m\u001b[0m\n\u001b[0;32m----> 1\u001b[0;31m \u001b[0ms1\u001b[0m \u001b[0;34m*\u001b[0m \u001b[0ms2\u001b[0m\u001b[0;34m\u001b[0m\u001b[0;34m\u001b[0m\u001b[0m\n\u001b[0m",
      "\u001b[0;32m<ipython-input-48-6054f89b2e43>\u001b[0m in \u001b[0;36m__mul__\u001b[0;34m(self, other)\u001b[0m\n\u001b[1;32m     11\u001b[0m             \u001b[0;32mreturn\u001b[0m \u001b[0mself\u001b[0m\u001b[0;34m.\u001b[0m\u001b[0m__amount\u001b[0m \u001b[0;34m*\u001b[0m \u001b[0mother\u001b[0m\u001b[0;34m\u001b[0m\u001b[0;34m\u001b[0m\u001b[0m\n\u001b[1;32m     12\u001b[0m         \u001b[0;32melse\u001b[0m\u001b[0;34m:\u001b[0m\u001b[0;34m\u001b[0m\u001b[0;34m\u001b[0m\u001b[0m\n\u001b[0;32m---> 13\u001b[0;31m             \u001b[0;32mraise\u001b[0m \u001b[0mValueError\u001b[0m\u001b[0;34m(\u001b[0m\u001b[0;34m'Can only multiply by int or float'\u001b[0m\u001b[0;34m)\u001b[0m\u001b[0;34m\u001b[0m\u001b[0;34m\u001b[0m\u001b[0m\n\u001b[0m",
      "\u001b[0;31mValueError\u001b[0m: Can only multiply by int or float"
     ]
    }
   ],
   "source": [
    "s1 * s2"
   ]
  },
  {
   "cell_type": "code",
   "execution_count": 52,
   "id": "1523edd5",
   "metadata": {},
   "outputs": [
    {
     "data": {
      "text/plain": [
       "3000"
      ]
     },
     "execution_count": 52,
     "metadata": {},
     "output_type": "execute_result"
    }
   ],
   "source": [
    "s1 * 3"
   ]
  },
  {
   "cell_type": "code",
   "execution_count": null,
   "id": "d88e9411",
   "metadata": {},
   "outputs": [],
   "source": []
  },
  {
   "cell_type": "code",
   "execution_count": 53,
   "id": "1958915b",
   "metadata": {},
   "outputs": [
    {
     "data": {
      "text/plain": [
       "3"
      ]
     },
     "execution_count": 53,
     "metadata": {},
     "output_type": "execute_result"
    }
   ],
   "source": [
    "10 // 3"
   ]
  },
  {
   "cell_type": "code",
   "execution_count": 54,
   "id": "e76ac59c",
   "metadata": {},
   "outputs": [],
   "source": [
    "class MethodFloordiv:\n",
    "    \n",
    "    def __init__(self, number):\n",
    "        self.__number = number\n",
    "        \n",
    "    def __floordiv__(self, other):\n",
    "        return self.__number // other.__number"
   ]
  },
  {
   "cell_type": "code",
   "execution_count": 55,
   "id": "0dabd84c",
   "metadata": {},
   "outputs": [],
   "source": [
    "num_1 = MethodFloordiv(10)\n",
    "\n",
    "num_2 = MethodFloordiv(3)"
   ]
  },
  {
   "cell_type": "code",
   "execution_count": 56,
   "id": "ed90ef27",
   "metadata": {},
   "outputs": [
    {
     "data": {
      "text/plain": [
       "3"
      ]
     },
     "execution_count": 56,
     "metadata": {},
     "output_type": "execute_result"
    }
   ],
   "source": [
    "num_1 // num_2"
   ]
  },
  {
   "cell_type": "code",
   "execution_count": null,
   "id": "dbcdd19a",
   "metadata": {},
   "outputs": [],
   "source": []
  },
  {
   "cell_type": "code",
   "execution_count": 57,
   "id": "0a70eb1a",
   "metadata": {},
   "outputs": [
    {
     "data": {
      "text/plain": [
       "0"
      ]
     },
     "execution_count": 57,
     "metadata": {},
     "output_type": "execute_result"
    }
   ],
   "source": [
    "4 % 2"
   ]
  },
  {
   "cell_type": "code",
   "execution_count": 58,
   "id": "faa90a41",
   "metadata": {},
   "outputs": [
    {
     "data": {
      "text/plain": [
       "1"
      ]
     },
     "execution_count": 58,
     "metadata": {},
     "output_type": "execute_result"
    }
   ],
   "source": [
    "5 % 2"
   ]
  },
  {
   "cell_type": "code",
   "execution_count": 59,
   "id": "ef084cef",
   "metadata": {},
   "outputs": [
    {
     "data": {
      "text/plain": [
       "1"
      ]
     },
     "execution_count": 59,
     "metadata": {},
     "output_type": "execute_result"
    }
   ],
   "source": [
    "int.__mod__(5, 2)"
   ]
  },
  {
   "cell_type": "code",
   "execution_count": 60,
   "id": "2e724f4d",
   "metadata": {},
   "outputs": [],
   "source": [
    "class MethodMod:\n",
    "    \n",
    "    def __init__(self, number):\n",
    "        self.__number = number\n",
    "    \n",
    "    def __mod__(self, other):\n",
    "        return self.__number % other.__number"
   ]
  },
  {
   "cell_type": "code",
   "execution_count": 61,
   "id": "fbea3eeb",
   "metadata": {},
   "outputs": [],
   "source": [
    "num_1 = MethodMod(10)\n",
    "\n",
    "num_2 = MethodMod(3)"
   ]
  },
  {
   "cell_type": "code",
   "execution_count": 62,
   "id": "38a5c58b",
   "metadata": {},
   "outputs": [
    {
     "data": {
      "text/plain": [
       "1"
      ]
     },
     "execution_count": 62,
     "metadata": {},
     "output_type": "execute_result"
    }
   ],
   "source": [
    "num_1 % num_2"
   ]
  },
  {
   "cell_type": "code",
   "execution_count": null,
   "id": "b4bf6ba5",
   "metadata": {},
   "outputs": [],
   "source": []
  },
  {
   "cell_type": "code",
   "execution_count": 63,
   "id": "ae74d3fa",
   "metadata": {},
   "outputs": [
    {
     "data": {
      "text/plain": [
       "36"
      ]
     },
     "execution_count": 63,
     "metadata": {},
     "output_type": "execute_result"
    }
   ],
   "source": [
    "6 ** 2"
   ]
  },
  {
   "cell_type": "code",
   "execution_count": 64,
   "id": "d04f985f",
   "metadata": {},
   "outputs": [
    {
     "data": {
      "text/plain": [
       "36"
      ]
     },
     "execution_count": 64,
     "metadata": {},
     "output_type": "execute_result"
    }
   ],
   "source": [
    "int.__pow__(6, 2)"
   ]
  },
  {
   "cell_type": "code",
   "execution_count": 65,
   "id": "65c011c7",
   "metadata": {},
   "outputs": [],
   "source": [
    "class MethodPower:\n",
    "    \n",
    "    def __init__(self, number):\n",
    "        self.number = number\n",
    "        \n",
    "    def __pow__(self, other):\n",
    "        return self.number**other.number"
   ]
  },
  {
   "cell_type": "code",
   "execution_count": 66,
   "id": "7212f9c4",
   "metadata": {},
   "outputs": [],
   "source": [
    "num_1 = MethodPower(10)\n",
    "\n",
    "num_2 = MethodPower(3)"
   ]
  },
  {
   "cell_type": "code",
   "execution_count": 67,
   "id": "13b4a5bf",
   "metadata": {},
   "outputs": [
    {
     "data": {
      "text/plain": [
       "1000"
      ]
     },
     "execution_count": 67,
     "metadata": {},
     "output_type": "execute_result"
    }
   ],
   "source": [
    "num_1 ** num_2"
   ]
  },
  {
   "cell_type": "code",
   "execution_count": null,
   "id": "fbded5a8",
   "metadata": {},
   "outputs": [],
   "source": []
  },
  {
   "cell_type": "code",
   "execution_count": 68,
   "id": "1f2af2dc",
   "metadata": {},
   "outputs": [
    {
     "data": {
      "text/plain": [
       "4"
      ]
     },
     "execution_count": 68,
     "metadata": {},
     "output_type": "execute_result"
    }
   ],
   "source": [
    "len('test')"
   ]
  },
  {
   "cell_type": "code",
   "execution_count": 69,
   "id": "65a77f46",
   "metadata": {},
   "outputs": [
    {
     "data": {
      "text/plain": [
       "4"
      ]
     },
     "execution_count": 69,
     "metadata": {},
     "output_type": "execute_result"
    }
   ],
   "source": [
    "str.__len__('test')"
   ]
  },
  {
   "cell_type": "code",
   "execution_count": 70,
   "id": "edc3acd4",
   "metadata": {},
   "outputs": [
    {
     "data": {
      "text/plain": [
       "7"
      ]
     },
     "execution_count": 70,
     "metadata": {},
     "output_type": "execute_result"
    }
   ],
   "source": [
    "some_list = [1, 4, 5, 7, 2, 3, 5]\n",
    "\n",
    "len(some_list)"
   ]
  },
  {
   "cell_type": "code",
   "execution_count": 74,
   "id": "c0673a41",
   "metadata": {},
   "outputs": [],
   "source": [
    "class Participants:\n",
    "    \n",
    "    def __init__(self):\n",
    "        self.__participants = []\n",
    "        \n",
    "    def add_participant(self, name):\n",
    "        self.__participants.append(name)\n",
    "        \n",
    "    def __len__(self):\n",
    "        return len(self.__participants)"
   ]
  },
  {
   "cell_type": "code",
   "execution_count": 75,
   "id": "924d9d05",
   "metadata": {},
   "outputs": [],
   "source": [
    "p = Participants()"
   ]
  },
  {
   "cell_type": "code",
   "execution_count": 76,
   "id": "bc122721",
   "metadata": {},
   "outputs": [
    {
     "data": {
      "text/plain": [
       "0"
      ]
     },
     "execution_count": 76,
     "metadata": {},
     "output_type": "execute_result"
    }
   ],
   "source": [
    "len(p)"
   ]
  },
  {
   "cell_type": "code",
   "execution_count": 77,
   "id": "ce3ee93c",
   "metadata": {},
   "outputs": [],
   "source": [
    "p.add_participant('James')"
   ]
  },
  {
   "cell_type": "code",
   "execution_count": 78,
   "id": "de69421a",
   "metadata": {},
   "outputs": [
    {
     "data": {
      "text/plain": [
       "1"
      ]
     },
     "execution_count": 78,
     "metadata": {},
     "output_type": "execute_result"
    }
   ],
   "source": [
    "len(p)"
   ]
  },
  {
   "cell_type": "code",
   "execution_count": 79,
   "id": "2f57ef04",
   "metadata": {},
   "outputs": [],
   "source": [
    "p.add_participant('Emily')"
   ]
  },
  {
   "cell_type": "code",
   "execution_count": 80,
   "id": "e112a319",
   "metadata": {},
   "outputs": [
    {
     "data": {
      "text/plain": [
       "2"
      ]
     },
     "execution_count": 80,
     "metadata": {},
     "output_type": "execute_result"
    }
   ],
   "source": [
    "len(p)"
   ]
  },
  {
   "cell_type": "code",
   "execution_count": 81,
   "id": "c30984f6",
   "metadata": {},
   "outputs": [
    {
     "data": {
      "text/plain": [
       "mappingproxy({'__repr__': <slot wrapper '__repr__' of 'list' objects>,\n",
       "              '__hash__': None,\n",
       "              '__getattribute__': <slot wrapper '__getattribute__' of 'list' objects>,\n",
       "              '__lt__': <slot wrapper '__lt__' of 'list' objects>,\n",
       "              '__le__': <slot wrapper '__le__' of 'list' objects>,\n",
       "              '__eq__': <slot wrapper '__eq__' of 'list' objects>,\n",
       "              '__ne__': <slot wrapper '__ne__' of 'list' objects>,\n",
       "              '__gt__': <slot wrapper '__gt__' of 'list' objects>,\n",
       "              '__ge__': <slot wrapper '__ge__' of 'list' objects>,\n",
       "              '__iter__': <slot wrapper '__iter__' of 'list' objects>,\n",
       "              '__init__': <slot wrapper '__init__' of 'list' objects>,\n",
       "              '__len__': <slot wrapper '__len__' of 'list' objects>,\n",
       "              '__getitem__': <method '__getitem__' of 'list' objects>,\n",
       "              '__setitem__': <slot wrapper '__setitem__' of 'list' objects>,\n",
       "              '__delitem__': <slot wrapper '__delitem__' of 'list' objects>,\n",
       "              '__add__': <slot wrapper '__add__' of 'list' objects>,\n",
       "              '__mul__': <slot wrapper '__mul__' of 'list' objects>,\n",
       "              '__rmul__': <slot wrapper '__rmul__' of 'list' objects>,\n",
       "              '__contains__': <slot wrapper '__contains__' of 'list' objects>,\n",
       "              '__iadd__': <slot wrapper '__iadd__' of 'list' objects>,\n",
       "              '__imul__': <slot wrapper '__imul__' of 'list' objects>,\n",
       "              '__new__': <function list.__new__(*args, **kwargs)>,\n",
       "              '__reversed__': <method '__reversed__' of 'list' objects>,\n",
       "              '__sizeof__': <method '__sizeof__' of 'list' objects>,\n",
       "              'clear': <method 'clear' of 'list' objects>,\n",
       "              'copy': <method 'copy' of 'list' objects>,\n",
       "              'append': <method 'append' of 'list' objects>,\n",
       "              'insert': <method 'insert' of 'list' objects>,\n",
       "              'extend': <method 'extend' of 'list' objects>,\n",
       "              'pop': <method 'pop' of 'list' objects>,\n",
       "              'remove': <method 'remove' of 'list' objects>,\n",
       "              'index': <method 'index' of 'list' objects>,\n",
       "              'count': <method 'count' of 'list' objects>,\n",
       "              'reverse': <method 'reverse' of 'list' objects>,\n",
       "              'sort': <method 'sort' of 'list' objects>,\n",
       "              '__doc__': \"list() -> new empty list\\nlist(iterable) -> new list initialized from iterable's items\"})"
      ]
     },
     "execution_count": 81,
     "metadata": {},
     "output_type": "execute_result"
    }
   ],
   "source": [
    "list.__dict__"
   ]
  },
  {
   "cell_type": "code",
   "execution_count": null,
   "id": "1ab6c12c",
   "metadata": {},
   "outputs": [],
   "source": []
  },
  {
   "cell_type": "code",
   "execution_count": 82,
   "id": "e59c6604",
   "metadata": {},
   "outputs": [],
   "source": [
    "some_list = [1, 4, 5, 7, 2, 3, 5]"
   ]
  },
  {
   "cell_type": "code",
   "execution_count": 83,
   "id": "99ed5d84",
   "metadata": {},
   "outputs": [
    {
     "name": "stdout",
     "output_type": "stream",
     "text": [
      "1\n",
      "4\n",
      "5\n",
      "7\n",
      "2\n",
      "3\n",
      "5\n"
     ]
    }
   ],
   "source": [
    "for num in some_list:\n",
    "    print(num)"
   ]
  },
  {
   "cell_type": "code",
   "execution_count": 84,
   "id": "664f9c39",
   "metadata": {},
   "outputs": [],
   "source": [
    "class Participants:\n",
    "    \n",
    "    def __init__(self):\n",
    "        self.__participants = []\n",
    "        self.__index = 0\n",
    "        \n",
    "    def add_participant(self, name):\n",
    "        self.__participants.append(name)\n",
    "        \n",
    "    def __len__(self):\n",
    "        return len(self.__participants)\n",
    "    \n",
    "    def __iter__(self):\n",
    "        self.__index = 0\n",
    "        return self\n",
    "    \n",
    "    def __next__(self):\n",
    "        if self.__index == len(self.__participants):\n",
    "            raise StopIteration\n",
    "            \n",
    "        p = self.__participants[self.__index]\n",
    "        \n",
    "        self.__index += 1\n",
    "        \n",
    "        return p"
   ]
  },
  {
   "cell_type": "code",
   "execution_count": 85,
   "id": "56db21e8",
   "metadata": {},
   "outputs": [],
   "source": [
    "participants = Participants()\n",
    "\n",
    "participants.add_participant('Lily')\n",
    "participants.add_participant('James')\n",
    "participants.add_participant('Harry')\n",
    "participants.add_participant('Ron')\n",
    "participants.add_participant('Hermione')"
   ]
  },
  {
   "cell_type": "code",
   "execution_count": 86,
   "id": "ea5eb76c",
   "metadata": {},
   "outputs": [
    {
     "name": "stdout",
     "output_type": "stream",
     "text": [
      "Lily\n",
      "James\n",
      "Harry\n",
      "Ron\n",
      "Hermione\n"
     ]
    }
   ],
   "source": [
    "for p in participants:\n",
    "    print(p)"
   ]
  },
  {
   "cell_type": "code",
   "execution_count": 87,
   "id": "6a50a468",
   "metadata": {},
   "outputs": [],
   "source": [
    "participants.add_participant('Ginny')"
   ]
  },
  {
   "cell_type": "code",
   "execution_count": 88,
   "id": "4b5064dd",
   "metadata": {},
   "outputs": [
    {
     "name": "stdout",
     "output_type": "stream",
     "text": [
      "Lily\n",
      "James\n",
      "Harry\n",
      "Ron\n",
      "Hermione\n",
      "Ginny\n"
     ]
    }
   ],
   "source": [
    "for p in participants:\n",
    "    print(p)"
   ]
  },
  {
   "cell_type": "code",
   "execution_count": 89,
   "id": "981660b6",
   "metadata": {},
   "outputs": [
    {
     "data": {
      "text/plain": [
       "<__main__.Participants at 0x7fafe1748470>"
      ]
     },
     "execution_count": 89,
     "metadata": {},
     "output_type": "execute_result"
    }
   ],
   "source": [
    "iter(participants)"
   ]
  },
  {
   "cell_type": "code",
   "execution_count": 92,
   "id": "926583d8",
   "metadata": {},
   "outputs": [
    {
     "data": {
      "text/plain": [
       "'Harry'"
      ]
     },
     "execution_count": 92,
     "metadata": {},
     "output_type": "execute_result"
    }
   ],
   "source": [
    "next(participants)"
   ]
  },
  {
   "cell_type": "code",
   "execution_count": null,
   "id": "85213b9e",
   "metadata": {},
   "outputs": [],
   "source": []
  }
 ],
 "metadata": {
  "kernelspec": {
   "display_name": "Python 3",
   "language": "python",
   "name": "python3"
  },
  "language_info": {
   "codemirror_mode": {
    "name": "ipython",
    "version": 3
   },
   "file_extension": ".py",
   "mimetype": "text/x-python",
   "name": "python",
   "nbconvert_exporter": "python",
   "pygments_lexer": "ipython3",
   "version": "3.6.9"
  }
 },
 "nbformat": 4,
 "nbformat_minor": 5
}
