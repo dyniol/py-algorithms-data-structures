{
 "cells": [
  {
   "cell_type": "markdown",
   "id": "a486cbef",
   "metadata": {},
   "source": [
    "Polymorphism - The ability of an object to take on many forms"
   ]
  },
  {
   "cell_type": "code",
   "execution_count": 1,
   "id": "8038a066",
   "metadata": {},
   "outputs": [],
   "source": [
    "class Hominidae():\n",
    "    \n",
    "    def communication(self):\n",
    "        print('They use auditory calls and visual cues.')\n",
    "        \n",
    "    def walk(self):\n",
    "        print('THey are knuckle-walkers, used to hang and swing from one tree to another')"
   ]
  },
  {
   "cell_type": "code",
   "execution_count": 11,
   "id": "98f9a766",
   "metadata": {},
   "outputs": [],
   "source": [
    "class Human(Hominidae):\n",
    "    \n",
    "    def communication(self):\n",
    "        print('They use language to communicate')\n",
    "        \n",
    "    def walk(self):\n",
    "        print('They are bipeds')"
   ]
  },
  {
   "cell_type": "code",
   "execution_count": 4,
   "id": "2c2e16a0",
   "metadata": {},
   "outputs": [],
   "source": [
    "# different code definitions in the base class and in the derived class"
   ]
  },
  {
   "cell_type": "code",
   "execution_count": 6,
   "id": "d1be1b2e",
   "metadata": {},
   "outputs": [],
   "source": [
    "class Gorrila(Hominidae):\n",
    "    \n",
    "    def communication(self):\n",
    "        print('They use twenty-five distinct vocalizations to communicate')\n",
    "        \n",
    "    def walk(self):\n",
    "        print('They are knuckle-walkers')"
   ]
  },
  {
   "cell_type": "code",
   "execution_count": 13,
   "id": "0f780694",
   "metadata": {},
   "outputs": [],
   "source": [
    "hominidae_1 = Hominidae()\n",
    "\n",
    "human_1 = Human()\n",
    "\n",
    "gorrila_1 = Gorrila()"
   ]
  },
  {
   "cell_type": "code",
   "execution_count": 9,
   "id": "d2548041",
   "metadata": {},
   "outputs": [
    {
     "name": "stdout",
     "output_type": "stream",
     "text": [
      "They use auditory calls and visual cues.\n",
      "They use language to communicate\n",
      "They use twenty-five distinct vocalizations to communicate\n"
     ]
    }
   ],
   "source": [
    "hominidae_1.communication()\n",
    "\n",
    "human_1.communication()\n",
    "\n",
    "gorrila_1.communication()"
   ]
  },
  {
   "cell_type": "code",
   "execution_count": 14,
   "id": "b5bee5ce",
   "metadata": {},
   "outputs": [
    {
     "name": "stdout",
     "output_type": "stream",
     "text": [
      "THey are knuckle-walkers, used to hang and swing from one tree to another\n",
      "They are bipeds\n",
      "They are knuckle-walkers\n"
     ]
    }
   ],
   "source": [
    "hominidae_1.walk()\n",
    "\n",
    "human_1.walk()\n",
    "\n",
    "gorrila_1.walk()"
   ]
  },
  {
   "cell_type": "code",
   "execution_count": null,
   "id": "6cb46aee",
   "metadata": {},
   "outputs": [],
   "source": []
  },
  {
   "cell_type": "code",
   "execution_count": 21,
   "id": "e2de8c25",
   "metadata": {},
   "outputs": [],
   "source": [
    "class BankAccount:\n",
    "    \n",
    "    def __init__(self, balance):\n",
    "        self.__balance = balance\n",
    "        \n",
    "    def deposit(self, value):\n",
    "        self.__balance = self.__balance + value\n",
    "        \n",
    "        print('Deposit amount:', value)\n",
    "        print('Balance after depositing:', self.__balance)\n",
    "        \n",
    "    def withdrawal(self, value):\n",
    "        self.__balance = self.__balance - value\n",
    "        \n",
    "        print('Withdrawal amount:', value)\n",
    "        print('Balance after withdrawal:', self.__balance)"
   ]
  },
  {
   "cell_type": "code",
   "execution_count": 23,
   "id": "d6c07351",
   "metadata": {},
   "outputs": [],
   "source": [
    "b_1 = BankAccount(1500)"
   ]
  },
  {
   "cell_type": "code",
   "execution_count": 24,
   "id": "a7c18454",
   "metadata": {},
   "outputs": [
    {
     "name": "stdout",
     "output_type": "stream",
     "text": [
      "Deposit amount: 100\n",
      "Balance after depositing: 1600\n"
     ]
    }
   ],
   "source": [
    "b_1.deposit(100)"
   ]
  },
  {
   "cell_type": "code",
   "execution_count": 25,
   "id": "9820d967",
   "metadata": {},
   "outputs": [
    {
     "name": "stdout",
     "output_type": "stream",
     "text": [
      "Withdrawal amount: 200\n",
      "Balance after withdrawal: 1400\n"
     ]
    }
   ],
   "source": [
    "b_1.withdrawal(200)"
   ]
  },
  {
   "cell_type": "code",
   "execution_count": 26,
   "id": "3e3fca4c",
   "metadata": {},
   "outputs": [],
   "source": [
    "class CurrentAccount(BankAccount):\n",
    "    \n",
    "    def __init__(self, balance):\n",
    "        super().__init__(balance)\n",
    "        \n",
    "    def withdrawal(self, value):\n",
    "        if value > 1000:\n",
    "            print('Contact your branch manager')\n",
    "        else:\n",
    "            super().withdrawal(value)"
   ]
  },
  {
   "cell_type": "code",
   "execution_count": 27,
   "id": "a771d68e",
   "metadata": {},
   "outputs": [],
   "source": [
    "c1 = CurrentAccount(1500)"
   ]
  },
  {
   "cell_type": "code",
   "execution_count": 28,
   "id": "ca239eab",
   "metadata": {},
   "outputs": [
    {
     "name": "stdout",
     "output_type": "stream",
     "text": [
      "Withdrawal amount: 100\n",
      "Balance after withdrawal: 1400\n"
     ]
    }
   ],
   "source": [
    "c1.withdrawal(100)"
   ]
  },
  {
   "cell_type": "code",
   "execution_count": 29,
   "id": "b7bc10a8",
   "metadata": {},
   "outputs": [
    {
     "name": "stdout",
     "output_type": "stream",
     "text": [
      "Contact your branch manager\n"
     ]
    }
   ],
   "source": [
    "c1.withdrawal(1100)"
   ]
  },
  {
   "cell_type": "code",
   "execution_count": 32,
   "id": "809875b0",
   "metadata": {},
   "outputs": [],
   "source": [
    "class SavingsAccount(BankAccount):\n",
    "    \n",
    "    def __init__(self, balance):\n",
    "        super().__init__(balance)\n",
    "        \n",
    "    def deposit(self, value):\n",
    "        value += 0.05 * value\n",
    "        \n",
    "        super().deposit(value)"
   ]
  },
  {
   "cell_type": "code",
   "execution_count": 33,
   "id": "c001a084",
   "metadata": {},
   "outputs": [],
   "source": [
    "s1 = SavingsAccount(2000)"
   ]
  },
  {
   "cell_type": "code",
   "execution_count": 34,
   "id": "0e5aafa7",
   "metadata": {},
   "outputs": [
    {
     "name": "stdout",
     "output_type": "stream",
     "text": [
      "Deposit amount: 525.0\n",
      "Balance after depositing: 2525.0\n"
     ]
    }
   ],
   "source": [
    "s1.deposit(500)"
   ]
  },
  {
   "cell_type": "code",
   "execution_count": null,
   "id": "c3dd3ff9",
   "metadata": {},
   "outputs": [],
   "source": []
  }
 ],
 "metadata": {
  "kernelspec": {
   "display_name": "Python 3",
   "language": "python",
   "name": "python3"
  },
  "language_info": {
   "codemirror_mode": {
    "name": "ipython",
    "version": 3
   },
   "file_extension": ".py",
   "mimetype": "text/x-python",
   "name": "python",
   "nbconvert_exporter": "python",
   "pygments_lexer": "ipython3",
   "version": "3.6.9"
  }
 },
 "nbformat": 4,
 "nbformat_minor": 5
}
