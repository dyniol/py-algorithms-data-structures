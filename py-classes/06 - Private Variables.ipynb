{
 "cells": [
  {
   "cell_type": "code",
   "execution_count": 1,
   "id": "04c54e2c",
   "metadata": {},
   "outputs": [],
   "source": [
    "class Dog:\n",
    "    \n",
    "    def __init__ (self, name, breed):\n",
    "        \n",
    "        self.name = name\n",
    "        self.breed = breed\n",
    "        \n",
    "    def print_details(self):\n",
    "        \n",
    "        print('My name is %s and I am a %s' % (self.name, self.breed))"
   ]
  },
  {
   "cell_type": "code",
   "execution_count": 2,
   "id": "7a111b1f",
   "metadata": {},
   "outputs": [
    {
     "name": "stdout",
     "output_type": "stream",
     "text": [
      "My name is Oba and I am a Labrador\n"
     ]
    }
   ],
   "source": [
    "d1 = Dog('Oba', 'Labrador')\n",
    "\n",
    "d1.print_details()"
   ]
  },
  {
   "cell_type": "code",
   "execution_count": 3,
   "id": "1cde9ff5",
   "metadata": {},
   "outputs": [
    {
     "name": "stdout",
     "output_type": "stream",
     "text": [
      "My name is Nemo and I am a Labrador\n"
     ]
    }
   ],
   "source": [
    "d1.name = 'Nemo'\n",
    "\n",
    "d1.print_details()"
   ]
  },
  {
   "cell_type": "code",
   "execution_count": 4,
   "id": "37511e47",
   "metadata": {},
   "outputs": [
    {
     "name": "stdout",
     "output_type": "stream",
     "text": [
      "My name is Nemo and I am a Golden Retriver\n"
     ]
    }
   ],
   "source": [
    "d1.breed = 'Golden Retriver'\n",
    "\n",
    "d1.print_details()"
   ]
  },
  {
   "cell_type": "code",
   "execution_count": 5,
   "id": "957c69b4",
   "metadata": {},
   "outputs": [
    {
     "data": {
      "text/plain": [
       "mappingproxy({'__module__': '__main__',\n",
       "              '__init__': <function __main__.Dog.__init__(self, name, breed)>,\n",
       "              'print_details': <function __main__.Dog.print_details(self)>,\n",
       "              '__dict__': <attribute '__dict__' of 'Dog' objects>,\n",
       "              '__weakref__': <attribute '__weakref__' of 'Dog' objects>,\n",
       "              '__doc__': None})"
      ]
     },
     "execution_count": 5,
     "metadata": {},
     "output_type": "execute_result"
    }
   ],
   "source": [
    "Dog.__dict__"
   ]
  },
  {
   "cell_type": "code",
   "execution_count": 6,
   "id": "a45d0ded",
   "metadata": {},
   "outputs": [
    {
     "data": {
      "text/plain": [
       "{'name': 'Nemo', 'breed': 'Golden Retriver'}"
      ]
     },
     "execution_count": 6,
     "metadata": {},
     "output_type": "execute_result"
    }
   ],
   "source": [
    "d1.__dict__"
   ]
  },
  {
   "cell_type": "code",
   "execution_count": null,
   "id": "42880e64",
   "metadata": {},
   "outputs": [],
   "source": [
    "# underscores are important in python, more here: \n",
    "# https://towardsdatascience.com/why-python-loves-underscores-so-much-de03cf7bdcdd"
   ]
  },
  {
   "cell_type": "code",
   "execution_count": 7,
   "id": "14fc29c6",
   "metadata": {},
   "outputs": [],
   "source": [
    "class Dog:\n",
    "    \n",
    "    def __init__(self, name, breed):\n",
    "        \n",
    "        self.__name = name   # thanks to double underscore before variable name, we connect this variable to 'Dog'\n",
    "        self.__breed = breed # class\n",
    "        \n",
    "    def print_details(self):\n",
    "        \n",
    "        print('My name is %s and I am a %s' % (self.__name, self.__breed))"
   ]
  },
  {
   "cell_type": "code",
   "execution_count": 8,
   "id": "29770ba2",
   "metadata": {},
   "outputs": [
    {
     "name": "stdout",
     "output_type": "stream",
     "text": [
      "My name is Moje and I am a Golden Retriever\n"
     ]
    }
   ],
   "source": [
    "d1 = Dog('Moje', 'Golden Retriever')\n",
    "\n",
    "d1.print_details()"
   ]
  },
  {
   "cell_type": "code",
   "execution_count": 9,
   "id": "4768176f",
   "metadata": {},
   "outputs": [
    {
     "data": {
      "text/plain": [
       "{'_Dog__name': 'Moje', '_Dog__breed': 'Golden Retriever'}"
      ]
     },
     "execution_count": 9,
     "metadata": {},
     "output_type": "execute_result"
    }
   ],
   "source": [
    "d1.__dict__"
   ]
  },
  {
   "cell_type": "code",
   "execution_count": 10,
   "id": "04c6a912",
   "metadata": {},
   "outputs": [
    {
     "name": "stdout",
     "output_type": "stream",
     "text": [
      "My name is Moje and I am a Golden Retriever\n"
     ]
    }
   ],
   "source": [
    "d1.__name = 'Oba' # when accessed from outside the class created a new attribute\n",
    "\n",
    "d1.print_details()"
   ]
  },
  {
   "cell_type": "code",
   "execution_count": 11,
   "id": "e160908d",
   "metadata": {},
   "outputs": [
    {
     "data": {
      "text/plain": [
       "{'_Dog__name': 'Moje', '_Dog__breed': 'Golden Retriever', '__name': 'Oba'}"
      ]
     },
     "execution_count": 11,
     "metadata": {},
     "output_type": "execute_result"
    }
   ],
   "source": [
    "d1.__dict__"
   ]
  },
  {
   "cell_type": "code",
   "execution_count": 12,
   "id": "2c14b637",
   "metadata": {},
   "outputs": [
    {
     "name": "stdout",
     "output_type": "stream",
     "text": [
      "My name is Moje and I am a Husky\n"
     ]
    }
   ],
   "source": [
    "d1._Dog__breed = 'Husky' # accesing the 'Dog' class by single underscore\n",
    "                         # if you really want to, you can change instance variables from outside the class\n",
    "\n",
    "d1.print_details()"
   ]
  },
  {
   "cell_type": "code",
   "execution_count": 13,
   "id": "c94cd72e",
   "metadata": {},
   "outputs": [],
   "source": [
    "class Dog:\n",
    "    \n",
    "    def __init__(self, name, breed):\n",
    "        \n",
    "        self.__name = name\n",
    "        self.__breed = breed\n",
    "        \n",
    "    def print_details(self):\n",
    "        print('My name is %s and I am a %s' % (self.__name, self.__breed))\n",
    "        \n",
    "    def change_name(self, name):\n",
    "        self.__name = name"
   ]
  },
  {
   "cell_type": "code",
   "execution_count": 14,
   "id": "6eefc553",
   "metadata": {},
   "outputs": [
    {
     "name": "stdout",
     "output_type": "stream",
     "text": [
      "My name is Nemo and I am a Husky\n"
     ]
    }
   ],
   "source": [
    "d1 = Dog('Nemo', 'Husky')\n",
    "\n",
    "d1.print_details()"
   ]
  },
  {
   "cell_type": "code",
   "execution_count": 15,
   "id": "a4b677da",
   "metadata": {},
   "outputs": [
    {
     "name": "stdout",
     "output_type": "stream",
     "text": [
      "My name is Oba and I am a Husky\n"
     ]
    }
   ],
   "source": [
    "d1.change_name('Oba')\n",
    "\n",
    "d1.print_details()"
   ]
  },
  {
   "cell_type": "code",
   "execution_count": 16,
   "id": "b2680db5",
   "metadata": {},
   "outputs": [],
   "source": [
    "class Dog:\n",
    "   \n",
    "    # Using getters and setters, rather than accessing the instance variables directly\n",
    "\n",
    "    __species = 'caine'\n",
    "    \n",
    "    def __init__(self, name, breed):\n",
    "        \n",
    "        self.__name = name\n",
    "        self.__breed = breed\n",
    "        self.__tricks = []\n",
    "        \n",
    "    def get_name(self):\n",
    "        return self.__name\n",
    "    \n",
    "    def set_name(self, name):\n",
    "        self.__name = name\n",
    "        \n",
    "    def get_breed(self):\n",
    "        return self.__breed\n",
    "    \n",
    "    def set_breed(self, breed):\n",
    "        self.__breed = breed\n",
    "        \n",
    "    def add_trick(self, trick):\n",
    "        self.__tricks.append(trick)\n",
    "        \n",
    "    def print_details(self):\n",
    "        print('My name is %s and I am a %s and I can do tricks! %s' % \n",
    "              (self.__name, self.__breed, self.__tricks))"
   ]
  },
  {
   "cell_type": "code",
   "execution_count": 17,
   "id": "2a5d307f",
   "metadata": {},
   "outputs": [
    {
     "name": "stdout",
     "output_type": "stream",
     "text": [
      "My name is Moje and I am a Golden Retriver and I can do tricks! []\n"
     ]
    }
   ],
   "source": [
    "d1 = Dog('Moje', 'Golden Retriver')\n",
    "\n",
    "d1.print_details()"
   ]
  },
  {
   "cell_type": "code",
   "execution_count": 18,
   "id": "db219c4a",
   "metadata": {},
   "outputs": [
    {
     "name": "stdout",
     "output_type": "stream",
     "text": [
      "My name is Moje and I am a Golden Retriver and I can do tricks! ['roll over']\n"
     ]
    }
   ],
   "source": [
    "d1.add_trick('roll over')\n",
    "\n",
    "d1.print_details()"
   ]
  },
  {
   "cell_type": "code",
   "execution_count": 19,
   "id": "703271dd",
   "metadata": {},
   "outputs": [
    {
     "name": "stdout",
     "output_type": "stream",
     "text": [
      "My name is Moje and I am a Labrador and I can do tricks! ['roll over']\n"
     ]
    }
   ],
   "source": [
    "d1.set_breed('Labrador')\n",
    "\n",
    "d1.print_details()"
   ]
  },
  {
   "cell_type": "code",
   "execution_count": 20,
   "id": "48fce2e6",
   "metadata": {},
   "outputs": [],
   "source": [
    "class Dog:\n",
    "    \n",
    "    \"\"\" \n",
    "        This is a class which defines a dog.\n",
    "        This includes cute dogs as well as ferocious dogs.\n",
    "    \"\"\"\n",
    "    \n",
    "    __species = 'canine'\n",
    "    \n",
    "    def __init__(self, name, breed):\n",
    "        self.__name = name\n",
    "        self.__breed = breed\n",
    "        self.__tricks = []\n",
    "        \n",
    "    def print_details(self):\n",
    "        print('My name is %s and I am a %s' % (self.__name, self.__breed))\n",
    "        print('Here are the tricks I can do: ', self.__tricks)\n",
    "        \n",
    "    def change_name(self, name):\n",
    "        self.__name = name\n",
    "        \n",
    "    def change_breed(self, breed):\n",
    "        self.__breed = breed\n",
    "        \n",
    "    def change_name_and_breed(self, name, breed):\n",
    "        self.change_name(name)\n",
    "        self.change_breed(breed)\n",
    "        \n",
    "    def add_trick(self, trick):\n",
    "        self.__tricks.append(trick)"
   ]
  },
  {
   "cell_type": "code",
   "execution_count": 21,
   "id": "95a9bd6d",
   "metadata": {},
   "outputs": [
    {
     "name": "stdout",
     "output_type": "stream",
     "text": [
      "My name is Moje and I am a Golden Retriver\n",
      "Here are the tricks I can do:  []\n"
     ]
    }
   ],
   "source": [
    "d1 = Dog('Moje', 'Golden Retriver')\n",
    "\n",
    "d1.print_details()"
   ]
  },
  {
   "cell_type": "code",
   "execution_count": 22,
   "id": "eec1c09e",
   "metadata": {},
   "outputs": [
    {
     "name": "stdout",
     "output_type": "stream",
     "text": [
      "My name is Oba and I am a Labrador\n",
      "Here are the tricks I can do:  []\n"
     ]
    }
   ],
   "source": [
    "d1.change_name_and_breed('Oba', 'Labrador')\n",
    "\n",
    "d1.print_details()"
   ]
  },
  {
   "cell_type": "code",
   "execution_count": null,
   "id": "76069c54",
   "metadata": {},
   "outputs": [],
   "source": []
  }
 ],
 "metadata": {
  "kernelspec": {
   "display_name": "Python 3",
   "language": "python",
   "name": "python3"
  },
  "language_info": {
   "codemirror_mode": {
    "name": "ipython",
    "version": 3
   },
   "file_extension": ".py",
   "mimetype": "text/x-python",
   "name": "python",
   "nbconvert_exporter": "python",
   "pygments_lexer": "ipython3",
   "version": "3.6.9"
  }
 },
 "nbformat": 4,
 "nbformat_minor": 5
}
