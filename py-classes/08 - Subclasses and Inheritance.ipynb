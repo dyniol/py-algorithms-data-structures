{
 "cells": [
  {
   "cell_type": "code",
   "execution_count": 1,
   "id": "482022f2",
   "metadata": {},
   "outputs": [],
   "source": [
    "class Shape:\n",
    "    pass"
   ]
  },
  {
   "cell_type": "code",
   "execution_count": 2,
   "id": "f51d4913",
   "metadata": {},
   "outputs": [],
   "source": [
    "class Shape():\n",
    "    pass"
   ]
  },
  {
   "cell_type": "code",
   "execution_count": 3,
   "id": "0a860d9b",
   "metadata": {},
   "outputs": [],
   "source": [
    "class Shape(object): # inheritance from object (built-in)\n",
    "    pass"
   ]
  },
  {
   "cell_type": "code",
   "execution_count": 4,
   "id": "e47770f5",
   "metadata": {},
   "outputs": [],
   "source": [
    "class Shape:\n",
    "    \n",
    "    def __init__(self, shape_type):\n",
    "        self.__type = shape_type\n",
    "        \n",
    "    def get_type(self):\n",
    "        return self.__type"
   ]
  },
  {
   "cell_type": "code",
   "execution_count": 5,
   "id": "14fbb45e",
   "metadata": {},
   "outputs": [
    {
     "data": {
      "text/plain": [
       "__main__.Shape"
      ]
     },
     "execution_count": 5,
     "metadata": {},
     "output_type": "execute_result"
    }
   ],
   "source": [
    "circle = Shape('circle')\n",
    "\n",
    "type(circle)"
   ]
  },
  {
   "cell_type": "code",
   "execution_count": 6,
   "id": "9785d2ca",
   "metadata": {},
   "outputs": [
    {
     "data": {
      "text/plain": [
       "'circle'"
      ]
     },
     "execution_count": 6,
     "metadata": {},
     "output_type": "execute_result"
    }
   ],
   "source": [
    "circle.get_type()"
   ]
  },
  {
   "cell_type": "code",
   "execution_count": 7,
   "id": "c75e093d",
   "metadata": {},
   "outputs": [
    {
     "data": {
      "text/plain": [
       "__main__.Shape"
      ]
     },
     "execution_count": 7,
     "metadata": {},
     "output_type": "execute_result"
    }
   ],
   "source": [
    "square = Shape('square')\n",
    "\n",
    "type(square)"
   ]
  },
  {
   "cell_type": "code",
   "execution_count": 8,
   "id": "4b59b752",
   "metadata": {},
   "outputs": [
    {
     "data": {
      "text/plain": [
       "'square'"
      ]
     },
     "execution_count": 8,
     "metadata": {},
     "output_type": "execute_result"
    }
   ],
   "source": [
    "square.get_type()"
   ]
  },
  {
   "cell_type": "code",
   "execution_count": 9,
   "id": "737565f9",
   "metadata": {},
   "outputs": [],
   "source": [
    "class Shape:\n",
    "    \n",
    "    def __init__(self, shape_type, color='Red'):\n",
    "        self.__type = shape_type\n",
    "        self.__color = color\n",
    "        \n",
    "    def get_type(self):\n",
    "        return self.__type\n",
    "    \n",
    "    def get_color(self):\n",
    "        return self.__color"
   ]
  },
  {
   "cell_type": "code",
   "execution_count": 11,
   "id": "0eda3264",
   "metadata": {},
   "outputs": [
    {
     "data": {
      "text/plain": [
       "'Red'"
      ]
     },
     "execution_count": 11,
     "metadata": {},
     "output_type": "execute_result"
    }
   ],
   "source": [
    "circle = Shape('circle')\n",
    "\n",
    "circle.get_color()"
   ]
  },
  {
   "cell_type": "code",
   "execution_count": 12,
   "id": "59bbda39",
   "metadata": {},
   "outputs": [
    {
     "data": {
      "text/plain": [
       "'Blue'"
      ]
     },
     "execution_count": 12,
     "metadata": {},
     "output_type": "execute_result"
    }
   ],
   "source": [
    "square = Shape('square', color='Blue')\n",
    "\n",
    "square.get_color()"
   ]
  },
  {
   "cell_type": "code",
   "execution_count": 13,
   "id": "196ee1aa",
   "metadata": {},
   "outputs": [],
   "source": [
    "class Shape:\n",
    "    \n",
    "    def __init__(self, shape_type, color='Red'):\n",
    "        self.__type = shape_type\n",
    "        self.__color = color\n",
    "        \n",
    "    def get_type(self):\n",
    "        return self.__type\n",
    "\n",
    "    def get_color(self):\n",
    "        return self.__color\n",
    "    \n",
    "    def get_area(self):\n",
    "        pass\n",
    "    \n",
    "    def get_perimeter(self):\n",
    "        pass"
   ]
  },
  {
   "cell_type": "code",
   "execution_count": 14,
   "id": "3bcf3584",
   "metadata": {},
   "outputs": [],
   "source": [
    "s = Shape('circle')"
   ]
  },
  {
   "cell_type": "code",
   "execution_count": 15,
   "id": "17bbc833",
   "metadata": {},
   "outputs": [],
   "source": [
    "s.get_area()"
   ]
  },
  {
   "cell_type": "code",
   "execution_count": 16,
   "id": "d2a89ff7",
   "metadata": {},
   "outputs": [],
   "source": [
    "s.get_perimeter()"
   ]
  },
  {
   "cell_type": "code",
   "execution_count": 17,
   "id": "92099245",
   "metadata": {},
   "outputs": [],
   "source": [
    "class Circle(Shape):\n",
    "    pass"
   ]
  },
  {
   "cell_type": "code",
   "execution_count": 18,
   "id": "dbb400a2",
   "metadata": {},
   "outputs": [
    {
     "ename": "TypeError",
     "evalue": "__init__() missing 1 required positional argument: 'shape_type'",
     "output_type": "error",
     "traceback": [
      "\u001b[0;31m---------------------------------------------------------------------------\u001b[0m",
      "\u001b[0;31mTypeError\u001b[0m                                 Traceback (most recent call last)",
      "\u001b[0;32m<ipython-input-18-44096b99874a>\u001b[0m in \u001b[0;36m<module>\u001b[0;34m\u001b[0m\n\u001b[0;32m----> 1\u001b[0;31m \u001b[0mcircle\u001b[0m \u001b[0;34m=\u001b[0m \u001b[0mCircle\u001b[0m\u001b[0;34m(\u001b[0m\u001b[0;34m)\u001b[0m\u001b[0;34m\u001b[0m\u001b[0;34m\u001b[0m\u001b[0m\n\u001b[0m",
      "\u001b[0;31mTypeError\u001b[0m: __init__() missing 1 required positional argument: 'shape_type'"
     ]
    }
   ],
   "source": [
    "circle = Circle()"
   ]
  },
  {
   "cell_type": "code",
   "execution_count": 19,
   "id": "58605445",
   "metadata": {},
   "outputs": [
    {
     "data": {
      "text/plain": [
       "__main__.Circle"
      ]
     },
     "execution_count": 19,
     "metadata": {},
     "output_type": "execute_result"
    }
   ],
   "source": [
    "circle = Circle('circle')\n",
    "\n",
    "type(circle)"
   ]
  },
  {
   "cell_type": "code",
   "execution_count": 20,
   "id": "f78857a5",
   "metadata": {},
   "outputs": [],
   "source": [
    "class Square(Shape):\n",
    "    pass"
   ]
  },
  {
   "cell_type": "code",
   "execution_count": 21,
   "id": "35cffee0",
   "metadata": {},
   "outputs": [
    {
     "data": {
      "text/plain": [
       "__main__.Square"
      ]
     },
     "execution_count": 21,
     "metadata": {},
     "output_type": "execute_result"
    }
   ],
   "source": [
    "square = Square('square')\n",
    "\n",
    "type(square)"
   ]
  },
  {
   "cell_type": "code",
   "execution_count": 22,
   "id": "f5ad2c1a",
   "metadata": {},
   "outputs": [],
   "source": [
    "class Circle(Shape):\n",
    "    \n",
    "    def __init__(self):\n",
    "        Shape.__init__(self, 'circle')"
   ]
  },
  {
   "cell_type": "code",
   "execution_count": 23,
   "id": "caf4276f",
   "metadata": {},
   "outputs": [],
   "source": [
    "class Square(Shape):\n",
    "    \n",
    "    def __init__(self):\n",
    "        Shape.__init__(self, 'square')"
   ]
  },
  {
   "cell_type": "code",
   "execution_count": 24,
   "id": "42e4ade0",
   "metadata": {},
   "outputs": [],
   "source": [
    "circle = Circle()\n",
    "\n",
    "square = Square()"
   ]
  },
  {
   "cell_type": "code",
   "execution_count": 25,
   "id": "9abf31ef",
   "metadata": {},
   "outputs": [
    {
     "data": {
      "text/plain": [
       "(__main__.Circle, __main__.Square)"
      ]
     },
     "execution_count": 25,
     "metadata": {},
     "output_type": "execute_result"
    }
   ],
   "source": [
    "type(circle), type(square)"
   ]
  },
  {
   "cell_type": "code",
   "execution_count": 26,
   "id": "456932a0",
   "metadata": {},
   "outputs": [
    {
     "data": {
      "text/plain": [
       "('circle', 'square')"
      ]
     },
     "execution_count": 26,
     "metadata": {},
     "output_type": "execute_result"
    }
   ],
   "source": [
    "circle.get_type(), square.get_type()"
   ]
  },
  {
   "cell_type": "code",
   "execution_count": 27,
   "id": "a0f52d6e",
   "metadata": {},
   "outputs": [
    {
     "data": {
      "text/plain": [
       "('Red', 'Red')"
      ]
     },
     "execution_count": 27,
     "metadata": {},
     "output_type": "execute_result"
    }
   ],
   "source": [
    "circle.get_color(), square.get_color()"
   ]
  },
  {
   "cell_type": "code",
   "execution_count": 28,
   "id": "1ca5c09a",
   "metadata": {},
   "outputs": [],
   "source": [
    "class Circle(Shape):\n",
    "    \n",
    "    def __init__(self, color='Green'):\n",
    "        Shape.__init__(self, 'circle', color)"
   ]
  },
  {
   "cell_type": "code",
   "execution_count": 29,
   "id": "04405b6d",
   "metadata": {},
   "outputs": [
    {
     "data": {
      "text/plain": [
       "'Green'"
      ]
     },
     "execution_count": 29,
     "metadata": {},
     "output_type": "execute_result"
    }
   ],
   "source": [
    "circle = Circle()\n",
    "\n",
    "circle.get_color()"
   ]
  },
  {
   "cell_type": "code",
   "execution_count": 30,
   "id": "7b49da4d",
   "metadata": {},
   "outputs": [
    {
     "data": {
      "text/plain": [
       "'Yellow'"
      ]
     },
     "execution_count": 30,
     "metadata": {},
     "output_type": "execute_result"
    }
   ],
   "source": [
    "circle = Circle('Yellow')\n",
    "\n",
    "circle.get_color()"
   ]
  },
  {
   "cell_type": "code",
   "execution_count": 31,
   "id": "1fafee64",
   "metadata": {},
   "outputs": [],
   "source": [
    "class Square(Shape):\n",
    "    \n",
    "    def __init__(self, color): # color not specified\n",
    "        Shape.__init__(self, 'square', color)"
   ]
  },
  {
   "cell_type": "code",
   "execution_count": 32,
   "id": "6e1a3ac8",
   "metadata": {},
   "outputs": [
    {
     "ename": "TypeError",
     "evalue": "__init__() missing 1 required positional argument: 'color'",
     "output_type": "error",
     "traceback": [
      "\u001b[0;31m---------------------------------------------------------------------------\u001b[0m",
      "\u001b[0;31mTypeError\u001b[0m                                 Traceback (most recent call last)",
      "\u001b[0;32m<ipython-input-32-9d3d9d456fa9>\u001b[0m in \u001b[0;36m<module>\u001b[0;34m\u001b[0m\n\u001b[0;32m----> 1\u001b[0;31m \u001b[0msquare\u001b[0m \u001b[0;34m=\u001b[0m \u001b[0mSquare\u001b[0m\u001b[0;34m(\u001b[0m\u001b[0;34m)\u001b[0m\u001b[0;34m\u001b[0m\u001b[0;34m\u001b[0m\u001b[0m\n\u001b[0m",
      "\u001b[0;31mTypeError\u001b[0m: __init__() missing 1 required positional argument: 'color'"
     ]
    }
   ],
   "source": [
    "square = Square()"
   ]
  },
  {
   "cell_type": "code",
   "execution_count": null,
   "id": "c9918b66",
   "metadata": {},
   "outputs": [],
   "source": []
  },
  {
   "cell_type": "code",
   "execution_count": 33,
   "id": "9c39866c",
   "metadata": {},
   "outputs": [],
   "source": [
    "import math\n",
    "\n",
    "class Circle(Shape):\n",
    "    \n",
    "    def __init__(self, radius):\n",
    "        Shape.__init__(self, 'circle')\n",
    "        \n",
    "        self.__radius = radius\n",
    "        \n",
    "    def get_area(self):\n",
    "        return math.pi * self.__radius * self.__radius\n",
    "    \n",
    "    def get_perimeter(self):\n",
    "        return 2 * math.pi * self.__radius"
   ]
  },
  {
   "cell_type": "code",
   "execution_count": 34,
   "id": "22cdc7f3",
   "metadata": {},
   "outputs": [],
   "source": [
    "c = Circle(10)"
   ]
  },
  {
   "cell_type": "code",
   "execution_count": 35,
   "id": "725acf66",
   "metadata": {},
   "outputs": [
    {
     "data": {
      "text/plain": [
       "314.1592653589793"
      ]
     },
     "execution_count": 35,
     "metadata": {},
     "output_type": "execute_result"
    }
   ],
   "source": [
    "c.get_area()"
   ]
  },
  {
   "cell_type": "code",
   "execution_count": 36,
   "id": "3c0e9ec8",
   "metadata": {},
   "outputs": [
    {
     "data": {
      "text/plain": [
       "62.83185307179586"
      ]
     },
     "execution_count": 36,
     "metadata": {},
     "output_type": "execute_result"
    }
   ],
   "source": [
    "c.get_perimeter()"
   ]
  },
  {
   "cell_type": "code",
   "execution_count": 37,
   "id": "6201ef0f",
   "metadata": {},
   "outputs": [],
   "source": [
    "class Square(Shape):\n",
    "    \n",
    "    def __init__(self, side):\n",
    "        Shape.__init__(self, 'square')\n",
    "        \n",
    "        self.__side = side\n",
    "        \n",
    "    def get_area(self):\n",
    "        return self.__side * self.__side\n",
    "    \n",
    "    def get_perimeter(self):\n",
    "        return 4 * self.__side"
   ]
  },
  {
   "cell_type": "code",
   "execution_count": 38,
   "id": "4d756781",
   "metadata": {},
   "outputs": [],
   "source": [
    "s = Square(10)"
   ]
  },
  {
   "cell_type": "code",
   "execution_count": 39,
   "id": "ba6f187f",
   "metadata": {},
   "outputs": [
    {
     "data": {
      "text/plain": [
       "100"
      ]
     },
     "execution_count": 39,
     "metadata": {},
     "output_type": "execute_result"
    }
   ],
   "source": [
    "s.get_area()"
   ]
  },
  {
   "cell_type": "code",
   "execution_count": 41,
   "id": "f016ead7",
   "metadata": {},
   "outputs": [
    {
     "data": {
      "text/plain": [
       "40"
      ]
     },
     "execution_count": 41,
     "metadata": {},
     "output_type": "execute_result"
    }
   ],
   "source": [
    "s.get_perimeter()"
   ]
  },
  {
   "cell_type": "code",
   "execution_count": null,
   "id": "4fd06e98",
   "metadata": {},
   "outputs": [],
   "source": []
  }
 ],
 "metadata": {
  "kernelspec": {
   "display_name": "Python 3",
   "language": "python",
   "name": "python3"
  },
  "language_info": {
   "codemirror_mode": {
    "name": "ipython",
    "version": 3
   },
   "file_extension": ".py",
   "mimetype": "text/x-python",
   "name": "python",
   "nbconvert_exporter": "python",
   "pygments_lexer": "ipython3",
   "version": "3.6.9"
  }
 },
 "nbformat": 4,
 "nbformat_minor": 5
}
