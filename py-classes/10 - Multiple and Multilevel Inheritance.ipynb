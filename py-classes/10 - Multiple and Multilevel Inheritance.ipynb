{
 "cells": [
  {
   "cell_type": "code",
   "execution_count": 1,
   "id": "78cd3932",
   "metadata": {},
   "outputs": [],
   "source": [
    "class Father:\n",
    "    pass\n",
    "\n",
    "class Mother:\n",
    "    pass"
   ]
  },
  {
   "cell_type": "code",
   "execution_count": 3,
   "id": "3a9ff5dd",
   "metadata": {},
   "outputs": [],
   "source": [
    "class Child1(Father, Mother):\n",
    "    pass"
   ]
  },
  {
   "cell_type": "code",
   "execution_count": 4,
   "id": "4ccaa869",
   "metadata": {},
   "outputs": [
    {
     "name": "stdout",
     "output_type": "stream",
     "text": [
      "Help on class Child1 in module __main__:\n",
      "\n",
      "class Child1(Father, Mother)\n",
      " |  Method resolution order:\n",
      " |      Child1\n",
      " |      Father\n",
      " |      Mother\n",
      " |      builtins.object\n",
      " |  \n",
      " |  Data descriptors inherited from Father:\n",
      " |  \n",
      " |  __dict__\n",
      " |      dictionary for instance variables (if defined)\n",
      " |  \n",
      " |  __weakref__\n",
      " |      list of weak references to the object (if defined)\n",
      "\n"
     ]
    }
   ],
   "source": [
    "help(Child1)"
   ]
  },
  {
   "cell_type": "code",
   "execution_count": 5,
   "id": "3cb901df",
   "metadata": {},
   "outputs": [],
   "source": [
    "class Child2(Mother, Father):\n",
    "    pass"
   ]
  },
  {
   "cell_type": "code",
   "execution_count": 6,
   "id": "d500990b",
   "metadata": {},
   "outputs": [
    {
     "name": "stdout",
     "output_type": "stream",
     "text": [
      "Help on class Child2 in module __main__:\n",
      "\n",
      "class Child2(Mother, Father)\n",
      " |  Method resolution order:\n",
      " |      Child2\n",
      " |      Mother\n",
      " |      Father\n",
      " |      builtins.object\n",
      " |  \n",
      " |  Data descriptors inherited from Mother:\n",
      " |  \n",
      " |  __dict__\n",
      " |      dictionary for instance variables (if defined)\n",
      " |  \n",
      " |  __weakref__\n",
      " |      list of weak references to the object (if defined)\n",
      "\n"
     ]
    }
   ],
   "source": [
    "help(Child2)"
   ]
  },
  {
   "cell_type": "code",
   "execution_count": 7,
   "id": "bd75aeb7",
   "metadata": {},
   "outputs": [],
   "source": [
    "class Father:\n",
    "    \n",
    "    def height(self):\n",
    "        print('I have inherited my height from my father')\n",
    "        \n",
    "class Mother:\n",
    "    \n",
    "    def intelligence(self):\n",
    "        print('I have inherited my intelligence from my mother')"
   ]
  },
  {
   "cell_type": "code",
   "execution_count": 8,
   "id": "41621fe2",
   "metadata": {},
   "outputs": [],
   "source": [
    "class Child(Father, Mother):\n",
    "    \n",
    "    def experience(self):\n",
    "        print('My experiences are all my own')"
   ]
  },
  {
   "cell_type": "code",
   "execution_count": 9,
   "id": "b50af91d",
   "metadata": {},
   "outputs": [],
   "source": [
    "c = Child()"
   ]
  },
  {
   "cell_type": "code",
   "execution_count": 10,
   "id": "f26801ee",
   "metadata": {},
   "outputs": [
    {
     "name": "stdout",
     "output_type": "stream",
     "text": [
      "I have inherited my height from my father\n"
     ]
    }
   ],
   "source": [
    "c.height()"
   ]
  },
  {
   "cell_type": "code",
   "execution_count": 11,
   "id": "6d50e9bc",
   "metadata": {},
   "outputs": [
    {
     "name": "stdout",
     "output_type": "stream",
     "text": [
      "I have inherited my intelligence from my mother\n"
     ]
    }
   ],
   "source": [
    "c.intelligence()"
   ]
  },
  {
   "cell_type": "code",
   "execution_count": 12,
   "id": "fa5716fd",
   "metadata": {},
   "outputs": [
    {
     "name": "stdout",
     "output_type": "stream",
     "text": [
      "My experiences are all my own\n"
     ]
    }
   ],
   "source": [
    "c.experience()"
   ]
  },
  {
   "cell_type": "code",
   "execution_count": 13,
   "id": "cfcb8d6a",
   "metadata": {},
   "outputs": [],
   "source": [
    "class Employee:\n",
    "    \n",
    "    def __init__(self, name, age):\n",
    "        self.__name = name\n",
    "        self.__age = age\n",
    "        \n",
    "    def show_name(self):\n",
    "        print(self.__name)\n",
    "        \n",
    "    def show_age(self):\n",
    "        print(self.__age)"
   ]
  },
  {
   "cell_type": "code",
   "execution_count": 14,
   "id": "52a4fdeb",
   "metadata": {},
   "outputs": [],
   "source": [
    "class Salary:\n",
    "    \n",
    "    def __init__(self, salary):\n",
    "        self.__salary = salary\n",
    "        \n",
    "    def get_salary(self):\n",
    "        print(self.__salary)"
   ]
  },
  {
   "cell_type": "code",
   "execution_count": 15,
   "id": "e1b1552c",
   "metadata": {},
   "outputs": [],
   "source": [
    "class Database(Employee, Salary):\n",
    "    \n",
    "    def __init__(self, name, age, salary):\n",
    "        Employee.__init__(self, name, age)\n",
    "        Salary.__init__(self, salary)"
   ]
  },
  {
   "cell_type": "code",
   "execution_count": 16,
   "id": "5127a65b",
   "metadata": {},
   "outputs": [],
   "source": [
    "emp1 = Database('Robin', 26, 98000)"
   ]
  },
  {
   "cell_type": "code",
   "execution_count": 17,
   "id": "2a068bbd",
   "metadata": {},
   "outputs": [
    {
     "name": "stdout",
     "output_type": "stream",
     "text": [
      "Robin\n"
     ]
    }
   ],
   "source": [
    "emp1.show_name()"
   ]
  },
  {
   "cell_type": "code",
   "execution_count": 18,
   "id": "6ebb029e",
   "metadata": {},
   "outputs": [
    {
     "name": "stdout",
     "output_type": "stream",
     "text": [
      "26\n"
     ]
    }
   ],
   "source": [
    "emp1.show_age()"
   ]
  },
  {
   "cell_type": "code",
   "execution_count": 19,
   "id": "2004c939",
   "metadata": {},
   "outputs": [
    {
     "name": "stdout",
     "output_type": "stream",
     "text": [
      "98000\n"
     ]
    }
   ],
   "source": [
    "emp1.get_salary()"
   ]
  },
  {
   "cell_type": "code",
   "execution_count": 20,
   "id": "e45ed861",
   "metadata": {},
   "outputs": [
    {
     "name": "stdout",
     "output_type": "stream",
     "text": [
      "Help on class Database in module __main__:\n",
      "\n",
      "class Database(Employee, Salary)\n",
      " |  Method resolution order:\n",
      " |      Database\n",
      " |      Employee\n",
      " |      Salary\n",
      " |      builtins.object\n",
      " |  \n",
      " |  Methods defined here:\n",
      " |  \n",
      " |  __init__(self, name, age, salary)\n",
      " |      Initialize self.  See help(type(self)) for accurate signature.\n",
      " |  \n",
      " |  ----------------------------------------------------------------------\n",
      " |  Methods inherited from Employee:\n",
      " |  \n",
      " |  show_age(self)\n",
      " |  \n",
      " |  show_name(self)\n",
      " |  \n",
      " |  ----------------------------------------------------------------------\n",
      " |  Data descriptors inherited from Employee:\n",
      " |  \n",
      " |  __dict__\n",
      " |      dictionary for instance variables (if defined)\n",
      " |  \n",
      " |  __weakref__\n",
      " |      list of weak references to the object (if defined)\n",
      " |  \n",
      " |  ----------------------------------------------------------------------\n",
      " |  Methods inherited from Salary:\n",
      " |  \n",
      " |  get_salary(self)\n",
      "\n"
     ]
    }
   ],
   "source": [
    "help(Database)"
   ]
  },
  {
   "cell_type": "code",
   "execution_count": null,
   "id": "1ee9ea19",
   "metadata": {},
   "outputs": [],
   "source": []
  },
  {
   "cell_type": "code",
   "execution_count": 21,
   "id": "5a7a37fb",
   "metadata": {},
   "outputs": [],
   "source": [
    "class Grandparent:\n",
    "    \n",
    "    def height(self):\n",
    "        print('I have inherited my height from my grandparent')\n",
    "        \n",
    "class Parent(Grandparent):\n",
    "    \n",
    "    def intelligence(self):\n",
    "        print('I have inherited my intelligence from my parent')\n",
    "        \n",
    "class Child(Parent):\n",
    "    \n",
    "    def experience(self):\n",
    "        print('My experience are all my own')"
   ]
  },
  {
   "cell_type": "code",
   "execution_count": 22,
   "id": "dc7ff93b",
   "metadata": {},
   "outputs": [
    {
     "name": "stdout",
     "output_type": "stream",
     "text": [
      "Help on class Child in module __main__:\n",
      "\n",
      "class Child(Parent)\n",
      " |  Method resolution order:\n",
      " |      Child\n",
      " |      Parent\n",
      " |      Grandparent\n",
      " |      builtins.object\n",
      " |  \n",
      " |  Methods defined here:\n",
      " |  \n",
      " |  experience(self)\n",
      " |  \n",
      " |  ----------------------------------------------------------------------\n",
      " |  Methods inherited from Parent:\n",
      " |  \n",
      " |  intelligence(self)\n",
      " |  \n",
      " |  ----------------------------------------------------------------------\n",
      " |  Methods inherited from Grandparent:\n",
      " |  \n",
      " |  height(self)\n",
      " |  \n",
      " |  ----------------------------------------------------------------------\n",
      " |  Data descriptors inherited from Grandparent:\n",
      " |  \n",
      " |  __dict__\n",
      " |      dictionary for instance variables (if defined)\n",
      " |  \n",
      " |  __weakref__\n",
      " |      list of weak references to the object (if defined)\n",
      "\n"
     ]
    }
   ],
   "source": [
    "help(Child)"
   ]
  },
  {
   "cell_type": "code",
   "execution_count": 23,
   "id": "41caf835",
   "metadata": {},
   "outputs": [],
   "source": [
    "c = Child()"
   ]
  },
  {
   "cell_type": "code",
   "execution_count": 24,
   "id": "7eb84491",
   "metadata": {},
   "outputs": [
    {
     "name": "stdout",
     "output_type": "stream",
     "text": [
      "I have inherited my height from my grandparent\n"
     ]
    }
   ],
   "source": [
    "c.height()"
   ]
  },
  {
   "cell_type": "code",
   "execution_count": 25,
   "id": "230b98f5",
   "metadata": {},
   "outputs": [
    {
     "name": "stdout",
     "output_type": "stream",
     "text": [
      "I have inherited my intelligence from my parent\n"
     ]
    }
   ],
   "source": [
    "c.intelligence()"
   ]
  },
  {
   "cell_type": "code",
   "execution_count": 26,
   "id": "598147b5",
   "metadata": {},
   "outputs": [
    {
     "name": "stdout",
     "output_type": "stream",
     "text": [
      "My experience are all my own\n"
     ]
    }
   ],
   "source": [
    "c.experience()"
   ]
  },
  {
   "cell_type": "code",
   "execution_count": 28,
   "id": "23e528eb",
   "metadata": {},
   "outputs": [],
   "source": [
    "class Grandparent(object):\n",
    "    \n",
    "    def __init__(self, city):\n",
    "        self.__city = city\n",
    "    \n",
    "    def get_city(self):\n",
    "        return self.__city"
   ]
  },
  {
   "cell_type": "code",
   "execution_count": 31,
   "id": "27ddbb4c",
   "metadata": {},
   "outputs": [],
   "source": [
    "class Parent(Grandparent):\n",
    "    \n",
    "    def __init__(self, city, lastname):\n",
    "        Grandparent.__init__(self, city)\n",
    "        \n",
    "        self.__lastname = lastname\n",
    "        \n",
    "    def get_lastname(self):\n",
    "        return self.__lastname"
   ]
  },
  {
   "cell_type": "code",
   "execution_count": 32,
   "id": "cc77ae19",
   "metadata": {},
   "outputs": [],
   "source": [
    "p1 = Parent(city='Kentucky', lastname='Smith')"
   ]
  },
  {
   "cell_type": "code",
   "execution_count": 33,
   "id": "60a7e919",
   "metadata": {},
   "outputs": [
    {
     "data": {
      "text/plain": [
       "'Kentucky'"
      ]
     },
     "execution_count": 33,
     "metadata": {},
     "output_type": "execute_result"
    }
   ],
   "source": [
    "p1.get_city()"
   ]
  },
  {
   "cell_type": "code",
   "execution_count": 34,
   "id": "6a482dee",
   "metadata": {},
   "outputs": [
    {
     "data": {
      "text/plain": [
       "'Smith'"
      ]
     },
     "execution_count": 34,
     "metadata": {},
     "output_type": "execute_result"
    }
   ],
   "source": [
    "p1.get_lastname()"
   ]
  },
  {
   "cell_type": "code",
   "execution_count": 46,
   "id": "389107a7",
   "metadata": {},
   "outputs": [],
   "source": [
    "class Person(Parent):\n",
    "    \n",
    "    def __init__(self, city, lastname, firstname):\n",
    "        Parent.__init__(self, city, lastname)\n",
    "        \n",
    "        self.__firstname = firstname\n",
    "        \n",
    "    def get_firstname(self):\n",
    "        return self.__firstname"
   ]
  },
  {
   "cell_type": "code",
   "execution_count": 47,
   "id": "c4ef254f",
   "metadata": {},
   "outputs": [],
   "source": [
    "person = Person('Kentucky', 'Smith', 'Mark')"
   ]
  },
  {
   "cell_type": "code",
   "execution_count": 48,
   "id": "3d64302e",
   "metadata": {},
   "outputs": [
    {
     "data": {
      "text/plain": [
       "('Kentucky', 'Smith', 'Mark')"
      ]
     },
     "execution_count": 48,
     "metadata": {},
     "output_type": "execute_result"
    }
   ],
   "source": [
    "person.get_city(), person.get_lastname(), person.get_firstname()"
   ]
  },
  {
   "cell_type": "code",
   "execution_count": 49,
   "id": "03ac5cc8",
   "metadata": {},
   "outputs": [
    {
     "name": "stdout",
     "output_type": "stream",
     "text": [
      "Help on class Person in module __main__:\n",
      "\n",
      "class Person(Parent)\n",
      " |  Method resolution order:\n",
      " |      Person\n",
      " |      Parent\n",
      " |      Grandparent\n",
      " |      builtins.object\n",
      " |  \n",
      " |  Methods defined here:\n",
      " |  \n",
      " |  __init__(self, city, lastname, firstname)\n",
      " |      Initialize self.  See help(type(self)) for accurate signature.\n",
      " |  \n",
      " |  get_firstname(self)\n",
      " |  \n",
      " |  ----------------------------------------------------------------------\n",
      " |  Methods inherited from Parent:\n",
      " |  \n",
      " |  get_lastname(self)\n",
      " |  \n",
      " |  ----------------------------------------------------------------------\n",
      " |  Methods inherited from Grandparent:\n",
      " |  \n",
      " |  get_city(self)\n",
      " |  \n",
      " |  ----------------------------------------------------------------------\n",
      " |  Data descriptors inherited from Grandparent:\n",
      " |  \n",
      " |  __dict__\n",
      " |      dictionary for instance variables (if defined)\n",
      " |  \n",
      " |  __weakref__\n",
      " |      list of weak references to the object (if defined)\n",
      "\n"
     ]
    }
   ],
   "source": [
    "help(Person)"
   ]
  },
  {
   "cell_type": "code",
   "execution_count": 50,
   "id": "1af10017",
   "metadata": {},
   "outputs": [],
   "source": [
    "class Person(Parent):\n",
    "    \n",
    "    def __init__(self, city, lastname, firstname):\n",
    "        Parent.__init__(self, city, lastname)\n",
    "        \n",
    "        self.__firstname = firstname\n",
    "        \n",
    "    def get_firstname(self):\n",
    "        return self.__firstname\n",
    "    \n",
    "    def get_introduction(self):\n",
    "        lastname = super().get_lastname()\n",
    "        city = super().get_city()\n",
    "        \n",
    "        print('Hi I am %s %s from %s' % (self.__firstname, lastname, city))\n",
    "        \n",
    "    def get_information(self):\n",
    "        lastname = self.get_lastname()\n",
    "        city = self.get_city()\n",
    "        \n",
    "        print('Hi I am %s %s from %s' % (self.__firstname, lastname, city))"
   ]
  },
  {
   "cell_type": "code",
   "execution_count": 51,
   "id": "823842b6",
   "metadata": {},
   "outputs": [],
   "source": [
    "p = Person('Kentucky', 'Jones', 'Lily')"
   ]
  },
  {
   "cell_type": "code",
   "execution_count": 52,
   "id": "521d23bc",
   "metadata": {},
   "outputs": [
    {
     "name": "stdout",
     "output_type": "stream",
     "text": [
      "Hi I am Lily Jones from Kentucky\n"
     ]
    }
   ],
   "source": [
    "p.get_introduction()"
   ]
  },
  {
   "cell_type": "code",
   "execution_count": 53,
   "id": "7a005676",
   "metadata": {},
   "outputs": [
    {
     "name": "stdout",
     "output_type": "stream",
     "text": [
      "Hi I am Lily Jones from Kentucky\n"
     ]
    }
   ],
   "source": [
    "p.get_information()"
   ]
  },
  {
   "cell_type": "code",
   "execution_count": null,
   "id": "e70678d7",
   "metadata": {},
   "outputs": [],
   "source": []
  }
 ],
 "metadata": {
  "kernelspec": {
   "display_name": "Python 3",
   "language": "python",
   "name": "python3"
  },
  "language_info": {
   "codemirror_mode": {
    "name": "ipython",
    "version": 3
   },
   "file_extension": ".py",
   "mimetype": "text/x-python",
   "name": "python",
   "nbconvert_exporter": "python",
   "pygments_lexer": "ipython3",
   "version": "3.6.9"
  }
 },
 "nbformat": 4,
 "nbformat_minor": 5
}
