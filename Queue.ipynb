{
 "cells": [
  {
   "cell_type": "code",
   "execution_count": 2,
   "id": "c06012eb",
   "metadata": {},
   "outputs": [],
   "source": [
    "from queue import Queue"
   ]
  },
  {
   "cell_type": "code",
   "execution_count": 2,
   "id": "d8f71371",
   "metadata": {},
   "outputs": [
    {
     "data": {
      "text/plain": [
       "<queue.Queue at 0x7fc0f040e828>"
      ]
     },
     "execution_count": 2,
     "metadata": {},
     "output_type": "execute_result"
    }
   ],
   "source": [
    "olympics = Queue(5)\n",
    "olympics"
   ]
  },
  {
   "cell_type": "code",
   "execution_count": 3,
   "id": "1f93fc04",
   "metadata": {},
   "outputs": [],
   "source": [
    "olympics.put(\"United States(USA)\")\n",
    "olympics.put(\"Great Britain(GBR)\")"
   ]
  },
  {
   "cell_type": "code",
   "execution_count": 4,
   "id": "ea6df158",
   "metadata": {},
   "outputs": [
    {
     "data": {
      "text/plain": [
       "False"
      ]
     },
     "execution_count": 4,
     "metadata": {},
     "output_type": "execute_result"
    }
   ],
   "source": [
    "olympics.empty()"
   ]
  },
  {
   "cell_type": "code",
   "execution_count": 5,
   "id": "ef605b89",
   "metadata": {},
   "outputs": [
    {
     "data": {
      "text/plain": [
       "False"
      ]
     },
     "execution_count": 5,
     "metadata": {},
     "output_type": "execute_result"
    }
   ],
   "source": [
    "olympics.full()"
   ]
  },
  {
   "cell_type": "code",
   "execution_count": 6,
   "id": "0c00a728",
   "metadata": {},
   "outputs": [
    {
     "data": {
      "text/plain": [
       "2"
      ]
     },
     "execution_count": 6,
     "metadata": {},
     "output_type": "execute_result"
    }
   ],
   "source": [
    "olympics.qsize()"
   ]
  },
  {
   "cell_type": "code",
   "execution_count": 7,
   "id": "5dfd06cc",
   "metadata": {},
   "outputs": [],
   "source": [
    "olympics.put(\"China(CHN)\")\n",
    "olympics.put(\"Russia(RUS)\")\n",
    "olympics.put(\"Germany(GER)\")"
   ]
  },
  {
   "cell_type": "code",
   "execution_count": 9,
   "id": "dd7cb859",
   "metadata": {},
   "outputs": [
    {
     "data": {
      "text/plain": [
       "False"
      ]
     },
     "execution_count": 9,
     "metadata": {},
     "output_type": "execute_result"
    }
   ],
   "source": [
    "olympics.empty()"
   ]
  },
  {
   "cell_type": "code",
   "execution_count": 10,
   "id": "9b5fce8c",
   "metadata": {},
   "outputs": [
    {
     "data": {
      "text/plain": [
       "True"
      ]
     },
     "execution_count": 10,
     "metadata": {},
     "output_type": "execute_result"
    }
   ],
   "source": [
    "olympics.full()"
   ]
  },
  {
   "cell_type": "code",
   "execution_count": 11,
   "id": "cf5fec54",
   "metadata": {},
   "outputs": [
    {
     "data": {
      "text/plain": [
       "5"
      ]
     },
     "execution_count": 11,
     "metadata": {},
     "output_type": "execute_result"
    }
   ],
   "source": [
    "olympics.qsize()"
   ]
  },
  {
   "cell_type": "code",
   "execution_count": 12,
   "id": "a401eecc",
   "metadata": {},
   "outputs": [
    {
     "data": {
      "text/plain": [
       "'United States(USA)'"
      ]
     },
     "execution_count": 12,
     "metadata": {},
     "output_type": "execute_result"
    }
   ],
   "source": [
    "olympics.get()"
   ]
  },
  {
   "cell_type": "code",
   "execution_count": 13,
   "id": "4f8749c5",
   "metadata": {},
   "outputs": [
    {
     "data": {
      "text/plain": [
       "4"
      ]
     },
     "execution_count": 13,
     "metadata": {},
     "output_type": "execute_result"
    }
   ],
   "source": [
    "olympics.qsize()"
   ]
  },
  {
   "cell_type": "code",
   "execution_count": 14,
   "id": "ab95b12b",
   "metadata": {},
   "outputs": [
    {
     "data": {
      "text/plain": [
       "'Great Britain(GBR)'"
      ]
     },
     "execution_count": 14,
     "metadata": {},
     "output_type": "execute_result"
    }
   ],
   "source": [
    "olympics.get()"
   ]
  },
  {
   "cell_type": "code",
   "execution_count": 15,
   "id": "de829f94",
   "metadata": {},
   "outputs": [
    {
     "data": {
      "text/plain": [
       "'China(CHN)'"
      ]
     },
     "execution_count": 15,
     "metadata": {},
     "output_type": "execute_result"
    }
   ],
   "source": [
    "olympics.get()"
   ]
  },
  {
   "cell_type": "code",
   "execution_count": 16,
   "id": "a0c77991",
   "metadata": {},
   "outputs": [
    {
     "data": {
      "text/plain": [
       "'Russia(RUS)'"
      ]
     },
     "execution_count": 16,
     "metadata": {},
     "output_type": "execute_result"
    }
   ],
   "source": [
    "olympics.get()"
   ]
  },
  {
   "cell_type": "code",
   "execution_count": 17,
   "id": "32dd1d96",
   "metadata": {},
   "outputs": [
    {
     "data": {
      "text/plain": [
       "'Germany(GER)'"
      ]
     },
     "execution_count": 17,
     "metadata": {},
     "output_type": "execute_result"
    }
   ],
   "source": [
    "olympics.get()"
   ]
  },
  {
   "cell_type": "code",
   "execution_count": 18,
   "id": "2a817db6",
   "metadata": {},
   "outputs": [
    {
     "data": {
      "text/plain": [
       "True"
      ]
     },
     "execution_count": 18,
     "metadata": {},
     "output_type": "execute_result"
    }
   ],
   "source": [
    "olympics.empty()"
   ]
  },
  {
   "cell_type": "code",
   "execution_count": 11,
   "id": "aac7e61f",
   "metadata": {},
   "outputs": [],
   "source": [
    "class MyQueue:\n",
    "    \n",
    "    def __init__(self):\n",
    "        \"\"\" Create a new queue.\"\"\"\n",
    "        \n",
    "        self.items = []\n",
    "    \n",
    "    def is_empty(self):\n",
    "        \n",
    "        \"\"\" Returns true if queue is empty \"\"\"\n",
    "        \n",
    "        return len(self.items) == 0\n",
    "    \n",
    "    def enqueue(self, item):\n",
    "        \n",
    "        \"\"\" Add a new element to the end of queue \"\"\"\n",
    "        \n",
    "        self.items.append(item)\n",
    "    \n",
    "    def dequeue(self):\n",
    "        \n",
    "        \"\"\" Remove a element from the beginning of queue \"\"\"\n",
    "        \n",
    "        return self.items.pop(0)\n",
    "    \n",
    "    def size(self):\n",
    "        \n",
    "        \"\"\" Returns the size of the queue \"\"\"\n",
    "        \n",
    "        return len(self.items)\n",
    "    \n",
    "    def peek(self):\n",
    "        \n",
    "        \"\"\" Have a look at first element of the queue \"\"\"\n",
    "        \n",
    "        if self.is_empty():\n",
    "            raise Exeption(\"Nothing to peek\")\n",
    "            \n",
    "        return self.items[0]"
   ]
  },
  {
   "cell_type": "code",
   "execution_count": 13,
   "id": "ac1ebbf0",
   "metadata": {},
   "outputs": [
    {
     "data": {
      "text/plain": [
       "<__main__.MyQueue at 0x7f2c8d2ebfd0>"
      ]
     },
     "execution_count": 13,
     "metadata": {},
     "output_type": "execute_result"
    }
   ],
   "source": [
    "olympics = MyQueue()\n",
    "olympics"
   ]
  },
  {
   "cell_type": "code",
   "execution_count": 15,
   "id": "842d27e7",
   "metadata": {},
   "outputs": [],
   "source": [
    "olympics.enqueue(\"United States(USA)\")\n",
    "olympics.enqueue(\"Great Britian(GBR)\")"
   ]
  },
  {
   "cell_type": "code",
   "execution_count": 17,
   "id": "181b4ba8",
   "metadata": {},
   "outputs": [
    {
     "data": {
      "text/plain": [
       "['United States(USA)',\n",
       " 'Great Britian(GBR)',\n",
       " 'Russia(RUS)',\n",
       " 'China(CHN)',\n",
       " 'Germany(GER)']"
      ]
     },
     "execution_count": 17,
     "metadata": {},
     "output_type": "execute_result"
    }
   ],
   "source": [
    "olympics.items"
   ]
  },
  {
   "cell_type": "code",
   "execution_count": 6,
   "id": "52e64aca",
   "metadata": {},
   "outputs": [
    {
     "data": {
      "text/plain": [
       "'United States(USA)'"
      ]
     },
     "execution_count": 6,
     "metadata": {},
     "output_type": "execute_result"
    }
   ],
   "source": [
    "olympics.peek()"
   ]
  },
  {
   "cell_type": "code",
   "execution_count": 7,
   "id": "ecffd117",
   "metadata": {},
   "outputs": [
    {
     "data": {
      "text/plain": [
       "2"
      ]
     },
     "execution_count": 7,
     "metadata": {},
     "output_type": "execute_result"
    }
   ],
   "source": [
    "olympics.size()"
   ]
  },
  {
   "cell_type": "code",
   "execution_count": 16,
   "id": "a553bb56",
   "metadata": {},
   "outputs": [],
   "source": [
    "olympics.enqueue(\"Russia(RUS)\")\n",
    "olympics.enqueue(\"China(CHN)\")\n",
    "olympics.enqueue(\"Germany(GER)\")"
   ]
  },
  {
   "cell_type": "code",
   "execution_count": 9,
   "id": "9f05b1bc",
   "metadata": {},
   "outputs": [
    {
     "data": {
      "text/plain": [
       "'United States(USA)'"
      ]
     },
     "execution_count": 9,
     "metadata": {},
     "output_type": "execute_result"
    }
   ],
   "source": [
    "olympics.peek()"
   ]
  },
  {
   "cell_type": "code",
   "execution_count": 18,
   "id": "33450bae",
   "metadata": {},
   "outputs": [
    {
     "data": {
      "text/plain": [
       "'United States(USA)'"
      ]
     },
     "execution_count": 18,
     "metadata": {},
     "output_type": "execute_result"
    }
   ],
   "source": [
    "olympics.dequeue()"
   ]
  },
  {
   "cell_type": "code",
   "execution_count": 19,
   "id": "b6cecba2",
   "metadata": {},
   "outputs": [
    {
     "data": {
      "text/plain": [
       "'Great Britian(GBR)'"
      ]
     },
     "execution_count": 19,
     "metadata": {},
     "output_type": "execute_result"
    }
   ],
   "source": [
    "olympics.peek()"
   ]
  },
  {
   "cell_type": "code",
   "execution_count": null,
   "id": "273a3518",
   "metadata": {},
   "outputs": [],
   "source": []
  }
 ],
 "metadata": {
  "kernelspec": {
   "display_name": "Python 3",
   "language": "python",
   "name": "python3"
  },
  "language_info": {
   "codemirror_mode": {
    "name": "ipython",
    "version": 3
   },
   "file_extension": ".py",
   "mimetype": "text/x-python",
   "name": "python",
   "nbconvert_exporter": "python",
   "pygments_lexer": "ipython3",
   "version": "3.6.9"
  }
 },
 "nbformat": 4,
 "nbformat_minor": 5
}
