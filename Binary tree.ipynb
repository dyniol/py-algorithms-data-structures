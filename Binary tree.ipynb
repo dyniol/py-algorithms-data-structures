{
 "cells": [
  {
   "cell_type": "code",
   "execution_count": 1,
   "id": "a330e7e9",
   "metadata": {},
   "outputs": [],
   "source": [
    "class Node:\n",
    "    \n",
    "    def __init__(self, data):\n",
    "        self.left = None\n",
    "        self.right = None\n",
    "        \n",
    "        self.data = data\n",
    "        \n",
    "    def get_left_child(self):\n",
    "        return self.left\n",
    "    \n",
    "    def set_left_child(self, left):\n",
    "        self.left = left\n",
    "        \n",
    "    def get_right_child(self):\n",
    "        return self.right\n",
    "    \n",
    "    def set_right_child(self, right):\n",
    "        self.right = right\n",
    "        \n",
    "    def get_value(self):\n",
    "        return self.data\n",
    "    \n",
    "    def set_value(self, value):\n",
    "        self.data = value\n",
    "        \n",
    "    def print_tree(self):\n",
    "            if self.left:\n",
    "                self.left.print_tree()\n",
    "                \n",
    "            print(self.data)\n",
    "            \n",
    "            if self.right:\n",
    "                self.right.print_tree()"
   ]
  },
  {
   "cell_type": "code",
   "execution_count": 2,
   "id": "585dac7b",
   "metadata": {},
   "outputs": [],
   "source": [
    "def insert(head, node):\n",
    "    \n",
    "    if head == None:\n",
    "        return node\n",
    "    \n",
    "    if node.get_value() <= head.get_value():\n",
    "        head.set_left_child(insert(head.get_left_child(), node))\n",
    "    else:\n",
    "        head.set_right_child(insert(head.get_right_child(), node))\n",
    "        \n",
    "    return head"
   ]
  },
  {
   "cell_type": "code",
   "execution_count": 3,
   "id": "7fa1a162",
   "metadata": {},
   "outputs": [],
   "source": [
    "A = Node(45)\n",
    "B = Node(2)\n",
    "C = Node(33)\n",
    "D = Node(54)\n",
    "E = Node(25)\n",
    "F = Node(68)\n",
    "G = Node(72)\n",
    "H = Node(81)\n",
    "I = Node(23)"
   ]
  },
  {
   "cell_type": "code",
   "execution_count": 4,
   "id": "77acfb7b",
   "metadata": {},
   "outputs": [],
   "source": [
    "head = insert(None, E)"
   ]
  },
  {
   "cell_type": "code",
   "execution_count": 5,
   "id": "1c29bae3",
   "metadata": {},
   "outputs": [
    {
     "name": "stdout",
     "output_type": "stream",
     "text": [
      "25\n"
     ]
    }
   ],
   "source": [
    "head.print_tree()"
   ]
  },
  {
   "cell_type": "code",
   "execution_count": 6,
   "id": "c5dea688",
   "metadata": {},
   "outputs": [
    {
     "name": "stdout",
     "output_type": "stream",
     "text": [
      "2\n",
      "25\n"
     ]
    }
   ],
   "source": [
    "insert(head, B)\n",
    "\n",
    "head.print_tree()"
   ]
  },
  {
   "cell_type": "code",
   "execution_count": 7,
   "id": "ec59b801",
   "metadata": {},
   "outputs": [
    {
     "name": "stdout",
     "output_type": "stream",
     "text": [
      "2\n",
      "25\n",
      "33\n"
     ]
    }
   ],
   "source": [
    "insert(head, C)\n",
    "\n",
    "head.print_tree()"
   ]
  },
  {
   "cell_type": "code",
   "execution_count": 8,
   "id": "360bfdf8",
   "metadata": {},
   "outputs": [
    {
     "name": "stdout",
     "output_type": "stream",
     "text": [
      "2\n",
      "23\n",
      "25\n",
      "33\n",
      "45\n"
     ]
    }
   ],
   "source": [
    "insert(head, I)\n",
    "insert(head, A)\n",
    "\n",
    "head.print_tree()"
   ]
  },
  {
   "cell_type": "code",
   "execution_count": 9,
   "id": "0c957ca5",
   "metadata": {},
   "outputs": [
    {
     "name": "stdout",
     "output_type": "stream",
     "text": [
      "2\n",
      "23\n",
      "25\n",
      "33\n",
      "45\n",
      "54\n",
      "68\n",
      "72\n",
      "81\n"
     ]
    }
   ],
   "source": [
    "insert(head, G)\n",
    "insert(head, F)\n",
    "insert(head, D)\n",
    "insert(head, H)\n",
    "\n",
    "head.print_tree()"
   ]
  },
  {
   "cell_type": "code",
   "execution_count": 10,
   "id": "4e48fa7e",
   "metadata": {},
   "outputs": [],
   "source": [
    "def lookup(head, data):\n",
    "    \n",
    "    if head == None:\n",
    "        return print(\"Value not found!\")\n",
    "    \n",
    "    if head.get_value() == data:\n",
    "        return head\n",
    "    \n",
    "    if data <= head.get_value():\n",
    "        return lookup(head.get_left_child(), data)\n",
    "    else:\n",
    "        return lookup(head.get_right_child(), data)"
   ]
  },
  {
   "cell_type": "code",
   "execution_count": 11,
   "id": "509e7804",
   "metadata": {},
   "outputs": [],
   "source": [
    "def print_node(node):\n",
    "    if (node == None):\n",
    "        print(\"Not Found!\")\n",
    "        \n",
    "    print(node.get_value())"
   ]
  },
  {
   "cell_type": "code",
   "execution_count": 12,
   "id": "ac65bbc3",
   "metadata": {},
   "outputs": [
    {
     "name": "stdout",
     "output_type": "stream",
     "text": [
      "68\n"
     ]
    }
   ],
   "source": [
    "print_node(lookup(head, 68))"
   ]
  },
  {
   "cell_type": "code",
   "execution_count": 13,
   "id": "f6aa2afd",
   "metadata": {},
   "outputs": [
    {
     "name": "stdout",
     "output_type": "stream",
     "text": [
      "Value not found!\n",
      "Not Found!\n"
     ]
    },
    {
     "ename": "AttributeError",
     "evalue": "'NoneType' object has no attribute 'get_value'",
     "output_type": "error",
     "traceback": [
      "\u001b[0;31m---------------------------------------------------------------------------\u001b[0m",
      "\u001b[0;31mAttributeError\u001b[0m                            Traceback (most recent call last)",
      "\u001b[0;32m<ipython-input-13-ec19f86541cb>\u001b[0m in \u001b[0;36m<module>\u001b[0;34m\u001b[0m\n\u001b[0;32m----> 1\u001b[0;31m \u001b[0mprint_node\u001b[0m\u001b[0;34m(\u001b[0m\u001b[0mlookup\u001b[0m\u001b[0;34m(\u001b[0m\u001b[0mhead\u001b[0m\u001b[0;34m,\u001b[0m \u001b[0;36m10\u001b[0m\u001b[0;34m)\u001b[0m\u001b[0;34m)\u001b[0m\u001b[0;34m\u001b[0m\u001b[0;34m\u001b[0m\u001b[0m\n\u001b[0m",
      "\u001b[0;32m<ipython-input-11-93d1b52524fd>\u001b[0m in \u001b[0;36mprint_node\u001b[0;34m(node)\u001b[0m\n\u001b[1;32m      3\u001b[0m         \u001b[0mprint\u001b[0m\u001b[0;34m(\u001b[0m\u001b[0;34m\"Not Found!\"\u001b[0m\u001b[0;34m)\u001b[0m\u001b[0;34m\u001b[0m\u001b[0;34m\u001b[0m\u001b[0m\n\u001b[1;32m      4\u001b[0m \u001b[0;34m\u001b[0m\u001b[0m\n\u001b[0;32m----> 5\u001b[0;31m     \u001b[0mprint\u001b[0m\u001b[0;34m(\u001b[0m\u001b[0mnode\u001b[0m\u001b[0;34m.\u001b[0m\u001b[0mget_value\u001b[0m\u001b[0;34m(\u001b[0m\u001b[0;34m)\u001b[0m\u001b[0;34m)\u001b[0m\u001b[0;34m\u001b[0m\u001b[0;34m\u001b[0m\u001b[0m\n\u001b[0m",
      "\u001b[0;31mAttributeError\u001b[0m: 'NoneType' object has no attribute 'get_value'"
     ]
    }
   ],
   "source": [
    "print_node(lookup(head, 10))"
   ]
  },
  {
   "cell_type": "code",
   "execution_count": 14,
   "id": "20c05e6f",
   "metadata": {},
   "outputs": [],
   "source": [
    "def min_value(head):\n",
    "    current = head\n",
    "    \n",
    "    while(current.left != None):\n",
    "        current = current.left\n",
    "        \n",
    "    return current.data"
   ]
  },
  {
   "cell_type": "code",
   "execution_count": 15,
   "id": "e6e1897d",
   "metadata": {},
   "outputs": [
    {
     "data": {
      "text/plain": [
       "2"
      ]
     },
     "execution_count": 15,
     "metadata": {},
     "output_type": "execute_result"
    }
   ],
   "source": [
    "min_value(head)"
   ]
  },
  {
   "cell_type": "code",
   "execution_count": 16,
   "id": "f45d9069",
   "metadata": {},
   "outputs": [
    {
     "data": {
      "text/plain": [
       "1"
      ]
     },
     "execution_count": 16,
     "metadata": {},
     "output_type": "execute_result"
    }
   ],
   "source": [
    "insert(head, Node(1))\n",
    "\n",
    "min_value(head)"
   ]
  },
  {
   "cell_type": "code",
   "execution_count": 17,
   "id": "4510c3f4",
   "metadata": {},
   "outputs": [],
   "source": [
    "def max_value(head):\n",
    "    current = head\n",
    "    \n",
    "    # loop down to find the rightmost leaf\n",
    "    while(current.right != None):\n",
    "        current = current.right\n",
    "        \n",
    "    return current.data"
   ]
  },
  {
   "cell_type": "code",
   "execution_count": 18,
   "id": "23015c66",
   "metadata": {},
   "outputs": [
    {
     "data": {
      "text/plain": [
       "81"
      ]
     },
     "execution_count": 18,
     "metadata": {},
     "output_type": "execute_result"
    }
   ],
   "source": [
    "max_value(head)"
   ]
  },
  {
   "cell_type": "code",
   "execution_count": 19,
   "id": "ee51bcbf",
   "metadata": {},
   "outputs": [
    {
     "data": {
      "text/plain": [
       "100"
      ]
     },
     "execution_count": 19,
     "metadata": {},
     "output_type": "execute_result"
    }
   ],
   "source": [
    "insert(head, Node(100))\n",
    "\n",
    "max_value(head)"
   ]
  },
  {
   "cell_type": "code",
   "execution_count": 20,
   "id": "e369d8c2",
   "metadata": {},
   "outputs": [],
   "source": [
    "class MyQueue:\n",
    "    \n",
    "    def __init__(self):\n",
    "        \n",
    "        \"\"\"Create a new queue.\"\"\"\n",
    "        \n",
    "        self.items = []\n",
    "        \n",
    "    def is_empty(self):\n",
    "        \n",
    "        \"\"\"Returns true if queue is empty.\"\"\"\n",
    "        \n",
    "        return len(self.items) == 0\n",
    "    \n",
    "    def enqueue(self, item):\n",
    "        \n",
    "        \"\"\"Add a new element to the end of queue.\"\"\"\n",
    "        \n",
    "        self.items.append(item)\n",
    "        \n",
    "    def dequeue(self):\n",
    "        \n",
    "        \"\"\"Remove a element from the beginning of queue.\"\"\"\n",
    "        \n",
    "        return self.items.pop(0)\n",
    "    \n",
    "    def size(self):\n",
    "        \n",
    "        \"\"\"Returns the size of the queue.\"\"\"\n",
    "        \n",
    "        return len(self.items)\n",
    "    \n",
    "    def peek(self):\n",
    "        \n",
    "        \"\"\"Have a look at first element of the queue.\"\"\"\n",
    "        \n",
    "        if self.is_empty():\n",
    "            raise Exception(\"Nothing to peek\")\n",
    "            \n",
    "        return self.items[0]"
   ]
  },
  {
   "cell_type": "code",
   "execution_count": 21,
   "id": "9158d6b1",
   "metadata": {},
   "outputs": [],
   "source": [
    "def breadth_first(node):\n",
    "    \n",
    "    if (node == None):\n",
    "        raise Exception(\"No root found!\")\n",
    "        \n",
    "    path = []\n",
    "    queue = MyQueue()\n",
    "    queue.enqueue(node)\n",
    "    \n",
    "    while queue.size() > 0:\n",
    "        current = queue.dequeue()\n",
    "        \n",
    "        path.append(current.data)\n",
    "        \n",
    "        if  current.get_left_child() != None:\n",
    "            queue.enqueue(current.get_left_child())\n",
    "            \n",
    "        if current.get_right_child() != None:\n",
    "            queue.enqueue(current.get_right_child())\n",
    "            \n",
    "    return path"
   ]
  },
  {
   "cell_type": "code",
   "execution_count": 22,
   "id": "590c24a5",
   "metadata": {},
   "outputs": [
    {
     "data": {
      "text/plain": [
       "[25, 2, 33, 1, 23, 45, 72, 68, 81, 54, 100]"
      ]
     },
     "execution_count": 22,
     "metadata": {},
     "output_type": "execute_result"
    }
   ],
   "source": [
    "breadth_first(E)"
   ]
  },
  {
   "cell_type": "code",
   "execution_count": 23,
   "id": "6c4561c6",
   "metadata": {},
   "outputs": [],
   "source": [
    "def pre_order(node):\n",
    "    path = []\n",
    "    \n",
    "    if node:\n",
    "        path.append(node.data)\n",
    "        \n",
    "        path = path + pre_order(node.get_left_child())\n",
    "        path = path + pre_order(node.get_right_child())\n",
    "        \n",
    "    return path"
   ]
  },
  {
   "cell_type": "code",
   "execution_count": 24,
   "id": "72e3a9bc",
   "metadata": {},
   "outputs": [
    {
     "data": {
      "text/plain": [
       "[25, 2, 1, 23, 33, 45, 72, 68, 54, 81, 100]"
      ]
     },
     "execution_count": 24,
     "metadata": {},
     "output_type": "execute_result"
    }
   ],
   "source": [
    "pre_order(E)"
   ]
  },
  {
   "cell_type": "code",
   "execution_count": 25,
   "id": "68a15776",
   "metadata": {},
   "outputs": [],
   "source": [
    "def in_order(node):\n",
    "    path = []\n",
    "    \n",
    "    if node:\n",
    "        path = path + in_order(node.get_left_child())\n",
    "        \n",
    "        path.append(node.data)\n",
    "        \n",
    "        path = path + in_order(node.get_right_child())\n",
    "        \n",
    "    return path"
   ]
  },
  {
   "cell_type": "code",
   "execution_count": 26,
   "id": "b07934d4",
   "metadata": {},
   "outputs": [
    {
     "data": {
      "text/plain": [
       "[1, 2, 23, 25, 33, 45, 54, 68, 72, 81, 100]"
      ]
     },
     "execution_count": 26,
     "metadata": {},
     "output_type": "execute_result"
    }
   ],
   "source": [
    "in_order(E)"
   ]
  },
  {
   "cell_type": "code",
   "execution_count": 27,
   "id": "3730115a",
   "metadata": {},
   "outputs": [],
   "source": [
    "def post_order(node):\n",
    "    path = []\n",
    "    \n",
    "    if node:\n",
    "        \n",
    "        path = path + post_order(node.get_left_child())\n",
    "        path = path + post_order(node.get_right_child())\n",
    "        \n",
    "        path.append(node.data)\n",
    "        \n",
    "    return path"
   ]
  },
  {
   "cell_type": "code",
   "execution_count": 28,
   "id": "3b72b45d",
   "metadata": {},
   "outputs": [
    {
     "data": {
      "text/plain": [
       "[1, 23, 2, 54, 68, 100, 81, 72, 45, 33, 25]"
      ]
     },
     "execution_count": 28,
     "metadata": {},
     "output_type": "execute_result"
    }
   ],
   "source": [
    "post_order(E)"
   ]
  },
  {
   "cell_type": "code",
   "execution_count": null,
   "id": "30399c70",
   "metadata": {},
   "outputs": [],
   "source": []
  }
 ],
 "metadata": {
  "kernelspec": {
   "display_name": "Python 3",
   "language": "python",
   "name": "python3"
  },
  "language_info": {
   "codemirror_mode": {
    "name": "ipython",
    "version": 3
   },
   "file_extension": ".py",
   "mimetype": "text/x-python",
   "name": "python",
   "nbconvert_exporter": "python",
   "pygments_lexer": "ipython3",
   "version": "3.6.9"
  }
 },
 "nbformat": 4,
 "nbformat_minor": 5
}
