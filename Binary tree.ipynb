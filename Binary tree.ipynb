{
 "cells": [
  {
   "cell_type": "code",
   "execution_count": 1,
   "source": [
    "class Node:\n",
    "    \n",
    "    def __init__(self, data):\n",
    "        self.left = None\n",
    "        self.right = None\n",
    "        \n",
    "        self.data = data\n",
    "        \n",
    "    def get_left_child(self):\n",
    "        return self.left\n",
    "    \n",
    "    def set_left_child(self, left):\n",
    "        self.left = left\n",
    "        \n",
    "    def get_right_child(self):\n",
    "        return self.right\n",
    "    \n",
    "    def set_right_child(self, right):\n",
    "        self.right = right\n",
    "        \n",
    "    def get_value(self):\n",
    "        return self.data\n",
    "    \n",
    "    def set_value(self, value):\n",
    "        self.data = value\n",
    "        \n",
    "    def print_tree(self):\n",
    "            if self.left:\n",
    "                self.left.print_tree()\n",
    "                \n",
    "            print(self.data)\n",
    "            \n",
    "            if self.right:\n",
    "                self.right.print_tree()"
   ],
   "outputs": [],
   "metadata": {}
  },
  {
   "cell_type": "code",
   "execution_count": 2,
   "source": [
    "def insert(head, node):\n",
    "    \n",
    "    if head == None:\n",
    "        return node\n",
    "    \n",
    "    if node.get_value() <= head.get_value():\n",
    "        head.set_left_child(insert(head.get_left_child(), node))\n",
    "    else:\n",
    "        head.set_right_child(insert(head.get_right_child(), node))\n",
    "        \n",
    "    return head"
   ],
   "outputs": [],
   "metadata": {}
  },
  {
   "cell_type": "code",
   "execution_count": 3,
   "source": [
    "A = Node(45)\n",
    "B = Node(2)\n",
    "C = Node(33)\n",
    "D = Node(54)\n",
    "E = Node(25)\n",
    "F = Node(68)\n",
    "G = Node(72)\n",
    "H = Node(81)\n",
    "I = Node(23)"
   ],
   "outputs": [],
   "metadata": {}
  },
  {
   "cell_type": "code",
   "execution_count": 4,
   "source": [
    "head = insert(None, E)"
   ],
   "outputs": [],
   "metadata": {}
  },
  {
   "cell_type": "code",
   "execution_count": 5,
   "source": [
    "head.print_tree()"
   ],
   "outputs": [
    {
     "output_type": "stream",
     "name": "stdout",
     "text": [
      "25\n"
     ]
    }
   ],
   "metadata": {}
  },
  {
   "cell_type": "code",
   "execution_count": 6,
   "source": [
    "insert(head, B)\n",
    "\n",
    "head.print_tree()"
   ],
   "outputs": [
    {
     "output_type": "stream",
     "name": "stdout",
     "text": [
      "2\n",
      "25\n"
     ]
    }
   ],
   "metadata": {}
  },
  {
   "cell_type": "code",
   "execution_count": 7,
   "source": [
    "insert(head, C)\n",
    "\n",
    "head.print_tree()"
   ],
   "outputs": [
    {
     "output_type": "stream",
     "name": "stdout",
     "text": [
      "2\n",
      "25\n",
      "33\n"
     ]
    }
   ],
   "metadata": {}
  },
  {
   "cell_type": "code",
   "execution_count": 8,
   "source": [
    "insert(head, I)\n",
    "insert(head, A)\n",
    "\n",
    "head.print_tree()"
   ],
   "outputs": [
    {
     "output_type": "stream",
     "name": "stdout",
     "text": [
      "2\n",
      "23\n",
      "25\n",
      "33\n",
      "45\n"
     ]
    }
   ],
   "metadata": {}
  },
  {
   "cell_type": "code",
   "execution_count": 9,
   "source": [
    "insert(head, G)\n",
    "insert(head, F)\n",
    "insert(head, D)\n",
    "insert(head, H)\n",
    "\n",
    "head.print_tree()"
   ],
   "outputs": [
    {
     "output_type": "stream",
     "name": "stdout",
     "text": [
      "2\n",
      "23\n",
      "25\n",
      "33\n",
      "45\n",
      "54\n",
      "68\n",
      "72\n",
      "81\n"
     ]
    }
   ],
   "metadata": {}
  },
  {
   "cell_type": "code",
   "execution_count": 10,
   "source": [
    "def lookup(head, data):\n",
    "    \n",
    "    if head == None:\n",
    "        return print(\"Value not found!\")\n",
    "    \n",
    "    if head.get_value() == data:\n",
    "        return head\n",
    "    \n",
    "    if data <= head.get_value():\n",
    "        return lookup(head.get_left_child(), data)\n",
    "    else:\n",
    "        return lookup(head.get_right_child(), data)"
   ],
   "outputs": [],
   "metadata": {}
  },
  {
   "cell_type": "code",
   "execution_count": 11,
   "source": [
    "def print_node(node):\n",
    "    if (node == None):\n",
    "        print(\"Not Found!\")\n",
    "        \n",
    "    print(node.get_value())"
   ],
   "outputs": [],
   "metadata": {}
  },
  {
   "cell_type": "code",
   "execution_count": 12,
   "source": [
    "print_node(lookup(head, 68))"
   ],
   "outputs": [
    {
     "output_type": "stream",
     "name": "stdout",
     "text": [
      "68\n"
     ]
    }
   ],
   "metadata": {}
  },
  {
   "cell_type": "code",
   "execution_count": 13,
   "source": [
    "print_node(lookup(head, 10))"
   ],
   "outputs": [
    {
     "output_type": "stream",
     "name": "stdout",
     "text": [
      "Value not found!\n",
      "Not Found!\n"
     ]
    },
    {
     "output_type": "error",
     "ename": "AttributeError",
     "evalue": "'NoneType' object has no attribute 'get_value'",
     "traceback": [
      "\u001b[0;31m---------------------------------------------------------------------------\u001b[0m",
      "\u001b[0;31mAttributeError\u001b[0m                            Traceback (most recent call last)",
      "\u001b[0;32m<ipython-input-13-ec19f86541cb>\u001b[0m in \u001b[0;36m<module>\u001b[0;34m\u001b[0m\n\u001b[0;32m----> 1\u001b[0;31m \u001b[0mprint_node\u001b[0m\u001b[0;34m(\u001b[0m\u001b[0mlookup\u001b[0m\u001b[0;34m(\u001b[0m\u001b[0mhead\u001b[0m\u001b[0;34m,\u001b[0m \u001b[0;36m10\u001b[0m\u001b[0;34m)\u001b[0m\u001b[0;34m)\u001b[0m\u001b[0;34m\u001b[0m\u001b[0;34m\u001b[0m\u001b[0m\n\u001b[0m",
      "\u001b[0;32m<ipython-input-11-93d1b52524fd>\u001b[0m in \u001b[0;36mprint_node\u001b[0;34m(node)\u001b[0m\n\u001b[1;32m      3\u001b[0m         \u001b[0mprint\u001b[0m\u001b[0;34m(\u001b[0m\u001b[0;34m\"Not Found!\"\u001b[0m\u001b[0;34m)\u001b[0m\u001b[0;34m\u001b[0m\u001b[0;34m\u001b[0m\u001b[0m\n\u001b[1;32m      4\u001b[0m \u001b[0;34m\u001b[0m\u001b[0m\n\u001b[0;32m----> 5\u001b[0;31m     \u001b[0mprint\u001b[0m\u001b[0;34m(\u001b[0m\u001b[0mnode\u001b[0m\u001b[0;34m.\u001b[0m\u001b[0mget_value\u001b[0m\u001b[0;34m(\u001b[0m\u001b[0;34m)\u001b[0m\u001b[0;34m)\u001b[0m\u001b[0;34m\u001b[0m\u001b[0;34m\u001b[0m\u001b[0m\n\u001b[0m",
      "\u001b[0;31mAttributeError\u001b[0m: 'NoneType' object has no attribute 'get_value'"
     ]
    }
   ],
   "metadata": {}
  },
  {
   "cell_type": "code",
   "execution_count": 14,
   "source": [
    "def min_value(head):\n",
    "    current = head\n",
    "    \n",
    "    while(current.left != None):\n",
    "        current = current.left\n",
    "        \n",
    "    return current.data"
   ],
   "outputs": [],
   "metadata": {}
  },
  {
   "cell_type": "code",
   "execution_count": 15,
   "source": [
    "min_value(head)"
   ],
   "outputs": [
    {
     "output_type": "execute_result",
     "data": {
      "text/plain": [
       "2"
      ]
     },
     "metadata": {},
     "execution_count": 15
    }
   ],
   "metadata": {}
  },
  {
   "cell_type": "code",
   "execution_count": 16,
   "source": [
    "insert(head, Node(1))\n",
    "\n",
    "min_value(head)"
   ],
   "outputs": [
    {
     "output_type": "execute_result",
     "data": {
      "text/plain": [
       "1"
      ]
     },
     "metadata": {},
     "execution_count": 16
    }
   ],
   "metadata": {}
  },
  {
   "cell_type": "code",
   "execution_count": 17,
   "source": [
    "def max_value(head):\n",
    "    current = head\n",
    "    \n",
    "    # loop down to find the rightmost leaf\n",
    "    while(current.right != None):\n",
    "        current = current.right\n",
    "        \n",
    "    return current.data"
   ],
   "outputs": [],
   "metadata": {}
  },
  {
   "cell_type": "code",
   "execution_count": 18,
   "source": [
    "max_value(head)"
   ],
   "outputs": [
    {
     "output_type": "execute_result",
     "data": {
      "text/plain": [
       "81"
      ]
     },
     "metadata": {},
     "execution_count": 18
    }
   ],
   "metadata": {}
  },
  {
   "cell_type": "code",
   "execution_count": 19,
   "source": [
    "insert(head, Node(100))\n",
    "\n",
    "max_value(head)"
   ],
   "outputs": [
    {
     "output_type": "execute_result",
     "data": {
      "text/plain": [
       "100"
      ]
     },
     "metadata": {},
     "execution_count": 19
    }
   ],
   "metadata": {}
  },
  {
   "cell_type": "code",
   "execution_count": 20,
   "source": [
    "class MyQueue:\n",
    "    \n",
    "    def __init__(self):\n",
    "        \n",
    "        \"\"\"Create a new queue.\"\"\"\n",
    "        \n",
    "        self.items = []\n",
    "        \n",
    "    def is_empty(self):\n",
    "        \n",
    "        \"\"\"Returns true if queue is empty.\"\"\"\n",
    "        \n",
    "        return len(self.items) == 0\n",
    "    \n",
    "    def enqueue(self, item):\n",
    "        \n",
    "        \"\"\"Add a new element to the end of queue.\"\"\"\n",
    "        \n",
    "        self.items.append(item)\n",
    "        \n",
    "    def dequeue(self):\n",
    "        \n",
    "        \"\"\"Remove a element from the beginning of queue.\"\"\"\n",
    "        \n",
    "        return self.items.pop(0)\n",
    "    \n",
    "    def size(self):\n",
    "        \n",
    "        \"\"\"Returns the size of the queue.\"\"\"\n",
    "        \n",
    "        return len(self.items)\n",
    "    \n",
    "    def peek(self):\n",
    "        \n",
    "        \"\"\"Have a look at first element of the queue.\"\"\"\n",
    "        \n",
    "        if self.is_empty():\n",
    "            raise Exception(\"Nothing to peek\")\n",
    "            \n",
    "        return self.items[0]"
   ],
   "outputs": [],
   "metadata": {}
  },
  {
   "cell_type": "code",
   "execution_count": 21,
   "source": [
    "def breadth_first(node):\n",
    "    \n",
    "    if (node == None):\n",
    "        raise Exception(\"No root found!\")\n",
    "        \n",
    "    path = []\n",
    "    queue = MyQueue()\n",
    "    queue.enqueue(node)\n",
    "    \n",
    "    while queue.size() > 0:\n",
    "        current = queue.dequeue()\n",
    "        \n",
    "        path.append(current.data)\n",
    "        \n",
    "        if  current.get_left_child() != None:\n",
    "            queue.enqueue(current.get_left_child())\n",
    "            \n",
    "        if current.get_right_child() != None:\n",
    "            queue.enqueue(current.get_right_child())\n",
    "            \n",
    "    return path"
   ],
   "outputs": [],
   "metadata": {}
  },
  {
   "cell_type": "code",
   "execution_count": 22,
   "source": [
    "breadth_first(E)"
   ],
   "outputs": [
    {
     "output_type": "execute_result",
     "data": {
      "text/plain": [
       "[25, 2, 33, 1, 23, 45, 72, 68, 81, 54, 100]"
      ]
     },
     "metadata": {},
     "execution_count": 22
    }
   ],
   "metadata": {}
  },
  {
   "cell_type": "code",
   "execution_count": 23,
   "source": [
    "def pre_order(node):\n",
    "    path = []\n",
    "    \n",
    "    if node:\n",
    "        path.append(node.data)\n",
    "        \n",
    "        path = path + pre_order(node.get_left_child())\n",
    "        path = path + pre_order(node.get_right_child())\n",
    "        \n",
    "    return path"
   ],
   "outputs": [],
   "metadata": {}
  },
  {
   "cell_type": "code",
   "execution_count": 24,
   "source": [
    "pre_order(E)"
   ],
   "outputs": [
    {
     "output_type": "execute_result",
     "data": {
      "text/plain": [
       "[25, 2, 1, 23, 33, 45, 72, 68, 54, 81, 100]"
      ]
     },
     "metadata": {},
     "execution_count": 24
    }
   ],
   "metadata": {}
  },
  {
   "cell_type": "code",
   "execution_count": 25,
   "source": [
    "def in_order(node):\n",
    "    path = []\n",
    "    \n",
    "    if node:\n",
    "        path = path + in_order(node.get_left_child())\n",
    "        \n",
    "        path.append(node.data)\n",
    "        \n",
    "        path = path + in_order(node.get_right_child())\n",
    "        \n",
    "    return path"
   ],
   "outputs": [],
   "metadata": {}
  },
  {
   "cell_type": "code",
   "execution_count": 26,
   "source": [
    "in_order(E)"
   ],
   "outputs": [
    {
     "output_type": "execute_result",
     "data": {
      "text/plain": [
       "[1, 2, 23, 25, 33, 45, 54, 68, 72, 81, 100]"
      ]
     },
     "metadata": {},
     "execution_count": 26
    }
   ],
   "metadata": {}
  },
  {
   "cell_type": "code",
   "execution_count": 27,
   "source": [
    "def post_order(node):\n",
    "    path = []\n",
    "    \n",
    "    if node:\n",
    "        \n",
    "        path = path + post_order(node.get_left_child())\n",
    "        path = path + post_order(node.get_right_child())\n",
    "        \n",
    "        path.append(node.data)\n",
    "        \n",
    "    return path"
   ],
   "outputs": [],
   "metadata": {}
  },
  {
   "cell_type": "code",
   "execution_count": 28,
   "source": [
    "post_order(E)"
   ],
   "outputs": [
    {
     "output_type": "execute_result",
     "data": {
      "text/plain": [
       "[1, 23, 2, 54, 68, 100, 81, 72, 45, 33, 25]"
      ]
     },
     "metadata": {},
     "execution_count": 28
    }
   ],
   "metadata": {}
  },
  {
   "cell_type": "code",
   "execution_count": null,
   "source": [],
   "outputs": [],
   "metadata": {}
  }
 ],
 "metadata": {
  "kernelspec": {
   "display_name": "Python 3",
   "language": "python",
   "name": "python3"
  },
  "language_info": {
   "codemirror_mode": {
    "name": "ipython",
    "version": 3
   },
   "file_extension": ".py",
   "mimetype": "text/x-python",
   "name": "python",
   "nbconvert_exporter": "python",
   "pygments_lexer": "ipython3",
   "version": "3.6.9"
  }
 },
 "nbformat": 4,
 "nbformat_minor": 5
}