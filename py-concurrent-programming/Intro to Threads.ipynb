{
 "cells": [
  {
   "cell_type": "code",
   "execution_count": 1,
   "id": "fb9587af",
   "metadata": {},
   "outputs": [],
   "source": [
    "import threading"
   ]
  },
  {
   "cell_type": "code",
   "execution_count": 2,
   "id": "9c455023",
   "metadata": {},
   "outputs": [],
   "source": [
    "from pprint import pprint\n",
    "\n",
    "def new_func():\n",
    "    \n",
    "    pprint(threading.active_count())\n",
    "    print()\n",
    "    pprint(threading.enumerate())\n",
    "    print()\n",
    "    pprint(threading.current_thread())"
   ]
  },
  {
   "cell_type": "code",
   "execution_count": 3,
   "id": "4656271e",
   "metadata": {},
   "outputs": [
    {
     "name": "stdout",
     "output_type": "stream",
     "text": [
      "5\n",
      "\n",
      "[<_MainThread(MainThread, started 140682042939200)>,\n",
      " <Thread(Thread-2, started daemon 140681872684800)>,\n",
      " <Heartbeat(Thread-3, started daemon 140681864292096)>,\n",
      " <HistorySavingThread(IPythonHistorySavingThread, started 140681636992768)>,\n",
      " <ParentPollerUnix(Thread-1, started daemon 140681628600064)>]\n",
      "\n",
      "<_MainThread(MainThread, started 140682042939200)>\n"
     ]
    }
   ],
   "source": [
    "new_func()"
   ]
  },
  {
   "cell_type": "code",
   "execution_count": 4,
   "id": "1c9fca11",
   "metadata": {},
   "outputs": [],
   "source": [
    "def func():\n",
    "    print('hello from func! \\n')"
   ]
  },
  {
   "cell_type": "code",
   "execution_count": 5,
   "id": "0d998c05",
   "metadata": {},
   "outputs": [],
   "source": [
    "x = threading.Thread()\n",
    "\n",
    "x.start()"
   ]
  },
  {
   "cell_type": "code",
   "execution_count": 6,
   "id": "466083f5",
   "metadata": {},
   "outputs": [
    {
     "name": "stdout",
     "output_type": "stream",
     "text": [
      "hello from func! \n",
      "\n"
     ]
    }
   ],
   "source": [
    "x = threading.Thread(target = func)\n",
    "\n",
    "x.start()"
   ]
  },
  {
   "cell_type": "code",
   "execution_count": 7,
   "id": "ad8c0f6f",
   "metadata": {},
   "outputs": [],
   "source": [
    "import time"
   ]
  },
  {
   "cell_type": "code",
   "execution_count": 8,
   "id": "08c76f00",
   "metadata": {},
   "outputs": [],
   "source": [
    "def sleeping_func():\n",
    "    time.sleep(2)\n",
    "    print('\\nHello from sleeping_func!')"
   ]
  },
  {
   "cell_type": "code",
   "execution_count": 10,
   "id": "aae18f6d",
   "metadata": {},
   "outputs": [
    {
     "name": "stdout",
     "output_type": "stream",
     "text": [
      "6\n",
      "\n",
      "[<_MainThread(MainThread, started 140682042939200)>,\n",
      " <Thread(Thread-2, started daemon 140681872684800)>,\n",
      " <Heartbeat(Thread-3, started daemon 140681864292096)>,\n",
      " <HistorySavingThread(IPythonHistorySavingThread, started 140681636992768)>,\n",
      " <ParentPollerUnix(Thread-1, started daemon 140681628600064)>,\n",
      " <Thread(Thread-6, started 140681620207360)>]\n",
      "\n",
      "<_MainThread(MainThread, started 140682042939200)>\n",
      "\n",
      "Hello from sleeping_func!\n"
     ]
    }
   ],
   "source": [
    "x = threading.Thread(target = sleeping_func)\n",
    "\n",
    "x.start()\n",
    "\n",
    "pprint(threading.active_count())\n",
    "print()\n",
    "pprint(threading.enumerate())\n",
    "print()\n",
    "pprint(threading.current_thread())"
   ]
  },
  {
   "cell_type": "code",
   "execution_count": 11,
   "id": "e4a061a6",
   "metadata": {
    "scrolled": true
   },
   "outputs": [
    {
     "name": "stdout",
     "output_type": "stream",
     "text": [
      "6\n",
      "\n",
      "[<_MainThread(MainThread, started 140682042939200)>,\n",
      " <Thread(Thread-2, started daemon 140681872684800)>,\n",
      " <Heartbeat(Thread-3, started daemon 140681864292096)>,\n",
      " <HistorySavingThread(IPythonHistorySavingThread, started 140681636992768)>,\n",
      " <ParentPollerUnix(Thread-1, started daemon 140681628600064)>,\n",
      " <Thread(brand_new_thread, started 140681620207360)>]\n",
      "\n",
      "<_MainThread(MainThread, started 140682042939200)>\n",
      "\n",
      "Hello from sleeping_func!\n"
     ]
    }
   ],
   "source": [
    "x = threading.Thread(target = sleeping_func,\n",
    "                    name = 'brand_new_thread')\n",
    "\n",
    "x.start()\n",
    "\n",
    "pprint(threading.active_count())\n",
    "print()\n",
    "pprint(threading.enumerate())\n",
    "print()\n",
    "pprint(threading.current_thread())"
   ]
  },
  {
   "cell_type": "code",
   "execution_count": 12,
   "id": "0289b5e7",
   "metadata": {},
   "outputs": [
    {
     "name": "stdout",
     "output_type": "stream",
     "text": [
      "\n",
      "This is the Main thread..\n",
      "\n",
      "Hello from sleeping_func!\n"
     ]
    }
   ],
   "source": [
    "x = threading.Thread(target = sleeping_func)\n",
    "\n",
    "x.start()\n",
    "\n",
    "print('\\nThis is the Main thread..') "
   ]
  },
  {
   "cell_type": "code",
   "execution_count": 13,
   "id": "f80e8115",
   "metadata": {},
   "outputs": [
    {
     "name": "stdout",
     "output_type": "stream",
     "text": [
      "\n",
      "Hello from sleeping_func!\n",
      "\n",
      "This is the Main thread..\n"
     ]
    }
   ],
   "source": [
    "x = threading.Thread(target = sleeping_func)\n",
    "\n",
    "x.start()\n",
    "# join() makes synchro\n",
    "x.join()\n",
    "\n",
    "print('\\nThis is the Main thread..') "
   ]
  },
  {
   "cell_type": "code",
   "execution_count": 14,
   "id": "9bb6f5e4",
   "metadata": {},
   "outputs": [
    {
     "ename": "RuntimeError",
     "evalue": "threads can only be started once",
     "output_type": "error",
     "traceback": [
      "\u001b[0;31m---------------------------------------------------------------------------\u001b[0m",
      "\u001b[0;31mRuntimeError\u001b[0m                              Traceback (most recent call last)",
      "\u001b[0;32m<ipython-input-14-d09e780e5ce0>\u001b[0m in \u001b[0;36m<module>\u001b[0;34m\u001b[0m\n\u001b[1;32m      2\u001b[0m \u001b[0;34m\u001b[0m\u001b[0m\n\u001b[1;32m      3\u001b[0m \u001b[0mx\u001b[0m\u001b[0;34m.\u001b[0m\u001b[0mstart\u001b[0m\u001b[0;34m(\u001b[0m\u001b[0;34m)\u001b[0m\u001b[0;34m\u001b[0m\u001b[0;34m\u001b[0m\u001b[0m\n\u001b[0;32m----> 4\u001b[0;31m \u001b[0mx\u001b[0m\u001b[0;34m.\u001b[0m\u001b[0mstart\u001b[0m\u001b[0;34m(\u001b[0m\u001b[0;34m)\u001b[0m\u001b[0;34m\u001b[0m\u001b[0;34m\u001b[0m\u001b[0m\n\u001b[0m\u001b[1;32m      5\u001b[0m \u001b[0;34m\u001b[0m\u001b[0m\n\u001b[1;32m      6\u001b[0m \u001b[0mprint\u001b[0m\u001b[0;34m(\u001b[0m\u001b[0;34m'\\nThis is the Main thread..'\u001b[0m\u001b[0;34m)\u001b[0m\u001b[0;34m\u001b[0m\u001b[0;34m\u001b[0m\u001b[0m\n",
      "\u001b[0;32m/usr/lib/python3.6/threading.py\u001b[0m in \u001b[0;36mstart\u001b[0;34m(self)\u001b[0m\n\u001b[1;32m    840\u001b[0m \u001b[0;34m\u001b[0m\u001b[0m\n\u001b[1;32m    841\u001b[0m         \u001b[0;32mif\u001b[0m \u001b[0mself\u001b[0m\u001b[0;34m.\u001b[0m\u001b[0m_started\u001b[0m\u001b[0;34m.\u001b[0m\u001b[0mis_set\u001b[0m\u001b[0;34m(\u001b[0m\u001b[0;34m)\u001b[0m\u001b[0;34m:\u001b[0m\u001b[0;34m\u001b[0m\u001b[0;34m\u001b[0m\u001b[0m\n\u001b[0;32m--> 842\u001b[0;31m             \u001b[0;32mraise\u001b[0m \u001b[0mRuntimeError\u001b[0m\u001b[0;34m(\u001b[0m\u001b[0;34m\"threads can only be started once\"\u001b[0m\u001b[0;34m)\u001b[0m\u001b[0;34m\u001b[0m\u001b[0;34m\u001b[0m\u001b[0m\n\u001b[0m\u001b[1;32m    843\u001b[0m         \u001b[0;32mwith\u001b[0m \u001b[0m_active_limbo_lock\u001b[0m\u001b[0;34m:\u001b[0m\u001b[0;34m\u001b[0m\u001b[0;34m\u001b[0m\u001b[0m\n\u001b[1;32m    844\u001b[0m             \u001b[0m_limbo\u001b[0m\u001b[0;34m[\u001b[0m\u001b[0mself\u001b[0m\u001b[0;34m]\u001b[0m \u001b[0;34m=\u001b[0m \u001b[0mself\u001b[0m\u001b[0;34m\u001b[0m\u001b[0;34m\u001b[0m\u001b[0m\n",
      "\u001b[0;31mRuntimeError\u001b[0m: threads can only be started once"
     ]
    },
    {
     "name": "stdout",
     "output_type": "stream",
     "text": [
      "\n",
      "Hello from sleeping_func!\n"
     ]
    }
   ],
   "source": [
    "x = threading.Thread(target = sleeping_func)\n",
    "\n",
    "x.start()\n",
    "x.start()\n",
    "\n",
    "print('\\nThis is the Main thread..') "
   ]
  },
  {
   "cell_type": "code",
   "execution_count": 15,
   "id": "6fb4726e",
   "metadata": {},
   "outputs": [
    {
     "name": "stdout",
     "output_type": "stream",
     "text": [
      "\n",
      "Hello from func! My name is Thread-10\n",
      "\n",
      "This is the Main thread. My name is MainThread\n"
     ]
    }
   ],
   "source": [
    "def func():\n",
    "    time.sleep(2)\n",
    "    print('\\nHello from func! My name is', threading.current_thread().getName())\n",
    "    \n",
    "x = threading.Thread(target = func)\n",
    "\n",
    "x.start()\n",
    "x.join()\n",
    "\n",
    "print('\\nThis is the Main thread. My name is', threading.current_thread().getName())"
   ]
  },
  {
   "cell_type": "code",
   "execution_count": 16,
   "id": "c2093acd",
   "metadata": {},
   "outputs": [
    {
     "name": "stdout",
     "output_type": "stream",
     "text": [
      "MainThread\n",
      "\n",
      "Hello from func! My name is Thread-11\n",
      "\n",
      "This is the Main thread. My name is MainThread\n"
     ]
    }
   ],
   "source": [
    "x = threading.Thread(target = func)\n",
    "\n",
    "print(threading.current_thread().getName())\n",
    "\n",
    "x.start()\n",
    "x.join()\n",
    "\n",
    "print('\\nThis is the Main thread. My name is', threading.current_thread().getName())"
   ]
  },
  {
   "cell_type": "code",
   "execution_count": 17,
   "id": "b72d7c8e",
   "metadata": {},
   "outputs": [],
   "source": [
    "def calc_square(n):\n",
    "    result = n * n\n",
    "    \n",
    "    print(f\"The number {n} spares to {result}.\")"
   ]
  },
  {
   "cell_type": "code",
   "execution_count": 20,
   "id": "984807cf",
   "metadata": {},
   "outputs": [
    {
     "name": "stdout",
     "output_type": "stream",
     "text": [
      "The number 1 spares to 1.\n",
      "The number 2 spares to 4.\n",
      "The number 3 spares to 9.\n",
      "The number 4 spares to 16.\n"
     ]
    }
   ],
   "source": [
    "square_list = []\n",
    "num_list = [1, 2, 3, 4]\n",
    "\n",
    "for n in num_list:\n",
    "    \n",
    "    thread = threading.Thread(target=calc_square, args=(n, ))\n",
    "    square_list.append(thread)\n",
    "    \n",
    "    thread.start()\n",
    "    thread.join()"
   ]
  },
  {
   "cell_type": "code",
   "execution_count": 21,
   "id": "7720a5e2",
   "metadata": {},
   "outputs": [
    {
     "name": "stdout",
     "output_type": "stream",
     "text": [
      "\n",
      "Hello from func! my name is Thread-24\n",
      "Control returned to MainThread\n"
     ]
    }
   ],
   "source": [
    "class DerivedThread(threading.Thread):\n",
    "    \n",
    "    def run(self):\n",
    "        time.sleep(2)\n",
    "        print('\\nHello from func! my name is', threading.current_thread().getName())\n",
    "        \n",
    "obj = DerivedThread()\n",
    "\n",
    "obj.start()\n",
    "obj.join()\n",
    "\n",
    "print('Control returned to', threading.current_thread().getName())"
   ]
  },
  {
   "cell_type": "code",
   "execution_count": 23,
   "id": "0d33e46d",
   "metadata": {},
   "outputs": [
    {
     "name": "stdout",
     "output_type": "stream",
     "text": [
      "Printing from child thread: 7\n",
      "Printing from child thread: 6\n",
      "Printing from child thread: 11\n",
      "Printing from child thread: Hello\n",
      "Printing from child thread: 5.2\n",
      "Printing from child thread: Rose\n",
      "Control returned to MainThread\n"
     ]
    }
   ],
   "source": [
    "class RegularClass:\n",
    "    \n",
    "    def print_list(self):\n",
    "        mixed_list = [7, 6, 11, 'Hello', 5.2, 'Rose']\n",
    "        \n",
    "        for x in mixed_list:\n",
    "            print('Printing from child thread:', x)\n",
    "            time.sleep(1)\n",
    "            \n",
    "obj = RegularClass()\n",
    "\n",
    "x = threading.Thread(target = obj.print_list)\n",
    "\n",
    "x.start()\n",
    "x.join()\n",
    "\n",
    "print('Control returned to', threading.current_thread().getName())"
   ]
  },
  {
   "cell_type": "code",
   "execution_count": 25,
   "id": "c29a4751",
   "metadata": {},
   "outputs": [
    {
     "name": "stdout",
     "output_type": "stream",
     "text": [
      "Hello\n",
      "Hello\n",
      "Hello\n",
      "Hello\n",
      "Hello\n",
      "Hello\n",
      "World\n",
      "World\n",
      "World\n",
      "World\n",
      "World\n",
      "World\n",
      "total time: 12.049607038497925\n"
     ]
    }
   ],
   "source": [
    "def greetings_1():\n",
    "        for i in range(6):\n",
    "            print('Hello')\n",
    "            time.sleep(1)\n",
    "            \n",
    "def greetings_2():\n",
    "        for i in range(6):\n",
    "            print('World')\n",
    "            time.sleep(1)\n",
    "\n",
    "start_time = time.time()\n",
    "\n",
    "greetings_1()\n",
    "greetings_2()\n",
    "            \n",
    "end_time = time.time()\n",
    "\n",
    "print('total time:', end_time-start_time)"
   ]
  },
  {
   "cell_type": "code",
   "execution_count": 26,
   "id": "1f25d4ba",
   "metadata": {},
   "outputs": [
    {
     "name": "stdout",
     "output_type": "stream",
     "text": [
      "Hello\n",
      "World\n",
      "Hello\n",
      "World\n",
      "Hello\n",
      "World\n",
      "Hello\n",
      "World\n",
      "Hello\n",
      "World\n",
      "World\n",
      "Hello\n",
      "total time: 6.011525392532349\n"
     ]
    }
   ],
   "source": [
    "def greetings_1():\n",
    "        for i in range(6):\n",
    "            print('Hello')\n",
    "            time.sleep(1)\n",
    "            \n",
    "def greetings_2():\n",
    "        for i in range(6):\n",
    "            print('World')\n",
    "            time.sleep(1)\n",
    "\n",
    "start_time = time.time()\n",
    "\n",
    "t1 = threading.Thread(target = greetings_1)\n",
    "t2 = threading.Thread(target = greetings_2)\n",
    "\n",
    "t1.start()\n",
    "t2.start()\n",
    "\n",
    "t1.join()\n",
    "t2.join()\n",
    "\n",
    "end_time = time.time()\n",
    "\n",
    "print('total time:', end_time-start_time)"
   ]
  },
  {
   "cell_type": "code",
   "execution_count": null,
   "id": "c80ae2c9",
   "metadata": {},
   "outputs": [],
   "source": []
  }
 ],
 "metadata": {
  "kernelspec": {
   "display_name": "Python 3",
   "language": "python",
   "name": "python3"
  },
  "language_info": {
   "codemirror_mode": {
    "name": "ipython",
    "version": 3
   },
   "file_extension": ".py",
   "mimetype": "text/x-python",
   "name": "python",
   "nbconvert_exporter": "python",
   "pygments_lexer": "ipython3",
   "version": "3.6.9"
  }
 },
 "nbformat": 4,
 "nbformat_minor": 5
}
