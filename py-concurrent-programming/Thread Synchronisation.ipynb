{
 "cells": [
  {
   "cell_type": "code",
   "execution_count": 29,
   "id": "10adaa64",
   "metadata": {},
   "outputs": [],
   "source": [
    "import threading"
   ]
  },
  {
   "cell_type": "code",
   "execution_count": null,
   "id": "ada5c90c",
   "metadata": {},
   "outputs": [],
   "source": [
    "amount = 0"
   ]
  },
  {
   "cell_type": "code",
   "execution_count": null,
   "id": "ad0db10f",
   "metadata": {},
   "outputs": [],
   "source": [
    "def deposit(dep_amount):\n",
    "    \n",
    "    global amount\n",
    "    \n",
    "    for i in range(dep_amount):\n",
    "        amount += 1"
   ]
  },
  {
   "cell_type": "code",
   "execution_count": null,
   "id": "3284d20b",
   "metadata": {},
   "outputs": [],
   "source": [
    "def two_deposit_threads(dep_amount):\n",
    "    \n",
    "    t1 = threading.Thread(target=deposit,\n",
    "                         args=(dep_amount, ))\n",
    "    t2 = threading.Thread(target=deposit,\n",
    "                         args=(dep_amount, ))\n",
    "    \n",
    "    t1.start()\n",
    "    t2.start()\n",
    "    \n",
    "    t1.join()\n",
    "    t2.join()"
   ]
  },
  {
   "cell_type": "code",
   "execution_count": null,
   "id": "a5c071c0",
   "metadata": {},
   "outputs": [],
   "source": [
    "two_deposit_threads(10)\n",
    "\n",
    "print('Balance amount = {0}'.format(amount))"
   ]
  },
  {
   "cell_type": "code",
   "execution_count": null,
   "id": "4ed334fb",
   "metadata": {},
   "outputs": [],
   "source": [
    "amount = 0\n",
    "\n",
    "two_deposit_threads(1000)\n",
    "\n",
    "print('balance amount = {0}'.format(amount))"
   ]
  },
  {
   "cell_type": "code",
   "execution_count": null,
   "id": "024a301c",
   "metadata": {},
   "outputs": [],
   "source": [
    "amount = 0\n",
    "\n",
    "two_deposit_threads(1000000)\n",
    "\n",
    "print('balance amount = {0}'.format(amount))"
   ]
  },
  {
   "cell_type": "code",
   "execution_count": null,
   "id": "94897421",
   "metadata": {},
   "outputs": [],
   "source": [
    "def deposit(dep_amount, dep_lock):\n",
    "    \n",
    "    global amount\n",
    "    \n",
    "    for i in range(dep_amount):\n",
    "        \n",
    "        dep_lock.acquire()\n",
    "        \n",
    "        amount += 1\n",
    "        \n",
    "        dep_lock.release()"
   ]
  },
  {
   "cell_type": "code",
   "execution_count": null,
   "id": "3dd4c99f",
   "metadata": {},
   "outputs": [],
   "source": [
    "def two_deposit_threads(dep_amount):\n",
    "    \n",
    "    lock = threading.Lock()\n",
    "    \n",
    "    t1 = threading.Thread(target=deposit,\n",
    "                         args=(dep_amount, lock))\n",
    "    t2 = threading.Thread(target=deposit,\n",
    "                         args=(dep_amount, lock))\n",
    "    \n",
    "    t1.start()\n",
    "    t2.start()\n",
    "    \n",
    "    t1.join()\n",
    "    t2.join()"
   ]
  },
  {
   "cell_type": "code",
   "execution_count": null,
   "id": "e7027a4a",
   "metadata": {},
   "outputs": [],
   "source": [
    "amount = 0\n",
    "\n",
    "two_deposit_threads(1000000)\n",
    "\n",
    "print('balance amount = {0}'.format(amount))"
   ]
  },
  {
   "cell_type": "code",
   "execution_count": 12,
   "id": "11a07bd8",
   "metadata": {},
   "outputs": [],
   "source": [
    "def deposit(dep_amount, dep_lock):\n",
    "    \n",
    "    global amnount\n",
    "    \n",
    "    for i in range(dep_amount):\n",
    "        \n",
    "        amount += 1\n",
    "        \n",
    "        dep_lock.release()"
   ]
  },
  {
   "cell_type": "code",
   "execution_count": null,
   "id": "6f2f05d0",
   "metadata": {},
   "outputs": [],
   "source": [
    "amount = 0\n",
    "\n",
    "two_deposit_threads(100000)\n",
    "\n",
    "print('balance amount = {0}'.format(amount))"
   ]
  },
  {
   "cell_type": "code",
   "execution_count": 14,
   "id": "0e2dc724",
   "metadata": {},
   "outputs": [
    {
     "name": "stdout",
     "output_type": "stream",
     "text": [
      "first try : True\n"
     ]
    },
    {
     "ename": "KeyboardInterrupt",
     "evalue": "",
     "output_type": "error",
     "traceback": [
      "\u001b[0;31m---------------------------------------------------------------------------\u001b[0m",
      "\u001b[0;31mKeyboardInterrupt\u001b[0m                         Traceback (most recent call last)",
      "\u001b[0;32m<ipython-input-14-515f1c596016>\u001b[0m in \u001b[0;36m<module>\u001b[0;34m\u001b[0m\n\u001b[1;32m      2\u001b[0m \u001b[0;34m\u001b[0m\u001b[0m\n\u001b[1;32m      3\u001b[0m \u001b[0mprint\u001b[0m\u001b[0;34m(\u001b[0m\u001b[0;34m\"first try :\"\u001b[0m\u001b[0;34m,\u001b[0m \u001b[0mlock\u001b[0m\u001b[0;34m.\u001b[0m\u001b[0macquire\u001b[0m\u001b[0;34m(\u001b[0m\u001b[0;34m)\u001b[0m\u001b[0;34m)\u001b[0m\u001b[0;34m\u001b[0m\u001b[0;34m\u001b[0m\u001b[0m\n\u001b[0;32m----> 4\u001b[0;31m \u001b[0mprint\u001b[0m\u001b[0;34m(\u001b[0m\u001b[0;34m\"second try :\"\u001b[0m\u001b[0;34m,\u001b[0m \u001b[0mlock\u001b[0m\u001b[0;34m.\u001b[0m\u001b[0macquire\u001b[0m\u001b[0;34m(\u001b[0m\u001b[0;34m)\u001b[0m\u001b[0;34m)\u001b[0m\u001b[0;34m\u001b[0m\u001b[0;34m\u001b[0m\u001b[0m\n\u001b[0m",
      "\u001b[0;31mKeyboardInterrupt\u001b[0m: "
     ]
    }
   ],
   "source": [
    "lock = threading.Lock()\n",
    "\n",
    "print(\"first try :\", lock.acquire())\n",
    "print(\"second try :\", lock.acquire())"
   ]
  },
  {
   "cell_type": "code",
   "execution_count": null,
   "id": "23383994",
   "metadata": {},
   "outputs": [],
   "source": [
    "lock = threading.Lock()\n",
    "\n",
    "print('first try :', lock.acquire())\n",
    "print('second try :', lock.acquire(timeout = 3))"
   ]
  },
  {
   "cell_type": "code",
   "execution_count": 32,
   "id": "d12dfe0c",
   "metadata": {},
   "outputs": [
    {
     "name": "stdout",
     "output_type": "stream",
     "text": [
      "first try : True\n",
      "second try : True\n",
      "third try : True\n"
     ]
    }
   ],
   "source": [
    "lock = threading.RLock()\n",
    "\n",
    "print('first try :', lock.acquire())\n",
    "print('second try :', lock.acquire())\n",
    "print('third try :', lock.acquire())"
   ]
  },
  {
   "cell_type": "code",
   "execution_count": 28,
   "id": "afa30186",
   "metadata": {},
   "outputs": [],
   "source": [
    "import time"
   ]
  },
  {
   "cell_type": "code",
   "execution_count": 24,
   "id": "dd7cc5e4",
   "metadata": {},
   "outputs": [],
   "source": [
    "data_one = 3\n",
    "data_two = 5"
   ]
  },
  {
   "cell_type": "code",
   "execution_count": 30,
   "id": "5f344e4e",
   "metadata": {},
   "outputs": [],
   "source": [
    "def my_process(lock_one, lock_two):\n",
    "    \n",
    "    global data_one\n",
    "    global data_two\n",
    "    \n",
    "    lock_one.acquire()\n",
    "    print(threading.current_thread().name, \" incrementing data_one\")\n",
    "    data_one += 1\n",
    "    time.sleep(1)\n",
    "    \n",
    "    lock_two.acquire()\n",
    "    print(threading.current_thread().name, \" incrementing data_two\")\n",
    "    data_two += 1\n",
    "    time.sleep(1)\n",
    "    \n",
    "    lock_one.release()\n",
    "    lock_two.release()"
   ]
  },
  {
   "cell_type": "code",
   "execution_count": 31,
   "id": "165078b1",
   "metadata": {},
   "outputs": [],
   "source": [
    "lock_one = threading.Lock()\n",
    "lock_two = threading.Lock()"
   ]
  },
  {
   "cell_type": "code",
   "execution_count": 38,
   "id": "ef78e8d5",
   "metadata": {},
   "outputs": [
    {
     "name": "stdout",
     "output_type": "stream",
     "text": [
      "Thread-22  incrementing data_one\n",
      "Thread-23  incrementing data_one\n",
      "Thread-23Thread-22  incrementing data_two\n",
      "  incrementing data_two\n"
     ]
    }
   ],
   "source": [
    "t1 = threading.Thread(target = my_process,\n",
    "                     args = (lock_one, lock_two))\n",
    "t2 = threading.Thread(target = my_process,\n",
    "                     args = (lock_two, lock_one))\n",
    "\n",
    "t1.start()\n",
    "t2.start()\n",
    "\n",
    "t1.join()\n",
    "t2.join()"
   ]
  },
  {
   "cell_type": "code",
   "execution_count": 39,
   "id": "0ca66cfa",
   "metadata": {},
   "outputs": [
    {
     "name": "stdout",
     "output_type": "stream",
     "text": [
      "data_one: 7\n",
      "data_two: 9\n"
     ]
    }
   ],
   "source": [
    "print('data_one:', data_one)\n",
    "print('data_two:', data_two)"
   ]
  },
  {
   "cell_type": "code",
   "execution_count": 34,
   "id": "ee6e62ef",
   "metadata": {},
   "outputs": [],
   "source": [
    "def my_process(lock_one, lock_two):\n",
    "    \n",
    "    global data_one\n",
    "    global data_two\n",
    "    \n",
    "    lock_one.acquire()\n",
    "    print(threading.current_thread().name, \" incrementing data_one\")\n",
    "    data_one += 1\n",
    "    time.sleep(1)\n",
    "    \n",
    "    lock_one.release()\n",
    "    \n",
    "    lock_two.acquire()\n",
    "    print(threading.current_thread().name, \" incrementing data_two\")\n",
    "    data_two += 1\n",
    "    time.sleep(1)\n",
    "    \n",
    "    lock_two.release()"
   ]
  },
  {
   "cell_type": "code",
   "execution_count": 35,
   "id": "68445dc2",
   "metadata": {},
   "outputs": [],
   "source": [
    "data_one = 3\n",
    "data_two = 5\n",
    "\n",
    "lock_one = threading.Lock()\n",
    "lock_two = threading.Lock()"
   ]
  },
  {
   "cell_type": "code",
   "execution_count": 36,
   "id": "8543f40b",
   "metadata": {},
   "outputs": [
    {
     "name": "stdout",
     "output_type": "stream",
     "text": [
      "Thread-20  incrementing data_one\n",
      "Thread-21  incrementing data_one\n",
      "Thread-21  incrementing data_two\n",
      "Thread-20  incrementing data_two\n"
     ]
    }
   ],
   "source": [
    "t1 = threading.Thread(target=my_process,\n",
    "                     args=(lock_one, lock_two))\n",
    "t2 = threading.Thread(target=my_process,\n",
    "                     args=(lock_two, lock_one))\n",
    "\n",
    "t1.start()\n",
    "t2.start()\n",
    "\n",
    "t1.join()\n",
    "t2.join()"
   ]
  },
  {
   "cell_type": "code",
   "execution_count": 37,
   "id": "a293cc7a",
   "metadata": {},
   "outputs": [
    {
     "name": "stdout",
     "output_type": "stream",
     "text": [
      "data_one: 5\n",
      "data_two: 7\n"
     ]
    }
   ],
   "source": [
    "print('data_one:', data_one)\n",
    "print('data_two:', data_two)"
   ]
  },
  {
   "cell_type": "code",
   "execution_count": 40,
   "id": "b7153ccc",
   "metadata": {},
   "outputs": [],
   "source": [
    "semaphore = threading.Semaphore()"
   ]
  },
  {
   "cell_type": "code",
   "execution_count": 41,
   "id": "32e78f67",
   "metadata": {},
   "outputs": [],
   "source": [
    "def my_func():\n",
    "    \n",
    "    semaphore.acquire()\n",
    "    \n",
    "    time.sleep(0.1)\n",
    "    print(threading.current_thread().name, \" acquired  the semaphore.\")\n",
    "    print(\"Semaphore value after acquire:\", semaphore._value)\n",
    "    \n",
    "    time.sleep(5)\n",
    "    \n",
    "    semaphore.release()\n",
    "    \n",
    "    print(\"Semaphore value after relase:\", semaphore._value)"
   ]
  },
  {
   "cell_type": "code",
   "execution_count": 42,
   "id": "9218456c",
   "metadata": {},
   "outputs": [],
   "source": [
    "t1 = threading.Thread(target=my_func)\n",
    "t2 = threading.Thread(target=my_func)"
   ]
  },
  {
   "cell_type": "code",
   "execution_count": 43,
   "id": "7ebb8fe6",
   "metadata": {},
   "outputs": [
    {
     "name": "stdout",
     "output_type": "stream",
     "text": [
      "Initial semaphore value: 1\n"
     ]
    }
   ],
   "source": [
    "print(\"Initial semaphore value:\", semaphore._value)"
   ]
  },
  {
   "cell_type": "code",
   "execution_count": 44,
   "id": "4b003dde",
   "metadata": {},
   "outputs": [
    {
     "name": "stdout",
     "output_type": "stream",
     "text": [
      "Thread-24  acquired  the semaphore.\n",
      "Semaphore value after acquire: 0\n",
      "Semaphore value after relase: 1\n",
      "Thread-25  acquired  the semaphore.\n",
      "Semaphore value after acquire: 0\n",
      "Semaphore value after relase: 1\n"
     ]
    }
   ],
   "source": [
    "start_time = time.time()\n",
    "\n",
    "t1.start()\n",
    "t2.start()\n",
    "\n",
    "t1.join()\n",
    "t2.join()\n",
    "\n",
    "end_time = time.time()"
   ]
  },
  {
   "cell_type": "code",
   "execution_count": 45,
   "id": "15942e4b",
   "metadata": {},
   "outputs": [
    {
     "name": "stdout",
     "output_type": "stream",
     "text": [
      "Total time: 10.230807542800903\n"
     ]
    }
   ],
   "source": [
    "print('Total time:', end_time-start_time)"
   ]
  },
  {
   "cell_type": "code",
   "execution_count": 46,
   "id": "194dd4aa",
   "metadata": {},
   "outputs": [],
   "source": [
    "semaphore = threading.Semaphore(value=3)"
   ]
  },
  {
   "cell_type": "code",
   "execution_count": 47,
   "id": "b3d765c3",
   "metadata": {},
   "outputs": [],
   "source": [
    "t1 = threading.Thread(target=my_func)\n",
    "t2 = threading.Thread(target=my_func)\n",
    "t3 = threading.Thread(target=my_func)\n",
    "t4 = threading.Thread(target=my_func)\n",
    "t5 = threading.Thread(target=my_func)\n",
    "t6 = threading.Thread(target=my_func)\n",
    "t7 = threading.Thread(target=my_func)\n",
    "t8 = threading.Thread(target=my_func)"
   ]
  },
  {
   "cell_type": "code",
   "execution_count": 48,
   "id": "8f450026",
   "metadata": {},
   "outputs": [
    {
     "name": "stdout",
     "output_type": "stream",
     "text": [
      "Thread-26  acquired  the semaphore.\n",
      "Semaphore value after acquire: 0\n",
      "Thread-27  acquired  the semaphore.\n",
      "Semaphore value after acquire: 0\n",
      "Thread-28  acquired  the semaphore.\n",
      "Semaphore value after acquire: 0\n",
      "Semaphore value after relase: 1\n",
      "Semaphore value after relase: 1\n",
      "Semaphore value after relase: 1\n",
      "Thread-29  acquired  the semaphore.\n",
      "Semaphore value after acquire: Thread-30  acquired  the semaphore.\n",
      "Semaphore value after acquire: 0\n",
      "0\n",
      "Thread-31  acquired  the semaphore.\n",
      "Semaphore value after acquire: 0\n",
      "Semaphore value after relase: 1\n",
      "Semaphore value after relase: 1\n",
      "Semaphore value after relase: 1\n",
      "Thread-32  acquired  the semaphore.\n",
      "Semaphore value after acquire: 1\n",
      "Thread-33  acquired  the semaphore.\n",
      "Semaphore value after acquire: 1\n",
      "Semaphore value after relase: 2\n",
      "Semaphore value after relase: 3\n"
     ]
    }
   ],
   "source": [
    "start_time = time.time()\n",
    "\n",
    "t1.start()\n",
    "t2.start()\n",
    "t3.start()\n",
    "t4.start()\n",
    "t5.start()\n",
    "t6.start()\n",
    "t7.start()\n",
    "t8.start()\n",
    "\n",
    "t1.join()\n",
    "t2.join()\n",
    "t3.join()\n",
    "t4.join()\n",
    "t5.join()\n",
    "t6.join()\n",
    "t7.join()\n",
    "t8.join()\n",
    "\n",
    "end_time = time.time()"
   ]
  },
  {
   "cell_type": "code",
   "execution_count": 49,
   "id": "792b1430",
   "metadata": {},
   "outputs": [
    {
     "name": "stdout",
     "output_type": "stream",
     "text": [
      "total time: 15.365085124969482\n"
     ]
    }
   ],
   "source": [
    "print('total time:', end_time-start_time)"
   ]
  },
  {
   "cell_type": "code",
   "execution_count": 50,
   "id": "0067aab7",
   "metadata": {},
   "outputs": [
    {
     "ename": "ValueError",
     "evalue": "semaphore initial value must be >= 0",
     "output_type": "error",
     "traceback": [
      "\u001b[0;31m---------------------------------------------------------------------------\u001b[0m",
      "\u001b[0;31mValueError\u001b[0m                                Traceback (most recent call last)",
      "\u001b[0;32m<ipython-input-50-a7b8560cc15d>\u001b[0m in \u001b[0;36m<module>\u001b[0;34m\u001b[0m\n\u001b[0;32m----> 1\u001b[0;31m \u001b[0msemaphore\u001b[0m \u001b[0;34m=\u001b[0m \u001b[0mthreading\u001b[0m\u001b[0;34m.\u001b[0m\u001b[0mSemaphore\u001b[0m\u001b[0;34m(\u001b[0m\u001b[0;34m-\u001b[0m\u001b[0;36m1\u001b[0m\u001b[0;34m)\u001b[0m\u001b[0;34m\u001b[0m\u001b[0;34m\u001b[0m\u001b[0m\n\u001b[0m",
      "\u001b[0;32m/usr/lib/python3.6/threading.py\u001b[0m in \u001b[0;36m__init__\u001b[0;34m(self, value)\u001b[0m\n\u001b[1;32m    381\u001b[0m     \u001b[0;32mdef\u001b[0m \u001b[0m__init__\u001b[0m\u001b[0;34m(\u001b[0m\u001b[0mself\u001b[0m\u001b[0;34m,\u001b[0m \u001b[0mvalue\u001b[0m\u001b[0;34m=\u001b[0m\u001b[0;36m1\u001b[0m\u001b[0;34m)\u001b[0m\u001b[0;34m:\u001b[0m\u001b[0;34m\u001b[0m\u001b[0;34m\u001b[0m\u001b[0m\n\u001b[1;32m    382\u001b[0m         \u001b[0;32mif\u001b[0m \u001b[0mvalue\u001b[0m \u001b[0;34m<\u001b[0m \u001b[0;36m0\u001b[0m\u001b[0;34m:\u001b[0m\u001b[0;34m\u001b[0m\u001b[0;34m\u001b[0m\u001b[0m\n\u001b[0;32m--> 383\u001b[0;31m             \u001b[0;32mraise\u001b[0m \u001b[0mValueError\u001b[0m\u001b[0;34m(\u001b[0m\u001b[0;34m\"semaphore initial value must be >= 0\"\u001b[0m\u001b[0;34m)\u001b[0m\u001b[0;34m\u001b[0m\u001b[0;34m\u001b[0m\u001b[0m\n\u001b[0m\u001b[1;32m    384\u001b[0m         \u001b[0mself\u001b[0m\u001b[0;34m.\u001b[0m\u001b[0m_cond\u001b[0m \u001b[0;34m=\u001b[0m \u001b[0mCondition\u001b[0m\u001b[0;34m(\u001b[0m\u001b[0mLock\u001b[0m\u001b[0;34m(\u001b[0m\u001b[0;34m)\u001b[0m\u001b[0;34m)\u001b[0m\u001b[0;34m\u001b[0m\u001b[0;34m\u001b[0m\u001b[0m\n\u001b[1;32m    385\u001b[0m         \u001b[0mself\u001b[0m\u001b[0;34m.\u001b[0m\u001b[0m_value\u001b[0m \u001b[0;34m=\u001b[0m \u001b[0mvalue\u001b[0m\u001b[0;34m\u001b[0m\u001b[0;34m\u001b[0m\u001b[0m\n",
      "\u001b[0;31mValueError\u001b[0m: semaphore initial value must be >= 0"
     ]
    }
   ],
   "source": [
    "semaphore = threading.Semaphore(-1)"
   ]
  },
  {
   "cell_type": "code",
   "execution_count": 51,
   "id": "f502a75f",
   "metadata": {},
   "outputs": [],
   "source": [
    "semaphore = threading.Semaphore(0)"
   ]
  },
  {
   "cell_type": "code",
   "execution_count": 52,
   "id": "107cf4ec",
   "metadata": {},
   "outputs": [],
   "source": [
    "order_num = 0"
   ]
  },
  {
   "cell_type": "code",
   "execution_count": 53,
   "id": "2a64de0a",
   "metadata": {},
   "outputs": [],
   "source": [
    "def place_order():\n",
    "    print('order placed.')\n",
    "    semaphore.acquire()\n",
    "    print('customer order number is:', order_num)"
   ]
  },
  {
   "cell_type": "code",
   "execution_count": 54,
   "id": "86bc3884",
   "metadata": {},
   "outputs": [],
   "source": [
    "def prepare_order():\n",
    "    \n",
    "    global order_num\n",
    "    time.sleep(3)\n",
    "    order_num += 1\n",
    "    \n",
    "    print('preparing order number', order_num)\n",
    "    semaphore.release()"
   ]
  },
  {
   "cell_type": "code",
   "execution_count": 56,
   "id": "37e09d3e",
   "metadata": {},
   "outputs": [
    {
     "name": "stdout",
     "output_type": "stream",
     "text": [
      "order placed.\n",
      "preparing order number 1\n",
      "customer order number is: 1\n",
      "order placed.\n",
      "preparing order number 2\n",
      "customer order number is: 2\n",
      "order placed.\n",
      "preparing order number 3\n",
      "customer order number is: 3\n",
      "order placed.\n",
      "preparing order number 4\n",
      "customer order number is: 4\n",
      "order placed.\n",
      "preparing order number 5\n",
      "customer order number is: 5\n",
      "order placed.\n",
      "preparing order number 6\n",
      "customer order number is: 6\n",
      "program terminaed\n"
     ]
    }
   ],
   "source": [
    "for i in range(0, 6):\n",
    "    \n",
    "    t1 = threading.Thread(target=place_order)\n",
    "    t2 = threading.Thread(target=prepare_order)\n",
    "    \n",
    "    t1.start()\n",
    "    t2.start()\n",
    "    \n",
    "    t1.join()\n",
    "    t2.join()\n",
    "    \n",
    "print(\"program terminaed\")\n",
    "#to jest super"
   ]
  },
  {
   "cell_type": "code",
   "execution_count": 57,
   "id": "e30d81a0",
   "metadata": {},
   "outputs": [
    {
     "data": {
      "text/plain": [
       "1"
      ]
     },
     "execution_count": 57,
     "metadata": {},
     "output_type": "execute_result"
    }
   ],
   "source": [
    "semaphore = threading.Semaphore()\n",
    "\n",
    "semaphore._value"
   ]
  },
  {
   "cell_type": "code",
   "execution_count": 58,
   "id": "c6751176",
   "metadata": {},
   "outputs": [
    {
     "data": {
      "text/plain": [
       "0"
      ]
     },
     "execution_count": 58,
     "metadata": {},
     "output_type": "execute_result"
    }
   ],
   "source": [
    "semaphore.acquire()\n",
    "\n",
    "semaphore._value"
   ]
  },
  {
   "cell_type": "code",
   "execution_count": 59,
   "id": "28b87823",
   "metadata": {},
   "outputs": [
    {
     "data": {
      "text/plain": [
       "1"
      ]
     },
     "execution_count": 59,
     "metadata": {},
     "output_type": "execute_result"
    }
   ],
   "source": [
    "semaphore.release()\n",
    "\n",
    "semaphore._value"
   ]
  },
  {
   "cell_type": "code",
   "execution_count": 61,
   "id": "b9ed7f2c",
   "metadata": {},
   "outputs": [
    {
     "data": {
      "text/plain": [
       "2"
      ]
     },
     "execution_count": 61,
     "metadata": {},
     "output_type": "execute_result"
    }
   ],
   "source": [
    "semaphore.release()\n",
    "\n",
    "semaphore._value"
   ]
  },
  {
   "cell_type": "code",
   "execution_count": 62,
   "id": "415ea910",
   "metadata": {},
   "outputs": [
    {
     "data": {
      "text/plain": [
       "5"
      ]
     },
     "execution_count": 62,
     "metadata": {},
     "output_type": "execute_result"
    }
   ],
   "source": [
    "semaphore.release()\n",
    "semaphore.release()\n",
    "semaphore.release()\n",
    "\n",
    "semaphore._value"
   ]
  },
  {
   "cell_type": "code",
   "execution_count": 63,
   "id": "821a1ca2",
   "metadata": {},
   "outputs": [
    {
     "data": {
      "text/plain": [
       "1"
      ]
     },
     "execution_count": 63,
     "metadata": {},
     "output_type": "execute_result"
    }
   ],
   "source": [
    "semaphore = threading.BoundedSemaphore(1)\n",
    "\n",
    "semaphore._value"
   ]
  },
  {
   "cell_type": "code",
   "execution_count": 64,
   "id": "da32800d",
   "metadata": {},
   "outputs": [
    {
     "data": {
      "text/plain": [
       "0"
      ]
     },
     "execution_count": 64,
     "metadata": {},
     "output_type": "execute_result"
    }
   ],
   "source": [
    "semaphore.acquire()\n",
    "\n",
    "semaphore._value"
   ]
  },
  {
   "cell_type": "code",
   "execution_count": 65,
   "id": "4203e67f",
   "metadata": {},
   "outputs": [
    {
     "data": {
      "text/plain": [
       "1"
      ]
     },
     "execution_count": 65,
     "metadata": {},
     "output_type": "execute_result"
    }
   ],
   "source": [
    "semaphore.release()\n",
    "\n",
    "semaphore._value"
   ]
  },
  {
   "cell_type": "code",
   "execution_count": 66,
   "id": "22d5ecd0",
   "metadata": {},
   "outputs": [
    {
     "ename": "ValueError",
     "evalue": "Semaphore released too many times",
     "output_type": "error",
     "traceback": [
      "\u001b[0;31m---------------------------------------------------------------------------\u001b[0m",
      "\u001b[0;31mValueError\u001b[0m                                Traceback (most recent call last)",
      "\u001b[0;32m<ipython-input-66-1051cb0ab94d>\u001b[0m in \u001b[0;36m<module>\u001b[0;34m\u001b[0m\n\u001b[0;32m----> 1\u001b[0;31m \u001b[0msemaphore\u001b[0m\u001b[0;34m.\u001b[0m\u001b[0mrelease\u001b[0m\u001b[0;34m(\u001b[0m\u001b[0;34m)\u001b[0m\u001b[0;34m\u001b[0m\u001b[0;34m\u001b[0m\u001b[0m\n\u001b[0m\u001b[1;32m      2\u001b[0m \u001b[0;34m\u001b[0m\u001b[0m\n\u001b[1;32m      3\u001b[0m \u001b[0msemaphore\u001b[0m\u001b[0;34m.\u001b[0m\u001b[0m_value\u001b[0m\u001b[0;34m\u001b[0m\u001b[0;34m\u001b[0m\u001b[0m\n",
      "\u001b[0;32m/usr/lib/python3.6/threading.py\u001b[0m in \u001b[0;36mrelease\u001b[0;34m(self)\u001b[0m\n\u001b[1;32m    480\u001b[0m         \u001b[0;32mwith\u001b[0m \u001b[0mself\u001b[0m\u001b[0;34m.\u001b[0m\u001b[0m_cond\u001b[0m\u001b[0;34m:\u001b[0m\u001b[0;34m\u001b[0m\u001b[0;34m\u001b[0m\u001b[0m\n\u001b[1;32m    481\u001b[0m             \u001b[0;32mif\u001b[0m \u001b[0mself\u001b[0m\u001b[0;34m.\u001b[0m\u001b[0m_value\u001b[0m \u001b[0;34m>=\u001b[0m \u001b[0mself\u001b[0m\u001b[0;34m.\u001b[0m\u001b[0m_initial_value\u001b[0m\u001b[0;34m:\u001b[0m\u001b[0;34m\u001b[0m\u001b[0;34m\u001b[0m\u001b[0m\n\u001b[0;32m--> 482\u001b[0;31m                 \u001b[0;32mraise\u001b[0m \u001b[0mValueError\u001b[0m\u001b[0;34m(\u001b[0m\u001b[0;34m\"Semaphore released too many times\"\u001b[0m\u001b[0;34m)\u001b[0m\u001b[0;34m\u001b[0m\u001b[0;34m\u001b[0m\u001b[0m\n\u001b[0m\u001b[1;32m    483\u001b[0m             \u001b[0mself\u001b[0m\u001b[0;34m.\u001b[0m\u001b[0m_value\u001b[0m \u001b[0;34m+=\u001b[0m \u001b[0;36m1\u001b[0m\u001b[0;34m\u001b[0m\u001b[0;34m\u001b[0m\u001b[0m\n\u001b[1;32m    484\u001b[0m             \u001b[0mself\u001b[0m\u001b[0;34m.\u001b[0m\u001b[0m_cond\u001b[0m\u001b[0;34m.\u001b[0m\u001b[0mnotify\u001b[0m\u001b[0;34m(\u001b[0m\u001b[0;34m)\u001b[0m\u001b[0;34m\u001b[0m\u001b[0;34m\u001b[0m\u001b[0m\n",
      "\u001b[0;31mValueError\u001b[0m: Semaphore released too many times"
     ]
    }
   ],
   "source": [
    "semaphore.release()\n",
    "\n",
    "semaphore._value"
   ]
  },
  {
   "cell_type": "code",
   "execution_count": 67,
   "id": "d1aa685d",
   "metadata": {},
   "outputs": [],
   "source": [
    "event = threading.Event()"
   ]
  },
  {
   "cell_type": "code",
   "execution_count": 68,
   "id": "a7219ec4",
   "metadata": {},
   "outputs": [
    {
     "data": {
      "text/plain": [
       "['__class__',\n",
       " '__delattr__',\n",
       " '__dict__',\n",
       " '__dir__',\n",
       " '__doc__',\n",
       " '__eq__',\n",
       " '__format__',\n",
       " '__ge__',\n",
       " '__getattribute__',\n",
       " '__gt__',\n",
       " '__hash__',\n",
       " '__init__',\n",
       " '__init_subclass__',\n",
       " '__le__',\n",
       " '__lt__',\n",
       " '__module__',\n",
       " '__ne__',\n",
       " '__new__',\n",
       " '__reduce__',\n",
       " '__reduce_ex__',\n",
       " '__repr__',\n",
       " '__setattr__',\n",
       " '__sizeof__',\n",
       " '__str__',\n",
       " '__subclasshook__',\n",
       " '__weakref__',\n",
       " '_cond',\n",
       " '_flag',\n",
       " '_reset_internal_locks',\n",
       " 'clear',\n",
       " 'isSet',\n",
       " 'is_set',\n",
       " 'set',\n",
       " 'wait']"
      ]
     },
     "execution_count": 68,
     "metadata": {},
     "output_type": "execute_result"
    }
   ],
   "source": [
    "dir(event)"
   ]
  },
  {
   "cell_type": "code",
   "execution_count": 69,
   "id": "aa5b323f",
   "metadata": {},
   "outputs": [
    {
     "name": "stdout",
     "output_type": "stream",
     "text": [
      "True\n",
      "True\n",
      "False\n"
     ]
    }
   ],
   "source": [
    "event.set()\n",
    "print(event.is_set())\n",
    "\n",
    "event.wait()\n",
    "print(event.is_set())\n",
    "\n",
    "event.clear()\n",
    "print(event.is_set())"
   ]
  },
  {
   "cell_type": "code",
   "execution_count": 71,
   "id": "560ffba7",
   "metadata": {},
   "outputs": [
    {
     "name": "stdout",
     "output_type": "stream",
     "text": [
      "True\n",
      "False\n"
     ]
    },
    {
     "ename": "KeyboardInterrupt",
     "evalue": "",
     "output_type": "error",
     "traceback": [
      "\u001b[0;31m---------------------------------------------------------------------------\u001b[0m",
      "\u001b[0;31mKeyboardInterrupt\u001b[0m                         Traceback (most recent call last)",
      "\u001b[0;32m<ipython-input-71-52a1ad9dc39d>\u001b[0m in \u001b[0;36m<module>\u001b[0;34m\u001b[0m\n\u001b[1;32m      5\u001b[0m \u001b[0mprint\u001b[0m\u001b[0;34m(\u001b[0m\u001b[0mevent\u001b[0m\u001b[0;34m.\u001b[0m\u001b[0mis_set\u001b[0m\u001b[0;34m(\u001b[0m\u001b[0;34m)\u001b[0m\u001b[0;34m)\u001b[0m\u001b[0;34m\u001b[0m\u001b[0;34m\u001b[0m\u001b[0m\n\u001b[1;32m      6\u001b[0m \u001b[0;34m\u001b[0m\u001b[0m\n\u001b[0;32m----> 7\u001b[0;31m \u001b[0mevent\u001b[0m\u001b[0;34m.\u001b[0m\u001b[0mwait\u001b[0m\u001b[0;34m(\u001b[0m\u001b[0;34m)\u001b[0m\u001b[0;34m\u001b[0m\u001b[0;34m\u001b[0m\u001b[0m\n\u001b[0m\u001b[1;32m      8\u001b[0m \u001b[0mprint\u001b[0m\u001b[0;34m(\u001b[0m\u001b[0mevent\u001b[0m\u001b[0;34m.\u001b[0m\u001b[0mis_set\u001b[0m\u001b[0;34m(\u001b[0m\u001b[0;34m)\u001b[0m\u001b[0;34m)\u001b[0m\u001b[0;34m\u001b[0m\u001b[0;34m\u001b[0m\u001b[0m\n",
      "\u001b[0;32m/usr/lib/python3.6/threading.py\u001b[0m in \u001b[0;36mwait\u001b[0;34m(self, timeout)\u001b[0m\n\u001b[1;32m    549\u001b[0m             \u001b[0msignaled\u001b[0m \u001b[0;34m=\u001b[0m \u001b[0mself\u001b[0m\u001b[0;34m.\u001b[0m\u001b[0m_flag\u001b[0m\u001b[0;34m\u001b[0m\u001b[0;34m\u001b[0m\u001b[0m\n\u001b[1;32m    550\u001b[0m             \u001b[0;32mif\u001b[0m \u001b[0;32mnot\u001b[0m \u001b[0msignaled\u001b[0m\u001b[0;34m:\u001b[0m\u001b[0;34m\u001b[0m\u001b[0;34m\u001b[0m\u001b[0m\n\u001b[0;32m--> 551\u001b[0;31m                 \u001b[0msignaled\u001b[0m \u001b[0;34m=\u001b[0m \u001b[0mself\u001b[0m\u001b[0;34m.\u001b[0m\u001b[0m_cond\u001b[0m\u001b[0;34m.\u001b[0m\u001b[0mwait\u001b[0m\u001b[0;34m(\u001b[0m\u001b[0mtimeout\u001b[0m\u001b[0;34m)\u001b[0m\u001b[0;34m\u001b[0m\u001b[0;34m\u001b[0m\u001b[0m\n\u001b[0m\u001b[1;32m    552\u001b[0m             \u001b[0;32mreturn\u001b[0m \u001b[0msignaled\u001b[0m\u001b[0;34m\u001b[0m\u001b[0;34m\u001b[0m\u001b[0m\n\u001b[1;32m    553\u001b[0m \u001b[0;34m\u001b[0m\u001b[0m\n",
      "\u001b[0;32m/usr/lib/python3.6/threading.py\u001b[0m in \u001b[0;36mwait\u001b[0;34m(self, timeout)\u001b[0m\n\u001b[1;32m    293\u001b[0m         \u001b[0;32mtry\u001b[0m\u001b[0;34m:\u001b[0m    \u001b[0;31m# restore state no matter what (e.g., KeyboardInterrupt)\u001b[0m\u001b[0;34m\u001b[0m\u001b[0;34m\u001b[0m\u001b[0m\n\u001b[1;32m    294\u001b[0m             \u001b[0;32mif\u001b[0m \u001b[0mtimeout\u001b[0m \u001b[0;32mis\u001b[0m \u001b[0;32mNone\u001b[0m\u001b[0;34m:\u001b[0m\u001b[0;34m\u001b[0m\u001b[0;34m\u001b[0m\u001b[0m\n\u001b[0;32m--> 295\u001b[0;31m                 \u001b[0mwaiter\u001b[0m\u001b[0;34m.\u001b[0m\u001b[0macquire\u001b[0m\u001b[0;34m(\u001b[0m\u001b[0;34m)\u001b[0m\u001b[0;34m\u001b[0m\u001b[0;34m\u001b[0m\u001b[0m\n\u001b[0m\u001b[1;32m    296\u001b[0m                 \u001b[0mgotit\u001b[0m \u001b[0;34m=\u001b[0m \u001b[0;32mTrue\u001b[0m\u001b[0;34m\u001b[0m\u001b[0;34m\u001b[0m\u001b[0m\n\u001b[1;32m    297\u001b[0m             \u001b[0;32melse\u001b[0m\u001b[0;34m:\u001b[0m\u001b[0;34m\u001b[0m\u001b[0;34m\u001b[0m\u001b[0m\n",
      "\u001b[0;31mKeyboardInterrupt\u001b[0m: "
     ]
    }
   ],
   "source": [
    "event.set()\n",
    "print(event.is_set())\n",
    "\n",
    "event.clear()\n",
    "print(event.is_set())\n",
    "\n",
    "event.wait()\n",
    "print(event.is_set())"
   ]
  },
  {
   "cell_type": "code",
   "execution_count": 72,
   "id": "17bcdedf",
   "metadata": {},
   "outputs": [],
   "source": [
    "meeting = threading.Event()"
   ]
  },
  {
   "cell_type": "code",
   "execution_count": 73,
   "id": "6ba61e47",
   "metadata": {},
   "outputs": [],
   "source": [
    "def hold_meeting():\n",
    "    \n",
    "    meeting.set()\n",
    "    print(\"event is set. the meeting has begun\")\n",
    "    \n",
    "    time.sleep(6)\n",
    "    \n",
    "    print('the meeting is complete. clearing the event..')\n",
    "    meeting.clear()"
   ]
  },
  {
   "cell_type": "code",
   "execution_count": 74,
   "id": "6baeb0c6",
   "metadata": {},
   "outputs": [],
   "source": [
    "def enter_conference_room():\n",
    "    \n",
    "    time.sleep(1)\n",
    "    meeting.wait()\n",
    "    \n",
    "    while meeting.is_set():\n",
    "        \n",
    "        print('waiting for the meeting to end')\n",
    "        time.sleep(0.5)\n",
    "        \n",
    "    print('the meeting is done. entering the conference room..')"
   ]
  },
  {
   "cell_type": "code",
   "execution_count": 75,
   "id": "ad464651",
   "metadata": {},
   "outputs": [],
   "source": [
    "t1 = threading.Thread(target = hold_meeting)\n",
    "t2 = threading.Thread(target = enter_conference_room)"
   ]
  },
  {
   "cell_type": "code",
   "execution_count": 76,
   "id": "bdeafaf9",
   "metadata": {},
   "outputs": [
    {
     "name": "stdout",
     "output_type": "stream",
     "text": [
      "event is set. the meeting has begun\n",
      "waiting for the meeting to end\n",
      "waiting for the meeting to end\n",
      "waiting for the meeting to end\n",
      "waiting for the meeting to end\n",
      "waiting for the meeting to end\n",
      "waiting for the meeting to end\n",
      "waiting for the meeting to end\n",
      "waiting for the meeting to end\n",
      "waiting for the meeting to end\n",
      "waiting for the meeting to end\n",
      "the meeting is complete. clearing the event..\n",
      "the meeting is done. entering the conference room..\n"
     ]
    }
   ],
   "source": [
    "t1.start()\n",
    "t2.start()\n",
    "\n",
    "t1.join()\n",
    "t2.join()"
   ]
  },
  {
   "cell_type": "code",
   "execution_count": null,
   "id": "f4616198",
   "metadata": {},
   "outputs": [],
   "source": []
  },
  {
   "cell_type": "code",
   "execution_count": 77,
   "id": "08719fbb",
   "metadata": {},
   "outputs": [],
   "source": [
    "import random"
   ]
  },
  {
   "cell_type": "code",
   "execution_count": 78,
   "id": "dfc6392f",
   "metadata": {},
   "outputs": [],
   "source": [
    "condition = threading.Condition()"
   ]
  },
  {
   "cell_type": "code",
   "execution_count": 79,
   "id": "fb3fe591",
   "metadata": {},
   "outputs": [],
   "source": [
    "container = []\n",
    "\n",
    "counter = 1\n",
    "\n",
    "more_to_come = True"
   ]
  },
  {
   "cell_type": "code",
   "execution_count": 80,
   "id": "5316ddca",
   "metadata": {},
   "outputs": [],
   "source": [
    "def produce():\n",
    "    \n",
    "    global container\n",
    "    global counter\n",
    "    global more_to_come\n",
    "    \n",
    "    for i in range(5):\n",
    "        \n",
    "        time.sleep(random.randrange(2, 5))\n",
    "        condition.acquire()\n",
    "        \n",
    "        item = 'News item #' + str(counter)\n",
    "        \n",
    "        container.append(item)\n",
    "        counter +=1\n",
    "        \n",
    "        print('\\nProduced:', item)\n",
    "        condition.notify_all()\n",
    "        \n",
    "        condition.release()\n",
    "        \n",
    "    more_to_come = False"
   ]
  },
  {
   "cell_type": "code",
   "execution_count": 81,
   "id": "3289b485",
   "metadata": {},
   "outputs": [],
   "source": [
    "def consume():\n",
    "    \n",
    "    global more_to_come\n",
    "    \n",
    "    while(more_to_come):\n",
    "        \n",
    "        condition.acquire()\n",
    "        condition.wait()\n",
    "        \n",
    "        time.sleep(random.random())\n",
    "        print(threading.current_thread().getName(), \" acquired: \", container[-1])\n",
    "        \n",
    "        condition.release()"
   ]
  },
  {
   "cell_type": "code",
   "execution_count": 82,
   "id": "30fc02d0",
   "metadata": {},
   "outputs": [],
   "source": [
    "producer_thread = threading.Thread(target=produce)\n",
    "\n",
    "consumer_one_thread = threading.Thread(target=consume,\n",
    "                                      name='news site one',)\n",
    "consumer_two_thread = threading.Thread(target=consume,\n",
    "                                      name='news site two')\n",
    "consumer_three_thread = threading.Thread(target=consume,\n",
    "                                      name='news site three')"
   ]
  },
  {
   "cell_type": "code",
   "execution_count": 83,
   "id": "87dd7099",
   "metadata": {},
   "outputs": [
    {
     "name": "stdout",
     "output_type": "stream",
     "text": [
      "\n",
      "Produced: News item #1\n",
      "news site two  acquired:  News item #1\n",
      "news site one  acquired:  News item #1\n",
      "news site three  acquired:  News item #1\n",
      "\n",
      "Produced: News item #2\n",
      "news site three  acquired:  News item #2\n",
      "news site two  acquired:  News item #2\n",
      "news site one  acquired:  News item #2\n",
      "\n",
      "Produced: News item #3\n",
      "news site one  acquired:  News item #3\n",
      "news site three  acquired:  News item #3\n",
      "news site two  acquired:  News item #3\n",
      "\n",
      "Produced: News item #4\n",
      "news site two  acquired:  News item #4\n",
      "news site three  acquired:  News item #4\n",
      "news site one  acquired:  News item #4\n",
      "\n",
      "Produced: News item #5\n",
      "news site two  acquired:  News item #5\n",
      "news site three  acquired:  News item #5\n",
      "news site one  acquired:  News item #5\n",
      "\n",
      "All done\n"
     ]
    }
   ],
   "source": [
    "threads = [producer_thread,\n",
    "          consumer_one_thread,\n",
    "          consumer_two_thread,\n",
    "          consumer_three_thread,\n",
    "          ]\n",
    "\n",
    "for t in threads:\n",
    "    t.start()\n",
    "    \n",
    "for t in threads:\n",
    "    t.join()\n",
    "    \n",
    "time.sleep(1)\n",
    "print('\\nAll done')"
   ]
  },
  {
   "cell_type": "code",
   "execution_count": null,
   "id": "26e5fc1a",
   "metadata": {},
   "outputs": [],
   "source": []
  }
 ],
 "metadata": {
  "kernelspec": {
   "display_name": "Python 3",
   "language": "python",
   "name": "python3"
  },
  "language_info": {
   "codemirror_mode": {
    "name": "ipython",
    "version": 3
   },
   "file_extension": ".py",
   "mimetype": "text/x-python",
   "name": "python",
   "nbconvert_exporter": "python",
   "pygments_lexer": "ipython3",
   "version": "3.6.9"
  }
 },
 "nbformat": 4,
 "nbformat_minor": 5
}
