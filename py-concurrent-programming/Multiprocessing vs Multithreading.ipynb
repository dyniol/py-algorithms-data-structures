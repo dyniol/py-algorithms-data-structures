{
 "cells": [
  {
   "cell_type": "code",
   "execution_count": 2,
   "id": "36515b08",
   "metadata": {},
   "outputs": [],
   "source": [
    "import time\n",
    "import multiprocessing"
   ]
  },
  {
   "cell_type": "code",
   "execution_count": 6,
   "id": "90f3a26e",
   "metadata": {},
   "outputs": [],
   "source": [
    "def square(numbers):\n",
    "    for n in numbers:\n",
    "        print('square of %d is %d' % (n, n*n))\n",
    "        \n",
    "def cube(numbers):\n",
    "    for n in numbers:\n",
    "        print('cube of %d is %d' % (n, n*n*n))"
   ]
  },
  {
   "cell_type": "code",
   "execution_count": 7,
   "id": "4065c51f",
   "metadata": {},
   "outputs": [
    {
     "name": "stdout",
     "output_type": "stream",
     "text": [
      "cube of 2 is 8\n",
      "cube of 3 is 27\n",
      "square of 2 is 4cube of 8 is 512\n",
      "\n",
      "square of 3 is 9\n",
      "square of 8 is 64\n",
      "\n",
      "Completed\n"
     ]
    }
   ],
   "source": [
    "num_list = [2, 3, 8]\n",
    "\n",
    "p1 = multiprocessing.Process(target=square, args=(num_list,))\n",
    "p2 = multiprocessing.Process(target=cube, args=(num_list,))\n",
    "\n",
    "p1.start()\n",
    "p2.start()\n",
    "\n",
    "p1.join()\n",
    "p2.join()\n",
    "\n",
    "print('\\nCompleted')"
   ]
  },
  {
   "cell_type": "code",
   "execution_count": 8,
   "id": "16db71a4",
   "metadata": {},
   "outputs": [],
   "source": [
    "square_result = []\n",
    "\n",
    "def square(numbers):\n",
    "    \n",
    "    global square_result\n",
    "    \n",
    "    for n in numbers:\n",
    "        print('square of %d is %d' % (n, n*n))\n",
    "        square_result.append(n*n)"
   ]
  },
  {
   "cell_type": "code",
   "execution_count": 9,
   "id": "4959d269",
   "metadata": {},
   "outputs": [
    {
     "name": "stdout",
     "output_type": "stream",
     "text": [
      "square of 2 is 4\n",
      "square of 3 is 9\n",
      "square of 8 is 64\n",
      "\n",
      "Result: []\n",
      "\n",
      "Completed\n"
     ]
    }
   ],
   "source": [
    "p1 = multiprocessing.Process(target=square, args=(num_list,))\n",
    "\n",
    "p1.start()\n",
    "p1.join()\n",
    "\n",
    "print('\\nResult:', square_result)\n",
    "\n",
    "print('\\nCompleted')"
   ]
  },
  {
   "cell_type": "code",
   "execution_count": 10,
   "id": "d7f51062",
   "metadata": {},
   "outputs": [],
   "source": [
    "def square(numbers):\n",
    "    \n",
    "    global square_result\n",
    "    \n",
    "    for n in numbers:\n",
    "        print('square of %d is %d' % (n, n*n))\n",
    "        square_result.append(n*n)\n",
    "    \n",
    "    print('\\nWithin the process. Result:', square_result)"
   ]
  },
  {
   "cell_type": "code",
   "execution_count": 11,
   "id": "fde3332d",
   "metadata": {},
   "outputs": [
    {
     "name": "stdout",
     "output_type": "stream",
     "text": [
      "square of 2 is 4\n",
      "square of 3 is 9\n",
      "square of 8 is 64\n",
      "\n",
      "Within the process. Result: [4, 9, 64]\n",
      "\n",
      "Completed\n"
     ]
    }
   ],
   "source": [
    "p1 = multiprocessing.Process(target=square, args=(num_list,))\n",
    "\n",
    "p1.start()\n",
    "p1.join()\n",
    "\n",
    "print('\\nCompleted')"
   ]
  },
  {
   "cell_type": "code",
   "execution_count": 12,
   "id": "c383b589",
   "metadata": {},
   "outputs": [],
   "source": [
    "import threading"
   ]
  },
  {
   "cell_type": "code",
   "execution_count": 13,
   "id": "baf5d9c7",
   "metadata": {},
   "outputs": [],
   "source": [
    "def square(numbers):\n",
    "    \n",
    "    global square_result\n",
    "    \n",
    "    for n in numbers:\n",
    "        print('square of %d is %d' % (n, n*n))\n",
    "        square_result.append(n*n)"
   ]
  },
  {
   "cell_type": "code",
   "execution_count": 16,
   "id": "9e6934be",
   "metadata": {},
   "outputs": [
    {
     "name": "stdout",
     "output_type": "stream",
     "text": [
      "square of 2 is 4\n",
      "square of 3 is 9\n",
      "square of 8 is 64\n",
      "\n",
      "Result: [4, 9, 64]\n",
      "\n",
      "Completed\n"
     ]
    }
   ],
   "source": [
    "p1 = threading.Thread(target=square, args=(num_list,))\n",
    "\n",
    "p1.start()\n",
    "p1.join()\n",
    "\n",
    "print('\\nResult:', square_result)\n",
    "\n",
    "print('\\nCompleted')"
   ]
  },
  {
   "cell_type": "code",
   "execution_count": null,
   "id": "259004e1",
   "metadata": {},
   "outputs": [],
   "source": []
  }
 ],
 "metadata": {
  "kernelspec": {
   "display_name": "Python 3",
   "language": "python",
   "name": "python3"
  },
  "language_info": {
   "codemirror_mode": {
    "name": "ipython",
    "version": 3
   },
   "file_extension": ".py",
   "mimetype": "text/x-python",
   "name": "python",
   "nbconvert_exporter": "python",
   "pygments_lexer": "ipython3",
   "version": "3.6.9"
  }
 },
 "nbformat": 4,
 "nbformat_minor": 5
}
