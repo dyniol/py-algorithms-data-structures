{
 "cells": [
  {
   "cell_type": "code",
   "execution_count": 1,
   "id": "169d116b",
   "metadata": {},
   "outputs": [],
   "source": [
    "import multiprocessing"
   ]
  },
  {
   "cell_type": "code",
   "execution_count": 3,
   "id": "789c81f6",
   "metadata": {},
   "outputs": [],
   "source": [
    "def is_even(numbers, q):\n",
    "    for n in numbers:\n",
    "        if n % 2 == 0:\n",
    "            q.put(n)\n",
    "\n",
    "def print_numbers(q):\n",
    "    while not q.empty():\n",
    "        print(q.get())"
   ]
  },
  {
   "cell_type": "code",
   "execution_count": 4,
   "id": "e55608bb",
   "metadata": {},
   "outputs": [],
   "source": [
    "q = multiprocessing.Queue()\n",
    "# tutaj uzywamy kolejki"
   ]
  },
  {
   "cell_type": "code",
   "execution_count": 5,
   "id": "c252ea82",
   "metadata": {},
   "outputs": [],
   "source": [
    "p1 = multiprocessing.Process(target = is_even, args = (range(10), q))\n",
    "p2 = multiprocessing.Process(target = print_numbers, args = (q, ))"
   ]
  },
  {
   "cell_type": "code",
   "execution_count": 6,
   "id": "7c59e6e7",
   "metadata": {},
   "outputs": [
    {
     "name": "stdout",
     "output_type": "stream",
     "text": [
      "0\n",
      "2\n",
      "4\n",
      "6\n",
      "8\n"
     ]
    }
   ],
   "source": [
    "p1.start()\n",
    "p2.start()\n",
    "\n",
    "p1.join()\n",
    "p2.join()"
   ]
  },
  {
   "cell_type": "code",
   "execution_count": 7,
   "id": "01acfe41",
   "metadata": {},
   "outputs": [],
   "source": [
    "def sender(connection, greets):\n",
    "    for greet in greets:\n",
    "        connection.send(greet)\n",
    "    connection.close()\n",
    "    \n",
    "def recipient(connection):\n",
    "    while True:\n",
    "        greet = connection.recv()\n",
    "        if greet == \"STOP\":\n",
    "            break\n",
    "        print(greet)"
   ]
  },
  {
   "cell_type": "code",
   "execution_count": 8,
   "id": "c036c173",
   "metadata": {},
   "outputs": [],
   "source": [
    "msgs = ['Hello', 'Hola', 'Guten Tag', 'STOP']"
   ]
  },
  {
   "cell_type": "code",
   "execution_count": 9,
   "id": "b13a9832",
   "metadata": {},
   "outputs": [],
   "source": [
    "sending_pipe, receiving_pipe = multiprocessing.Pipe()\n",
    "# zeby dwa procesy ze soba wspolpracowaly mozemy uzyc built-in multiprocesingu Pipe(),\n",
    "# jesli chcemy dwukanalowa komunikacje, tworzymy po prostu dwa Pipe()'y"
   ]
  },
  {
   "cell_type": "code",
   "execution_count": 10,
   "id": "d6149187",
   "metadata": {},
   "outputs": [],
   "source": [
    "p1 = multiprocessing.Process(target=sender,\n",
    "                            args=(sending_pipe, msgs))\n",
    "p2 = multiprocessing.Process(target=recipient,\n",
    "                            args=(receiving_pipe, ))"
   ]
  },
  {
   "cell_type": "code",
   "execution_count": 11,
   "id": "47437abd",
   "metadata": {},
   "outputs": [
    {
     "name": "stdout",
     "output_type": "stream",
     "text": [
      "Hello\n",
      "Hola\n",
      "Guten Tag\n"
     ]
    }
   ],
   "source": [
    "p1.start()\n",
    "p2.start()\n",
    "\n",
    "p1.join()\n",
    "p2.join()"
   ]
  },
  {
   "cell_type": "code",
   "execution_count": null,
   "id": "3a0fba11",
   "metadata": {},
   "outputs": [],
   "source": []
  }
 ],
 "metadata": {
  "kernelspec": {
   "display_name": "Python 3",
   "language": "python",
   "name": "python3"
  },
  "language_info": {
   "codemirror_mode": {
    "name": "ipython",
    "version": 3
   },
   "file_extension": ".py",
   "mimetype": "text/x-python",
   "name": "python",
   "nbconvert_exporter": "python",
   "pygments_lexer": "ipython3",
   "version": "3.6.9"
  }
 },
 "nbformat": 4,
 "nbformat_minor": 5
}
