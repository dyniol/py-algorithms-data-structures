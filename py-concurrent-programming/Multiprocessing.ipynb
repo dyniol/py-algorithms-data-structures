{
 "cells": [
  {
   "cell_type": "code",
   "execution_count": 1,
   "id": "65e8aec9",
   "metadata": {},
   "outputs": [],
   "source": [
    "import time"
   ]
  },
  {
   "cell_type": "code",
   "execution_count": 4,
   "id": "f4561c09",
   "metadata": {},
   "outputs": [],
   "source": [
    "def square(number):\n",
    "    \n",
    "    time.sleep(1)\n",
    "    result = number * number\n",
    "    print('The number %d squares to %d' % (number, result))"
   ]
  },
  {
   "cell_type": "code",
   "execution_count": 5,
   "id": "f7acd18c",
   "metadata": {},
   "outputs": [
    {
     "name": "stdout",
     "output_type": "stream",
     "text": [
      "The number 1 squares to 1\n",
      "The number 2 squares to 4\n",
      "The number 3 squares to 9\n",
      "The number 4 squares to 16\n"
     ]
    }
   ],
   "source": [
    "numbers = [1, 2, 3, 4]\n",
    "\n",
    "start_time = time.time()\n",
    "\n",
    "for number in numbers:\n",
    "    square(number)\n",
    "    \n",
    "end_time = time.time()"
   ]
  },
  {
   "cell_type": "code",
   "execution_count": 6,
   "id": "d89cad31",
   "metadata": {},
   "outputs": [
    {
     "data": {
      "text/plain": [
       "4.0096893310546875"
      ]
     },
     "execution_count": 6,
     "metadata": {},
     "output_type": "execute_result"
    }
   ],
   "source": [
    "end_time - start_time"
   ]
  },
  {
   "cell_type": "code",
   "execution_count": 7,
   "id": "fe9d491f",
   "metadata": {},
   "outputs": [],
   "source": [
    "import os\n",
    "\n",
    "from multiprocessing import Process, current_process"
   ]
  },
  {
   "cell_type": "code",
   "execution_count": 13,
   "id": "178bc9bf",
   "metadata": {},
   "outputs": [],
   "source": [
    "def square(number):\n",
    "    \n",
    "    time.sleep(1)\n",
    "    result = number * number\n",
    "    \n",
    "    process_id = os.getpid()\n",
    "    print('Process ID:', process_id)\n",
    "    \n",
    "    print('The number %d square to %d \\n' % (number, result))"
   ]
  },
  {
   "cell_type": "code",
   "execution_count": 14,
   "id": "9dcf7439",
   "metadata": {},
   "outputs": [
    {
     "name": "stdout",
     "output_type": "stream",
     "text": [
      "Process ID: Process ID: 26072606\n",
      "Process ID:Process ID: \n",
      " 2608The number 1 square to 1 \n",
      "2609The number 2 square to 4 \n",
      "\n",
      "\n",
      "\n",
      "The number 3 square to 9 \n",
      "\n",
      "\n",
      "The number 4 square to 16 \n",
      "\n"
     ]
    }
   ],
   "source": [
    "start_time = time.time()\n",
    "\n",
    "for i, number in enumerate(numbers):\n",
    "    \n",
    "    process = Process(target=square, args=(number,))\n",
    "    process.start()\n",
    "    \n",
    "process.join()\n",
    "\n",
    "end_time = time.time()"
   ]
  },
  {
   "cell_type": "code",
   "execution_count": 15,
   "id": "b026637e",
   "metadata": {},
   "outputs": [
    {
     "data": {
      "text/plain": [
       "1.0774519443511963"
      ]
     },
     "execution_count": 15,
     "metadata": {},
     "output_type": "execute_result"
    }
   ],
   "source": [
    "end_time - start_time"
   ]
  },
  {
   "cell_type": "code",
   "execution_count": 16,
   "id": "ad534d7d",
   "metadata": {},
   "outputs": [],
   "source": [
    "def square(number):\n",
    "    \n",
    "    time.sleep(1)\n",
    "    result = number * number\n",
    "    \n",
    "    process_id = current_process().pid\n",
    "    process_name = current_process().name\n",
    "    \n",
    "    print('Process ID is %s and name is %s' % (process_id, process_name))\n",
    "    \n",
    "    print('The number %d squares to %d \\n' % (number, result))"
   ]
  },
  {
   "cell_type": "code",
   "execution_count": null,
   "id": "fece8b51",
   "metadata": {},
   "outputs": [],
   "source": [
    "start_time = time.time()\n",
    "\n",
    "for i, number in enumerate(numbers):\n",
    "    \n",
    "    process = Process(target=square, args=(number,))\n",
    "    process.start()\n",
    "    \n",
    "process.join()\n",
    "\n",
    "end_time = time.time()"
   ]
  },
  {
   "cell_type": "code",
   "execution_count": null,
   "id": "c79a473f",
   "metadata": {},
   "outputs": [],
   "source": []
  }
 ],
 "metadata": {
  "kernelspec": {
   "display_name": "Python 3",
   "language": "python",
   "name": "python3"
  },
  "language_info": {
   "codemirror_mode": {
    "name": "ipython",
    "version": 3
   },
   "file_extension": ".py",
   "mimetype": "text/x-python",
   "name": "python",
   "nbconvert_exporter": "python",
   "pygments_lexer": "ipython3",
   "version": "3.6.9"
  }
 },
 "nbformat": 4,
 "nbformat_minor": 5
}
