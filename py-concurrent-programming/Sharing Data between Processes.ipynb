{
 "cells": [
  {
   "cell_type": "code",
   "execution_count": 1,
   "id": "acb2219b",
   "metadata": {},
   "outputs": [],
   "source": [
    "import multiprocessing"
   ]
  },
  {
   "cell_type": "code",
   "execution_count": 2,
   "id": "521e6e2e",
   "metadata": {},
   "outputs": [],
   "source": [
    "result = []"
   ]
  },
  {
   "cell_type": "code",
   "execution_count": 3,
   "id": "09ec4bf3",
   "metadata": {},
   "outputs": [],
   "source": [
    "def square(num_list):\n",
    "    \n",
    "    global result\n",
    "    for num in num_list:\n",
    "        result.append(num * num)\n",
    "        \n",
    "    print('Child process result:', result)"
   ]
  },
  {
   "cell_type": "code",
   "execution_count": 4,
   "id": "faf67ec1",
   "metadata": {},
   "outputs": [],
   "source": [
    "num_list = [1, 2, 3, 4]"
   ]
  },
  {
   "cell_type": "code",
   "execution_count": 5,
   "id": "a0f67695",
   "metadata": {},
   "outputs": [
    {
     "name": "stdout",
     "output_type": "stream",
     "text": [
      "Child process result: [1, 4, 9, 16]\n"
     ]
    }
   ],
   "source": [
    "p1 = multiprocessing.Process(target=square, args=(num_list, ))\n",
    "\n",
    "p1.start()\n",
    "p1.join()"
   ]
  },
  {
   "cell_type": "code",
   "execution_count": 6,
   "id": "7a06491f",
   "metadata": {},
   "outputs": [
    {
     "name": "stdout",
     "output_type": "stream",
     "text": [
      "Main process result: []\n"
     ]
    }
   ],
   "source": [
    "print('Main process result:', result)"
   ]
  },
  {
   "cell_type": "code",
   "execution_count": 13,
   "id": "46e673b2",
   "metadata": {},
   "outputs": [],
   "source": [
    "def square_list(numlist, result, square_sum):\n",
    "    \n",
    "    for idx, num in enumerate(numlist):\n",
    "        result[idx] = num * num\n",
    "        \n",
    "    square_sum.value = sum(result)"
   ]
  },
  {
   "cell_type": "code",
   "execution_count": 14,
   "id": "2354ce79",
   "metadata": {},
   "outputs": [],
   "source": [
    "result = multiprocessing.Array('i', 4)"
   ]
  },
  {
   "cell_type": "code",
   "execution_count": 15,
   "id": "9b8d6b00",
   "metadata": {},
   "outputs": [],
   "source": [
    "square_sum = multiprocessing.Value('i')"
   ]
  },
  {
   "cell_type": "code",
   "execution_count": 16,
   "id": "e435f318",
   "metadata": {},
   "outputs": [],
   "source": [
    "num_list = [1, 2, 3, 4]\n",
    "\n",
    "p = multiprocessing.Process(target = square_list,\n",
    "                           args = (num_list, result, square_sum))"
   ]
  },
  {
   "cell_type": "code",
   "execution_count": 17,
   "id": "7deb471f",
   "metadata": {},
   "outputs": [],
   "source": [
    "p.start()\n",
    "p.join()"
   ]
  },
  {
   "cell_type": "code",
   "execution_count": 18,
   "id": "b9ed3515",
   "metadata": {},
   "outputs": [
    {
     "data": {
      "text/plain": [
       "[1, 4, 9, 16]"
      ]
     },
     "execution_count": 18,
     "metadata": {},
     "output_type": "execute_result"
    }
   ],
   "source": [
    "list(result)"
   ]
  },
  {
   "cell_type": "code",
   "execution_count": 19,
   "id": "98b39bb3",
   "metadata": {},
   "outputs": [
    {
     "data": {
      "text/plain": [
       "30"
      ]
     },
     "execution_count": 19,
     "metadata": {},
     "output_type": "execute_result"
    }
   ],
   "source": [
    "square_sum.value"
   ]
  },
  {
   "cell_type": "code",
   "execution_count": 20,
   "id": "b7e17cea",
   "metadata": {},
   "outputs": [],
   "source": [
    "# share data between processes\n",
    "\n",
    "def get_data(data_list):\n",
    "    for data in data_list:\n",
    "        print('Name: %s \\nScore: %d\\n' % (data[0], data[1]))\n",
    "        \n",
    "def append_data(new_data, data_list):\n",
    "    data_list.append(new_data)\n",
    "    print('New data appended!\\n')"
   ]
  },
  {
   "cell_type": "code",
   "execution_count": 21,
   "id": "2bceaeac",
   "metadata": {},
   "outputs": [],
   "source": [
    "database = ([('Maura', 70), ('Alexis', 79), ('Pete', 96)])"
   ]
  },
  {
   "cell_type": "code",
   "execution_count": 22,
   "id": "8e762612",
   "metadata": {},
   "outputs": [],
   "source": [
    "new_data = ('Leroy', 87)"
   ]
  },
  {
   "cell_type": "code",
   "execution_count": 23,
   "id": "5d3799f2",
   "metadata": {},
   "outputs": [],
   "source": [
    "p1 = multiprocessing.Process(target=append_data,\n",
    "                            args=(new_data, database))\n",
    "p2 = multiprocessing.Process(target=get_data,\n",
    "                            args=(database, ))"
   ]
  },
  {
   "cell_type": "code",
   "execution_count": 24,
   "id": "ec364235",
   "metadata": {},
   "outputs": [
    {
     "name": "stdout",
     "output_type": "stream",
     "text": [
      "New data appended!\n",
      "\n"
     ]
    }
   ],
   "source": [
    "p1.start()\n",
    "p1.join()"
   ]
  },
  {
   "cell_type": "code",
   "execution_count": 25,
   "id": "882a8a9b",
   "metadata": {},
   "outputs": [
    {
     "name": "stdout",
     "output_type": "stream",
     "text": [
      "Name: Maura \n",
      "Score: 70\n",
      "\n",
      "Name: Alexis \n",
      "Score: 79\n",
      "\n",
      "Name: Pete \n",
      "Score: 96\n",
      "\n"
     ]
    }
   ],
   "source": [
    "p2.start()\n",
    "p2.join()"
   ]
  },
  {
   "cell_type": "code",
   "execution_count": 26,
   "id": "9740565f",
   "metadata": {},
   "outputs": [
    {
     "data": {
      "text/plain": [
       "[('Maura', 70), ('Alexis', 79), ('Pete', 96)]"
      ]
     },
     "execution_count": 26,
     "metadata": {},
     "output_type": "execute_result"
    }
   ],
   "source": [
    "database"
   ]
  },
  {
   "cell_type": "code",
   "execution_count": 28,
   "id": "0fabf80d",
   "metadata": {},
   "outputs": [
    {
     "name": "stdout",
     "output_type": "stream",
     "text": [
      "Name: Maura \n",
      "Score: 70\n",
      "New data appended!\n",
      "\n",
      "\n",
      "Name: Alexis \n",
      "Score: 79\n",
      "\n",
      "Name: Pete \n",
      "Score: 96\n",
      "\n",
      "Name: Leroy \n",
      "Score: 87\n",
      "\n",
      "Data available to the Manager:  [('Maura', 70), ('Alexis', 79), ('Pete', 96), ('Leroy', 87)]\n"
     ]
    }
   ],
   "source": [
    "with multiprocessing.Manager() as manager:\n",
    "    \n",
    "    database = (manager.list([('Maura', 70), ('Alexis', 79), ('Pete', 96)]))\n",
    "    new_data = ('Leroy', 87)\n",
    "    \n",
    "    p1 = multiprocessing.Process(target=append_data,\n",
    "                                args=(new_data, database))\n",
    "    p2 = multiprocessing.Process(target=get_data, args=(database,))\n",
    "    \n",
    "    p1.start()\n",
    "    p2.start()\n",
    "    \n",
    "    p1.join()\n",
    "    p2.join()\n",
    "    \n",
    "    print('Data available to the Manager: ', database)"
   ]
  },
  {
   "cell_type": "code",
   "execution_count": null,
   "id": "07086862",
   "metadata": {},
   "outputs": [],
   "source": []
  }
 ],
 "metadata": {
  "kernelspec": {
   "display_name": "Python 3",
   "language": "python",
   "name": "python3"
  },
  "language_info": {
   "codemirror_mode": {
    "name": "ipython",
    "version": 3
   },
   "file_extension": ".py",
   "mimetype": "text/x-python",
   "name": "python",
   "nbconvert_exporter": "python",
   "pygments_lexer": "ipython3",
   "version": "3.6.9"
  }
 },
 "nbformat": 4,
 "nbformat_minor": 5
}
