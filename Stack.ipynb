{
 "cells": [
  {
   "cell_type": "code",
   "execution_count": 1,
   "id": "4e2d3634",
   "metadata": {},
   "outputs": [],
   "source": [
    "stack = []"
   ]
  },
  {
   "cell_type": "code",
   "execution_count": 2,
   "id": "3c71a1ab",
   "metadata": {},
   "outputs": [],
   "source": [
    "stack.append('United States(USA)')\n",
    "stack.append('Great Britian(GBR)')\n",
    "stack.append('Germany(GER)')"
   ]
  },
  {
   "cell_type": "code",
   "execution_count": 4,
   "id": "2a9b1402",
   "metadata": {},
   "outputs": [
    {
     "data": {
      "text/plain": [
       "['United States(USA)', 'Great Britian(GBR)', 'Germany(GER)']"
      ]
     },
     "execution_count": 4,
     "metadata": {},
     "output_type": "execute_result"
    }
   ],
   "source": [
    "stack"
   ]
  },
  {
   "cell_type": "code",
   "execution_count": 5,
   "id": "c11d2694",
   "metadata": {},
   "outputs": [
    {
     "data": {
      "text/plain": [
       "'Germany(GER)'"
      ]
     },
     "execution_count": 5,
     "metadata": {},
     "output_type": "execute_result"
    }
   ],
   "source": [
    "stack.pop()"
   ]
  },
  {
   "cell_type": "code",
   "execution_count": 7,
   "id": "d86b484c",
   "metadata": {},
   "outputs": [],
   "source": [
    "class Stack:\n",
    "    \n",
    "    def __init__(self):\n",
    "        \"\"\"Create a new stack\"\"\"\n",
    "        \n",
    "        self.stack = []\n",
    "        \n",
    "    def push(self,data):\n",
    "        \"\"\"Add a element to the stack\"\"\"\n",
    "        \n",
    "        self.stack.append(data)\n",
    "        \n",
    "    def pop(self):\n",
    "        \"\"\"Remove the top element of the stack\"\"\"\n",
    "        \n",
    "        if self.is_empty():\n",
    "            raise Exception(\"Nothing to pop\")\n",
    "            \n",
    "        return self.stack.pop(len(self.stack) -1)\n",
    "    \n",
    "    def peek(self):\n",
    "        \"\"\"Have a look at top element of the stack\"\"\"\n",
    "        \n",
    "        if self.is_empty():\n",
    "            raise Exception(\"Nothing to peek\")\n",
    "            \n",
    "        return self.stack[len(self.stack) -1]\n",
    "    \n",
    "    def is_empty(self):\n",
    "        \"\"\"Return true if stack is empty\"\"\"\n",
    "        return len(self.stack) == 0\n",
    "    \n",
    "    def size(self):\n",
    "        \"\"\"Returns size of the stack\"\"\"\n",
    "        return len(self.stack)"
   ]
  },
  {
   "cell_type": "code",
   "execution_count": 8,
   "id": "f39dc779",
   "metadata": {},
   "outputs": [
    {
     "data": {
      "text/plain": [
       "<__main__.Stack at 0x7fe8150cac88>"
      ]
     },
     "execution_count": 8,
     "metadata": {},
     "output_type": "execute_result"
    }
   ],
   "source": [
    "olympics = Stack()\n",
    "olympics"
   ]
  },
  {
   "cell_type": "code",
   "execution_count": 9,
   "id": "5b66a1e4",
   "metadata": {},
   "outputs": [],
   "source": [
    "olympics.push(\"United Stated(USA)\")\n",
    "olympics.push(\"Great Britian(GBR)\")\n",
    "olympics.push(\"Poland(POL)\")\n",
    "olympics.push(\"Germany(GER)\")"
   ]
  },
  {
   "cell_type": "code",
   "execution_count": 10,
   "id": "abd81795",
   "metadata": {},
   "outputs": [
    {
     "data": {
      "text/plain": [
       "4"
      ]
     },
     "execution_count": 10,
     "metadata": {},
     "output_type": "execute_result"
    }
   ],
   "source": [
    "olympics.size()"
   ]
  },
  {
   "cell_type": "code",
   "execution_count": 11,
   "id": "8c37b10b",
   "metadata": {},
   "outputs": [],
   "source": [
    "olympics.push(\"France(FRA)\")\n",
    "olympics.push(\"Spain(ESP)\")"
   ]
  },
  {
   "cell_type": "code",
   "execution_count": 12,
   "id": "08a11bff",
   "metadata": {},
   "outputs": [
    {
     "data": {
      "text/plain": [
       "'Spain(ESP)'"
      ]
     },
     "execution_count": 12,
     "metadata": {},
     "output_type": "execute_result"
    }
   ],
   "source": [
    "olympics.pop()"
   ]
  },
  {
   "cell_type": "code",
   "execution_count": 13,
   "id": "41ddbfa8",
   "metadata": {},
   "outputs": [
    {
     "data": {
      "text/plain": [
       "False"
      ]
     },
     "execution_count": 13,
     "metadata": {},
     "output_type": "execute_result"
    }
   ],
   "source": [
    "olympics.is_empty()"
   ]
  },
  {
   "cell_type": "code",
   "execution_count": 14,
   "id": "6e773ff3",
   "metadata": {},
   "outputs": [
    {
     "data": {
      "text/plain": [
       "'France(FRA)'"
      ]
     },
     "execution_count": 14,
     "metadata": {},
     "output_type": "execute_result"
    }
   ],
   "source": [
    "olympics.peek()"
   ]
  },
  {
   "cell_type": "code",
   "execution_count": null,
   "id": "0b8a59bf",
   "metadata": {},
   "outputs": [],
   "source": []
  }
 ],
 "metadata": {
  "kernelspec": {
   "display_name": "Python 3",
   "language": "python",
   "name": "python3"
  },
  "language_info": {
   "codemirror_mode": {
    "name": "ipython",
    "version": 3
   },
   "file_extension": ".py",
   "mimetype": "text/x-python",
   "name": "python",
   "nbconvert_exporter": "python",
   "pygments_lexer": "ipython3",
   "version": "3.6.9"
  }
 },
 "nbformat": 4,
 "nbformat_minor": 5
}
