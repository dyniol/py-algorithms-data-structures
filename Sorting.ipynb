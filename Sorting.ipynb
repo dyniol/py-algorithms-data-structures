{
 "cells": [
  {
   "cell_type": "code",
   "execution_count": 1,
   "id": "50980b3a",
   "metadata": {},
   "outputs": [],
   "source": [
    "def print_list(num_list):\n",
    "    print(num_list)"
   ]
  },
  {
   "cell_type": "code",
   "execution_count": 4,
   "id": "ac464f99",
   "metadata": {},
   "outputs": [],
   "source": [
    "def selection_sort(original_list):\n",
    "    \n",
    "    length = len(original_list)\n",
    "    \n",
    "    for i in range(length):\n",
    "        \n",
    "        min_value_index = i\n",
    "        \n",
    "        for j in range(i + 1, length):\n",
    "            \n",
    "            if original_list[min_value_index] > original_list[j]:\n",
    "                min_value_index = j\n",
    "                \n",
    "        original_list[i], original_list[min_value_index] = original_list[min_value_index], original_list[i]\n",
    "        \n",
    "        print('Sorted till index: ', i)\n",
    "        print_list(original_list)\n",
    "        \n",
    "    print('Sorted list: ')\n",
    "    print_list(original_list)"
   ]
  },
  {
   "cell_type": "code",
   "execution_count": 5,
   "id": "caa2debf",
   "metadata": {},
   "outputs": [],
   "source": [
    "num_list = [10, 11, 5, 7, 2, 8, 3, 9, 6, 1, 4]"
   ]
  },
  {
   "cell_type": "code",
   "execution_count": 6,
   "id": "fb833cd4",
   "metadata": {},
   "outputs": [
    {
     "name": "stdout",
     "output_type": "stream",
     "text": [
      "Sorted till index:  0\n",
      "[1, 11, 5, 7, 2, 8, 3, 9, 6, 10, 4]\n",
      "Sorted till index:  1\n",
      "[1, 2, 5, 7, 11, 8, 3, 9, 6, 10, 4]\n",
      "Sorted till index:  2\n",
      "[1, 2, 3, 7, 11, 8, 5, 9, 6, 10, 4]\n",
      "Sorted till index:  3\n",
      "[1, 2, 3, 4, 11, 8, 5, 9, 6, 10, 7]\n",
      "Sorted till index:  4\n",
      "[1, 2, 3, 4, 5, 8, 11, 9, 6, 10, 7]\n",
      "Sorted till index:  5\n",
      "[1, 2, 3, 4, 5, 6, 11, 9, 8, 10, 7]\n",
      "Sorted till index:  6\n",
      "[1, 2, 3, 4, 5, 6, 7, 9, 8, 10, 11]\n",
      "Sorted till index:  7\n",
      "[1, 2, 3, 4, 5, 6, 7, 8, 9, 10, 11]\n",
      "Sorted till index:  8\n",
      "[1, 2, 3, 4, 5, 6, 7, 8, 9, 10, 11]\n",
      "Sorted till index:  9\n",
      "[1, 2, 3, 4, 5, 6, 7, 8, 9, 10, 11]\n",
      "Sorted till index:  10\n",
      "[1, 2, 3, 4, 5, 6, 7, 8, 9, 10, 11]\n",
      "Sorted list: \n",
      "[1, 2, 3, 4, 5, 6, 7, 8, 9, 10, 11]\n"
     ]
    }
   ],
   "source": [
    "selection_sort(num_list)"
   ]
  },
  {
   "cell_type": "code",
   "execution_count": 7,
   "id": "d00f1a88",
   "metadata": {},
   "outputs": [],
   "source": [
    "animal_list = [\"Lion\", \"Giraffe\", \"Elephant\", \"Monkey\", \"Cheetah\"]"
   ]
  },
  {
   "cell_type": "code",
   "execution_count": 8,
   "id": "d2deb795",
   "metadata": {},
   "outputs": [
    {
     "name": "stdout",
     "output_type": "stream",
     "text": [
      "Sorted till index:  0\n",
      "['Cheetah', 'Giraffe', 'Elephant', 'Monkey', 'Lion']\n",
      "Sorted till index:  1\n",
      "['Cheetah', 'Elephant', 'Giraffe', 'Monkey', 'Lion']\n",
      "Sorted till index:  2\n",
      "['Cheetah', 'Elephant', 'Giraffe', 'Monkey', 'Lion']\n",
      "Sorted till index:  3\n",
      "['Cheetah', 'Elephant', 'Giraffe', 'Lion', 'Monkey']\n",
      "Sorted till index:  4\n",
      "['Cheetah', 'Elephant', 'Giraffe', 'Lion', 'Monkey']\n",
      "Sorted list: \n",
      "['Cheetah', 'Elephant', 'Giraffe', 'Lion', 'Monkey']\n"
     ]
    }
   ],
   "source": [
    "selection_sort(animal_list)"
   ]
  },
  {
   "cell_type": "code",
   "execution_count": 12,
   "id": "52939f4f",
   "metadata": {},
   "outputs": [],
   "source": [
    "def bubble_sort(original_list):\n",
    "    \n",
    "    length = len(original_list)\n",
    "    \n",
    "    for i in range(length - 1, 0, -1):\n",
    "        \n",
    "        for index in range(i):\n",
    "            \n",
    "            if original_list[index] > original_list[index + 1]:\n",
    "                \n",
    "                original_list[index + 1], original_list[index] = \\\n",
    "                    original_list[index], original_list[index + 1]\n",
    "                \n",
    "        print('Unsorted till index: ', i - 1)\n",
    "        print_list(original_list)"
   ]
  },
  {
   "cell_type": "code",
   "execution_count": 10,
   "id": "2d9f1569",
   "metadata": {},
   "outputs": [],
   "source": [
    "student_marks = [88, 99, 34, 32, 43, 25, 29, 45, 49, 37]"
   ]
  },
  {
   "cell_type": "code",
   "execution_count": 13,
   "id": "d46a9def",
   "metadata": {},
   "outputs": [
    {
     "name": "stdout",
     "output_type": "stream",
     "text": [
      "Unsorted till index:  8\n",
      "[88, 34, 32, 43, 25, 29, 45, 49, 37, 99]\n",
      "Unsorted till index:  7\n",
      "[34, 32, 43, 25, 29, 45, 49, 37, 88, 99]\n",
      "Unsorted till index:  6\n",
      "[32, 34, 25, 29, 43, 45, 37, 49, 88, 99]\n",
      "Unsorted till index:  5\n",
      "[32, 25, 29, 34, 43, 37, 45, 49, 88, 99]\n",
      "Unsorted till index:  4\n",
      "[25, 29, 32, 34, 37, 43, 45, 49, 88, 99]\n",
      "Unsorted till index:  3\n",
      "[25, 29, 32, 34, 37, 43, 45, 49, 88, 99]\n",
      "Unsorted till index:  2\n",
      "[25, 29, 32, 34, 37, 43, 45, 49, 88, 99]\n",
      "Unsorted till index:  1\n",
      "[25, 29, 32, 34, 37, 43, 45, 49, 88, 99]\n",
      "Unsorted till index:  0\n",
      "[25, 29, 32, 34, 37, 43, 45, 49, 88, 99]\n"
     ]
    }
   ],
   "source": [
    "bubble_sort(student_marks)"
   ]
  },
  {
   "cell_type": "code",
   "execution_count": 14,
   "id": "3233edd6",
   "metadata": {},
   "outputs": [],
   "source": [
    "flowers_list = ['Sunflower', 'Freesia', 'Daffodil', 'Anemone', 'Asiatic Lily', 'Jasmine']"
   ]
  },
  {
   "cell_type": "code",
   "execution_count": 15,
   "id": "3bb664e6",
   "metadata": {},
   "outputs": [
    {
     "name": "stdout",
     "output_type": "stream",
     "text": [
      "Unsorted till index:  4\n",
      "['Freesia', 'Daffodil', 'Anemone', 'Asiatic Lily', 'Jasmine', 'Sunflower']\n",
      "Unsorted till index:  3\n",
      "['Daffodil', 'Anemone', 'Asiatic Lily', 'Freesia', 'Jasmine', 'Sunflower']\n",
      "Unsorted till index:  2\n",
      "['Anemone', 'Asiatic Lily', 'Daffodil', 'Freesia', 'Jasmine', 'Sunflower']\n",
      "Unsorted till index:  1\n",
      "['Anemone', 'Asiatic Lily', 'Daffodil', 'Freesia', 'Jasmine', 'Sunflower']\n",
      "Unsorted till index:  0\n",
      "['Anemone', 'Asiatic Lily', 'Daffodil', 'Freesia', 'Jasmine', 'Sunflower']\n"
     ]
    }
   ],
   "source": [
    "bubble_sort(flowers_list)"
   ]
  },
  {
   "cell_type": "code",
   "execution_count": 16,
   "id": "c90fcea9",
   "metadata": {},
   "outputs": [],
   "source": [
    "def insertion_sort(original_list):\n",
    "    \n",
    "    length = len(original_list)\n",
    "    \n",
    "    for i in range(0, length - 1):\n",
    "        \n",
    "        for j in range(i + 1, 0, -1):\n",
    "            if original_list[j] < original_list[j - 1]:\n",
    "                \n",
    "                original_list[j], original_list[j - 1] = \\\n",
    "                original_list[j - 1], original_list[j]\n",
    "                \n",
    "        print(\"Sorted till index: \", i)\n",
    "        print_list(original_list)"
   ]
  },
  {
   "cell_type": "code",
   "execution_count": 17,
   "id": "3ca67561",
   "metadata": {},
   "outputs": [],
   "source": [
    "a = [10, 5, 7, 2, 8, 3, 9, 6, 1, 4]"
   ]
  },
  {
   "cell_type": "code",
   "execution_count": 18,
   "id": "326e6354",
   "metadata": {},
   "outputs": [
    {
     "name": "stdout",
     "output_type": "stream",
     "text": [
      "Sorted till index:  0\n",
      "[5, 10, 7, 2, 8, 3, 9, 6, 1, 4]\n",
      "Sorted till index:  1\n",
      "[5, 7, 10, 2, 8, 3, 9, 6, 1, 4]\n",
      "Sorted till index:  2\n",
      "[2, 5, 7, 10, 8, 3, 9, 6, 1, 4]\n",
      "Sorted till index:  3\n",
      "[2, 5, 7, 8, 10, 3, 9, 6, 1, 4]\n",
      "Sorted till index:  4\n",
      "[2, 3, 5, 7, 8, 10, 9, 6, 1, 4]\n",
      "Sorted till index:  5\n",
      "[2, 3, 5, 7, 8, 9, 10, 6, 1, 4]\n",
      "Sorted till index:  6\n",
      "[2, 3, 5, 6, 7, 8, 9, 10, 1, 4]\n",
      "Sorted till index:  7\n",
      "[1, 2, 3, 5, 6, 7, 8, 9, 10, 4]\n",
      "Sorted till index:  8\n",
      "[1, 2, 3, 4, 5, 6, 7, 8, 9, 10]\n"
     ]
    }
   ],
   "source": [
    "insertion_sort(a)"
   ]
  },
  {
   "cell_type": "code",
   "execution_count": 19,
   "id": "19f6a02c",
   "metadata": {},
   "outputs": [],
   "source": [
    "country_list = [\"Washington\", \"Springfield\", \"Franklin\", \"Greenville\", \"Bristol\"]"
   ]
  },
  {
   "cell_type": "code",
   "execution_count": 20,
   "id": "061a9b6d",
   "metadata": {},
   "outputs": [
    {
     "name": "stdout",
     "output_type": "stream",
     "text": [
      "Sorted till index:  0\n",
      "['Springfield', 'Washington', 'Franklin', 'Greenville', 'Bristol']\n",
      "Sorted till index:  1\n",
      "['Franklin', 'Springfield', 'Washington', 'Greenville', 'Bristol']\n",
      "Sorted till index:  2\n",
      "['Franklin', 'Greenville', 'Springfield', 'Washington', 'Bristol']\n",
      "Sorted till index:  3\n",
      "['Bristol', 'Franklin', 'Greenville', 'Springfield', 'Washington']\n"
     ]
    }
   ],
   "source": [
    "insertion_sort(country_list)"
   ]
  },
  {
   "cell_type": "code",
   "execution_count": 22,
   "id": "fa809614",
   "metadata": {},
   "outputs": [],
   "source": [
    "def shell_sort(original_list):\n",
    "    \n",
    "    length = len(original_list)\n",
    "    \n",
    "    gap = length // 2\n",
    "    \n",
    "    while gap > 0:\n",
    "        \n",
    "        for i in range(gap, length):\n",
    "            temp = original_list[i]\n",
    "            \n",
    "            j = i\n",
    "            \n",
    "            while j >= gap and original_list[j - gap] > temp:\n",
    "                original_list[j] = original_list[j - gap]\n",
    "                j -= gap\n",
    "                \n",
    "            original_list[j] = temp\n",
    "            \n",
    "            print('Gap: ',gap)\n",
    "            print_list(original_list)\n",
    "            \n",
    "        gap = gap // 2"
   ]
  },
  {
   "cell_type": "code",
   "execution_count": 23,
   "id": "7ca21896",
   "metadata": {},
   "outputs": [],
   "source": [
    "arr = [ 12, 34, 54, 2, 5, 10, 100, 20, 23, 22, 19, 15]"
   ]
  },
  {
   "cell_type": "code",
   "execution_count": 24,
   "id": "7f8a3dc8",
   "metadata": {},
   "outputs": [
    {
     "name": "stdout",
     "output_type": "stream",
     "text": [
      "Gap:  6\n",
      "[12, 34, 54, 2, 5, 10, 100, 20, 23, 22, 19, 15]\n",
      "Gap:  6\n",
      "[12, 20, 54, 2, 5, 10, 100, 34, 23, 22, 19, 15]\n",
      "Gap:  6\n",
      "[12, 20, 23, 2, 5, 10, 100, 34, 54, 22, 19, 15]\n",
      "Gap:  6\n",
      "[12, 20, 23, 2, 5, 10, 100, 34, 54, 22, 19, 15]\n",
      "Gap:  6\n",
      "[12, 20, 23, 2, 5, 10, 100, 34, 54, 22, 19, 15]\n",
      "Gap:  6\n",
      "[12, 20, 23, 2, 5, 10, 100, 34, 54, 22, 19, 15]\n",
      "Gap:  3\n",
      "[2, 20, 23, 12, 5, 10, 100, 34, 54, 22, 19, 15]\n",
      "Gap:  3\n",
      "[2, 5, 23, 12, 20, 10, 100, 34, 54, 22, 19, 15]\n",
      "Gap:  3\n",
      "[2, 5, 10, 12, 20, 23, 100, 34, 54, 22, 19, 15]\n",
      "Gap:  3\n",
      "[2, 5, 10, 12, 20, 23, 100, 34, 54, 22, 19, 15]\n",
      "Gap:  3\n",
      "[2, 5, 10, 12, 20, 23, 100, 34, 54, 22, 19, 15]\n",
      "Gap:  3\n",
      "[2, 5, 10, 12, 20, 23, 100, 34, 54, 22, 19, 15]\n",
      "Gap:  3\n",
      "[2, 5, 10, 12, 20, 23, 22, 34, 54, 100, 19, 15]\n",
      "Gap:  3\n",
      "[2, 5, 10, 12, 19, 23, 22, 20, 54, 100, 34, 15]\n",
      "Gap:  3\n",
      "[2, 5, 10, 12, 19, 15, 22, 20, 23, 100, 34, 54]\n",
      "Gap:  1\n",
      "[2, 5, 10, 12, 19, 15, 22, 20, 23, 100, 34, 54]\n",
      "Gap:  1\n",
      "[2, 5, 10, 12, 19, 15, 22, 20, 23, 100, 34, 54]\n",
      "Gap:  1\n",
      "[2, 5, 10, 12, 19, 15, 22, 20, 23, 100, 34, 54]\n",
      "Gap:  1\n",
      "[2, 5, 10, 12, 19, 15, 22, 20, 23, 100, 34, 54]\n",
      "Gap:  1\n",
      "[2, 5, 10, 12, 15, 19, 22, 20, 23, 100, 34, 54]\n",
      "Gap:  1\n",
      "[2, 5, 10, 12, 15, 19, 22, 20, 23, 100, 34, 54]\n",
      "Gap:  1\n",
      "[2, 5, 10, 12, 15, 19, 20, 22, 23, 100, 34, 54]\n",
      "Gap:  1\n",
      "[2, 5, 10, 12, 15, 19, 20, 22, 23, 100, 34, 54]\n",
      "Gap:  1\n",
      "[2, 5, 10, 12, 15, 19, 20, 22, 23, 100, 34, 54]\n",
      "Gap:  1\n",
      "[2, 5, 10, 12, 15, 19, 20, 22, 23, 34, 100, 54]\n",
      "Gap:  1\n",
      "[2, 5, 10, 12, 15, 19, 20, 22, 23, 34, 54, 100]\n"
     ]
    }
   ],
   "source": [
    "shell_sort(arr)"
   ]
  },
  {
   "cell_type": "code",
   "execution_count": 25,
   "id": "ea7b12e0",
   "metadata": {},
   "outputs": [],
   "source": [
    "def merge_sort(original_list):\n",
    "    if len(original_list) <= 1:\n",
    "        return\n",
    "    \n",
    "    mid = len(original_list) // 2\n",
    "    \n",
    "    lefthalf = original_list[:mid]\n",
    "    righthalf = original_list[mid:]\n",
    "    \n",
    "    merge_sort(lefthalf)\n",
    "    print_list(lefthalf)\n",
    "    \n",
    "    merge_sort(righthalf)\n",
    "    print_list(righthalf)\n",
    "    \n",
    "    i = 0\n",
    "    j = 0\n",
    "    k = 0\n",
    "    \n",
    "    while i < len(lefthalf) and j < len(righthalf):\n",
    "        if lefthalf[i] < righthalf[j]:\n",
    "            original_list[k] = lefthalf[i]\n",
    "            \n",
    "            i = i + 1\n",
    "        else:\n",
    "            original_list[k] = righthalf[j]\n",
    "            \n",
    "            j = j + 1\n",
    "        k = k + 1\n",
    "        \n",
    "    while i < len(lefthalf):\n",
    "        original_list[k] = lefthalf[i]\n",
    "        \n",
    "        i = i + 1\n",
    "        k = k + 1\n",
    "        \n",
    "    while j < len(righthalf):\n",
    "        original_list[k] = righthalf[j]\n",
    "        \n",
    "        j = j + 1\n",
    "        k = k + 1"
   ]
  },
  {
   "cell_type": "code",
   "execution_count": 27,
   "id": "1f61a50c",
   "metadata": {},
   "outputs": [
    {
     "name": "stdout",
     "output_type": "stream",
     "text": [
      "[54]\n",
      "[26]\n",
      "[93]\n",
      "[26, 93]\n",
      "[26, 54, 93]\n",
      "[17]\n",
      "[77]\n",
      "[31]\n",
      "[31, 77]\n",
      "[17, 31, 77]\n",
      "[17, 26, 31, 54, 77, 93]\n",
      "[44]\n",
      "[55]\n",
      "[20]\n",
      "[20, 55]\n",
      "[20, 44, 55]\n",
      "[13]\n",
      "[2]\n",
      "[2, 13]\n",
      "[100]\n",
      "[66]\n",
      "[66, 100]\n",
      "[2, 13, 66, 100]\n",
      "[2, 13, 20, 44, 55, 66, 100]\n"
     ]
    }
   ],
   "source": [
    "num_list = [54, 26, 93, 17, 77, 31, 44, 55, 20, 13, 2, 100, 66]\n",
    "\n",
    "merge_sort(num_list)"
   ]
  },
  {
   "cell_type": "code",
   "execution_count": 28,
   "id": "296d4a19",
   "metadata": {},
   "outputs": [
    {
     "data": {
      "text/plain": [
       "[2, 13, 17, 20, 26, 31, 44, 54, 55, 66, 77, 93, 100]"
      ]
     },
     "execution_count": 28,
     "metadata": {},
     "output_type": "execute_result"
    }
   ],
   "source": [
    "num_list"
   ]
  },
  {
   "cell_type": "code",
   "execution_count": 29,
   "id": "c8d6ef1d",
   "metadata": {},
   "outputs": [],
   "source": [
    "def partition(original_list, start_index, end_index):\n",
    "    \n",
    "    curr_index = start_index\n",
    "    pivot = original_list[end_index]\n",
    "    \n",
    "    for i in range(start_index, end_index):\n",
    "        \n",
    "        if original_list[i] <= pivot:\n",
    "            \n",
    "            original_list[curr_index], original_list[i] = \\\n",
    "                original_list[i], original_list[curr_index]\n",
    "            curr_index = curr_index + 1\n",
    "            \n",
    "    original_list[curr_index], original_list[end_index] = \\\n",
    "        original_list[end_index], original_list[curr_index]\n",
    "    \n",
    "    return curr_index"
   ]
  },
  {
   "cell_type": "code",
   "execution_count": 30,
   "id": "862cbb97",
   "metadata": {},
   "outputs": [],
   "source": [
    "def quick_sort(original_list, start_index, end_index):\n",
    "    if start_index >= end_index:\n",
    "        return\n",
    "    \n",
    "    pi = partition(original_list, start_index, end_index)\n",
    "    \n",
    "    print('Element in the right place ', original_list[pi])\n",
    "    print_list(original_list)\n",
    "    \n",
    "    quick_sort(original_list, start_index, pi - 1)\n",
    "    \n",
    "    quick_sort(original_list, pi + 1, end_index)"
   ]
  },
  {
   "cell_type": "code",
   "execution_count": 31,
   "id": "6ece4d71",
   "metadata": {},
   "outputs": [
    {
     "name": "stdout",
     "output_type": "stream",
     "text": [
      "Element in the right place  19\n",
      "[17, 2, 6, 10, 19, 31, 44, 55, 20, 26, 93, 54, 88, 77]\n",
      "Element in the right place  10\n",
      "[2, 6, 10, 17, 19, 31, 44, 55, 20, 26, 93, 54, 88, 77]\n",
      "Element in the right place  6\n",
      "[2, 6, 10, 17, 19, 31, 44, 55, 20, 26, 93, 54, 88, 77]\n",
      "Element in the right place  77\n",
      "[2, 6, 10, 17, 19, 31, 44, 55, 20, 26, 54, 77, 88, 93]\n",
      "Element in the right place  54\n",
      "[2, 6, 10, 17, 19, 31, 44, 20, 26, 54, 55, 77, 88, 93]\n",
      "Element in the right place  26\n",
      "[2, 6, 10, 17, 19, 20, 26, 31, 44, 54, 55, 77, 88, 93]\n",
      "Element in the right place  44\n",
      "[2, 6, 10, 17, 19, 20, 26, 31, 44, 54, 55, 77, 88, 93]\n",
      "Element in the right place  93\n",
      "[2, 6, 10, 17, 19, 20, 26, 31, 44, 54, 55, 77, 88, 93]\n"
     ]
    }
   ],
   "source": [
    "num_list = [54, 26, 93, 17, 77, 31, 44, 55, 20, 2, 6, 10, 88, 19]\n",
    "\n",
    "quick_sort(num_list, 0, len(num_list) - 1)"
   ]
  },
  {
   "cell_type": "code",
   "execution_count": 32,
   "id": "4ea36f4a",
   "metadata": {},
   "outputs": [
    {
     "data": {
      "text/plain": [
       "[2, 6, 10, 17, 19, 20, 26, 31, 44, 54, 55, 77, 88, 93]"
      ]
     },
     "execution_count": 32,
     "metadata": {},
     "output_type": "execute_result"
    }
   ],
   "source": [
    "num_list"
   ]
  },
  {
   "cell_type": "code",
   "execution_count": null,
   "id": "320fe453",
   "metadata": {},
   "outputs": [],
   "source": []
  }
 ],
 "metadata": {
  "kernelspec": {
   "display_name": "Python 3",
   "language": "python",
   "name": "python3"
  },
  "language_info": {
   "codemirror_mode": {
    "name": "ipython",
    "version": 3
   },
   "file_extension": ".py",
   "mimetype": "text/x-python",
   "name": "python",
   "nbconvert_exporter": "python",
   "pygments_lexer": "ipython3",
   "version": "3.6.9"
  }
 },
 "nbformat": 4,
 "nbformat_minor": 5
}
